{
 "cells": [
  {
   "cell_type": "code",
   "execution_count": 1,
   "metadata": {},
   "outputs": [
    {
     "name": "stderr",
     "output_type": "stream",
     "text": [
      "Matplotlib is building the font cache; this may take a moment.\n"
     ]
    },
    {
     "name": "stdout",
     "output_type": "stream",
     "text": [
      "time: 14.4 s (started: 2024-04-22 14:51:06 +00:00)\n"
     ]
    }
   ],
   "source": [
    "# !pip3 install sentence_transformers\n",
    "# !pip3 install torchview\n",
    "# !pip install torchsummary\n",
    "# !brew install graphviz\n",
    "# !pip install torchviz\n",
    "%load_ext autotime\n",
    "\n",
    "import torch\n",
    "import tqdm\n",
    "import torch.nn as nn\n",
    "import torch.optim as optim\n",
    "from torch.utils.data import DataLoader, Dataset\n",
    "from sentence_transformers import SentenceTransformer, losses\n",
    "import pandas as pd\n",
    "import numpy as np\n",
    "import torch.nn.functional as F\n",
    "from tqdm.notebook import tqdm\n",
    "tqdm.pandas()\n",
    "import seaborn as sns\n",
    "import matplotlib.pyplot as plt\n",
    "from scipy.spatial.distance import cosine\n",
    "# from torchview import draw_graph\n",
    "# from torchsummary import summary\n",
    "pd.set_option(\"max_colwidth\", None)\n",
    "\n",
    "from peft import LoraConfig, get_peft_model, prepare_model_for_int8_training, TaskType, PeftModel # peft-0.7.1\n",
    "from transformers import (\n",
    "    AutoModel,\n",
    "    AutoTokenizer,\n",
    "    BitsAndBytesConfig,\n",
    "    HfArgumentParser,\n",
    "    AutoTokenizer,\n",
    "    TrainingArguments,\n",
    "    AutoConfig,\n",
    ")\n",
    "\n",
    "from sklearn.model_selection import train_test_split\n",
    "from sklearn.metrics.pairwise import cosine_similarity\n",
    "from scipy.stats import entropy\n"
   ]
  },
  {
   "cell_type": "code",
   "execution_count": 2,
   "metadata": {
    "executionInfo": {
     "elapsed": 13229,
     "status": "ok",
     "timestamp": 1690819071187,
     "user": {
      "displayName": "VAHID GHAFOURI",
      "userId": "14892550568966913597"
     },
     "user_tz": -120
    },
    "id": "h4xerw5IAq31"
   },
   "outputs": [
    {
     "name": "stdout",
     "output_type": "stream",
     "text": [
      "time: 7.26 ms (started: 2024-04-22 14:51:20 +00:00)\n"
     ]
    }
   ],
   "source": [
    "# Load the pre-trained \"all-mpnet-base-v2\" model\n",
    "# model = AutoModel.from_pretrained('sentence-transformers/all-mpnet-base-v2')\n",
    "# summary(model, input_size=(2, 100))\n",
    "\n",
    "# from torchviz import make_dot\n",
    "\n",
    "# y = model()\n",
    "# make_dot(y.mean(), params=dict(model.named_parameters()))\n",
    "bnb_config = BitsAndBytesConfig(\n",
    "        load_in_4bit=True,\n",
    "        bnb_4bit_quant_type='nf4',\n",
    "        bnb_4bit_compute_dtype='float16',\n",
    "        bnb_4bit_use_double_quant=False\n",
    "        )\n",
    "\n",
    "model_name = 'sentence-transformers/all-mpnet-base-v2'\n",
    "\n",
    "# Define your custom stance-aware loss function\n",
    "class SiameseNetworkMPNet(nn.Module):\n",
    "    def __init__(self, model_name, tokenizer, normalize=True):\n",
    "        super(SiameseNetworkMPNet, self).__init__()\n",
    "\n",
    "        self.model = AutoModel.from_pretrained(model_name)#, quantization_config=bnb_config, trust_remote_code=True)\n",
    "        self.normalize = normalize\n",
    "        self.tokenizer = tokenizer\n",
    "\n",
    "    def forward(self, **inputs):\n",
    "        model_output = self.model(**inputs)\n",
    "        attention_mask = inputs['attention_mask']\n",
    "        last_hidden_states = model_output.last_hidden_state  # First element of model_output contains all token embeddings\n",
    "        embeddings = torch.sum(last_hidden_states * attention_mask.unsqueeze(-1), 1) / torch.clamp(attention_mask.sum(1, keepdim=True), min=1e-9) # mean_pooling\n",
    "        if self.normalize:\n",
    "            embeddings = F.layer_norm(embeddings, embeddings.shape[1:])\n",
    "            embeddings = F.normalize(embeddings, p=2, dim=1)\n",
    "\n",
    "        return embeddings\n",
    "\n",
    "\n",
    "\n",
    "# Custom dataset for your DataFrame\n",
    "class CustomDataset(Dataset):\n",
    "    def __init__(self, sentences):\n",
    "        self.sentences = sentences\n",
    "\n",
    "    def __len__(self):\n",
    "        return len(self.sentences)\n",
    "\n",
    "    def __getitem__(self, idx):\n",
    "        return self.sentences[idx]\n",
    "\n",
    "\n",
    "def batch_and_encode(df_sentences_col,finetuned_model_x,is_lora):\n",
    "    models_dir = 'Models/'\n",
    "    \n",
    "    torch.cuda.empty_cache()\n",
    "    # Load the pre-trained \"all-mpnet-base-v2\" model\n",
    "    tokenizer = AutoTokenizer.from_pretrained(model_name)\n",
    "\n",
    "    # Initialize the model\n",
    "    model = SiameseNetworkMPNet(model_name=model_name, tokenizer=tokenizer)\n",
    "\n",
    "    if finetuned_model_x != 'original':\n",
    "        if is_lora == False:\n",
    "            model.load_state_dict(torch.load('Models/'+finetuned_model_x+'.pt'))\n",
    "        if is_lora == True:\n",
    "            model = PeftModel.from_pretrained(model, models_dir+finetuned_model_x)\n",
    "            model = model.merge_and_unload()\n",
    "\n",
    "    # Move the model to the appropriate device (CPU or GPU)\n",
    "    device = torch.device(\"cuda\" if torch.cuda.is_available() else \"cpu\")\n",
    "    model = model.to(device)\n",
    "    # Assuming you have a DataFrame named df with columns \"sentence_i\" and \"sentence_j\"\n",
    "    dataset_i = CustomDataset(df_sentences_col.tolist())\n",
    "\n",
    "    # Use DataLoader for batch processing\n",
    "    batch_size = 32\n",
    "    dataloader_i = DataLoader(dataset_i, batch_size=batch_size, shuffle=False)\n",
    "\n",
    "    # Lists to store the embeddings for \"sentence_i\" and \"sentence_j\"\n",
    "    embeddings_i_list = []\n",
    "\n",
    "\n",
    "    # Encode sentences in batches\n",
    "    with torch.no_grad():\n",
    "        model.eval()  # Set the model to evaluation mode\n",
    "        for sentences_i_batch in tqdm(dataloader_i):\n",
    "            text1 = tokenizer(sentences_i_batch, return_tensors=\"pt\", max_length=128, truncation=True, padding=\"max_length\")\n",
    "            embeddings_i = model(**text1.to(device)).tolist()\n",
    "            embeddings_i = [[round(value, 4) for value in row] for row in embeddings_i]\n",
    "#             embeddings_i = encode_sentences(sentences_i_batch).tolist()\n",
    "            embeddings_i_list.extend(embeddings_i)\n",
    "    return embeddings_i_list"
   ]
  },
  {
   "cell_type": "markdown",
   "metadata": {},
   "source": [
    "## Play-Ground"
   ]
  },
  {
   "cell_type": "code",
   "execution_count": 3,
   "metadata": {},
   "outputs": [
    {
     "data": {
      "application/vnd.jupyter.widget-view+json": {
       "model_id": "2a2e9bb5e1b04e9cae0143c8244f28e9",
       "version_major": 2,
       "version_minor": 0
      },
      "text/plain": [
       "tokenizer_config.json:   0%|          | 0.00/363 [00:00<?, ?B/s]"
      ]
     },
     "metadata": {},
     "output_type": "display_data"
    },
    {
     "data": {
      "application/vnd.jupyter.widget-view+json": {
       "model_id": "9241db1d66df45e4a45072494055eea9",
       "version_major": 2,
       "version_minor": 0
      },
      "text/plain": [
       "vocab.txt:   0%|          | 0.00/232k [00:00<?, ?B/s]"
      ]
     },
     "metadata": {},
     "output_type": "display_data"
    },
    {
     "data": {
      "application/vnd.jupyter.widget-view+json": {
       "model_id": "52cd8f8d1d6548a6bca16d4209cc386b",
       "version_major": 2,
       "version_minor": 0
      },
      "text/plain": [
       "tokenizer.json:   0%|          | 0.00/466k [00:00<?, ?B/s]"
      ]
     },
     "metadata": {},
     "output_type": "display_data"
    },
    {
     "data": {
      "application/vnd.jupyter.widget-view+json": {
       "model_id": "7b213afbce6f410ea432f94e50f361ac",
       "version_major": 2,
       "version_minor": 0
      },
      "text/plain": [
       "special_tokens_map.json:   0%|          | 0.00/239 [00:00<?, ?B/s]"
      ]
     },
     "metadata": {},
     "output_type": "display_data"
    },
    {
     "data": {
      "application/vnd.jupyter.widget-view+json": {
       "model_id": "d4582563000c41b39a32c891adfd2cd3",
       "version_major": 2,
       "version_minor": 0
      },
      "text/plain": [
       "config.json:   0%|          | 0.00/571 [00:00<?, ?B/s]"
      ]
     },
     "metadata": {},
     "output_type": "display_data"
    },
    {
     "data": {
      "application/vnd.jupyter.widget-view+json": {
       "model_id": "be006f8d44a247e294c53cd00aa9a4c2",
       "version_major": 2,
       "version_minor": 0
      },
      "text/plain": [
       "model.safetensors:   0%|          | 0.00/438M [00:00<?, ?B/s]"
      ]
     },
     "metadata": {},
     "output_type": "display_data"
    },
    {
     "name": "stdout",
     "output_type": "stream",
     "text": [
      "time: 13 s (started: 2024-04-22 14:51:20 +00:00)\n"
     ]
    }
   ],
   "source": [
    "is_lora = True\n",
    "finetuned_model_x = f\""vahidthegreat/StanceAware-SBERT"\"\n",
    "device='cuda'\n",
    "\n",
    "models_dir = 'Models/'\n",
    "def load_model(model_name,finetuned_model_x,is_lora):\n",
    "    torch.cuda.empty_cache()\n",
    "    # Load the pre-trained \"all-mpnet-base-v2\" model\n",
    "    tokenizer = AutoTokenizer.from_pretrained(model_name)\n",
    "\n",
    "    # Initialize the model\n",
    "    model = SiameseNetworkMPNet(model_name=model_name, tokenizer=tokenizer)\n",
    "#     model.to(device)\n",
    "\n",
    "    if finetuned_model_x != 'original':\n",
    "        if is_lora == False:\n",
    "            model.load_state_dict(torch.load(models_dir+finetuned_model_x+'.pt'))\n",
    "        if is_lora == True:\n",
    "            model = PeftModel.from_pretrained(model, models_dir+finetuned_model_x)\n",
    "            model = model.merge_and_unload()\n",
    "    model.eval()\n",
    "    return model\n",
    "tokenizer = AutoTokenizer.from_pretrained('sentence-transformers/all-mpnet-base-v2')\n",
    "\n",
    "model_original=load_model('sentence-transformers/all-mpnet-base-v2',\"original\",is_lora=is_lora)\n",
    "model_finetuned=load_model('sentence-transformers/all-mpnet-base-v2',finetuned_model_x,is_lora=is_lora)\n",
    "# model_original.to(device)\n",
    "# model_finetuned.to(device)\n",
    "\n",
    "def two_sentence_similarity(text1,text2):\n",
    "    text1 = tokenizer(text1, return_tensors=\"pt\", max_length=128, truncation=True, padding=\"max_length\")\n",
    "    text2 = tokenizer(text2, return_tensors=\"pt\", max_length=128, truncation=True, padding=\"max_length\")\n",
    "    print('Original Model Cosine Similarity = ',cosine_similarity(model_original(**text1).tolist(),model_original(**text2).tolist())[0][0])\n",
    "    print('FineTuned Model Cosine Similarity = ',cosine_similarity(model_finetuned(**text1).tolist(),model_finetuned(**text2).tolist())[0][0])\n",
    "    return None"
   ]
  },
  {
   "cell_type": "code",
   "execution_count": 12,
   "metadata": {},
   "outputs": [
    {
     "name": "stdout",
     "output_type": "stream",
     "text": [
      "Original Model Cosine Similarity =  0.7526336018707245\n",
      "FineTuned Model Cosine Similarity =  0.7984234648022263\n",
      "time: 559 ms (started: 2024-03-20 16:36:32 +00:00)\n"
     ]
    }
   ],
   "source": [
    "two_sentence_similarity(\"The weather is good\",\n",
    "                        \"The weather is brilliant\")"
   ]
  },
  {
   "cell_type": "markdown",
   "metadata": {},
   "source": [
    "# BERT-Search Congresspeople"
   ]
  },
  {
   "cell_type": "code",
   "execution_count": null,
   "metadata": {},
   "outputs": [],
   "source": [
    "data=pd.read_csv(\"Datasets/congresspeople_alltweets.csv\")\n",
    "data = data.dropna()"
   ]
  },
  {
   "cell_type": "code",
   "execution_count": 8,
   "metadata": {},
   "outputs": [
    {
     "data": {
      "text/plain": [
       "D    292\n",
       "R    270\n",
       "I      2\n",
       "Name: party, dtype: int64"
      ]
     },
     "execution_count": 8,
     "metadata": {},
     "output_type": "execute_result"
    },
    {
     "name": "stdout",
     "output_type": "stream",
     "text": [
      "time: 60.4 ms (started: 2024-04-22 14:52:52 +00:00)\n"
     ]
    }
   ],
   "source": [
    "data.drop_duplicates(subset='screen_name')['party'].value_counts()"
   ]
  },
  {
   "cell_type": "code",
   "execution_count": 9,
   "metadata": {},
   "outputs": [
    {
     "data": {
      "text/plain": [
       "D    1441581\n",
       "R     840666\n",
       "I       9256\n",
       "Name: party, dtype: int64"
      ]
     },
     "execution_count": 9,
     "metadata": {},
     "output_type": "execute_result"
    },
    {
     "name": "stdout",
     "output_type": "stream",
     "text": [
      "time: 163 ms (started: 2024-04-22 14:52:52 +00:00)\n"
     ]
    }
   ],
   "source": [
    "data['party'].value_counts()"
   ]
  },
  {
   "cell_type": "code",
   "execution_count": null,
   "metadata": {},
   "outputs": [],
   "source": [
    "data_abortion=data[data['text'].str.contains('abortion')]"
   ]
  },
  {
   "cell_type": "code",
   "execution_count": 11,
   "metadata": {},
   "outputs": [
    {
     "name": "stdout",
     "output_type": "stream",
     "text": [
      "time: 3.93 ms (started: 2024-04-22 14:53:08 +00:00)\n"
     ]
    }
   ],
   "source": [
    "finetuned_model_x = f'MPNet_contriplet_removal_50_margin_40_epoch_4'\n",
    "\n",
    "def get_similar_sentences(model_x, query_x,df, model_name_x,threshold_x,is_lora):\n",
    "    df_ = df.copy()\n",
    "    text1 = tokenizer(query_x, return_tensors=\"pt\", max_length=128, truncation=True, padding=\"max_length\")\n",
    "    embeddings_i = model_x(**text1).tolist()\n",
    "    embeddings_i = [[round(value, 4) for value in row] for row in embeddings_i]\n",
    "    query_column_x = f'embeddings_{model_name_x}'\n",
    "    df_[query_column_x] = batch_and_encode(df_sentences_col=df['text'],finetuned_model_x = model_name_x,is_lora=is_lora)\n",
    "    df_[f'cosim_{query_column_x}'] = df_[query_column_x].progress_apply(lambda x: cosine_similarity([x],embeddings_i)[0][0])\n",
    "    df__ = df_[df_[f'cosim_{query_column_x}']>threshold_x]\n",
    "    df_.sort_values(by=f'cosim_{query_column_x}', axis=0, ascending=False, inplace=True, kind='quicksort', na_position='last', ignore_index=False, key=None)\n",
    "    print(df__['party'].value_counts())\n",
    "    df_.drop(columns=query_column_x,inplace=True)\n",
    "    return df_\n",
    "\n",
    "# df_original=get_similar_sentences(model_x=model_original, query_x='abortion is murder',df = final_sample, query_column_x = 'all-mpnet-base-v2',threshold_x=0.7)"
   ]
  },
  {
   "cell_type": "code",
   "execution_count": 12,
   "metadata": {},
   "outputs": [
    {
     "data": {
      "application/vnd.jupyter.widget-view+json": {
       "model_id": "3cfa5bdc6ffd484d996edf2ee9cd45bc",
       "version_major": 2,
       "version_minor": 0
      },
      "text/plain": [
       "  0%|          | 0/450 [00:00<?, ?it/s]"
      ]
     },
     "metadata": {},
     "output_type": "display_data"
    },
    {
     "data": {
      "application/vnd.jupyter.widget-view+json": {
       "model_id": "89d670c6dbd04be4b8cbf8b181bc631d",
       "version_major": 2,
       "version_minor": 0
      },
      "text/plain": [
       "  0%|          | 0/14373 [00:00<?, ?it/s]"
      ]
     },
     "metadata": {},
     "output_type": "display_data"
    },
    {
     "name": "stdout",
     "output_type": "stream",
     "text": [
      "D    973\n",
      "R    459\n",
      "I      4\n",
      "Name: party, dtype: int64\n"
     ]
    },
    {
     "data": {
      "application/vnd.jupyter.widget-view+json": {
       "model_id": "f357774a9c8c46f3b03756280a62809c",
       "version_major": 2,
       "version_minor": 0
      },
      "text/plain": [
       "  0%|          | 0/450 [00:00<?, ?it/s]"
      ]
     },
     "metadata": {},
     "output_type": "display_data"
    },
    {
     "data": {
      "application/vnd.jupyter.widget-view+json": {
       "model_id": "d459fe8c508b42d98063dc7c07f7a316",
       "version_major": 2,
       "version_minor": 0
      },
      "text/plain": [
       "  0%|          | 0/14373 [00:00<?, ?it/s]"
      ]
     },
     "metadata": {},
     "output_type": "display_data"
    },
    {
     "name": "stdout",
     "output_type": "stream",
     "text": [
      "D    644\n",
      "R    253\n",
      "I      2\n",
      "Name: party, dtype: int64\n"
     ]
    },
    {
     "data": {
      "application/vnd.jupyter.widget-view+json": {
       "model_id": "832355d74dd8455fab7e152c3e305153",
       "version_major": 2,
       "version_minor": 0
      },
      "text/plain": [
       "  0%|          | 0/450 [00:00<?, ?it/s]"
      ]
     },
     "metadata": {},
     "output_type": "display_data"
    },
    {
     "data": {
      "application/vnd.jupyter.widget-view+json": {
       "model_id": "9b681595032a4272a8e0423e82604e26",
       "version_major": 2,
       "version_minor": 0
      },
      "text/plain": [
       "  0%|          | 0/14373 [00:00<?, ?it/s]"
      ]
     },
     "metadata": {},
     "output_type": "display_data"
    },
    {
     "name": "stdout",
     "output_type": "stream",
     "text": [
      "R    95\n",
      "D    46\n",
      "I     2\n",
      "Name: party, dtype: int64\n"
     ]
    },
    {
     "data": {
      "application/vnd.jupyter.widget-view+json": {
       "model_id": "54a6c6365fa54cb48bf639bf2a725e02",
       "version_major": 2,
       "version_minor": 0
      },
      "text/plain": [
       "  0%|          | 0/450 [00:00<?, ?it/s]"
      ]
     },
     "metadata": {},
     "output_type": "display_data"
    },
    {
     "data": {
      "application/vnd.jupyter.widget-view+json": {
       "model_id": "c153e834cb1a452e9ec14005c2c0adf9",
       "version_major": 2,
       "version_minor": 0
      },
      "text/plain": [
       "  0%|          | 0/14373 [00:00<?, ?it/s]"
      ]
     },
     "metadata": {},
     "output_type": "display_data"
    },
    {
     "name": "stdout",
     "output_type": "stream",
     "text": [
      "R    12\n",
      "D     3\n",
      "Name: party, dtype: int64\n",
      "time: 4min 55s (started: 2024-04-22 14:53:11 +00:00)\n"
     ]
    }
   ],
   "source": [
    "data_abortion_pro_original=get_similar_sentences(model_x=model_original, query_x='abortion is healthcare',df = data_abortion, model_name_x = 'original',threshold_x=0.6,is_lora=False)\n",
    "data_abortion_pro_finetuned=get_similar_sentences(model_x=model_finetuned, query_x='abortion is healthcare',df = data_abortion, model_name_x = finetuned_model_x,threshold_x=0.6,is_lora=True)\n",
    "data_abortion_con_original=get_similar_sentences(model_x=model_original, query_x='abortion is murder',df = data_abortion, model_name_x = 'original',threshold_x=0.6,is_lora=False)\n",
    "data_abortion_con_finetuned=get_similar_sentences(model_x=model_finetuned, query_x='abortion is murder',df = data_abortion, model_name_x = finetuned_model_x,threshold_x=0.6,is_lora=True)"
   ]
  },
  {
   "cell_type": "code",
   "execution_count": 11,
   "metadata": {},
   "outputs": [
    {
     "data": {
      "text/plain": [
       "D    98\n",
       "R    31\n",
       "Name: party, dtype: int64"
      ]
     },
     "execution_count": 11,
     "metadata": {},
     "output_type": "execute_result"
    },
    {
     "name": "stdout",
     "output_type": "stream",
     "text": [
      "time: 22.1 ms (started: 2024-03-20 10:51:20 +00:00)\n"
     ]
    }
   ],
   "source": [
    "data_abortion_pro_original\n",
    "data_abortion_pro_original[data_abortion_pro_original[f'cosim_embeddings_original']>0.7]['party'].value_counts()"
   ]
  },
  {
   "cell_type": "code",
   "execution_count": 12,
   "metadata": {},
   "outputs": [
    {
     "data": {
      "text/plain": [
       "D    43\n",
       "R     4\n",
       "Name: party, dtype: int64"
      ]
     },
     "execution_count": 12,
     "metadata": {},
     "output_type": "execute_result"
    },
    {
     "name": "stdout",
     "output_type": "stream",
     "text": [
      "time: 10.6 ms (started: 2024-03-20 10:51:27 +00:00)\n"
     ]
    }
   ],
   "source": [
    "data_abortion_pro_finetuned\n",
    "data_abortion_pro_finetuned[data_abortion_pro_finetuned[f'cosim_embeddings_{finetuned_model_x}']>0.7]['party'].value_counts()"
   ]
  },
  {
   "cell_type": "code",
   "execution_count": 15,
   "metadata": {},
   "outputs": [
    {
     "data": {
      "text/plain": [
       "R    95\n",
       "D    46\n",
       "I     2\n",
       "Name: party, dtype: int64"
      ]
     },
     "execution_count": 15,
     "metadata": {},
     "output_type": "execute_result"
    },
    {
     "name": "stdout",
     "output_type": "stream",
     "text": [
      "time: 6.87 ms (started: 2024-03-20 10:52:06 +00:00)\n"
     ]
    }
   ],
   "source": [
    "data_abortion_con_original\n",
    "data_abortion_con_original[data_abortion_con_original[f'cosim_embeddings_original']>0.6]['party'].value_counts()"
   ]
  },
  {
   "cell_type": "code",
   "execution_count": 16,
   "metadata": {},
   "outputs": [
    {
     "data": {
      "text/plain": [
       "R    12\n",
       "D     3\n",
       "Name: party, dtype: int64"
      ]
     },
     "execution_count": 16,
     "metadata": {},
     "output_type": "execute_result"
    },
    {
     "name": "stdout",
     "output_type": "stream",
     "text": [
      "time: 9.06 ms (started: 2024-03-20 10:52:11 +00:00)\n"
     ]
    }
   ],
   "source": [
    "data_abortion_con_finetuned\n",
    "data_abortion_con_finetuned[data_abortion_con_finetuned[f'cosim_embeddings_{finetuned_model_x}']>0.6]['party'].value_counts()"
   ]
  }
 ],
 "metadata": {
  "accelerator": "GPU",
  "colab": {
   "gpuType": "T4",
   "provenance": []
  },
  "kernelspec": {
   "display_name": "Python 3 (ipykernel)",
   "language": "python",
   "name": "python3"
  },
  "language_info": {
   "codemirror_mode": {
    "name": "ipython",
    "version": 3
   },
   "file_extension": ".py",
   "mimetype": "text/x-python",
   "name": "python",
   "nbconvert_exporter": "python",
   "pygments_lexer": "ipython3",
   "version": "3.10.11"
  },
  "widgets": {
   "application/vnd.jupyter.widget-state+json": {
    "42000906846446a38c057b4f91e479ad": {
     "model_module": "@jupyter-widgets/base",
     "model_module_version": "1.2.0",
     "model_name": "LayoutModel",
     "state": {
      "_model_module": "@jupyter-widgets/base",
      "_model_module_version": "1.2.0",
      "_model_name": "LayoutModel",
      "_view_count": null,
      "_view_module": "@jupyter-widgets/base",
      "_view_module_version": "1.2.0",
      "_view_name": "LayoutView",
      "align_content": null,
      "align_items": null,
      "align_self": null,
      "border": null,
      "bottom": null,
      "display": null,
      "flex": null,
      "flex_flow": null,
      "grid_area": null,
      "grid_auto_columns": null,
      "grid_auto_flow": null,
      "grid_auto_rows": null,
      "grid_column": null,
      "grid_gap": null,
      "grid_row": null,
      "grid_template_areas": null,
      "grid_template_columns": null,
      "grid_template_rows": null,
      "height": null,
      "justify_content": null,
      "justify_items": null,
      "left": null,
      "margin": null,
      "max_height": null,
      "max_width": null,
      "min_height": null,
      "min_width": null,
      "object_fit": null,
      "object_position": null,
      "order": null,
      "overflow": null,
      "overflow_x": null,
      "overflow_y": null,
      "padding": null,
      "right": null,
      "top": null,
      "visibility": null,
      "width": null
     }
    },
    "4c6d951b68df478b88ea136f10bd4982": {
     "model_module": "@jupyter-widgets/controls",
     "model_module_version": "1.5.0",
     "model_name": "ProgressStyleModel",
     "state": {
      "_model_module": "@jupyter-widgets/controls",
      "_model_module_version": "1.5.0",
      "_model_name": "ProgressStyleModel",
      "_view_count": null,
      "_view_module": "@jupyter-widgets/base",
      "_view_module_version": "1.2.0",
      "_view_name": "StyleView",
      "bar_color": null,
      "description_width": ""
     }
    },
    "70f8f312b7c04452bca90c7826e53e7d": {
     "model_module": "@jupyter-widgets/base",
     "model_module_version": "1.2.0",
     "model_name": "LayoutModel",
     "state": {
      "_model_module": "@jupyter-widgets/base",
      "_model_module_version": "1.2.0",
      "_model_name": "LayoutModel",
      "_view_count": null,
      "_view_module": "@jupyter-widgets/base",
      "_view_module_version": "1.2.0",
      "_view_name": "LayoutView",
      "align_content": null,
      "align_items": null,
      "align_self": null,
      "border": null,
      "bottom": null,
      "display": null,
      "flex": null,
      "flex_flow": null,
      "grid_area": null,
      "grid_auto_columns": null,
      "grid_auto_flow": null,
      "grid_auto_rows": null,
      "grid_column": null,
      "grid_gap": null,
      "grid_row": null,
      "grid_template_areas": null,
      "grid_template_columns": null,
      "grid_template_rows": null,
      "height": null,
      "justify_content": null,
      "justify_items": null,
      "left": null,
      "margin": null,
      "max_height": null,
      "max_width": null,
      "min_height": null,
      "min_width": null,
      "object_fit": null,
      "object_position": null,
      "order": null,
      "overflow": null,
      "overflow_x": null,
      "overflow_y": null,
      "padding": null,
      "right": null,
      "top": null,
      "visibility": null,
      "width": null
     }
    },
    "90388b1ba0054277b10ac578dab37007": {
     "model_module": "@jupyter-widgets/base",
     "model_module_version": "1.2.0",
     "model_name": "LayoutModel",
     "state": {
      "_model_module": "@jupyter-widgets/base",
      "_model_module_version": "1.2.0",
      "_model_name": "LayoutModel",
      "_view_count": null,
      "_view_module": "@jupyter-widgets/base",
      "_view_module_version": "1.2.0",
      "_view_name": "LayoutView",
      "align_content": null,
      "align_items": null,
      "align_self": null,
      "border": null,
      "bottom": null,
      "display": null,
      "flex": null,
      "flex_flow": null,
      "grid_area": null,
      "grid_auto_columns": null,
      "grid_auto_flow": null,
      "grid_auto_rows": null,
      "grid_column": null,
      "grid_gap": null,
      "grid_row": null,
      "grid_template_areas": null,
      "grid_template_columns": null,
      "grid_template_rows": null,
      "height": null,
      "justify_content": null,
      "justify_items": null,
      "left": null,
      "margin": null,
      "max_height": null,
      "max_width": null,
      "min_height": null,
      "min_width": null,
      "object_fit": null,
      "object_position": null,
      "order": null,
      "overflow": null,
      "overflow_x": null,
      "overflow_y": null,
      "padding": null,
      "right": null,
      "top": null,
      "visibility": null,
      "width": null
     }
    },
    "a2269ecfe5ee42a1948add8d13bd6872": {
     "model_module": "@jupyter-widgets/controls",
     "model_module_version": "1.5.0",
     "model_name": "HBoxModel",
     "state": {
      "_dom_classes": [],
      "_model_module": "@jupyter-widgets/controls",
      "_model_module_version": "1.5.0",
      "_model_name": "HBoxModel",
      "_view_count": null,
      "_view_module": "@jupyter-widgets/controls",
      "_view_module_version": "1.5.0",
      "_view_name": "HBoxView",
      "box_style": "",
      "children": [
       "IPY_MODEL_f623c40410bc496c93e62fb64c2b2c77",
       "IPY_MODEL_e45caa9035ce4fe2965928d64093823f",
       "IPY_MODEL_a68be03efe4946a3b541b0c7844ca770"
      ],
      "layout": "IPY_MODEL_90388b1ba0054277b10ac578dab37007"
     }
    },
    "a68be03efe4946a3b541b0c7844ca770": {
     "model_module": "@jupyter-widgets/controls",
     "model_module_version": "1.5.0",
     "model_name": "HTMLModel",
     "state": {
      "_dom_classes": [],
      "_model_module": "@jupyter-widgets/controls",
      "_model_module_version": "1.5.0",
      "_model_name": "HTMLModel",
      "_view_count": null,
      "_view_module": "@jupyter-widgets/controls",
      "_view_module_version": "1.5.0",
      "_view_name": "HTMLView",
      "description": "",
      "description_tooltip": null,
      "layout": "IPY_MODEL_70f8f312b7c04452bca90c7826e53e7d",
      "placeholder": "​",
      "style": "IPY_MODEL_e4a7dcb4a55644ae94b2175481a15aa3",
      "value": " 1/30 [00:56&lt;18:37, 38.52s/it]"
     }
    },
    "ccc57e0a47bc4f8a9f0820b8767a9794": {
     "model_module": "@jupyter-widgets/base",
     "model_module_version": "1.2.0",
     "model_name": "LayoutModel",
     "state": {
      "_model_module": "@jupyter-widgets/base",
      "_model_module_version": "1.2.0",
      "_model_name": "LayoutModel",
      "_view_count": null,
      "_view_module": "@jupyter-widgets/base",
      "_view_module_version": "1.2.0",
      "_view_name": "LayoutView",
      "align_content": null,
      "align_items": null,
      "align_self": null,
      "border": null,
      "bottom": null,
      "display": null,
      "flex": null,
      "flex_flow": null,
      "grid_area": null,
      "grid_auto_columns": null,
      "grid_auto_flow": null,
      "grid_auto_rows": null,
      "grid_column": null,
      "grid_gap": null,
      "grid_row": null,
      "grid_template_areas": null,
      "grid_template_columns": null,
      "grid_template_rows": null,
      "height": null,
      "justify_content": null,
      "justify_items": null,
      "left": null,
      "margin": null,
      "max_height": null,
      "max_width": null,
      "min_height": null,
      "min_width": null,
      "object_fit": null,
      "object_position": null,
      "order": null,
      "overflow": null,
      "overflow_x": null,
      "overflow_y": null,
      "padding": null,
      "right": null,
      "top": null,
      "visibility": null,
      "width": null
     }
    },
    "e45caa9035ce4fe2965928d64093823f": {
     "model_module": "@jupyter-widgets/controls",
     "model_module_version": "1.5.0",
     "model_name": "FloatProgressModel",
     "state": {
      "_dom_classes": [],
      "_model_module": "@jupyter-widgets/controls",
      "_model_module_version": "1.5.0",
      "_model_name": "FloatProgressModel",
      "_view_count": null,
      "_view_module": "@jupyter-widgets/controls",
      "_view_module_version": "1.5.0",
      "_view_name": "ProgressView",
      "bar_style": "danger",
      "description": "",
      "description_tooltip": null,
      "layout": "IPY_MODEL_42000906846446a38c057b4f91e479ad",
      "max": 30,
      "min": 0,
      "orientation": "horizontal",
      "style": "IPY_MODEL_4c6d951b68df478b88ea136f10bd4982",
      "value": 1
     }
    },
    "e4a7dcb4a55644ae94b2175481a15aa3": {
     "model_module": "@jupyter-widgets/controls",
     "model_module_version": "1.5.0",
     "model_name": "DescriptionStyleModel",
     "state": {
      "_model_module": "@jupyter-widgets/controls",
      "_model_module_version": "1.5.0",
      "_model_name": "DescriptionStyleModel",
      "_view_count": null,
      "_view_module": "@jupyter-widgets/base",
      "_view_module_version": "1.2.0",
      "_view_name": "StyleView",
      "description_width": ""
     }
    },
    "e4ff926d976e406482532105d63f5d31": {
     "model_module": "@jupyter-widgets/controls",
     "model_module_version": "1.5.0",
     "model_name": "DescriptionStyleModel",
     "state": {
      "_model_module": "@jupyter-widgets/controls",
      "_model_module_version": "1.5.0",
      "_model_name": "DescriptionStyleModel",
      "_view_count": null,
      "_view_module": "@jupyter-widgets/base",
      "_view_module_version": "1.2.0",
      "_view_name": "StyleView",
      "description_width": ""
     }
    },
    "f623c40410bc496c93e62fb64c2b2c77": {
     "model_module": "@jupyter-widgets/controls",
     "model_module_version": "1.5.0",
     "model_name": "HTMLModel",
     "state": {
      "_dom_classes": [],
      "_model_module": "@jupyter-widgets/controls",
      "_model_module_version": "1.5.0",
      "_model_name": "HTMLModel",
      "_view_count": null,
      "_view_module": "@jupyter-widgets/controls",
      "_view_module_version": "1.5.0",
      "_view_name": "HTMLView",
      "description": "",
      "description_tooltip": null,
      "layout": "IPY_MODEL_ccc57e0a47bc4f8a9f0820b8767a9794",
      "placeholder": "​",
      "style": "IPY_MODEL_e4ff926d976e406482532105d63f5d31",
      "value": "  3%"
     }
    }
   }
  }
 },
 "nbformat": 4,
 "nbformat_minor": 4
}
