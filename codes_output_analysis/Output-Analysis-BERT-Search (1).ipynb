{
 "cells": [
  {
   "cell_type": "code",
   "execution_count": 1,
   "metadata": {},
   "outputs": [
    {
     "name": "stderr",
     "output_type": "stream",
     "text": [
      "Matplotlib is building the font cache; this may take a moment.\n"
     ]
    },
    {
     "name": "stdout",
     "output_type": "stream",
     "text": [
      "time: 14.4 s (started: 2024-04-22 14:51:06 +00:00)\n"
     ]
    }
   ],
   "source": [
    "# !pip3 install sentence_transformers\n",
    "# !pip3 install torchview\n",
    "# !pip install torchsummary\n",
    "# !brew install graphviz\n",
    "# !pip install torchviz\n",
    "%load_ext autotime\n",
    "\n",
    "import torch\n",
    "import tqdm\n",
    "import torch.nn as nn\n",
    "import torch.optim as optim\n",
    "from torch.utils.data import DataLoader, Dataset\n",
    "from sentence_transformers import SentenceTransformer, losses\n",
    "import pandas as pd\n",
    "import numpy as np\n",
    "import torch.nn.functional as F\n",
    "from tqdm.notebook import tqdm\n",
    "tqdm.pandas()\n",
    "import seaborn as sns\n",
    "import matplotlib.pyplot as plt\n",
    "from scipy.spatial.distance import cosine\n",
    "# from torchview import draw_graph\n",
    "# from torchsummary import summary\n",
    "pd.set_option(\"max_colwidth\", None)\n",
    "\n",
    "from peft import LoraConfig, get_peft_model, prepare_model_for_int8_training, TaskType, PeftModel # peft-0.7.1\n",
    "from transformers import (\n",
    "    AutoModel,\n",
    "    AutoTokenizer,\n",
    "    BitsAndBytesConfig,\n",
    "    HfArgumentParser,\n",
    "    AutoTokenizer,\n",
    "    TrainingArguments,\n",
    "    AutoConfig,\n",
    ")\n",
    "\n",
    "from sklearn.model_selection import train_test_split\n",
    "from sklearn.metrics.pairwise import cosine_similarity\n",
    "from scipy.stats import entropy\n"
   ]
  },
  {
   "cell_type": "code",
   "execution_count": 2,
   "metadata": {
    "executionInfo": {
     "elapsed": 13229,
     "status": "ok",
     "timestamp": 1690819071187,
     "user": {
      "displayName": "VAHID GHAFOURI",
      "userId": "14892550568966913597"
     },
     "user_tz": -120
    },
    "id": "h4xerw5IAq31"
   },
   "outputs": [
    {
     "name": "stdout",
     "output_type": "stream",
     "text": [
      "time: 7.26 ms (started: 2024-04-22 14:51:20 +00:00)\n"
     ]
    }
   ],
   "source": [
    "# Load the pre-trained \"all-mpnet-base-v2\" model\n",
    "# model = AutoModel.from_pretrained('sentence-transformers/all-mpnet-base-v2')\n",
    "# summary(model, input_size=(2, 100))\n",
    "\n",
    "# from torchviz import make_dot\n",
    "\n",
    "# y = model()\n",
    "# make_dot(y.mean(), params=dict(model.named_parameters()))\n",
    "bnb_config = BitsAndBytesConfig(\n",
    "        load_in_4bit=True,\n",
    "        bnb_4bit_quant_type='nf4',\n",
    "        bnb_4bit_compute_dtype='float16',\n",
    "        bnb_4bit_use_double_quant=False\n",
    "        )\n",
    "\n",
    "model_name = 'sentence-transformers/all-mpnet-base-v2'\n",
    "\n",
    "# Define your custom stance-aware loss function\n",
    "class SiameseNetworkMPNet(nn.Module):\n",
    "    def __init__(self, model_name, tokenizer, normalize=True):\n",
    "        super(SiameseNetworkMPNet, self).__init__()\n",
    "\n",
    "        self.model = AutoModel.from_pretrained(model_name)#, quantization_config=bnb_config, trust_remote_code=True)\n",
    "        self.normalize = normalize\n",
    "        self.tokenizer = tokenizer\n",
    "\n",
    "    def forward(self, **inputs):\n",
    "        model_output = self.model(**inputs)\n",
    "        attention_mask = inputs['attention_mask']\n",
    "        last_hidden_states = model_output.last_hidden_state  # First element of model_output contains all token embeddings\n",
    "        embeddings = torch.sum(last_hidden_states * attention_mask.unsqueeze(-1), 1) / torch.clamp(attention_mask.sum(1, keepdim=True), min=1e-9) # mean_pooling\n",
    "        if self.normalize:\n",
    "            embeddings = F.layer_norm(embeddings, embeddings.shape[1:])\n",
    "            embeddings = F.normalize(embeddings, p=2, dim=1)\n",
    "\n",
    "        return embeddings\n",
    "\n",
    "\n",
    "\n",
    "# Custom dataset for your DataFrame\n",
    "class CustomDataset(Dataset):\n",
    "    def __init__(self, sentences):\n",
    "        self.sentences = sentences\n",
    "\n",
    "    def __len__(self):\n",
    "        return len(self.sentences)\n",
    "\n",
    "    def __getitem__(self, idx):\n",
    "        return self.sentences[idx]\n",
    "\n",
    "\n",
    "def batch_and_encode(df_sentences_col,finetuned_model_x,is_lora):\n",
    "    models_dir = '/csg_nas/Vahid/Datasets/StanceAwareSBERT/Models/'\n",
    "    \n",
    "    torch.cuda.empty_cache()\n",
    "    # Load the pre-trained \"all-mpnet-base-v2\" model\n",
    "    tokenizer = AutoTokenizer.from_pretrained(model_name)\n",
    "\n",
    "    # Initialize the model\n",
    "    model = SiameseNetworkMPNet(model_name=model_name, tokenizer=tokenizer)\n",
    "\n",
    "    if finetuned_model_x != 'original':\n",
    "        if is_lora == False:\n",
    "            model.load_state_dict(torch.load('/csg_nas/Vahid/Datasets/StanceAwareSBERT/Models/'+finetuned_model_x+'.pt'))\n",
    "        if is_lora == True:\n",
    "            model = PeftModel.from_pretrained(model, models_dir+finetuned_model_x)\n",
    "            model = model.merge_and_unload()\n",
    "\n",
    "    # Move the model to the appropriate device (CPU or GPU)\n",
    "    device = torch.device(\"cuda\" if torch.cuda.is_available() else \"cpu\")\n",
    "    model = model.to(device)\n",
    "    # Assuming you have a DataFrame named df with columns \"sentence_i\" and \"sentence_j\"\n",
    "    dataset_i = CustomDataset(df_sentences_col.tolist())\n",
    "\n",
    "    # Use DataLoader for batch processing\n",
    "    batch_size = 32\n",
    "    dataloader_i = DataLoader(dataset_i, batch_size=batch_size, shuffle=False)\n",
    "\n",
    "    # Lists to store the embeddings for \"sentence_i\" and \"sentence_j\"\n",
    "    embeddings_i_list = []\n",
    "\n",
    "\n",
    "    # Encode sentences in batches\n",
    "    with torch.no_grad():\n",
    "        model.eval()  # Set the model to evaluation mode\n",
    "        for sentences_i_batch in tqdm(dataloader_i):\n",
    "            text1 = tokenizer(sentences_i_batch, return_tensors=\"pt\", max_length=128, truncation=True, padding=\"max_length\")\n",
    "            embeddings_i = model(**text1.to(device)).tolist()\n",
    "            embeddings_i = [[round(value, 4) for value in row] for row in embeddings_i]\n",
    "#             embeddings_i = encode_sentences(sentences_i_batch).tolist()\n",
    "            embeddings_i_list.extend(embeddings_i)\n",
    "    return embeddings_i_list"
   ]
  },
  {
   "cell_type": "markdown",
   "metadata": {},
   "source": [
    "## Play-Ground"
   ]
  },
  {
   "cell_type": "code",
   "execution_count": 3,
   "metadata": {},
   "outputs": [
    {
     "data": {
      "application/vnd.jupyter.widget-view+json": {
       "model_id": "2a2e9bb5e1b04e9cae0143c8244f28e9",
       "version_major": 2,
       "version_minor": 0
      },
      "text/plain": [
       "tokenizer_config.json:   0%|          | 0.00/363 [00:00<?, ?B/s]"
      ]
     },
     "metadata": {},
     "output_type": "display_data"
    },
    {
     "data": {
      "application/vnd.jupyter.widget-view+json": {
       "model_id": "9241db1d66df45e4a45072494055eea9",
       "version_major": 2,
       "version_minor": 0
      },
      "text/plain": [
       "vocab.txt:   0%|          | 0.00/232k [00:00<?, ?B/s]"
      ]
     },
     "metadata": {},
     "output_type": "display_data"
    },
    {
     "data": {
      "application/vnd.jupyter.widget-view+json": {
       "model_id": "52cd8f8d1d6548a6bca16d4209cc386b",
       "version_major": 2,
       "version_minor": 0
      },
      "text/plain": [
       "tokenizer.json:   0%|          | 0.00/466k [00:00<?, ?B/s]"
      ]
     },
     "metadata": {},
     "output_type": "display_data"
    },
    {
     "data": {
      "application/vnd.jupyter.widget-view+json": {
       "model_id": "7b213afbce6f410ea432f94e50f361ac",
       "version_major": 2,
       "version_minor": 0
      },
      "text/plain": [
       "special_tokens_map.json:   0%|          | 0.00/239 [00:00<?, ?B/s]"
      ]
     },
     "metadata": {},
     "output_type": "display_data"
    },
    {
     "data": {
      "application/vnd.jupyter.widget-view+json": {
       "model_id": "d4582563000c41b39a32c891adfd2cd3",
       "version_major": 2,
       "version_minor": 0
      },
      "text/plain": [
       "config.json:   0%|          | 0.00/571 [00:00<?, ?B/s]"
      ]
     },
     "metadata": {},
     "output_type": "display_data"
    },
    {
     "data": {
      "application/vnd.jupyter.widget-view+json": {
       "model_id": "be006f8d44a247e294c53cd00aa9a4c2",
       "version_major": 2,
       "version_minor": 0
      },
      "text/plain": [
       "model.safetensors:   0%|          | 0.00/438M [00:00<?, ?B/s]"
      ]
     },
     "metadata": {},
     "output_type": "display_data"
    },
    {
     "name": "stdout",
     "output_type": "stream",
     "text": [
      "time: 13 s (started: 2024-04-22 14:51:20 +00:00)\n"
     ]
    }
   ],
   "source": [
    "is_lora = True\n",
    "finetuned_model_x = f\"MPNet_contriplet_removal_50_margin_40_epoch_4\"\n",
    "device='cuda'\n",
    "\n",
    "models_dir = '/csg_nas/Vahid/Datasets/StanceAwareSBERT/Models/'\n",
    "def load_model(model_name,finetuned_model_x,is_lora):\n",
    "    torch.cuda.empty_cache()\n",
    "    # Load the pre-trained \"all-mpnet-base-v2\" model\n",
    "    tokenizer = AutoTokenizer.from_pretrained(model_name)\n",
    "\n",
    "    # Initialize the model\n",
    "    model = SiameseNetworkMPNet(model_name=model_name, tokenizer=tokenizer)\n",
    "#     model.to(device)\n",
    "\n",
    "    if finetuned_model_x != 'original':\n",
    "        if is_lora == False:\n",
    "            model.load_state_dict(torch.load(models_dir+finetuned_model_x+'.pt'))\n",
    "        if is_lora == True:\n",
    "            model = PeftModel.from_pretrained(model, models_dir+finetuned_model_x)\n",
    "            model = model.merge_and_unload()\n",
    "    model.eval()\n",
    "    return model\n",
    "tokenizer = AutoTokenizer.from_pretrained('sentence-transformers/all-mpnet-base-v2')\n",
    "\n",
    "model_original=load_model('sentence-transformers/all-mpnet-base-v2',\"original\",is_lora=is_lora)\n",
    "model_finetuned=load_model('sentence-transformers/all-mpnet-base-v2',finetuned_model_x,is_lora=is_lora)\n",
    "# model_original.to(device)\n",
    "# model_finetuned.to(device)\n",
    "\n",
    "def two_sentence_similarity(text1,text2):\n",
    "    text1 = tokenizer(text1, return_tensors=\"pt\", max_length=128, truncation=True, padding=\"max_length\")\n",
    "    text2 = tokenizer(text2, return_tensors=\"pt\", max_length=128, truncation=True, padding=\"max_length\")\n",
    "    print('Original Model Cosine Similarity = ',cosine_similarity(model_original(**text1).tolist(),model_original(**text2).tolist())[0][0])\n",
    "    print('FineTuned Model Cosine Similarity = ',cosine_similarity(model_finetuned(**text1).tolist(),model_finetuned(**text2).tolist())[0][0])\n",
    "    return None"
   ]
  },
  {
   "cell_type": "code",
   "execution_count": 12,
   "metadata": {},
   "outputs": [
    {
     "name": "stdout",
     "output_type": "stream",
     "text": [
      "Original Model Cosine Similarity =  0.7526336018707245\n",
      "FineTuned Model Cosine Similarity =  0.7984234648022263\n",
      "time: 559 ms (started: 2024-03-20 16:36:32 +00:00)\n"
     ]
    }
   ],
   "source": [
    "two_sentence_similarity(\"The weather is good\",\n",
    "                        \"The weather is brilliant\")"
   ]
  },
  {
   "cell_type": "markdown",
   "metadata": {},
   "source": [
    "# BERT-Search Congresspeople"
   ]
  },
  {
   "cell_type": "code",
   "execution_count": 7,
   "metadata": {},
   "outputs": [
    {
     "name": "stderr",
     "output_type": "stream",
     "text": [
      "/tmp/ipykernel_1265557/480744524.py:1: DtypeWarning: Columns (0) have mixed types. Specify dtype option on import or set low_memory=False.\n",
      "  data=pd.read_csv(\"/csg_nas/Vahid/Datasets/StanceAwareSBERT/Datasets/congresspeople_alltweets.csv\")\n"
     ]
    },
    {
     "data": {
      "text/html": [
       "<div>\n",
       "<style scoped>\n",
       "    .dataframe tbody tr th:only-of-type {\n",
       "        vertical-align: middle;\n",
       "    }\n",
       "\n",
       "    .dataframe tbody tr th {\n",
       "        vertical-align: top;\n",
       "    }\n",
       "\n",
       "    .dataframe thead th {\n",
       "        text-align: right;\n",
       "    }\n",
       "</style>\n",
       "<table border=\"1\" class=\"dataframe\">\n",
       "  <thead>\n",
       "    <tr style=\"text-align: right;\">\n",
       "      <th></th>\n",
       "      <th>id</th>\n",
       "      <th>screen_name</th>\n",
       "      <th>user_id</th>\n",
       "      <th>time</th>\n",
       "      <th>link</th>\n",
       "      <th>text</th>\n",
       "      <th>party</th>\n",
       "    </tr>\n",
       "  </thead>\n",
       "  <tbody>\n",
       "    <tr>\n",
       "      <th>0</th>\n",
       "      <td>1197519924819877888</td>\n",
       "      <td>RepAdams</td>\n",
       "      <td>2.916087e+09</td>\n",
       "      <td>2019-11-21T09:19:33-05:00</td>\n",
       "      <td>https://www.twitter.com/RepAdams/statuses/1197519924819877888</td>\n",
       "      <td>The House continues its #impeachment investigation today. Watch with me live: \\nhttps://www.pscp.tv/w/1lPKqepyoYlKb</td>\n",
       "      <td>D</td>\n",
       "    </tr>\n",
       "    <tr>\n",
       "      <th>1</th>\n",
       "      <td>1197602898844274688</td>\n",
       "      <td>RepAdams</td>\n",
       "      <td>2.916087e+09</td>\n",
       "      <td>2019-11-21T14:49:16-05:00</td>\n",
       "      <td>https://www.twitter.com/RepAdams/statuses/1197602898844274688</td>\n",
       "      <td>Serving as Chair of the @EdLaborCmte Subcommittee on #WorkforceProtections is a responsibility &amp;amp; privilege I embrace with great pride. \\n\\nToday, I am pleased with the House's passage of H.R. 1309, the Workforce Violence Prevention for Health Care and Social Service Workers Act. http://pbs.twimg.com/ext_tw_video_thumb/1197602701590302720/pu/img/UXIrCeuumqEXcsjI.jpg https://video.twimg.com/ext_tw_video/1197602701590302720/pu/vid/480x270/JMWUWRQ08PkVwakz.mp4?tag=10</td>\n",
       "      <td>D</td>\n",
       "    </tr>\n",
       "    <tr>\n",
       "      <th>2</th>\n",
       "      <td>1197658814612459520</td>\n",
       "      <td>RepAdams</td>\n",
       "      <td>2.916087e+09</td>\n",
       "      <td>2019-11-21T18:31:27-05:00</td>\n",
       "      <td>https://www.twitter.com/RepAdams/statuses/1197658814612459520</td>\n",
       "      <td>#Pancreaticcancer is the third leading cause of cancer-related deaths in the United States. Today, my staff and I wore shades of purple to raise awareness. I encourage you to visit http://pancan.org to learn more &amp;amp; join me in the fight against pancreatic cancer. #PANCaware http://pbs.twimg.com/media/EJ7wV5HXkAA4Oo0.jpg</td>\n",
       "      <td>D</td>\n",
       "    </tr>\n",
       "    <tr>\n",
       "      <th>3</th>\n",
       "      <td>1197547605435330560</td>\n",
       "      <td>RepAdams</td>\n",
       "      <td>2.916087e+09</td>\n",
       "      <td>2019-11-21T11:09:33-05:00</td>\n",
       "      <td>https://www.twitter.com/RepAdams/statuses/1197547605435330561</td>\n",
       "      <td>230 years ago, #NorthCarolina was the 12th state admitted to the Union and I’m proud to represent NC’s 12th Congressional District in Congress!\\n\\n#HappyBirthday, North Carolina! 🎊 http://pbs.twimg.com/media/EJ6LMwsX0AAc5RR.jpg</td>\n",
       "      <td>D</td>\n",
       "    </tr>\n",
       "    <tr>\n",
       "      <th>4</th>\n",
       "      <td>1197612744553508864</td>\n",
       "      <td>RepAdams</td>\n",
       "      <td>2.916087e+09</td>\n",
       "      <td>2019-11-21T15:28:23-05:00</td>\n",
       "      <td>https://www.twitter.com/RepAdams/statuses/1197612744553508869</td>\n",
       "      <td>The Workplace Violence Prevention for Health Care and Social Service Workers Act will protect health care &amp;amp; social service workers from workplace violence by forcing @OSHA_DOL to require employers to implement violence prevention plans.</td>\n",
       "      <td>D</td>\n",
       "    </tr>\n",
       "    <tr>\n",
       "      <th>...</th>\n",
       "      <td>...</td>\n",
       "      <td>...</td>\n",
       "      <td>...</td>\n",
       "      <td>...</td>\n",
       "      <td>...</td>\n",
       "      <td>...</td>\n",
       "      <td>...</td>\n",
       "    </tr>\n",
       "    <tr>\n",
       "      <th>2321941</th>\n",
       "      <td>1479504101121695744</td>\n",
       "      <td>michaelgwaltz</td>\n",
       "      <td>8.336739e+08</td>\n",
       "      <td>2022-01-07T12:24:00-05:00</td>\n",
       "      <td>https://www.twitter.com/michaelgwaltz/statuses/1479504101121695746</td>\n",
       "      <td>.@JayCollinsFL fought for America around the world. Now, he’s ready to do it again, but this time, in Congress.\\n\\nProud to endorse a fellow Green Beret and patriot for #FL14! 👊🇺🇸 #FlipTheHouse http://pbs.twimg.com/media/FIgl0YvWQAIXOc-.jpg</td>\n",
       "      <td>R</td>\n",
       "    </tr>\n",
       "    <tr>\n",
       "      <th>2321942</th>\n",
       "      <td>1479531953904881664</td>\n",
       "      <td>michaelgwaltz</td>\n",
       "      <td>8.336739e+08</td>\n",
       "      <td>2022-01-07T14:14:40-05:00</td>\n",
       "      <td>https://www.twitter.com/johnondrasik/statuses/1479524323182276610</td>\n",
       "      <td>RT @johnondrasik I have just received notification that @YouTube has taken down the Blood on My Hands - White House Docu-Music video. http://pbs.twimg.com/media/FIhSNVjVkAEnBFg.jpg</td>\n",
       "      <td>R</td>\n",
       "    </tr>\n",
       "    <tr>\n",
       "      <th>2321943</th>\n",
       "      <td>1479613572678582272</td>\n",
       "      <td>michaelgwaltz</td>\n",
       "      <td>8.336739e+08</td>\n",
       "      <td>2022-01-07T19:39:00-05:00</td>\n",
       "      <td>https://www.twitter.com/RepMcCaul/statuses/1479575154430722048</td>\n",
       "      <td>RT @RepMcCaul It's absolutely ridiculous @YouTube removed @johnondrasik's video depicting the true events that occurred during @POTUS' horrific withdrawal from #Afghanistan. Americans deserve to see the consequences of @POTUS' decisions. YouTube should put the video back up.</td>\n",
       "      <td>R</td>\n",
       "    </tr>\n",
       "    <tr>\n",
       "      <th>2321944</th>\n",
       "      <td>1446850186253422592</td>\n",
       "      <td>michaelgwaltz</td>\n",
       "      <td>8.336739e+08</td>\n",
       "      <td>2021-10-09T10:49:00-04:00</td>\n",
       "      <td>https://www.twitter.com/michaelgwaltz/statuses/1446850186253422596</td>\n",
       "      <td>Brave veterans organizations have dropped everything to help Americans left stranded — and they aren't going to let the State Department turn the page.\\n\\nNot while hundreds of Americans are still in Afghanistan. No one left behind. http://pbs.twimg.com/ext_tw_video_thumb/1446517796863631362/pu/img/xFw6IAUp4fPRYvE8.jpg https://video.twimg.com/ext_tw_video/1446517796863631362/pu/vid/480x270/WWUmn4fKygjb9tA-.mp4?tag=12</td>\n",
       "      <td>R</td>\n",
       "    </tr>\n",
       "    <tr>\n",
       "      <th>2321945</th>\n",
       "      <td>1446840449684189184</td>\n",
       "      <td>michaelgwaltz</td>\n",
       "      <td>8.336739e+08</td>\n",
       "      <td>2021-10-09T10:10:18-04:00</td>\n",
       "      <td>https://www.twitter.com/michaelgwaltz/statuses/1446840449684189187</td>\n",
       "      <td>So that we are clear, to China’s Xi and the #CCP, reunification = war. #Taiwan will fight for their freedoms. 🇺🇸🇹🇼 https://www.bbc.com/news/world-asia-china-58854081</td>\n",
       "      <td>R</td>\n",
       "    </tr>\n",
       "  </tbody>\n",
       "</table>\n",
       "<p>2291503 rows × 7 columns</p>\n",
       "</div>"
      ],
      "text/plain": [
       "                          id    screen_name       user_id  \\\n",
       "0        1197519924819877888       RepAdams  2.916087e+09   \n",
       "1        1197602898844274688       RepAdams  2.916087e+09   \n",
       "2        1197658814612459520       RepAdams  2.916087e+09   \n",
       "3        1197547605435330560       RepAdams  2.916087e+09   \n",
       "4        1197612744553508864       RepAdams  2.916087e+09   \n",
       "...                      ...            ...           ...   \n",
       "2321941  1479504101121695744  michaelgwaltz  8.336739e+08   \n",
       "2321942  1479531953904881664  michaelgwaltz  8.336739e+08   \n",
       "2321943  1479613572678582272  michaelgwaltz  8.336739e+08   \n",
       "2321944  1446850186253422592  michaelgwaltz  8.336739e+08   \n",
       "2321945  1446840449684189184  michaelgwaltz  8.336739e+08   \n",
       "\n",
       "                              time  \\\n",
       "0        2019-11-21T09:19:33-05:00   \n",
       "1        2019-11-21T14:49:16-05:00   \n",
       "2        2019-11-21T18:31:27-05:00   \n",
       "3        2019-11-21T11:09:33-05:00   \n",
       "4        2019-11-21T15:28:23-05:00   \n",
       "...                            ...   \n",
       "2321941  2022-01-07T12:24:00-05:00   \n",
       "2321942  2022-01-07T14:14:40-05:00   \n",
       "2321943  2022-01-07T19:39:00-05:00   \n",
       "2321944  2021-10-09T10:49:00-04:00   \n",
       "2321945  2021-10-09T10:10:18-04:00   \n",
       "\n",
       "                                                                       link  \\\n",
       "0             https://www.twitter.com/RepAdams/statuses/1197519924819877888   \n",
       "1             https://www.twitter.com/RepAdams/statuses/1197602898844274688   \n",
       "2             https://www.twitter.com/RepAdams/statuses/1197658814612459520   \n",
       "3             https://www.twitter.com/RepAdams/statuses/1197547605435330561   \n",
       "4             https://www.twitter.com/RepAdams/statuses/1197612744553508869   \n",
       "...                                                                     ...   \n",
       "2321941  https://www.twitter.com/michaelgwaltz/statuses/1479504101121695746   \n",
       "2321942   https://www.twitter.com/johnondrasik/statuses/1479524323182276610   \n",
       "2321943      https://www.twitter.com/RepMcCaul/statuses/1479575154430722048   \n",
       "2321944  https://www.twitter.com/michaelgwaltz/statuses/1446850186253422596   \n",
       "2321945  https://www.twitter.com/michaelgwaltz/statuses/1446840449684189187   \n",
       "\n",
       "                                                                                                                                                                                                                                                                                                                                                                                                                                                                                            text  \\\n",
       "0                                                                                                                                                                                                                                                                                                                                                                            The House continues its #impeachment investigation today. Watch with me live: \\nhttps://www.pscp.tv/w/1lPKqepyoYlKb   \n",
       "1        Serving as Chair of the @EdLaborCmte Subcommittee on #WorkforceProtections is a responsibility &amp; privilege I embrace with great pride. \\n\\nToday, I am pleased with the House's passage of H.R. 1309, the Workforce Violence Prevention for Health Care and Social Service Workers Act. http://pbs.twimg.com/ext_tw_video_thumb/1197602701590302720/pu/img/UXIrCeuumqEXcsjI.jpg https://video.twimg.com/ext_tw_video/1197602701590302720/pu/vid/480x270/JMWUWRQ08PkVwakz.mp4?tag=10   \n",
       "2                                                                                                                                                           #Pancreaticcancer is the third leading cause of cancer-related deaths in the United States. Today, my staff and I wore shades of purple to raise awareness. I encourage you to visit http://pancan.org to learn more &amp; join me in the fight against pancreatic cancer. #PANCaware http://pbs.twimg.com/media/EJ7wV5HXkAA4Oo0.jpg   \n",
       "3                                                                                                                                                                                                                                                            230 years ago, #NorthCarolina was the 12th state admitted to the Union and I’m proud to represent NC’s 12th Congressional District in Congress!\\n\\n#HappyBirthday, North Carolina! 🎊 http://pbs.twimg.com/media/EJ6LMwsX0AAc5RR.jpg   \n",
       "4                                                                                                                                                                                                                                               The Workplace Violence Prevention for Health Care and Social Service Workers Act will protect health care &amp; social service workers from workplace violence by forcing @OSHA_DOL to require employers to implement violence prevention plans.   \n",
       "...                                                                                                                                                                                                                                                                                                                                                                                                                                                                                          ...   \n",
       "2321941                                                                                                                                                                                                                                         .@JayCollinsFL fought for America around the world. Now, he’s ready to do it again, but this time, in Congress.\\n\\nProud to endorse a fellow Green Beret and patriot for #FL14! 👊🇺🇸 #FlipTheHouse http://pbs.twimg.com/media/FIgl0YvWQAIXOc-.jpg   \n",
       "2321942                                                                                                                                                                                                                                                                                                     RT @johnondrasik I have just received notification that @YouTube has taken down the Blood on My Hands - White House Docu-Music video. http://pbs.twimg.com/media/FIhSNVjVkAEnBFg.jpg   \n",
       "2321943                                                                                                                                                                                                      RT @RepMcCaul It's absolutely ridiculous @YouTube removed @johnondrasik's video depicting the true events that occurred during @POTUS' horrific withdrawal from #Afghanistan. Americans deserve to see the consequences of @POTUS' decisions. YouTube should put the video back up.   \n",
       "2321944                                                     Brave veterans organizations have dropped everything to help Americans left stranded — and they aren't going to let the State Department turn the page.\\n\\nNot while hundreds of Americans are still in Afghanistan. No one left behind. http://pbs.twimg.com/ext_tw_video_thumb/1446517796863631362/pu/img/xFw6IAUp4fPRYvE8.jpg https://video.twimg.com/ext_tw_video/1446517796863631362/pu/vid/480x270/WWUmn4fKygjb9tA-.mp4?tag=12   \n",
       "2321945                                                                                                                                                                                                                                                                                                                    So that we are clear, to China’s Xi and the #CCP, reunification = war. #Taiwan will fight for their freedoms. 🇺🇸🇹🇼 https://www.bbc.com/news/world-asia-china-58854081   \n",
       "\n",
       "        party  \n",
       "0           D  \n",
       "1           D  \n",
       "2           D  \n",
       "3           D  \n",
       "4           D  \n",
       "...       ...  \n",
       "2321941     R  \n",
       "2321942     R  \n",
       "2321943     R  \n",
       "2321944     R  \n",
       "2321945     R  \n",
       "\n",
       "[2291503 rows x 7 columns]"
      ]
     },
     "execution_count": 7,
     "metadata": {},
     "output_type": "execute_result"
    },
    {
     "name": "stdout",
     "output_type": "stream",
     "text": [
      "time: 41.7 s (started: 2024-04-22 14:52:10 +00:00)\n"
     ]
    }
   ],
   "source": [
    "data=pd.read_csv(\"/csg_nas/Vahid/Datasets/StanceAwareSBERT/Datasets/congresspeople_alltweets.csv\")\n",
    "data = data.dropna()\n",
    "data"
   ]
  },
  {
   "cell_type": "code",
   "execution_count": 8,
   "metadata": {},
   "outputs": [
    {
     "data": {
      "text/plain": [
       "D    292\n",
       "R    270\n",
       "I      2\n",
       "Name: party, dtype: int64"
      ]
     },
     "execution_count": 8,
     "metadata": {},
     "output_type": "execute_result"
    },
    {
     "name": "stdout",
     "output_type": "stream",
     "text": [
      "time: 60.4 ms (started: 2024-04-22 14:52:52 +00:00)\n"
     ]
    }
   ],
   "source": [
    "data.drop_duplicates(subset='screen_name')['party'].value_counts()"
   ]
  },
  {
   "cell_type": "code",
   "execution_count": 9,
   "metadata": {},
   "outputs": [
    {
     "data": {
      "text/plain": [
       "D    1441581\n",
       "R     840666\n",
       "I       9256\n",
       "Name: party, dtype: int64"
      ]
     },
     "execution_count": 9,
     "metadata": {},
     "output_type": "execute_result"
    },
    {
     "name": "stdout",
     "output_type": "stream",
     "text": [
      "time: 163 ms (started: 2024-04-22 14:52:52 +00:00)\n"
     ]
    }
   ],
   "source": [
    "data['party'].value_counts()"
   ]
  },
  {
   "cell_type": "code",
   "execution_count": 15,
   "metadata": {},
   "outputs": [
    {
     "name": "stdout",
     "output_type": "stream",
     "text": [
      "time: 3.77 s (started: 2024-02-20 09:15:14 +00:00)\n"
     ]
    }
   ],
   "source": [
    "# congress_data=pd.read_pickle(\"/csg_nas/Vahid/Datasets/StanceAwareSBERT/Datasets/congresspeople_alltweets_vectorized.pkl\") \n",
    "# final_sample.to_pickle(\"/csg_nas/Vahid/Datasets/StanceAwareSBERT/Datasets/congresspeople_alltweets_vectorized_100k_sample.pkl\")\n",
    "# final_sample=pd.read_pickle(\"/csg_nas/Vahid/Datasets/StanceAwareSBERT/Datasets/congresspeople_alltweets_vectorized_100k_sample.pkl\")\n",
    "\n",
    "# # Assuming your DataFrame is named 'df'\n",
    "# sample_size = 10000\n",
    "\n",
    "# # Sample 50,000 rows with 'D' party and 50,000 rows with 'R' party\n",
    "# sampled_df_D = final_sample[final_sample['party'] == 'D'].sample(n=sample_size//2, random_state=1)\n",
    "# sampled_df_R = final_sample[final_sample['party'] == 'R'].sample(n=sample_size//2, random_state=1)\n",
    "\n",
    "# # Concatenate the two samples to get the final sample\n",
    "# final_sample = pd.concat([sampled_df_D, sampled_df_R],ignore_index=True)\n",
    "\n",
    "# final_sample[finetuned_model_x] = batch_and_encode(df_sentences_col=final_sample['text'],finetuned_model_x = finetuned_model_x)\n",
    "# final_sample"
   ]
  },
  {
   "cell_type": "code",
   "execution_count": 10,
   "metadata": {},
   "outputs": [
    {
     "data": {
      "text/html": [
       "<div>\n",
       "<style scoped>\n",
       "    .dataframe tbody tr th:only-of-type {\n",
       "        vertical-align: middle;\n",
       "    }\n",
       "\n",
       "    .dataframe tbody tr th {\n",
       "        vertical-align: top;\n",
       "    }\n",
       "\n",
       "    .dataframe thead th {\n",
       "        text-align: right;\n",
       "    }\n",
       "</style>\n",
       "<table border=\"1\" class=\"dataframe\">\n",
       "  <thead>\n",
       "    <tr style=\"text-align: right;\">\n",
       "      <th></th>\n",
       "      <th>id</th>\n",
       "      <th>screen_name</th>\n",
       "      <th>user_id</th>\n",
       "      <th>time</th>\n",
       "      <th>link</th>\n",
       "      <th>text</th>\n",
       "      <th>party</th>\n",
       "    </tr>\n",
       "  </thead>\n",
       "  <tbody>\n",
       "    <tr>\n",
       "      <th>385</th>\n",
       "      <td>1220083093475921920</td>\n",
       "      <td>RepAdams</td>\n",
       "      <td>2.916087e+09</td>\n",
       "      <td>2020-01-22T15:37:32-05:00</td>\n",
       "      <td>https://www.twitter.com/RepAdams/statuses/1220083093475921921</td>\n",
       "      <td>On the anniversary of #RoevWade, I know abortion access is hanging on by a thread: states blatantly passing unconstitutional abortion bans, courts being stacked against women's rights...\\n\\nRest assured that I won’t stop fighting for our rights — because we can’t &amp;amp; WON'T go back.</td>\n",
       "      <td>D</td>\n",
       "    </tr>\n",
       "    <tr>\n",
       "      <th>688</th>\n",
       "      <td>1471922881621860352</td>\n",
       "      <td>RepAdams</td>\n",
       "      <td>2.916087e+09</td>\n",
       "      <td>2021-12-17T14:18:56-05:00</td>\n",
       "      <td>https://www.twitter.com/ProChoiceCaucus/statuses/1471910504989970438</td>\n",
       "      <td>RT @ProChoiceCaucus Today marks the 48th anniversary of the #HelmsAmendment – a discriminatory policy that denies abortion care for millions worldwide. We’re proud that the House took a critical step toward ending it this year – it’s past time to #RepealHelms, Hyde, and ALL abortion coverage bans.</td>\n",
       "      <td>D</td>\n",
       "    </tr>\n",
       "    <tr>\n",
       "      <th>767</th>\n",
       "      <td>1048302597269065728</td>\n",
       "      <td>RepAdams</td>\n",
       "      <td>2.916087e+09</td>\n",
       "      <td>2018-10-05T16:03:10-04:00</td>\n",
       "      <td>https://www.twitter.com/RepAdams/statuses/1048302597269065736</td>\n",
       "      <td>If Kavanaugh is confirmed to the Supreme Court, 25 MILLION women risk losing abortion access, including:\\n-4.3 million Hispanic or Latina women\\n-3.5 Black or African American women\\n-800,000 Asian women\\n-300,000 American Indian or Alaska Native women</td>\n",
       "      <td>D</td>\n",
       "    </tr>\n",
       "    <tr>\n",
       "      <th>778</th>\n",
       "      <td>1466045434414211072</td>\n",
       "      <td>RepAdams</td>\n",
       "      <td>2.916087e+09</td>\n",
       "      <td>2021-12-01T09:04:04-05:00</td>\n",
       "      <td>https://www.twitter.com/RepDianaDeGette/statuses/1466028253546745873</td>\n",
       "      <td>RT @RepDianaDeGette Today, SCOTUS hears the most important abortion case in decades. \\n\\nTogether with my fellow @ProChoiceCaucus co-chair @RepBarbaraLee, we are fighting to protect the constitutional right to abortion &amp;amp; ensure all Americans can make their own decisions about their health &amp;amp; futures.</td>\n",
       "      <td>D</td>\n",
       "    </tr>\n",
       "    <tr>\n",
       "      <th>779</th>\n",
       "      <td>1466083337999687680</td>\n",
       "      <td>RepAdams</td>\n",
       "      <td>2.916087e+09</td>\n",
       "      <td>2021-12-01T11:34:40-05:00</td>\n",
       "      <td>https://www.twitter.com/USProgressives/statuses/1466072718089015304</td>\n",
       "      <td>RT @USProgressives Right now, the Supreme Court is hearing arguments in Dobbs v. Jackson Women's Health Organization, the case that directly challenges Roe v. Wade and the constitutional right to abortion.\\n \\nIt is no exaggeration: the future of legal abortion in the United States is at stake.</td>\n",
       "      <td>D</td>\n",
       "    </tr>\n",
       "    <tr>\n",
       "      <th>...</th>\n",
       "      <td>...</td>\n",
       "      <td>...</td>\n",
       "      <td>...</td>\n",
       "      <td>...</td>\n",
       "      <td>...</td>\n",
       "      <td>...</td>\n",
       "      <td>...</td>\n",
       "    </tr>\n",
       "    <tr>\n",
       "      <th>2318412</th>\n",
       "      <td>1354107413608226816</td>\n",
       "      <td>michaelgwaltz</td>\n",
       "      <td>8.336739e+08</td>\n",
       "      <td>2021-01-26T11:42:20-05:00</td>\n",
       "      <td>https://www.twitter.com/michaelgwaltz/statuses/1354107413608226816</td>\n",
       "      <td>For decades, Democrats &amp;amp; Republicans have come together to support the Hyde Amendment — including President Biden.\\n\\nNow all of a sudden, the Radical Left is waging a war on this 40 year old bipartisan legislation, hoping to force taxpayers into paying for abortions. https://twitter.com/RepWaltzPress/status/1354101936664928257 QT @RepWaltzPress Rep. Waltz joined @RepJimBanks and 198 Republican colleagues to #SaveHyde by opposing any funding bill that eliminates or weakens the Hyde Amendment or any current-law, pro-life appropriations provisions. \\n\\n⬇️ Read more:\\nhttps://www.realclearpolitics.com/articles/2021/01/26/house_gop_draws_red_line_on_federally_funded_abortion_145118.html</td>\n",
       "      <td>R</td>\n",
       "    </tr>\n",
       "    <tr>\n",
       "      <th>2318428</th>\n",
       "      <td>1301321090447347712</td>\n",
       "      <td>michaelgwaltz</td>\n",
       "      <td>8.336739e+08</td>\n",
       "      <td>2020-09-02T20:48:19-04:00</td>\n",
       "      <td>https://www.twitter.com/michaelgwaltz/statuses/1301321090447347712</td>\n",
       "      <td>America's future is at stake in this election. If Biden wins, Dems will push thru legislation to:\\n\\n❌ Defund our police, ICE &amp;amp; federal prisons\\n❌ Lift ban on federal abortion funding\\n❌ Pass Green New Deal &amp;amp; Medicare for all\\n❌ Make DC the 51st state\\n❌ Harvest national ballots http://pbs.twimg.com/ext_tw_video_thumb/1301321010545860609/pu/img/Ja072vGqKu-RKcF8.jpg https://video.twimg.com/ext_tw_video/1301321010545860609/pu/vid/480x270/JN3-mfshIb85scyx.mp4?tag=10</td>\n",
       "      <td>R</td>\n",
       "    </tr>\n",
       "    <tr>\n",
       "      <th>2320506</th>\n",
       "      <td>1364594487142588416</td>\n",
       "      <td>michaelgwaltz</td>\n",
       "      <td>8.336739e+08</td>\n",
       "      <td>2021-02-24T10:14:13-05:00</td>\n",
       "      <td>https://www.twitter.com/michaelgwaltz/statuses/1364594487142588416</td>\n",
       "      <td>Dems are trying to cram their Far Left agenda into a $1.9T bill that:\\n\\n❌ Kills jobs\\n❌ Keeps schools closed\\n❌ Promotes welfare wishlist\\n❌ Encourages illegal immigration\\n❌ Promotes pro-abortion policies\\n❌ Spends our grandchildren’s money</td>\n",
       "      <td>R</td>\n",
       "    </tr>\n",
       "    <tr>\n",
       "      <th>2320960</th>\n",
       "      <td>1398040743919374336</td>\n",
       "      <td>michaelgwaltz</td>\n",
       "      <td>8.336739e+08</td>\n",
       "      <td>2021-05-27T18:17:42-04:00</td>\n",
       "      <td>https://www.twitter.com/michaelgwaltz/statuses/1398040743919374340</td>\n",
       "      <td>Jim is right. The Hyde amendment has been an integral policy in preventing taxpayers from funding abortions for years. https://twitter.com/RepJimBanks/status/1397915261596889094 QT @RepJimBanks Democrats should know that Republicans are UNITED and will do everything in our power to #SaveHyde.\\n\\nhttps://www.wsj.com/articles/bidens-budget-to-spotlight-battle-over-abortion-restrictions-11622118882</td>\n",
       "      <td>R</td>\n",
       "    </tr>\n",
       "    <tr>\n",
       "      <th>2321585</th>\n",
       "      <td>1523790869287305216</td>\n",
       "      <td>michaelgwaltz</td>\n",
       "      <td>8.336739e+08</td>\n",
       "      <td>2022-05-09T18:23:48-04:00</td>\n",
       "      <td>https://www.twitter.com/michaelgwaltz/statuses/1523790869287305216</td>\n",
       "      <td>We do NOT have a national law either in favor of or against abortion. That's why the Supreme Court overstepped its bounds with Roe v. Wade.\\n\\nUnless Congress acts, it will remain a state issue. Regardless, let the people decide through their elected representatives. http://pbs.twimg.com/ext_tw_video_thumb/1523790532492861440/pu/img/xVWXjp1IHECQhoTN.jpg https://video.twimg.com/ext_tw_video/1523790532492861440/pu/vid/480x270/Z4QJV59KwpiT5ALG.mp4?tag=12</td>\n",
       "      <td>R</td>\n",
       "    </tr>\n",
       "  </tbody>\n",
       "</table>\n",
       "<p>14373 rows × 7 columns</p>\n",
       "</div>"
      ],
      "text/plain": [
       "                          id    screen_name       user_id  \\\n",
       "385      1220083093475921920       RepAdams  2.916087e+09   \n",
       "688      1471922881621860352       RepAdams  2.916087e+09   \n",
       "767      1048302597269065728       RepAdams  2.916087e+09   \n",
       "778      1466045434414211072       RepAdams  2.916087e+09   \n",
       "779      1466083337999687680       RepAdams  2.916087e+09   \n",
       "...                      ...            ...           ...   \n",
       "2318412  1354107413608226816  michaelgwaltz  8.336739e+08   \n",
       "2318428  1301321090447347712  michaelgwaltz  8.336739e+08   \n",
       "2320506  1364594487142588416  michaelgwaltz  8.336739e+08   \n",
       "2320960  1398040743919374336  michaelgwaltz  8.336739e+08   \n",
       "2321585  1523790869287305216  michaelgwaltz  8.336739e+08   \n",
       "\n",
       "                              time  \\\n",
       "385      2020-01-22T15:37:32-05:00   \n",
       "688      2021-12-17T14:18:56-05:00   \n",
       "767      2018-10-05T16:03:10-04:00   \n",
       "778      2021-12-01T09:04:04-05:00   \n",
       "779      2021-12-01T11:34:40-05:00   \n",
       "...                            ...   \n",
       "2318412  2021-01-26T11:42:20-05:00   \n",
       "2318428  2020-09-02T20:48:19-04:00   \n",
       "2320506  2021-02-24T10:14:13-05:00   \n",
       "2320960  2021-05-27T18:17:42-04:00   \n",
       "2321585  2022-05-09T18:23:48-04:00   \n",
       "\n",
       "                                                                         link  \\\n",
       "385             https://www.twitter.com/RepAdams/statuses/1220083093475921921   \n",
       "688      https://www.twitter.com/ProChoiceCaucus/statuses/1471910504989970438   \n",
       "767             https://www.twitter.com/RepAdams/statuses/1048302597269065736   \n",
       "778      https://www.twitter.com/RepDianaDeGette/statuses/1466028253546745873   \n",
       "779       https://www.twitter.com/USProgressives/statuses/1466072718089015304   \n",
       "...                                                                       ...   \n",
       "2318412    https://www.twitter.com/michaelgwaltz/statuses/1354107413608226816   \n",
       "2318428    https://www.twitter.com/michaelgwaltz/statuses/1301321090447347712   \n",
       "2320506    https://www.twitter.com/michaelgwaltz/statuses/1364594487142588416   \n",
       "2320960    https://www.twitter.com/michaelgwaltz/statuses/1398040743919374340   \n",
       "2321585    https://www.twitter.com/michaelgwaltz/statuses/1523790869287305216   \n",
       "\n",
       "                                                                                                                                                                                                                                                                                                                                                                                                                                                                                                                                                                                                                                                                                                                            text  \\\n",
       "385                                                                                                                                                                                                                                                                                                                                                                                                                                 On the anniversary of #RoevWade, I know abortion access is hanging on by a thread: states blatantly passing unconstitutional abortion bans, courts being stacked against women's rights...\\n\\nRest assured that I won’t stop fighting for our rights — because we can’t &amp; WON'T go back.   \n",
       "688                                                                                                                                                                                                                                                                                                                                                                                                                   RT @ProChoiceCaucus Today marks the 48th anniversary of the #HelmsAmendment – a discriminatory policy that denies abortion care for millions worldwide. We’re proud that the House took a critical step toward ending it this year – it’s past time to #RepealHelms, Hyde, and ALL abortion coverage bans.   \n",
       "767                                                                                                                                                                                                                                                                                                                                                                                                                                                                 If Kavanaugh is confirmed to the Supreme Court, 25 MILLION women risk losing abortion access, including:\\n-4.3 million Hispanic or Latina women\\n-3.5 Black or African American women\\n-800,000 Asian women\\n-300,000 American Indian or Alaska Native women   \n",
       "778                                                                                                                                                                                                                                                                                                                                                                                                         RT @RepDianaDeGette Today, SCOTUS hears the most important abortion case in decades. \\n\\nTogether with my fellow @ProChoiceCaucus co-chair @RepBarbaraLee, we are fighting to protect the constitutional right to abortion &amp; ensure all Americans can make their own decisions about their health &amp; futures.   \n",
       "779                                                                                                                                                                                                                                                                                                                                                                                                                      RT @USProgressives Right now, the Supreme Court is hearing arguments in Dobbs v. Jackson Women's Health Organization, the case that directly challenges Roe v. Wade and the constitutional right to abortion.\\n \\nIt is no exaggeration: the future of legal abortion in the United States is at stake.   \n",
       "...                                                                                                                                                                                                                                                                                                                                                                                                                                                                                                                                                                                                                                                                                                                          ...   \n",
       "2318412  For decades, Democrats &amp; Republicans have come together to support the Hyde Amendment — including President Biden.\\n\\nNow all of a sudden, the Radical Left is waging a war on this 40 year old bipartisan legislation, hoping to force taxpayers into paying for abortions. https://twitter.com/RepWaltzPress/status/1354101936664928257 QT @RepWaltzPress Rep. Waltz joined @RepJimBanks and 198 Republican colleagues to #SaveHyde by opposing any funding bill that eliminates or weakens the Hyde Amendment or any current-law, pro-life appropriations provisions. \\n\\n⬇️ Read more:\\nhttps://www.realclearpolitics.com/articles/2021/01/26/house_gop_draws_red_line_on_federally_funded_abortion_145118.html   \n",
       "2318428                                                                                                                                                                                                                              America's future is at stake in this election. If Biden wins, Dems will push thru legislation to:\\n\\n❌ Defund our police, ICE &amp; federal prisons\\n❌ Lift ban on federal abortion funding\\n❌ Pass Green New Deal &amp; Medicare for all\\n❌ Make DC the 51st state\\n❌ Harvest national ballots http://pbs.twimg.com/ext_tw_video_thumb/1301321010545860609/pu/img/Ja072vGqKu-RKcF8.jpg https://video.twimg.com/ext_tw_video/1301321010545860609/pu/vid/480x270/JN3-mfshIb85scyx.mp4?tag=10   \n",
       "2320506                                                                                                                                                                                                                                                                                                                                                                                                                                                                       Dems are trying to cram their Far Left agenda into a $1.9T bill that:\\n\\n❌ Kills jobs\\n❌ Keeps schools closed\\n❌ Promotes welfare wishlist\\n❌ Encourages illegal immigration\\n❌ Promotes pro-abortion policies\\n❌ Spends our grandchildren’s money   \n",
       "2320960                                                                                                                                                                                                                                                                                                           Jim is right. The Hyde amendment has been an integral policy in preventing taxpayers from funding abortions for years. https://twitter.com/RepJimBanks/status/1397915261596889094 QT @RepJimBanks Democrats should know that Republicans are UNITED and will do everything in our power to #SaveHyde.\\n\\nhttps://www.wsj.com/articles/bidens-budget-to-spotlight-battle-over-abortion-restrictions-11622118882   \n",
       "2321585                                                                                                                                                                                                                                                  We do NOT have a national law either in favor of or against abortion. That's why the Supreme Court overstepped its bounds with Roe v. Wade.\\n\\nUnless Congress acts, it will remain a state issue. Regardless, let the people decide through their elected representatives. http://pbs.twimg.com/ext_tw_video_thumb/1523790532492861440/pu/img/xVWXjp1IHECQhoTN.jpg https://video.twimg.com/ext_tw_video/1523790532492861440/pu/vid/480x270/Z4QJV59KwpiT5ALG.mp4?tag=12   \n",
       "\n",
       "        party  \n",
       "385         D  \n",
       "688         D  \n",
       "767         D  \n",
       "778         D  \n",
       "779         D  \n",
       "...       ...  \n",
       "2318412     R  \n",
       "2318428     R  \n",
       "2320506     R  \n",
       "2320960     R  \n",
       "2321585     R  \n",
       "\n",
       "[14373 rows x 7 columns]"
      ]
     },
     "execution_count": 10,
     "metadata": {},
     "output_type": "execute_result"
    },
    {
     "name": "stdout",
     "output_type": "stream",
     "text": [
      "time: 3.85 s (started: 2024-04-22 14:52:58 +00:00)\n"
     ]
    }
   ],
   "source": [
    "data_abortion=data[data['text'].str.contains('abortion')]\n",
    "data_abortion"
   ]
  },
  {
   "cell_type": "code",
   "execution_count": null,
   "metadata": {},
   "outputs": [],
   "source": []
  },
  {
   "cell_type": "code",
   "execution_count": 11,
   "metadata": {},
   "outputs": [
    {
     "name": "stdout",
     "output_type": "stream",
     "text": [
      "time: 3.93 ms (started: 2024-04-22 14:53:08 +00:00)\n"
     ]
    }
   ],
   "source": [
    "finetuned_model_x = f'MPNet_contriplet_removal_50_margin_40_epoch_4'\n",
    "\n",
    "def get_similar_sentences(model_x, query_x,df, model_name_x,threshold_x,is_lora):\n",
    "    df_ = df.copy()\n",
    "    text1 = tokenizer(query_x, return_tensors=\"pt\", max_length=128, truncation=True, padding=\"max_length\")\n",
    "    embeddings_i = model_x(**text1).tolist()\n",
    "    embeddings_i = [[round(value, 4) for value in row] for row in embeddings_i]\n",
    "    query_column_x = f'embeddings_{model_name_x}'\n",
    "    df_[query_column_x] = batch_and_encode(df_sentences_col=df['text'],finetuned_model_x = model_name_x,is_lora=is_lora)\n",
    "    df_[f'cosim_{query_column_x}'] = df_[query_column_x].progress_apply(lambda x: cosine_similarity([x],embeddings_i)[0][0])\n",
    "    df__ = df_[df_[f'cosim_{query_column_x}']>threshold_x]\n",
    "    df_.sort_values(by=f'cosim_{query_column_x}', axis=0, ascending=False, inplace=True, kind='quicksort', na_position='last', ignore_index=False, key=None)\n",
    "    print(df__['party'].value_counts())\n",
    "    df_.drop(columns=query_column_x,inplace=True)\n",
    "    return df_\n",
    "\n",
    "# df_original=get_similar_sentences(model_x=model_original, query_x='abortion is murder',df = final_sample, query_column_x = 'all-mpnet-base-v2',threshold_x=0.7)"
   ]
  },
  {
   "cell_type": "code",
   "execution_count": null,
   "metadata": {},
   "outputs": [],
   "source": []
  },
  {
   "cell_type": "code",
   "execution_count": 12,
   "metadata": {},
   "outputs": [
    {
     "data": {
      "application/vnd.jupyter.widget-view+json": {
       "model_id": "3cfa5bdc6ffd484d996edf2ee9cd45bc",
       "version_major": 2,
       "version_minor": 0
      },
      "text/plain": [
       "  0%|          | 0/450 [00:00<?, ?it/s]"
      ]
     },
     "metadata": {},
     "output_type": "display_data"
    },
    {
     "data": {
      "application/vnd.jupyter.widget-view+json": {
       "model_id": "89d670c6dbd04be4b8cbf8b181bc631d",
       "version_major": 2,
       "version_minor": 0
      },
      "text/plain": [
       "  0%|          | 0/14373 [00:00<?, ?it/s]"
      ]
     },
     "metadata": {},
     "output_type": "display_data"
    },
    {
     "name": "stdout",
     "output_type": "stream",
     "text": [
      "D    973\n",
      "R    459\n",
      "I      4\n",
      "Name: party, dtype: int64\n"
     ]
    },
    {
     "data": {
      "application/vnd.jupyter.widget-view+json": {
       "model_id": "f357774a9c8c46f3b03756280a62809c",
       "version_major": 2,
       "version_minor": 0
      },
      "text/plain": [
       "  0%|          | 0/450 [00:00<?, ?it/s]"
      ]
     },
     "metadata": {},
     "output_type": "display_data"
    },
    {
     "data": {
      "application/vnd.jupyter.widget-view+json": {
       "model_id": "d459fe8c508b42d98063dc7c07f7a316",
       "version_major": 2,
       "version_minor": 0
      },
      "text/plain": [
       "  0%|          | 0/14373 [00:00<?, ?it/s]"
      ]
     },
     "metadata": {},
     "output_type": "display_data"
    },
    {
     "name": "stdout",
     "output_type": "stream",
     "text": [
      "D    644\n",
      "R    253\n",
      "I      2\n",
      "Name: party, dtype: int64\n"
     ]
    },
    {
     "data": {
      "application/vnd.jupyter.widget-view+json": {
       "model_id": "832355d74dd8455fab7e152c3e305153",
       "version_major": 2,
       "version_minor": 0
      },
      "text/plain": [
       "  0%|          | 0/450 [00:00<?, ?it/s]"
      ]
     },
     "metadata": {},
     "output_type": "display_data"
    },
    {
     "data": {
      "application/vnd.jupyter.widget-view+json": {
       "model_id": "9b681595032a4272a8e0423e82604e26",
       "version_major": 2,
       "version_minor": 0
      },
      "text/plain": [
       "  0%|          | 0/14373 [00:00<?, ?it/s]"
      ]
     },
     "metadata": {},
     "output_type": "display_data"
    },
    {
     "name": "stdout",
     "output_type": "stream",
     "text": [
      "R    95\n",
      "D    46\n",
      "I     2\n",
      "Name: party, dtype: int64\n"
     ]
    },
    {
     "data": {
      "application/vnd.jupyter.widget-view+json": {
       "model_id": "54a6c6365fa54cb48bf639bf2a725e02",
       "version_major": 2,
       "version_minor": 0
      },
      "text/plain": [
       "  0%|          | 0/450 [00:00<?, ?it/s]"
      ]
     },
     "metadata": {},
     "output_type": "display_data"
    },
    {
     "data": {
      "application/vnd.jupyter.widget-view+json": {
       "model_id": "c153e834cb1a452e9ec14005c2c0adf9",
       "version_major": 2,
       "version_minor": 0
      },
      "text/plain": [
       "  0%|          | 0/14373 [00:00<?, ?it/s]"
      ]
     },
     "metadata": {},
     "output_type": "display_data"
    },
    {
     "name": "stdout",
     "output_type": "stream",
     "text": [
      "R    12\n",
      "D     3\n",
      "Name: party, dtype: int64\n",
      "time: 4min 55s (started: 2024-04-22 14:53:11 +00:00)\n"
     ]
    }
   ],
   "source": [
    "data_abortion_pro_original=get_similar_sentences(model_x=model_original, query_x='abortion is healthcare',df = data_abortion, model_name_x = 'original',threshold_x=0.6,is_lora=False)\n",
    "data_abortion_pro_finetuned=get_similar_sentences(model_x=model_finetuned, query_x='abortion is healthcare',df = data_abortion, model_name_x = finetuned_model_x,threshold_x=0.6,is_lora=True)\n",
    "data_abortion_con_original=get_similar_sentences(model_x=model_original, query_x='abortion is murder',df = data_abortion, model_name_x = 'original',threshold_x=0.6,is_lora=False)\n",
    "data_abortion_con_finetuned=get_similar_sentences(model_x=model_finetuned, query_x='abortion is murder',df = data_abortion, model_name_x = finetuned_model_x,threshold_x=0.6,is_lora=True)\n"
   ]
  },
  {
   "cell_type": "code",
   "execution_count": 11,
   "metadata": {},
   "outputs": [
    {
     "data": {
      "text/plain": [
       "D    98\n",
       "R    31\n",
       "Name: party, dtype: int64"
      ]
     },
     "execution_count": 11,
     "metadata": {},
     "output_type": "execute_result"
    },
    {
     "name": "stdout",
     "output_type": "stream",
     "text": [
      "time: 22.1 ms (started: 2024-03-20 10:51:20 +00:00)\n"
     ]
    }
   ],
   "source": [
    "data_abortion_pro_original\n",
    "data_abortion_pro_original[data_abortion_pro_original[f'cosim_embeddings_original']>0.7]['party'].value_counts()"
   ]
  },
  {
   "cell_type": "code",
   "execution_count": 12,
   "metadata": {},
   "outputs": [
    {
     "data": {
      "text/plain": [
       "D    43\n",
       "R     4\n",
       "Name: party, dtype: int64"
      ]
     },
     "execution_count": 12,
     "metadata": {},
     "output_type": "execute_result"
    },
    {
     "name": "stdout",
     "output_type": "stream",
     "text": [
      "time: 10.6 ms (started: 2024-03-20 10:51:27 +00:00)\n"
     ]
    }
   ],
   "source": [
    "data_abortion_pro_finetuned\n",
    "data_abortion_pro_finetuned[data_abortion_pro_finetuned[f'cosim_embeddings_{finetuned_model_x}']>0.7]['party'].value_counts()"
   ]
  },
  {
   "cell_type": "code",
   "execution_count": 15,
   "metadata": {},
   "outputs": [
    {
     "data": {
      "text/plain": [
       "R    95\n",
       "D    46\n",
       "I     2\n",
       "Name: party, dtype: int64"
      ]
     },
     "execution_count": 15,
     "metadata": {},
     "output_type": "execute_result"
    },
    {
     "name": "stdout",
     "output_type": "stream",
     "text": [
      "time: 6.87 ms (started: 2024-03-20 10:52:06 +00:00)\n"
     ]
    }
   ],
   "source": [
    "data_abortion_con_original\n",
    "data_abortion_con_original[data_abortion_con_original[f'cosim_embeddings_original']>0.6]['party'].value_counts()"
   ]
  },
  {
   "cell_type": "code",
   "execution_count": 16,
   "metadata": {},
   "outputs": [
    {
     "data": {
      "text/plain": [
       "R    12\n",
       "D     3\n",
       "Name: party, dtype: int64"
      ]
     },
     "execution_count": 16,
     "metadata": {},
     "output_type": "execute_result"
    },
    {
     "name": "stdout",
     "output_type": "stream",
     "text": [
      "time: 9.06 ms (started: 2024-03-20 10:52:11 +00:00)\n"
     ]
    }
   ],
   "source": [
    "data_abortion_con_finetuned\n",
    "data_abortion_con_finetuned[data_abortion_con_finetuned[f'cosim_embeddings_{finetuned_model_x}']>0.6]['party'].value_counts()"
   ]
  },
  {
   "cell_type": "code",
   "execution_count": 30,
   "metadata": {},
   "outputs": [
    {
     "data": {
      "text/html": [
       "<div>\n",
       "<style scoped>\n",
       "    .dataframe tbody tr th:only-of-type {\n",
       "        vertical-align: middle;\n",
       "    }\n",
       "\n",
       "    .dataframe tbody tr th {\n",
       "        vertical-align: top;\n",
       "    }\n",
       "\n",
       "    .dataframe thead th {\n",
       "        text-align: right;\n",
       "    }\n",
       "</style>\n",
       "<table border=\"1\" class=\"dataframe\">\n",
       "  <thead>\n",
       "    <tr style=\"text-align: right;\">\n",
       "      <th></th>\n",
       "      <th>screen_name</th>\n",
       "      <th>user_id</th>\n",
       "      <th>time</th>\n",
       "      <th>link</th>\n",
       "      <th>text</th>\n",
       "      <th>party</th>\n",
       "      <th>all-mpnet-base-v2</th>\n",
       "      <th>MPNet_removal_50_margin_60_epoch_1</th>\n",
       "      <th>MPNet_removal_50_margin_90_epoch_1</th>\n",
       "      <th>MPNet_triplet_removal_0_margin_50_epoch_1</th>\n",
       "    </tr>\n",
       "  </thead>\n",
       "  <tbody>\n",
       "    <tr>\n",
       "      <th>0</th>\n",
       "      <td>RepLloydDoggett</td>\n",
       "      <td>1.539449e+08</td>\n",
       "      <td>2019-02-08T18:04:27-05:00</td>\n",
       "      <td>https://www.twitter.com/DavidP4AD/statuses/1093939720940331008</td>\n",
       "      <td>important bill introduced yesterday! there is much energy in congress for direct medicare price negotiations. most advocates &amp;; folks on the hill are working together to achieve the most powerful legislation possible. thanks</td>\n",
       "      <td>D</td>\n",
       "      <td>[-0.029, 0.0715, -0.0059, -0.0296, -0.009, -0.0136, -0.0212, 0.0363, -0.0067, -0.0058, 0.0309, 0.0271, -0.0033, 0.1152, 0.0456, -0.046, 0.0231, 0.0575, 0.0406, 0.027, 0.0035, -0.0185, -0.0137, -0.0063, -0.0375, 0.0334, -0.0092, -0.0053, -0.009, -0.0856, 0.0447, -0.0424, -0.036, 0.0081, 0.0001, -0.0637, -0.0117, 0.0245, -0.0987, -0.0459, 0.0007, -0.0806, -0.0487, 0.0242, 0.0074, 0.0022, -0.004, 0.0129, -0.0537, -0.0049, -0.0094, 0.0373, 0.027, -0.0379, 0.009, 0.008, -0.0178, -0.0425, -0.0388, -0.0508, 0.0543, 0.0182, -0.0165, -0.0177, -0.0013, 0.0563, 0.0204, 0.0261, 0.0021, 0.015, 0.0457, 0.0044, 0.0424, -0.0197, -0.0071, -0.0168, -0.0173, 0.0004, 0.0296, -0.0003, -0.0005, 0.0129, 0.0171, -0.0162, 0.0283, -0.0244, 0.0037, -0.0456, 0.0363, 0.0041, 0.032, -0.0231, -0.0024, -0.0013, -0.0004, -0.0059, 0.0095, 0.0163, 0.0275, -0.0467, ...]</td>\n",
       "      <td>[-0.0514, 0.1123, -0.0383, -0.0075, -0.0148, 0.0036, -0.0184, 0.0032, -0.0061, 0.0108, 0.041, 0.0481, -0.038, 0.0575, 0.0273, -0.0537, 0.0491, 0.0377, -0.0094, 0.0337, -0.032, 0.0014, -0.0138, 0.0174, -0.0106, -0.0224, 0.0138, 0.0201, 0.0295, -0.0544, 0.0264, -0.0551, -0.0137, 0.0259, 0.0031, -0.0623, -0.0329, 0.0248, -0.0521, -0.0165, 0.0102, -0.0452, -0.0506, 0.0168, 0.0144, -0.0129, 0.0025, 0.0192, -0.0577, 0.0115, 0.0018, 0.0005, -0.0173, -0.0276, -0.0306, 0.0617, 0.0066, -0.0582, 0.0116, -0.0287, 0.0281, 0.012, -0.0261, -0.0591, 0.0166, 0.046, 0.0106, 0.0275, 0.0031, 0.0244, 0.0302, -0.0306, 0.0323, 0.0167, 0.0598, -0.0129, -0.0448, 0.0032, 0.0294, 0.0299, 0.0406, 0.0179, 0.0414, 0.0514, 0.0663, 0.0563, 0.002, -0.0182, 0.039, 0.0353, 0.0109, -0.0525, 0.004, -0.013, 0.0217, -0.006, 0.0356, 0.0199, 0.0186, -0.0146, ...]</td>\n",
       "      <td>[-0.0798, 0.0781, -0.0377, -0.0283, -0.008, 0.0113, -0.0578, 0.0317, -0.0056, -0.0001, 0.0334, 0.0312, -0.0224, 0.0759, 0.0274, -0.053, 0.0503, 0.0431, -0.0296, 0.0256, -0.0325, -0.0004, -0.0536, 0.0073, -0.0139, -0.0177, 0.0032, 0.0215, 0.0173, -0.0478, 0.0201, -0.0602, 0.0045, 0.0417, -0.0025, -0.0608, -0.0566, 0.0183, -0.0512, -0.031, 0.0113, -0.0703, -0.0416, 0.0176, 0.04, -0.0125, 0.0181, -0.0014, -0.066, 0.0047, 0.0012, -0.0218, -0.0235, -0.0275, -0.0371, 0.0513, 0.0044, -0.0414, 0.0329, -0.0376, 0.0367, -0.0244, -0.0171, -0.0557, 0.0191, 0.0487, 0.0159, 0.0589, -0.0099, 0.0365, 0.0379, -0.0464, 0.0432, 0.0171, 0.039, 0.0073, -0.0349, -0.0119, 0.0601, 0.0321, 0.0315, -0.0073, 0.0365, 0.0257, 0.0619, 0.0586, 0.0059, -0.0079, 0.0553, 0.0247, 0.0118, -0.0553, 0.0029, 0.012, -0.0023, -0.0219, 0.0348, 0.026, 0.0217, 0.0079, ...]</td>\n",
       "      <td>[-0.0693, 0.0209, -0.0272, -0.0512, -0.0227, -0.0012, -0.0521, 0.027, -0.0196, 0.028, 0.0095, 0.0278, -0.0012, 0.0695, 0.0527, -0.0567, 0.047, 0.0215, -0.0222, 0.0489, -0.0144, -0.0018, -0.0444, 0.0084, 0.0089, -0.0244, 0.0282, 0.0566, -0.0077, -0.0474, 0.0094, -0.0096, 0.0298, 0.0105, -0.0, -0.0369, -0.0247, 0.0236, -0.065, 0.0219, -0.0037, -0.0629, 0.0232, 0.0111, 0.0458, 0.0041, 0.0129, -0.0226, -0.054, -0.0013, -0.0102, -0.0708, -0.0146, -0.013, -0.0231, 0.0462, 0.0061, -0.0257, 0.0575, -0.0519, 0.0258, -0.0073, 0.013, -0.0487, 0.0659, 0.0181, 0.0022, 0.0652, -0.0169, 0.0108, 0.026, -0.0739, 0.0445, 0.021, 0.0308, -0.0013, -0.06, -0.0395, 0.0544, 0.014, 0.0203, -0.0037, 0.0228, 0.0158, 0.0365, 0.0695, 0.0267, 0.0021, 0.0707, 0.0278, 0.0288, -0.0928, 0.0025, 0.0518, 0.0224, -0.0393, 0.0542, 0.0033, -0.0199, 0.03, ...]</td>\n",
       "    </tr>\n",
       "    <tr>\n",
       "      <th>1</th>\n",
       "      <td>SenBlumenthal</td>\n",
       "      <td>2.781241e+08</td>\n",
       "      <td>2020-12-08T12:50:26-05:00</td>\n",
       "      <td>https://www.twitter.com/maziehirono/statuses/1336344529008545793</td>\n",
       "      <td>fcc nominee nathan simington's only qualification is his eagerness to defend the president's attacks on the first amendment and sec. 230. his attempts to recruit fox news hosts to bully the fcc shows he has no place leading that agency.#stopsimington</td>\n",
       "      <td>D</td>\n",
       "      <td>[0.0087, 0.0864, 0.0276, -0.023, 0.023, 0.0129, -0.0303, -0.0102, -0.0349, -0.029, -0.0161, -0.0016, -0.0257, -0.0682, -0.0318, 0.0329, 0.0563, 0.0425, 0.0319, -0.0035, -0.0042, 0.0393, -0.0344, 0.0117, -0.0095, -0.0321, 0.0761, 0.0113, 0.0203, -0.0372, 0.018, -0.002, -0.0167, -0.0227, 0.0, 0.0386, 0.0354, 0.0081, -0.0128, -0.0323, 0.0322, 0.0069, -0.0636, 0.0573, -0.0208, 0.017, -0.0289, -0.0361, 0.0654, 0.0497, 0.0105, 0.0483, 0.0012, -0.0109, 0.0158, -0.005, 0.0108, -0.0264, -0.0064, 0.0019, 0.0558, 0.0281, 0.0181, 0.0025, -0.0446, 0.0053, -0.0569, 0.0224, 0.0316, 0.0001, 0.0586, 0.0176, 0.0323, 0.0625, 0.0106, -0.0094, 0.027, 0.0224, -0.0636, -0.0026, 0.0068, -0.0049, -0.0265, 0.0305, 0.0886, 0.0312, 0.0059, -0.0461, 0.024, 0.0296, 0.0913, -0.0495, 0.0057, -0.0316, -0.022, 0.0354, 0.0388, 0.0089, 0.0037, -0.0846, ...]</td>\n",
       "      <td>[-0.017, 0.0922, 0.0098, 0.0295, -0.0354, 0.0059, 0.0405, 0.0302, 0.0069, 0.0236, -0.0105, 0.0455, -0.0029, 0.019, -0.0278, -0.021, 0.066, 0.0343, -0.0189, -0.0194, -0.0512, 0.0184, 0.0555, 0.0422, -0.0054, -0.0535, 0.0227, -0.0169, 0.0237, -0.0011, 0.0342, -0.0545, -0.0547, 0.03, 0.0032, -0.014, 0.0125, 0.0333, -0.0355, 0.0275, 0.0261, 0.0107, -0.0093, 0.0507, -0.0089, -0.0585, -0.0032, 0.0754, 0.0319, 0.0156, 0.0223, 0.0238, -0.0172, -0.0576, -0.0125, 0.0265, -0.003, -0.0065, 0.0154, -0.0545, 0.0215, 0.0335, -0.0521, 0.0061, -0.0327, 0.0567, 0.0094, -0.033, 0.0461, 0.0693, -0.0099, 0.0181, 0.0004, 0.0541, 0.01, -0.0404, 0.0046, 0.0784, -0.04, -0.0176, -0.0235, -0.0006, 0.0143, 0.0603, 0.0934, 0.0257, 0.0548, -0.0385, -0.0051, 0.0341, 0.039, -0.0023, -0.004, -0.08, -0.0119, 0.001, 0.0057, 0.0319, 0.035, -0.0438, ...]</td>\n",
       "      <td>[-0.0316, 0.0607, 0.0236, 0.0209, -0.0363, 0.0186, 0.0201, 0.019, 0.013, 0.0249, -0.0045, 0.0202, -0.0089, 0.0314, -0.0449, 0.0123, 0.052, 0.0514, -0.0288, -0.0356, -0.0307, 0.0227, 0.0444, 0.0388, -0.0283, -0.0566, 0.0294, -0.0314, 0.0195, -0.0026, 0.0271, -0.0599, -0.0504, 0.0304, -0.0023, 0.0051, 0.0066, 0.0531, -0.0223, 0.0195, 0.0113, 0.0012, 0.0053, 0.0588, -0.0044, -0.0712, 0.014, 0.05, 0.0672, 0.0083, 0.009, 0.0047, -0.0589, -0.0512, -0.0144, 0.023, -0.003, 0.0103, 0.0303, -0.0668, 0.026, -0.0007, -0.0531, 0.0211, -0.0436, 0.0511, 0.0093, -0.0052, 0.0446, 0.0697, -0.0089, 0.0135, -0.0001, 0.0679, -0.0211, -0.0375, 0.008, 0.0971, -0.0391, -0.006, -0.0352, -0.0147, 0.0175, 0.0643, 0.0612, 0.0106, 0.0548, -0.0366, 0.0241, 0.0327, 0.0308, 0.0212, -0.0098, -0.0589, -0.0157, -0.0077, 0.0148, 0.0218, 0.0393, -0.0344, ...]</td>\n",
       "      <td>[-0.0498, -0.0444, 0.049, -0.0012, -0.0404, -0.0009, 0.0152, 0.0518, -0.0117, 0.0207, -0.0143, 0.0139, 0.0194, 0.0355, -0.0193, 0.0088, 0.0045, 0.0592, -0.0399, -0.0022, 0.0302, 0.0082, 0.025, 0.0473, -0.0183, -0.053, 0.0068, 0.013, -0.037, -0.0071, 0.032, -0.0051, 0.0021, -0.0283, 0.0004, -0.0028, 0.019, 0.0529, -0.0046, 0.0397, 0.0213, -0.0329, 0.0742, 0.0681, -0.0048, -0.059, -0.0003, 0.0193, 0.047, -0.0052, -0.0082, -0.0353, -0.0372, -0.0446, -0.027, -0.02, 0.013, 0.0365, 0.0536, -0.0817, 0.0091, -0.0046, -0.0209, 0.0313, 0.0083, 0.0505, -0.0286, -0.0015, 0.0413, 0.06, -0.0308, -0.0579, 0.0053, 0.0557, -0.0289, -0.0092, 0.0098, 0.0347, -0.0375, -0.0023, -0.0327, 0.0176, -0.0008, 0.041, 0.0195, 0.0184, 0.0829, -0.0231, 0.0671, 0.0162, 0.0539, -0.0247, -0.0511, -0.0035, -0.0312, -0.0597, 0.0238, 0.0077, 0.0403, 0.0139, ...]</td>\n",
       "    </tr>\n",
       "    <tr>\n",
       "      <th>2</th>\n",
       "      <td>RepDerekKilmer</td>\n",
       "      <td>1.058918e+09</td>\n",
       "      <td>2021-06-17T09:09:31-04:00</td>\n",
       "      <td>https://www.twitter.com/RepDerekKilmer/statuses/1405512936668422152</td>\n",
       "      <td>today, is holding a hearing to examine the source of political polarization and methods to improve civility &amp;; collaboration throughout congress. we're also experimenting with new hearing rules to foster a more collaborative conversation</td>\n",
       "      <td>D</td>\n",
       "      <td>[-0.0078, 0.0563, -0.0064, 0.0244, -0.0277, -0.0123, -0.0242, 0.014, -0.0127, -0.0019, 0.0289, 0.0033, 0.0132, 0.0118, 0.02, -0.0842, 0.0352, 0.0135, 0.0633, 0.0018, 0.0007, -0.0035, -0.0098, -0.0089, -0.075, -0.0131, -0.0308, 0.032, 0.028, 0.0108, 0.0189, 0.0083, -0.0127, -0.0248, 0.0001, -0.0216, 0.0162, 0.0126, -0.0469, -0.0552, 0.0442, -0.0588, -0.0348, 0.0389, -0.0202, -0.0178, -0.045, 0.0206, -0.028, -0.032, 0.0221, 0.0494, -0.013, -0.0215, -0.0087, 0.0175, -0.0113, -0.014, -0.0644, -0.0693, 0.0346, -0.0381, -0.0179, -0.0163, -0.0439, 0.0423, -0.0155, 0.0135, -0.0008, 0.0127, 0.0687, 0.0001, 0.0191, 0.0461, 0.0196, -0.0258, -0.0319, 0.0127, -0.0345, -0.0091, 0.0442, -0.0, -0.0143, 0.0348, 0.0658, -0.0079, -0.0006, -0.0264, -0.041, 0.0181, 0.0903, -0.0255, -0.006, 0.0168, 0.0056, -0.0113, 0.0356, 0.0897, 0.0203, -0.0279, ...]</td>\n",
       "      <td>[-0.0158, 0.1043, -0.0436, 0.0025, -0.0173, -0.0004, -0.0262, 0.0083, -0.0073, 0.0189, 0.0317, 0.0342, -0.0261, 0.0327, 0.014, -0.0747, 0.0562, 0.0301, -0.0048, 0.0235, -0.0308, 0.0054, -0.008, 0.0029, -0.0047, -0.0296, 0.0076, 0.018, 0.0384, -0.032, 0.0126, -0.0434, -0.0074, 0.0047, 0.0033, -0.0579, -0.0097, 0.0163, -0.0481, -0.0108, 0.0236, -0.0324, -0.0398, 0.0401, 0.014, -0.0259, -0.009, 0.0257, -0.0507, 0.0176, -0.0008, 0.0044, -0.0204, -0.0278, -0.0178, 0.0753, 0.0036, -0.0419, 0.0162, -0.0352, 0.007, 0.0143, -0.0312, -0.044, 0.0241, 0.0512, -0.0121, 0.0171, -0.002, 0.0122, 0.0375, -0.0387, 0.0285, 0.0159, 0.0748, -0.0114, -0.0444, -0.0073, 0.0149, 0.0302, 0.0444, 0.016, 0.0382, 0.0618, 0.0643, 0.0719, 0.0058, -0.0103, 0.026, 0.0593, 0.0149, -0.0386, -0.0001, -0.0185, 0.0227, -0.0181, 0.0312, 0.0248, 0.0026, -0.004, ...]</td>\n",
       "      <td>[-0.0523, 0.0642, -0.0419, -0.0145, -0.0196, 0.0034, -0.0638, 0.0245, -0.0056, 0.0031, 0.0253, 0.0136, -0.0129, 0.054, 0.0194, -0.0719, 0.061, 0.0281, -0.027, 0.0153, -0.0333, 0.002, -0.0511, -0.0076, -0.0121, -0.0296, -0.0021, 0.0256, 0.0215, -0.0244, 0.0102, -0.0409, 0.0212, 0.0176, -0.0024, -0.0546, -0.0322, 0.0123, -0.0516, -0.0187, 0.0221, -0.0567, -0.0261, 0.0391, 0.0352, -0.0225, 0.0034, 0.0047, -0.0568, 0.0108, 0.0023, -0.0247, -0.0318, -0.0238, -0.0226, 0.0673, -0.0003, -0.0282, 0.0358, -0.0404, 0.0263, -0.0251, -0.0217, -0.051, 0.0231, 0.0481, -0.002, 0.0554, -0.0145, 0.023, 0.052, -0.0557, 0.0421, 0.0201, 0.0562, 0.0089, -0.0379, -0.0225, 0.0515, 0.0372, 0.0456, -0.0014, 0.0335, 0.0376, 0.0595, 0.0734, 0.0063, -0.0037, 0.0387, 0.0585, 0.0176, -0.0521, -0.0036, 0.0144, 0.0063, -0.0335, 0.0276, 0.032, 0.0095, 0.0177, ...]</td>\n",
       "      <td>[-0.0487, 0.0075, -0.0289, -0.0345, -0.0258, -0.0072, -0.0568, 0.0189, -0.0243, 0.0281, -0.0075, 0.0208, 0.0051, 0.058, 0.0403, -0.0557, 0.0534, 0.0213, -0.0209, 0.0417, -0.0133, -0.003, -0.0389, 0.0099, 0.0179, -0.031, 0.0155, 0.0664, -0.007, -0.0373, 0.011, 0.0072, 0.032, -0.0054, 0.0001, -0.0275, -0.0083, 0.0213, -0.0631, 0.04, 0.0056, -0.0517, 0.0324, 0.0243, 0.0547, -0.0075, 0.006, -0.0202, -0.0446, -0.0021, -0.0085, -0.0616, -0.0231, -0.0121, -0.0163, 0.0441, 0.0051, -0.0197, 0.0578, -0.064, 0.0204, -0.0071, 0.0069, -0.0443, 0.0652, 0.0172, -0.0116, 0.065, -0.0196, 0.0004, 0.0199, -0.0903, 0.0535, 0.0221, 0.0377, -0.0025, -0.0539, -0.0542, 0.0444, 0.0157, 0.024, -0.002, 0.0285, 0.0209, 0.0376, 0.0747, 0.0369, 0.0024, 0.0748, 0.0502, 0.0389, -0.0888, -0.0023, 0.0454, 0.0209, -0.0477, 0.0458, 0.0075, -0.024, 0.0312, ...]</td>\n",
       "    </tr>\n",
       "    <tr>\n",
       "      <th>3</th>\n",
       "      <td>RepRoKhanna</td>\n",
       "      <td>8.162989e+17</td>\n",
       "      <td>2022-01-05T17:39:03-05:00</td>\n",
       "      <td>https://www.twitter.com/RepRoKhanna/statuses/1478858610012835850</td>\n",
       "      <td>in the wealthiest nation on earth, no parent should have to work multiple jobs to keep food on the table for their family.</td>\n",
       "      <td>D</td>\n",
       "      <td>[-0.075, 0.0697, 0.0287, 0.0514, -0.0137, -0.0028, 0.0466, -0.0239, 0.0007, -0.007, 0.0652, 0.0234, -0.0158, -0.0411, -0.0148, 0.0642, 0.0215, 0.012, -0.0303, 0.0125, -0.0347, 0.0054, 0.0567, 0.0331, -0.0331, -0.0473, 0.0474, -0.0206, 0.0184, 0.0749, 0.0725, 0.0098, -0.0286, 0.0109, -0.0003, 0.0084, -0.0076, 0.0097, 0.0045, 0.0197, 0.0226, -0.0574, 0.0101, 0.0299, -0.0258, 0.0314, 0.0051, 0.0384, -0.018, -0.0771, 0.0215, 0.035, -0.0368, 0.0196, -0.0572, 0.021, 0.024, -0.0093, -0.0685, -0.0699, 0.0195, 0.0193, -0.0458, -0.0874, -0.0214, 0.0285, 0.0063, -0.0383, 0.0072, 0.0205, 0.0007, -0.0188, 0.0041, -0.0007, 0.0008, 0.0514, -0.0135, 0.0697, -0.0331, 0.0022, 0.071, 0.0016, 0.0167, -0.0166, -0.0027, 0.022, -0.0484, -0.043, -0.0294, 0.0331, 0.001, 0.0171, 0.034, -0.0472, -0.0029, -0.0078, -0.0272, -0.0415, -0.0267, -0.036, ...]</td>\n",
       "      <td>[-0.031, 0.081, 0.0195, 0.0313, -0.0297, -0.024, 0.0621, -0.0057, 0.0115, 0.0419, 0.0157, 0.0458, -0.0129, -0.0021, -0.0463, -0.0219, 0.046, 0.0102, -0.0225, 0.007, -0.0554, 0.0183, 0.0342, 0.0341, 0.0042, -0.0773, 0.0179, -0.0108, 0.0237, 0.012, 0.0698, -0.0611, -0.0245, 0.0466, 0.0036, -0.0365, 0.0012, 0.0266, -0.0034, 0.0473, 0.0316, -0.0137, 0.004, 0.0488, -0.0019, -0.0416, 0.0082, 0.0608, -0.0039, -0.0063, 0.0106, 0.0195, -0.0357, -0.0499, -0.0395, 0.0299, -0.021, -0.0082, 0.0042, -0.056, 0.0335, 0.0483, -0.0794, -0.0267, -0.0043, 0.0475, -0.0039, -0.0422, 0.0254, 0.0731, -0.0114, 0.0053, 0.0132, 0.038, 0.008, -0.0375, -0.0066, 0.0553, -0.0126, -0.0194, -0.0289, -0.0017, 0.0286, 0.0594, 0.059, 0.0212, 0.0393, -0.0251, 0.0073, 0.0233, 0.0272, 0.0055, -0.0071, -0.0755, -0.0164, -0.0177, 0.0199, 0.033, 0.0164, -0.0533, ...]</td>\n",
       "      <td>[-0.0439, 0.045, 0.0298, 0.0315, -0.0304, -0.0189, 0.0623, -0.0075, 0.0218, 0.0314, 0.0331, 0.0276, -0.0395, 0.0096, -0.0665, 0.0236, 0.0435, 0.0326, -0.025, -0.019, -0.0411, -0.0001, 0.0244, 0.0212, -0.0132, -0.0759, 0.0102, -0.0313, 0.0084, -0.0011, 0.0702, -0.0595, -0.0407, 0.0683, -0.0025, -0.0269, -0.0063, 0.0379, 0.0205, 0.0238, 0.0301, -0.0222, 0.0069, 0.0634, 0.0021, -0.0493, 0.0256, 0.0337, 0.0319, -0.011, 0.0182, -0.0001, -0.0631, -0.0465, -0.0444, 0.0104, -0.0325, -0.0005, 0.0061, -0.0622, 0.0181, 0.026, -0.0882, -0.0125, -0.024, 0.0433, -0.0047, -0.0338, 0.0179, 0.0823, -0.0053, 0.0045, 0.0143, 0.0477, -0.0193, -0.0393, 0.003, 0.0702, -0.0142, -0.0229, -0.0466, 0.0009, 0.0266, 0.0494, 0.031, 0.0179, 0.0569, -0.0341, 0.0315, 0.0183, 0.0212, 0.0322, -0.0159, -0.0689, -0.0212, -0.0417, 0.0119, 0.0315, 0.0281, -0.0493, ...]</td>\n",
       "      <td>[-0.0631, -0.0205, 0.0247, -0.0117, -0.0551, -0.0111, 0.0098, 0.0222, -0.0371, 0.0421, 0.004, 0.0281, 0.0214, 0.0335, -0.0436, 0.0056, 0.0424, 0.0281, -0.0383, 0.04, -0.0044, -0.0179, -0.0166, 0.0184, 0.0233, -0.0586, 0.0041, 0.0351, -0.0326, -0.0145, 0.0557, 0.0028, 0.0432, 0.0172, 0.0004, -0.0054, -0.0102, 0.0429, -0.0103, 0.0772, 0.0205, -0.0479, 0.0601, 0.05, 0.0368, -0.0339, 0.0018, -0.0068, 0.0092, -0.0029, -0.0081, -0.0413, -0.0331, -0.0399, -0.0391, -0.0148, -0.0071, 0.0052, 0.0406, -0.1026, 0.0277, -0.0022, -0.0186, -0.0211, 0.0446, 0.0425, -0.0287, 0.0265, 0.0064, 0.0411, -0.0324, -0.0817, 0.0525, 0.0509, 0.0034, -0.0137, 0.0003, -0.0242, -0.0034, 0.0036, -0.0272, -0.0006, 0.0195, 0.039, 0.0059, 0.0566, 0.0771, 0.0027, 0.0984, 0.0006, 0.063, -0.0523, -0.0461, 0.0105, -0.0146, -0.0788, 0.0397, 0.0113, 0.0015, 0.0115, ...]</td>\n",
       "    </tr>\n",
       "    <tr>\n",
       "      <th>4</th>\n",
       "      <td>RepBonnie</td>\n",
       "      <td>2.968452e+09</td>\n",
       "      <td>2019-02-13T12:17:10-05:00</td>\n",
       "      <td>https://www.twitter.com/SenSherrodBrown/statuses/1095732026571931649</td>\n",
       "      <td>the cost of everything from healthcare, to rent, to college tuition is up but for most workers, wages are flat. they need more money in their pockets to keep up. that s why , , and i are introducing a cost of living refund.</td>\n",
       "      <td>D</td>\n",
       "      <td>[-0.0648, 0.0289, 0.0047, -0.0091, -0.0237, 0.0085, -0.0252, 0.0726, -0.0088, -0.0314, 0.0523, 0.0902, 0.0262, 0.0091, 0.0236, 0.0056, -0.0245, 0.0366, 0.039, -0.0124, -0.0079, 0.0111, -0.0043, 0.0078, -0.0486, 0.0277, 0.0438, 0.0089, -0.0016, 0.0269, 0.1063, -0.0336, -0.0041, 0.0235, 0.0002, -0.0338, 0.0008, -0.0062, -0.075, -0.0258, 0.0098, -0.019, -0.0097, 0.0221, 0.0084, 0.0382, -0.0188, 0.0392, 0.024, -0.0438, 0.0016, -0.0959, 0.0191, 0.0154, -0.0751, 0.0039, 0.0303, -0.0063, -0.0567, -0.0828, 0.0089, -0.0076, -0.037, -0.058, -0.0089, 0.0392, -0.0217, -0.0306, -0.0148, 0.0388, -0.0245, -0.036, -0.0237, -0.0102, 0.0134, -0.0472, -0.0478, 0.0133, -0.0022, 0.0169, 0.0033, -0.0096, 0.0014, 0.001, 0.033, -0.0283, -0.062, -0.0075, -0.0076, 0.0279, 0.0518, 0.0366, -0.0047, 0.0239, -0.0302, 0.0052, 0.0281, -0.024, 0.0106, 0.0016, ...]</td>\n",
       "      <td>[-0.0366, 0.0972, -0.0118, 0.0174, -0.0183, -0.0142, -0.0204, 0.0414, -0.0126, 0.008, 0.0349, 0.069, 0.0107, 0.0337, 0.034, -0.0403, 0.0557, 0.0599, 0.0114, 0.0187, -0.0239, 0.0296, 0.0269, 0.0063, -0.0391, 0.0209, 0.0334, -0.0029, 0.0528, -0.0222, 0.0615, -0.0529, 0.0031, 0.0047, 0.004, -0.0614, -0.0017, 0.0167, -0.0405, -0.0171, 0.0081, -0.0211, -0.0229, 0.0379, 0.0307, 0.0065, -0.0079, 0.0841, -0.0012, -0.0122, 0.0175, -0.0349, 0.0231, -0.0269, -0.0482, 0.0424, 0.0236, -0.0347, -0.0133, -0.0479, 0.0302, -0.0125, -0.031, -0.0361, -0.0213, 0.0591, -0.0209, 0.0014, 0.0282, 0.0592, 0.0015, -0.0299, 0.0154, 0.027, 0.043, -0.0433, -0.0459, 0.0396, -0.0083, 0.0381, 0.026, 0.0034, 0.0304, 0.0355, 0.0779, 0.0344, -0.0064, -0.012, -0.0025, 0.0423, 0.0251, -0.0208, -0.0137, -0.0484, -0.017, -0.0028, -0.0066, -0.0023, 0.0343, -0.0114, ...]</td>\n",
       "      <td>[-0.052, 0.0812, -0.0072, 0.0228, -0.0269, 0.0094, -0.0583, 0.0634, -0.0034, -0.0028, 0.0541, 0.0574, 0.0315, 0.0465, 0.0047, -0.0417, 0.0497, 0.0774, -0.0091, -0.0118, -0.0265, 0.0338, 0.0005, 0.0052, -0.0663, 0.0149, 0.0439, -0.0142, 0.0466, -0.0057, 0.064, -0.0508, -0.0032, 0.0391, -0.0032, -0.0518, -0.0106, 0.011, -0.0362, -0.0464, 0.0117, -0.0639, -0.0151, 0.0449, 0.0555, -0.0058, 0.0152, 0.0561, 0.021, -0.0095, 0.0167, -0.0542, -0.0098, -0.0304, -0.0613, 0.0317, 0.006, -0.0157, 0.0038, -0.062, 0.0297, -0.0497, -0.0402, -0.0038, -0.0317, 0.0609, -0.0155, 0.0287, 0.0357, 0.0646, 0.0153, -0.0443, 0.0266, 0.042, 0.0092, -0.0281, -0.0385, 0.0538, 0.0042, 0.0453, 0.0005, -0.0128, 0.0212, 0.0339, 0.0821, 0.0303, 0.0031, 0.0037, -0.0064, 0.0366, 0.0144, -0.0322, -0.0241, -0.0438, -0.018, -0.0037, -0.0037, -0.0, 0.0665, -0.0102, ...]</td>\n",
       "      <td>[-0.07, -0.0068, 0.01, -0.0308, -0.0366, -0.0189, -0.0441, 0.067, -0.0256, 0.0137, 0.0234, 0.0471, 0.0412, 0.0652, 0.031, -0.0243, 0.0499, 0.0828, -0.0347, 0.0317, 0.0109, -0.0038, 0.0051, 0.0022, -0.04, -0.0141, 0.0396, 0.0374, -0.0094, -0.0345, 0.0373, 0.0014, 0.0106, -0.0062, 0.0003, -0.0303, -0.0103, 0.0303, -0.0371, 0.0221, 0.0221, -0.0974, 0.0738, 0.0438, 0.039, -0.0075, 0.0111, 0.0196, 0.0058, -0.0093, -0.0023, -0.1045, 0.0375, -0.0191, -0.0233, 0.0066, 0.0106, 0.0124, 0.0485, -0.0586, 0.0177, -0.0353, -0.009, -0.0009, 0.041, 0.0461, -0.0275, 0.0451, 0.0257, 0.0444, -0.0143, -0.0809, 0.0327, 0.0509, -0.0112, -0.0057, -0.0436, 0.0174, 0.036, -0.0098, 0.0029, 0.0226, 0.0103, 0.0245, 0.0279, 0.0459, 0.0575, 0.0141, 0.0597, 0.029, 0.0287, -0.1027, -0.0452, 0.0374, -0.0055, -0.0467, 0.0482, 0.0085, 0.0375, 0.0166, ...]</td>\n",
       "    </tr>\n",
       "    <tr>\n",
       "      <th>...</th>\n",
       "      <td>...</td>\n",
       "      <td>...</td>\n",
       "      <td>...</td>\n",
       "      <td>...</td>\n",
       "      <td>...</td>\n",
       "      <td>...</td>\n",
       "      <td>...</td>\n",
       "      <td>...</td>\n",
       "      <td>...</td>\n",
       "      <td>...</td>\n",
       "    </tr>\n",
       "    <tr>\n",
       "      <th>9995</th>\n",
       "      <td>GReschenthaler</td>\n",
       "      <td>4.205134e+09</td>\n",
       "      <td>2020-01-04T11:39:12-05:00</td>\n",
       "      <td>https://www.twitter.com/GReschenthaler/statuses/1213500135382097920</td>\n",
       "      <td>this morning i joined to discuss us iran tensions. i was stationed in iraq as a navy jag. i can tell you: the us military will not get caught flat footed by iran.</td>\n",
       "      <td>R</td>\n",
       "      <td>[0.0022, 0.0361, 0.0079, -0.0418, 0.0531, -0.0375, -0.0248, 0.004, 0.0153, -0.0113, 0.01, 0.004, -0.0461, 0.0022, 0.0307, 0.0538, 0.0391, -0.0278, 0.0196, 0.0089, 0.0213, -0.0037, -0.0721, -0.0586, -0.0523, 0.0381, -0.0482, -0.0054, 0.0363, -0.0576, 0.0607, -0.0017, -0.0232, 0.0165, -0.0001, -0.0248, 0.028, -0.0058, 0.0095, -0.0537, -0.0083, -0.0606, -0.0411, 0.0091, -0.02, -0.0206, -0.0057, 0.0376, 0.029, 0.0368, 0.0005, 0.0401, -0.0618, 0.0215, -0.0866, -0.05, 0.0308, -0.061, -0.079, -0.0158, 0.0612, -0.0175, -0.0583, -0.0021, -0.0026, 0.0631, -0.0247, 0.0766, 0.0156, -0.0151, 0.0554, -0.0253, -0.0217, -0.0407, 0.0325, 0.0722, -0.0175, -0.0299, -0.004, -0.0251, 0.0105, -0.0118, -0.0184, -0.0041, 0.0019, 0.0027, 0.0044, -0.0466, 0.0073, -0.0181, -0.0611, -0.0131, -0.0537, 0.0332, -0.0055, -0.0081, -0.0201, -0.0182, 0.0616, -0.0352, ...]</td>\n",
       "      <td>[-0.0159, 0.0889, 0.0012, -0.0004, -0.0004, -0.0039, 0.0205, -0.0153, 0.0179, 0.0334, 0.0427, 0.0438, -0.0445, 0.025, 0.0548, -0.0046, 0.0728, 0.0297, -0.046, 0.0521, -0.0274, 0.0331, -0.0185, -0.0045, -0.0374, -0.0272, 0.0113, -0.0006, 0.0544, -0.0702, 0.0224, -0.0636, 0.0049, 0.0157, 0.0033, -0.057, -0.0309, 0.0213, -0.0598, -0.0458, -0.0177, -0.0517, -0.029, -0.0035, -0.0122, -0.0225, 0.0093, 0.0709, -0.0108, 0.0229, 0.0112, -0.0074, 0.0142, -0.0235, -0.0832, 0.0441, -0.0122, -0.0287, -0.0226, 0.0063, 0.0689, 0.0139, -0.0212, -0.0398, 0.0027, 0.0492, 0.0052, 0.0542, 0.0145, 0.0594, 0.0278, -0.0137, 0.0069, 0.0136, 0.0451, -0.0377, -0.0322, 0.0092, 0.0124, -0.001, 0.0357, -0.0003, 0.0494, 0.0442, 0.0631, 0.0617, 0.0031, -0.0134, 0.0057, 0.029, -0.035, -0.023, -0.0223, -0.0146, -0.0247, -0.0037, 0.0406, 0.0076, 0.029, -0.0522, ...]</td>\n",
       "      <td>[-0.0391, 0.0631, 0.0106, -0.0031, 0.0119, -0.0027, -0.0188, 0.01, 0.0003, 0.0363, 0.0517, 0.0359, -0.0382, 0.0345, 0.0346, 0.0127, 0.0852, 0.0552, -0.053, 0.0353, -0.0138, 0.0255, -0.0474, -0.0206, -0.046, -0.0105, 0.0142, -0.0075, 0.0209, -0.0703, 0.0226, -0.0685, -0.0116, 0.0334, -0.0028, -0.0463, -0.0526, 0.0109, -0.0437, -0.0785, -0.0069, -0.0885, -0.0033, 0.0112, 0.0109, -0.0087, 0.0327, 0.0574, 0.0065, 0.0004, 0.0133, -0.0358, -0.0095, -0.0292, -0.0973, 0.0306, -0.0165, -0.0253, -0.025, 0.0057, 0.0792, -0.0144, -0.0353, 0.0059, 0.0075, 0.0449, 0.004, 0.0626, 0.0046, 0.0588, 0.0321, -0.0349, -0.0023, 0.0159, 0.0109, -0.018, -0.018, 0.0101, 0.0369, -0.0092, 0.0186, -0.0101, 0.0478, 0.0093, 0.0455, 0.0759, 0.0206, -0.0004, 0.0309, 0.0169, -0.0244, -0.0112, -0.0269, 0.0038, -0.0367, -0.0113, 0.0462, 0.0003, 0.044, -0.0462, ...]</td>\n",
       "      <td>[-0.0466, 0.0048, 0.0105, -0.0299, 0.0027, -0.0193, -0.022, 0.0272, -0.0127, 0.0393, 0.0312, 0.0217, -0.028, 0.0448, 0.0542, -0.0021, 0.0496, 0.0565, -0.0463, 0.0493, 0.0155, -0.0207, -0.0244, -0.0155, -0.0149, 0.0041, 0.0289, 0.0306, -0.0221, -0.0778, 0.0055, -0.0226, 0.0038, 0.0272, -0.0001, -0.056, -0.0281, 0.023, -0.0348, -0.0504, -0.0012, -0.0825, 0.0312, -0.0025, 0.0284, 0.0221, 0.009, 0.0135, -0.0237, -0.0326, 0.0049, -0.0875, 0.0388, -0.0069, -0.0698, 0.0152, 0.0082, -0.0118, 0.0254, -0.0042, 0.0583, -0.0082, 0.0081, -0.0216, 0.048, 0.0167, 0.0119, 0.0564, -0.0245, 0.0253, 0.0279, -0.0646, 0.022, 0.0358, -0.0047, -0.0169, -0.0398, -0.0087, 0.0713, -0.0363, 0.0066, -0.0044, 0.0277, -0.0093, 0.0359, 0.0885, 0.0449, 0.0018, 0.0657, 0.0159, 0.0165, -0.0794, 0.0036, 0.0609, -0.0084, -0.0194, 0.08, -0.0009, 0.0025, -0.0067, ...]</td>\n",
       "    </tr>\n",
       "    <tr>\n",
       "      <th>9996</th>\n",
       "      <td>lisamurkowski</td>\n",
       "      <td>1.806167e+07</td>\n",
       "      <td>2020-12-03T15:20:18-05:00</td>\n",
       "      <td>https://www.twitter.com/lisamurkowski/statuses/1334593323793866752</td>\n",
       "      <td>know that i am monitoring the situation closely and will continue engage with state and local officials. thank you to all the individuals working around the clock to support emergency response efforts &amp;; the alaskans who are pitching in a helping hand for their neighbors in need.</td>\n",
       "      <td>R</td>\n",
       "      <td>[-0.0042, 0.0541, -0.0237, 0.0155, 0.0138, -0.0178, -0.0062, -0.0192, -0.0309, -0.0448, 0.0292, 0.013, -0.0246, -0.0039, 0.0303, -0.0361, 0.0233, -0.0214, 0.036, -0.0022, 0.0024, 0.021, -0.0113, -0.0095, -0.0208, 0.028, -0.0158, -0.0071, 0.0338, -0.0603, 0.012, -0.0282, -0.0307, -0.0167, 0.0003, -0.0229, 0.0266, 0.0102, -0.0774, -0.0152, -0.04, -0.137, -0.0438, -0.0103, -0.0041, -0.0416, 0.0061, 0.0215, 0.0142, 0.0388, 0.0095, 0.0329, 0.0971, 0.0227, -0.0446, 0.0514, 0.008, -0.0744, -0.0607, -0.044, 0.0646, 0.066, -0.0147, 0.0109, 0.0078, 0.0551, 0.0535, 0.0099, -0.0361, -0.0031, 0.0611, 0.0157, 0.003, 0.0126, -0.0348, -0.0073, 0.0118, -0.0113, -0.0173, -0.0251, -0.0524, 0.0251, -0.0046, 0.004, -0.0353, -0.0093, -0.0113, -0.0163, -0.0646, 0.0302, -0.0144, -0.0147, 0.0112, -0.0175, 0.0119, -0.009, 0.0293, -0.0348, 0.0056, -0.0447, ...]</td>\n",
       "      <td>[-0.036, 0.0988, -0.0295, -0.0211, 0.0032, -0.0082, -0.009, 0.0064, 0.0003, 0.014, 0.0466, 0.0434, -0.0332, 0.0224, 0.0474, -0.0536, 0.0697, 0.0318, -0.0131, 0.0172, -0.0118, 0.0282, 0.0159, 0.0057, -0.028, -0.0352, 0.0118, 0.0114, 0.0325, -0.0771, 0.0072, -0.0578, -0.0235, 0.0094, 0.0038, -0.0609, -0.013, 0.0204, -0.0744, -0.017, -0.0104, -0.0649, -0.0245, 0.0087, 0.0177, -0.0183, 0.0252, 0.0491, -0.0297, 0.0098, 0.0189, 0.0075, 0.0255, -0.0176, -0.0449, 0.076, 0.005, -0.0525, -0.0077, -0.0245, 0.0556, 0.0341, -0.028, -0.0255, 0.0123, 0.0386, 0.0261, 0.0234, 0.005, 0.014, 0.0488, -0.022, 0.0098, 0.0343, 0.0395, -0.0308, -0.0435, 0.0072, 0.0081, 0.0232, 0.0153, 0.0202, 0.0354, 0.0553, 0.0567, 0.0447, 0.0049, -0.0081, -0.004, 0.038, -0.0054, -0.0546, 0.0005, -0.0304, 0.0327, -0.0207, 0.0447, 0.0134, 0.0226, -0.0335, ...]</td>\n",
       "      <td>[-0.0625, 0.0596, -0.0338, -0.0473, 0.0117, 0.0012, -0.0466, 0.029, -0.0041, 0.0077, 0.0476, 0.023, -0.0222, 0.0315, 0.0477, -0.0451, 0.0797, 0.0378, -0.0306, 0.0003, -0.0054, 0.0316, -0.015, -0.0026, -0.0401, -0.0351, 0.0107, 0.0136, 0.0155, -0.0665, 0.0025, -0.0521, 0.0007, 0.0177, -0.0027, -0.0562, -0.0343, 0.0062, -0.0731, -0.0319, -0.0137, -0.0857, -0.0137, 0.0012, 0.0465, -0.0192, 0.038, 0.0248, -0.0378, -0.001, 0.0216, -0.0137, 0.0131, -0.0153, -0.0424, 0.0687, 0.0002, -0.0326, 0.0091, -0.0316, 0.0635, -0.0043, -0.0217, -0.0111, 0.0326, 0.0355, 0.034, 0.0636, -0.0069, 0.0209, 0.0613, -0.0452, 0.016, 0.0372, 0.0125, -0.0163, -0.038, -0.0051, 0.0406, 0.0239, 0.0121, -0.0035, 0.0329, 0.0348, 0.0441, 0.0466, 0.0087, 0.0021, -0.0012, 0.0411, -0.0027, -0.0605, 0.0109, -0.0097, 0.0264, -0.0381, 0.0412, 0.015, 0.0217, 0.0015, ...]</td>\n",
       "      <td>[-0.0568, 0.008, -0.0193, -0.0724, 0.0043, -0.0134, -0.0499, 0.0273, -0.0175, 0.0285, 0.023, 0.0289, -0.0056, 0.0385, 0.0731, -0.0461, 0.0554, 0.0313, -0.027, 0.035, 0.0052, 0.0107, -0.0171, 0.0097, -0.0057, -0.0258, 0.0335, 0.0534, -0.0129, -0.0652, -0.0045, -0.0054, 0.0234, -0.0074, 0.0001, -0.0407, -0.0076, 0.0177, -0.0752, 0.0169, -0.0208, -0.0608, 0.0298, -0.003, 0.058, 0.0058, 0.0263, -0.0112, -0.0357, -0.0194, 0.0062, -0.0721, 0.0271, -0.0015, -0.0303, 0.0499, 0.0054, -0.0125, 0.0354, -0.0468, 0.0451, 0.0073, 0.0032, -0.0273, 0.0704, 0.0064, 0.0096, 0.0753, -0.0198, 0.0074, 0.0356, -0.0729, 0.0349, 0.0356, 0.0037, -0.0183, -0.061, -0.021, 0.0496, 0.0079, 0.0017, -0.0007, 0.0297, 0.0159, 0.0244, 0.0628, 0.0286, 0.0056, 0.0323, 0.0303, 0.0267, -0.0973, 0.0131, 0.0381, 0.0432, -0.0442, 0.059, -0.0042, -0.0126, 0.0232, ...]</td>\n",
       "    </tr>\n",
       "    <tr>\n",
       "      <th>9997</th>\n",
       "      <td>RepAndyBiggsAZ</td>\n",
       "      <td>8.166526e+17</td>\n",
       "      <td>2022-05-04T09:07:44-04:00</td>\n",
       "      <td>https://www.twitter.com/RepAndyBiggsAZ/statuses/1521838992676823041</td>\n",
       "      <td>biden's \"ministry of truth\" is nonsense and an orwellian measure. that's why , 50 members, and i are introducing a bill to defund this unconstitutional board. more to come.</td>\n",
       "      <td>R</td>\n",
       "      <td>[0.0182, 0.1305, 0.0047, 0.0274, -0.0536, 0.0215, 0.0339, 0.0058, -0.0492, -0.03, 0.0071, 0.0007, -0.0023, 0.0217, 0.0249, 0.0258, 0.0493, 0.0602, -0.0194, -0.0351, 0.0129, 0.0108, -0.0486, -0.0011, -0.0033, -0.0145, 0.0261, -0.0114, 0.0005, 0.0224, -0.0545, 0.0099, -0.0664, 0.0291, 0.0003, 0.0224, 0.0003, 0.0187, -0.0821, 0.0014, 0.0079, 0.0317, -0.0047, -0.0232, -0.0095, -0.0105, 0.005, 0.0036, 0.0192, 0.0208, 0.0137, 0.0825, -0.0288, 0.0163, -0.0523, 0.0292, 0.0335, -0.0409, -0.0277, 0.0182, 0.0199, 0.016, -0.0049, -0.021, -0.0772, 0.0288, 0.0584, -0.007, -0.0134, 0.0184, 0.0843, -0.001, 0.067, 0.0513, 0.0209, 0.0272, 0.0268, 0.0813, -0.0266, -0.0362, -0.0314, -0.0002, 0.0178, 0.0015, 0.058, 0.0313, -0.003, 0.0049, -0.0345, -0.0293, 0.0271, -0.0357, 0.0098, -0.0739, 0.0027, -0.018, 0.0184, -0.0334, 0.0429, 0.0121, ...]</td>\n",
       "      <td>[-0.0093, 0.1226, 0.0157, 0.0446, -0.0318, -0.0012, 0.0432, 0.0139, 0.0059, 0.0128, 0.0057, 0.0689, -0.0094, 0.0185, -0.0067, -0.0109, 0.058, 0.0281, -0.0302, -0.0106, -0.0475, 0.0259, 0.0694, 0.045, -0.0029, -0.0313, 0.0314, -0.0259, 0.0277, -0.0004, 0.0419, -0.0468, -0.0558, 0.0482, 0.0037, -0.0401, 0.026, 0.0445, -0.0376, 0.0364, 0.0222, 0.0222, -0.0148, 0.0365, 0.0115, -0.0526, 0.0051, 0.0818, 0.0095, 0.011, 0.0151, 0.0295, -0.0029, -0.0471, -0.0312, 0.0317, -0.0006, -0.0274, -0.004, -0.0623, 0.0212, 0.0222, -0.0554, -0.0084, -0.0622, 0.0663, -0.0001, -0.0247, 0.0399, 0.0625, -0.0174, 0.0031, 0.0254, 0.037, 0.018, -0.0381, -0.0019, 0.0823, -0.0431, -0.0152, -0.028, 0.007, 0.0246, 0.0397, 0.0699, 0.0269, 0.0441, -0.016, 0.0, 0.0226, 0.0268, 0.0007, -0.0037, -0.1003, -0.0081, -0.0182, 0.01, 0.0183, 0.0313, -0.0346, ...]</td>\n",
       "      <td>[-0.0232, 0.099, 0.0219, 0.0427, -0.0209, 0.0057, 0.0331, 0.0105, 0.0108, 0.0128, 0.0089, 0.0473, -0.0144, 0.0292, -0.027, 0.025, 0.0439, 0.0434, -0.0333, -0.0339, -0.0323, 0.0219, 0.0569, 0.0479, -0.0263, -0.03, 0.0394, -0.0401, 0.0224, -0.0031, 0.0335, -0.0507, -0.0646, 0.0561, -0.0025, -0.0199, 0.0193, 0.0644, -0.021, 0.034, 0.0227, 0.0147, -0.0009, 0.0543, 0.0203, -0.0753, 0.0258, 0.0561, 0.0436, 0.0043, 0.0043, 0.0185, -0.0423, -0.0508, -0.0263, 0.0315, -0.0085, -0.0055, 0.0155, -0.0803, 0.0179, -0.0062, -0.0628, 0.0085, -0.0787, 0.0834, -0.0024, -0.0081, 0.0394, 0.0644, -0.0202, -0.0065, 0.0251, 0.0455, -0.0085, -0.0307, -0.0002, 0.0918, -0.0436, -0.009, -0.054, -0.0067, 0.0306, 0.0358, 0.0431, 0.0198, 0.046, -0.0114, 0.0184, 0.0181, 0.0171, 0.0176, -0.0094, -0.0934, -0.0123, -0.0308, 0.0236, 0.0231, 0.0404, -0.023, ...]</td>\n",
       "      <td>[-0.0432, -0.0074, 0.0241, 0.0192, -0.039, -0.0022, 0.0138, 0.0229, -0.04, 0.0266, -0.0283, 0.0409, 0.0173, 0.0538, -0.0089, 0.0149, 0.0297, 0.0212, -0.0381, 0.0129, 0.0082, -0.0042, 0.0162, 0.0482, 0.007, -0.0505, 0.0241, 0.0306, -0.0055, -0.0208, 0.0373, -0.0016, 0.0028, 0.0172, 0.0004, -0.0019, 0.0193, 0.055, -0.0246, 0.1011, 0.0335, -0.0126, 0.0523, 0.0699, 0.0337, -0.0615, 0.0032, 0.0105, 0.0173, 0.0136, -0.0071, -0.0244, -0.0302, -0.0478, -0.014, -0.0013, 0.0109, 0.014, 0.0384, -0.1004, 0.0051, -0.0114, -0.0378, 0.0044, 0.015, 0.0636, -0.027, 0.0256, 0.033, 0.0443, -0.0548, -0.0936, 0.0341, 0.051, 0.007, -0.0106, -0.0079, 0.0099, -0.0169, 0.0112, -0.0314, -0.0004, 0.0273, 0.029, 0.007, 0.0395, 0.0709, -0.0025, 0.0908, -0.0086, 0.0536, -0.0457, -0.0397, -0.023, -0.0219, -0.0652, 0.0482, 0.0052, 0.0156, 0.0215, ...]</td>\n",
       "    </tr>\n",
       "    <tr>\n",
       "      <th>9998</th>\n",
       "      <td>WarrenDavidson</td>\n",
       "      <td>7.427355e+17</td>\n",
       "      <td>2021-12-23T08:27:51-05:00</td>\n",
       "      <td>https://www.twitter.com/WarrenDavidson/statuses/1474008856342810637</td>\n",
       "      <td>trust the science. risks are not evenly distributed. talk with your own doctor. facts &amp;gt; fear</td>\n",
       "      <td>R</td>\n",
       "      <td>[-0.0212, -0.0301, -0.0136, -0.0417, 0.085, 0.0168, -0.0029, -0.0541, -0.0023, 0.0477, 0.025, -0.0221, -0.0377, 0.0348, -0.0684, 0.0156, 0.0201, -0.0004, 0.0193, -0.0264, 0.0018, -0.0089, 0.0042, 0.0279, 0.0268, 0.0062, 0.0597, 0.051, 0.0146, -0.07, -0.0022, -0.0306, 0.0264, 0.0173, 0.0003, -0.0252, 0.0176, -0.0224, 0.0169, -0.0567, 0.0004, -0.0113, 0.0244, -0.0121, 0.002, -0.0395, 0.0139, 0.0193, 0.0137, 0.0013, -0.0058, 0.0344, 0.031, 0.0486, 0.0538, 0.0046, -0.0379, -0.017, -0.0481, 0.084, 0.0085, 0.0289, -0.0105, 0.0108, -0.0183, -0.0232, 0.0175, -0.1294, -0.0069, 0.0205, 0.0107, 0.0218, 0.0021, -0.0134, -0.0493, 0.0012, -0.0041, -0.0079, 0.0253, 0.0269, 0.0189, 0.0254, 0.0156, -0.0249, 0.0219, -0.022, 0.0375, 0.0092, 0.0318, -0.0153, 0.0771, -0.0068, 0.0086, -0.0295, -0.0224, 0.0212, 0.0074, -0.0098, 0.0607, -0.0579, ...]</td>\n",
       "      <td>[-0.0214, 0.1224, -0.0144, 0.003, 0.0082, -0.0003, 0.0264, 0.0169, 0.0346, 0.0588, 0.0303, 0.0325, -0.0245, 0.035, -0.0372, -0.012, 0.0477, 0.029, 0.0315, -0.0114, -0.0487, -0.0123, 0.0219, 0.0161, 0.0388, -0.0021, 0.0568, -0.0162, 0.0329, -0.0406, 0.0224, -0.0373, -0.0498, 0.0492, 0.0039, -0.0376, 0.0082, -0.0028, -0.0053, -0.0323, 0.0149, 0.0016, -0.0529, 0.036, 0.0142, -0.0142, -0.0014, 0.0607, -0.0492, -0.0073, 0.0007, 0.0437, 0.0144, -0.0075, -0.0276, 0.0253, 0.0101, -0.0287, -0.0307, 0.0295, 0.0145, 0.003, -0.0641, -0.0376, 0.0135, 0.0807, 0.0673, -0.0825, 0.0051, 0.005, 0.0081, 0.0073, 0.0095, 0.0173, 0.0144, -0.0111, -0.0398, -0.0172, -0.0002, 0.0178, 0.0137, 0.0195, 0.011, 0.0297, 0.0532, 0.0317, 0.0031, -0.0151, -0.0062, 0.0335, 0.0317, -0.0369, -0.0185, -0.0474, 0.0284, 0.0106, 0.0123, 0.0508, 0.0315, -0.0459, ...]</td>\n",
       "      <td>[-0.028, 0.1097, -0.0074, -0.0086, 0.0141, -0.0151, -0.0052, 0.0319, 0.0446, 0.0601, 0.0316, 0.0192, -0.0063, 0.0448, -0.0711, 0.0035, 0.0397, 0.0359, 0.0282, -0.0331, -0.0432, -0.0081, -0.0144, 0.0081, 0.0314, 0.0018, 0.0466, -0.0259, 0.0148, -0.0147, 0.0197, -0.0371, -0.056, 0.0588, -0.0027, -0.029, -0.009, -0.0182, 0.0223, -0.0705, 0.0225, -0.0116, -0.042, 0.043, 0.0336, -0.0262, 0.0159, 0.0383, -0.0517, -0.0106, 0.0084, 0.0157, -0.0053, -0.0108, -0.0301, 0.0063, 0.0024, -0.0153, -0.0433, 0.0245, 0.0282, -0.0379, -0.0708, -0.009, 0.0125, 0.0871, 0.0818, -0.0595, -0.0004, 0.0034, 0.0166, -0.0088, 0.0105, 0.0052, -0.0125, 0.0043, -0.0295, -0.016, 0.0138, 0.0358, -0.0044, -0.0054, 0.0156, 0.016, 0.0443, 0.0471, 0.012, -0.0103, 0.0116, 0.0166, 0.0136, -0.0348, -0.0116, -0.0313, 0.0279, -0.0045, 0.0052, 0.0541, 0.0511, -0.0187, ...]</td>\n",
       "      <td>[-0.0322, 0.0333, -0.0125, -0.0286, 0.0199, -0.0344, -0.0268, 0.0288, 0.0042, 0.0954, -0.011, -0.0264, -0.0083, 0.0425, -0.0308, 0.0101, 0.0223, -0.0078, 0.0098, 0.0151, -0.019, -0.0359, -0.0356, 0.0223, 0.0574, 0.0017, 0.0535, 0.0326, -0.0012, -0.0384, -0.0033, -0.0046, -0.0167, 0.043, 0.0001, -0.0193, 0.0373, -0.0243, 0.0235, -0.0507, 0.0041, -0.0108, -0.0242, 0.0022, 0.0432, -0.0077, 0.0076, -0.0043, -0.0616, -0.0275, -0.0096, -0.0326, 0.0004, 0.0313, -0.011, -0.0008, 0.0151, -0.0072, -0.0046, 0.0099, 0.0195, -0.0358, -0.0217, -0.0413, 0.0657, 0.0466, 0.0637, -0.0389, -0.0401, -0.0326, 0.0252, -0.0075, 0.0161, 0.0019, -0.0092, 0.0038, -0.0691, -0.0823, 0.0427, 0.0172, -0.0034, -0.0037, 0.0094, -0.016, 0.0363, 0.0823, 0.0111, -0.0043, 0.0468, 0.0277, 0.0432, -0.0934, -0.0113, 0.034, 0.0371, -0.0072, 0.0228, 0.0418, -0.0022, -0.0066, ...]</td>\n",
       "    </tr>\n",
       "    <tr>\n",
       "      <th>9999</th>\n",
       "      <td>RepJimBanks</td>\n",
       "      <td>8.161313e+17</td>\n",
       "      <td>2021-08-27T21:06:09-04:00</td>\n",
       "      <td>https://www.twitter.com/RepJimBanks/statuses/1431422820077219844</td>\n",
       "      <td>qt u.s. marine, cpl. humberto sanchez of logansport, indiana, killed in kabul terror attack</td>\n",
       "      <td>R</td>\n",
       "      <td>[-0.0217, 0.0677, 0.0136, -0.0355, -0.0285, -0.0346, 0.0115, 0.0636, -0.058, 0.0642, -0.0444, 0.1117, 0.0076, 0.0496, -0.0252, 0.093, 0.0294, -0.0242, -0.0149, -0.0133, -0.0261, 0.0374, -0.0099, -0.0102, 0.0256, 0.0253, -0.0079, -0.0489, -0.0248, -0.0341, 0.0291, 0.0636, -0.0069, -0.0385, -0.0, 0.0424, -0.0098, -0.0162, -0.0395, -0.0471, -0.0246, -0.0399, -0.0268, -0.0267, 0.0312, -0.0271, 0.0164, 0.1227, 0.0181, -0.0263, 0.0095, -0.0776, 0.0527, -0.0091, 0.004, 0.0654, -0.0313, -0.0386, -0.016, 0.0946, 0.0618, 0.017, 0.006, 0.0225, -0.0626, 0.013, -0.0426, 0.065, 0.0283, 0.0721, -0.0069, -0.0309, -0.0077, 0.0643, -0.0427, -0.0453, 0.0024, -0.0399, -0.0012, 0.0111, 0.0453, 0.0492, -0.0326, 0.0058, -0.0173, -0.0057, -0.0099, 0.0043, -0.0308, -0.0055, 0.0265, 0.0682, 0.0209, -0.0152, -0.0006, -0.0537, 0.0442, -0.079, 0.0556, -0.007, ...]</td>\n",
       "      <td>[-0.0235, 0.0837, 0.0003, -0.0293, -0.0455, 0.011, -0.0053, 0.0235, 0.0131, 0.0302, 0.0362, 0.0637, -0.0106, 0.0365, -0.0084, -0.0446, 0.0754, 0.0159, -0.0397, 0.0255, -0.0576, 0.0652, 0.0295, 0.0202, -0.0155, -0.0555, 0.0136, -0.0108, 0.0387, -0.0253, 0.033, -0.0673, 0.006, -0.0179, 0.0035, -0.0411, -0.0073, 0.0224, -0.0503, -0.0037, -0.0142, -0.0365, -0.0105, 0.0147, 0.0053, -0.0578, 0.0275, 0.0701, -0.0234, 0.0278, 0.0114, -0.0118, -0.027, -0.0323, -0.0369, 0.0406, 0.0127, -0.0487, 0.016, -0.0246, 0.057, 0.0226, -0.0257, -0.0304, -0.043, 0.0276, -0.0148, 0.0062, 0.0422, 0.0789, 0.0022, 0.0021, 0.0239, 0.0664, 0.0129, -0.0516, -0.0175, 0.0271, -0.0162, 0.022, 0.0298, 0.0198, 0.0204, 0.0528, 0.0706, 0.043, 0.0202, -0.0046, -0.0006, 0.0229, -0.0218, -0.0181, -0.0013, -0.0273, -0.0126, -0.0269, 0.0151, 0.0097, 0.0357, -0.054, ...]</td>\n",
       "      <td>[-0.0383, 0.0573, 0.0049, -0.036, -0.0418, 0.0267, -0.0299, 0.0366, 0.0098, 0.0228, 0.0465, 0.064, -0.013, 0.0399, -0.0097, -0.0327, 0.0757, 0.0336, -0.0471, 0.0105, -0.0525, 0.0724, 0.0204, 0.0179, -0.032, -0.0559, 0.0212, -0.0099, 0.016, -0.0334, 0.0332, -0.0697, 0.0137, -0.0093, -0.0026, -0.0258, -0.0224, 0.0222, -0.056, -0.0207, -0.0254, -0.0501, 0.0044, 0.0183, 0.0155, -0.0716, 0.0535, 0.0669, 0.0007, 0.0199, 0.0149, -0.0364, -0.0462, -0.0352, -0.0362, 0.0372, -0.0083, -0.0368, 0.0196, -0.0354, 0.0473, 0.0019, -0.0261, -0.0185, -0.051, 0.0396, -0.0254, 0.0289, 0.041, 0.096, -0.0061, -0.0156, 0.0338, 0.0856, -0.0243, -0.049, -0.0161, 0.031, -0.0019, 0.0312, 0.0164, 0.0121, 0.0182, 0.0468, 0.0544, 0.0319, 0.0163, 0.0052, 0.0111, 0.0251, -0.0297, 0.0133, -0.0047, -0.0235, -0.0307, -0.0401, 0.0341, -0.0022, 0.0473, -0.0494, ...]</td>\n",
       "      <td>[-0.0451, -0.0173, 0.0122, -0.0617, -0.0373, 0.0182, -0.0565, 0.0297, -0.0064, 0.0189, 0.0304, 0.0623, 0.0042, 0.0589, 0.0289, -0.0335, 0.0521, 0.0439, -0.0502, 0.0392, -0.0064, 0.0442, -0.0042, 0.0423, -0.0277, -0.0511, 0.0232, 0.0465, -0.031, -0.0531, 0.0272, -0.0216, 0.0431, -0.0337, 0.0004, -0.016, -0.0087, 0.0284, -0.0724, 0.0332, -0.0151, -0.0501, 0.0732, 0.0209, 0.0488, -0.0347, 0.0333, 0.0308, 0.003, 0.0156, -0.0035, -0.0779, -0.0238, -0.0352, -0.0344, 0.0112, -0.0046, -0.0047, 0.0496, -0.0618, 0.0282, -0.0007, 0.0123, -0.0159, 0.0278, 0.02, -0.0373, 0.0438, 0.0249, 0.07, -0.0126, -0.0671, 0.0504, 0.0681, -0.017, -0.0342, -0.0384, 0.0046, 0.015, 0.0245, -0.0057, 0.0136, 0.0149, 0.046, 0.0276, 0.0385, 0.0422, 0.0023, 0.0718, 0.0283, 0.0141, -0.039, -0.0096, 0.025, -0.0139, -0.0523, 0.0422, -0.016, 0.0291, -0.0022, ...]</td>\n",
       "    </tr>\n",
       "  </tbody>\n",
       "</table>\n",
       "<p>10000 rows × 10 columns</p>\n",
       "</div>"
      ],
      "text/plain": [
       "          screen_name       user_id                       time  \\\n",
       "0     RepLloydDoggett  1.539449e+08  2019-02-08T18:04:27-05:00   \n",
       "1       SenBlumenthal  2.781241e+08  2020-12-08T12:50:26-05:00   \n",
       "2      RepDerekKilmer  1.058918e+09  2021-06-17T09:09:31-04:00   \n",
       "3         RepRoKhanna  8.162989e+17  2022-01-05T17:39:03-05:00   \n",
       "4           RepBonnie  2.968452e+09  2019-02-13T12:17:10-05:00   \n",
       "...               ...           ...                        ...   \n",
       "9995   GReschenthaler  4.205134e+09  2020-01-04T11:39:12-05:00   \n",
       "9996    lisamurkowski  1.806167e+07  2020-12-03T15:20:18-05:00   \n",
       "9997   RepAndyBiggsAZ  8.166526e+17  2022-05-04T09:07:44-04:00   \n",
       "9998   WarrenDavidson  7.427355e+17  2021-12-23T08:27:51-05:00   \n",
       "9999      RepJimBanks  8.161313e+17  2021-08-27T21:06:09-04:00   \n",
       "\n",
       "                                                                      link  \\\n",
       "0           https://www.twitter.com/DavidP4AD/statuses/1093939720940331008   \n",
       "1         https://www.twitter.com/maziehirono/statuses/1336344529008545793   \n",
       "2      https://www.twitter.com/RepDerekKilmer/statuses/1405512936668422152   \n",
       "3         https://www.twitter.com/RepRoKhanna/statuses/1478858610012835850   \n",
       "4     https://www.twitter.com/SenSherrodBrown/statuses/1095732026571931649   \n",
       "...                                                                    ...   \n",
       "9995   https://www.twitter.com/GReschenthaler/statuses/1213500135382097920   \n",
       "9996    https://www.twitter.com/lisamurkowski/statuses/1334593323793866752   \n",
       "9997   https://www.twitter.com/RepAndyBiggsAZ/statuses/1521838992676823041   \n",
       "9998   https://www.twitter.com/WarrenDavidson/statuses/1474008856342810637   \n",
       "9999      https://www.twitter.com/RepJimBanks/statuses/1431422820077219844   \n",
       "\n",
       "                                                                                                                                                                                                                                                                                          text  \\\n",
       "0                                                             important bill introduced yesterday! there is much energy in congress for direct medicare price negotiations. most advocates &; folks on the hill are working together to achieve the most powerful legislation possible. thanks   \n",
       "1                                   fcc nominee nathan simington's only qualification is his eagerness to defend the president's attacks on the first amendment and sec. 230. his attempts to recruit fox news hosts to bully the fcc shows he has no place leading that agency.#stopsimington   \n",
       "2                                                today, is holding a hearing to examine the source of political polarization and methods to improve civility &; collaboration throughout congress. we're also experimenting with new hearing rules to foster a more collaborative conversation   \n",
       "3                                                                                                                                                                   in the wealthiest nation on earth, no parent should have to work multiple jobs to keep food on the table for their family.   \n",
       "4                                                              the cost of everything from healthcare, to rent, to college tuition is up but for most workers, wages are flat. they need more money in their pockets to keep up. that s why , , and i are introducing a cost of living refund.   \n",
       "...                                                                                                                                                                                                                                                                                        ...   \n",
       "9995                                                                                                                        this morning i joined to discuss us iran tensions. i was stationed in iraq as a navy jag. i can tell you: the us military will not get caught flat footed by iran.   \n",
       "9996  know that i am monitoring the situation closely and will continue engage with state and local officials. thank you to all the individuals working around the clock to support emergency response efforts &; the alaskans who are pitching in a helping hand for their neighbors in need.   \n",
       "9997                                                                                                              biden's \"ministry of truth\" is nonsense and an orwellian measure. that's why , 50 members, and i are introducing a bill to defund this unconstitutional board. more to come.   \n",
       "9998                                                                                                                                                                                           trust the science. risks are not evenly distributed. talk with your own doctor. facts &gt; fear   \n",
       "9999                                                                                                                                                                                               qt u.s. marine, cpl. humberto sanchez of logansport, indiana, killed in kabul terror attack   \n",
       "\n",
       "     party  \\\n",
       "0        D   \n",
       "1        D   \n",
       "2        D   \n",
       "3        D   \n",
       "4        D   \n",
       "...    ...   \n",
       "9995     R   \n",
       "9996     R   \n",
       "9997     R   \n",
       "9998     R   \n",
       "9999     R   \n",
       "\n",
       "                                                                                                                                                                                                                                                                                                                                                                                                                                                                                                                                                                                                                                                                                                                                                                                                                                                                      all-mpnet-base-v2  \\\n",
       "0        [-0.029, 0.0715, -0.0059, -0.0296, -0.009, -0.0136, -0.0212, 0.0363, -0.0067, -0.0058, 0.0309, 0.0271, -0.0033, 0.1152, 0.0456, -0.046, 0.0231, 0.0575, 0.0406, 0.027, 0.0035, -0.0185, -0.0137, -0.0063, -0.0375, 0.0334, -0.0092, -0.0053, -0.009, -0.0856, 0.0447, -0.0424, -0.036, 0.0081, 0.0001, -0.0637, -0.0117, 0.0245, -0.0987, -0.0459, 0.0007, -0.0806, -0.0487, 0.0242, 0.0074, 0.0022, -0.004, 0.0129, -0.0537, -0.0049, -0.0094, 0.0373, 0.027, -0.0379, 0.009, 0.008, -0.0178, -0.0425, -0.0388, -0.0508, 0.0543, 0.0182, -0.0165, -0.0177, -0.0013, 0.0563, 0.0204, 0.0261, 0.0021, 0.015, 0.0457, 0.0044, 0.0424, -0.0197, -0.0071, -0.0168, -0.0173, 0.0004, 0.0296, -0.0003, -0.0005, 0.0129, 0.0171, -0.0162, 0.0283, -0.0244, 0.0037, -0.0456, 0.0363, 0.0041, 0.032, -0.0231, -0.0024, -0.0013, -0.0004, -0.0059, 0.0095, 0.0163, 0.0275, -0.0467, ...]   \n",
       "1                     [0.0087, 0.0864, 0.0276, -0.023, 0.023, 0.0129, -0.0303, -0.0102, -0.0349, -0.029, -0.0161, -0.0016, -0.0257, -0.0682, -0.0318, 0.0329, 0.0563, 0.0425, 0.0319, -0.0035, -0.0042, 0.0393, -0.0344, 0.0117, -0.0095, -0.0321, 0.0761, 0.0113, 0.0203, -0.0372, 0.018, -0.002, -0.0167, -0.0227, 0.0, 0.0386, 0.0354, 0.0081, -0.0128, -0.0323, 0.0322, 0.0069, -0.0636, 0.0573, -0.0208, 0.017, -0.0289, -0.0361, 0.0654, 0.0497, 0.0105, 0.0483, 0.0012, -0.0109, 0.0158, -0.005, 0.0108, -0.0264, -0.0064, 0.0019, 0.0558, 0.0281, 0.0181, 0.0025, -0.0446, 0.0053, -0.0569, 0.0224, 0.0316, 0.0001, 0.0586, 0.0176, 0.0323, 0.0625, 0.0106, -0.0094, 0.027, 0.0224, -0.0636, -0.0026, 0.0068, -0.0049, -0.0265, 0.0305, 0.0886, 0.0312, 0.0059, -0.0461, 0.024, 0.0296, 0.0913, -0.0495, 0.0057, -0.0316, -0.022, 0.0354, 0.0388, 0.0089, 0.0037, -0.0846, ...]   \n",
       "2            [-0.0078, 0.0563, -0.0064, 0.0244, -0.0277, -0.0123, -0.0242, 0.014, -0.0127, -0.0019, 0.0289, 0.0033, 0.0132, 0.0118, 0.02, -0.0842, 0.0352, 0.0135, 0.0633, 0.0018, 0.0007, -0.0035, -0.0098, -0.0089, -0.075, -0.0131, -0.0308, 0.032, 0.028, 0.0108, 0.0189, 0.0083, -0.0127, -0.0248, 0.0001, -0.0216, 0.0162, 0.0126, -0.0469, -0.0552, 0.0442, -0.0588, -0.0348, 0.0389, -0.0202, -0.0178, -0.045, 0.0206, -0.028, -0.032, 0.0221, 0.0494, -0.013, -0.0215, -0.0087, 0.0175, -0.0113, -0.014, -0.0644, -0.0693, 0.0346, -0.0381, -0.0179, -0.0163, -0.0439, 0.0423, -0.0155, 0.0135, -0.0008, 0.0127, 0.0687, 0.0001, 0.0191, 0.0461, 0.0196, -0.0258, -0.0319, 0.0127, -0.0345, -0.0091, 0.0442, -0.0, -0.0143, 0.0348, 0.0658, -0.0079, -0.0006, -0.0264, -0.041, 0.0181, 0.0903, -0.0255, -0.006, 0.0168, 0.0056, -0.0113, 0.0356, 0.0897, 0.0203, -0.0279, ...]   \n",
       "3                 [-0.075, 0.0697, 0.0287, 0.0514, -0.0137, -0.0028, 0.0466, -0.0239, 0.0007, -0.007, 0.0652, 0.0234, -0.0158, -0.0411, -0.0148, 0.0642, 0.0215, 0.012, -0.0303, 0.0125, -0.0347, 0.0054, 0.0567, 0.0331, -0.0331, -0.0473, 0.0474, -0.0206, 0.0184, 0.0749, 0.0725, 0.0098, -0.0286, 0.0109, -0.0003, 0.0084, -0.0076, 0.0097, 0.0045, 0.0197, 0.0226, -0.0574, 0.0101, 0.0299, -0.0258, 0.0314, 0.0051, 0.0384, -0.018, -0.0771, 0.0215, 0.035, -0.0368, 0.0196, -0.0572, 0.021, 0.024, -0.0093, -0.0685, -0.0699, 0.0195, 0.0193, -0.0458, -0.0874, -0.0214, 0.0285, 0.0063, -0.0383, 0.0072, 0.0205, 0.0007, -0.0188, 0.0041, -0.0007, 0.0008, 0.0514, -0.0135, 0.0697, -0.0331, 0.0022, 0.071, 0.0016, 0.0167, -0.0166, -0.0027, 0.022, -0.0484, -0.043, -0.0294, 0.0331, 0.001, 0.0171, 0.034, -0.0472, -0.0029, -0.0078, -0.0272, -0.0415, -0.0267, -0.036, ...]   \n",
       "4           [-0.0648, 0.0289, 0.0047, -0.0091, -0.0237, 0.0085, -0.0252, 0.0726, -0.0088, -0.0314, 0.0523, 0.0902, 0.0262, 0.0091, 0.0236, 0.0056, -0.0245, 0.0366, 0.039, -0.0124, -0.0079, 0.0111, -0.0043, 0.0078, -0.0486, 0.0277, 0.0438, 0.0089, -0.0016, 0.0269, 0.1063, -0.0336, -0.0041, 0.0235, 0.0002, -0.0338, 0.0008, -0.0062, -0.075, -0.0258, 0.0098, -0.019, -0.0097, 0.0221, 0.0084, 0.0382, -0.0188, 0.0392, 0.024, -0.0438, 0.0016, -0.0959, 0.0191, 0.0154, -0.0751, 0.0039, 0.0303, -0.0063, -0.0567, -0.0828, 0.0089, -0.0076, -0.037, -0.058, -0.0089, 0.0392, -0.0217, -0.0306, -0.0148, 0.0388, -0.0245, -0.036, -0.0237, -0.0102, 0.0134, -0.0472, -0.0478, 0.0133, -0.0022, 0.0169, 0.0033, -0.0096, 0.0014, 0.001, 0.033, -0.0283, -0.062, -0.0075, -0.0076, 0.0279, 0.0518, 0.0366, -0.0047, 0.0239, -0.0302, 0.0052, 0.0281, -0.024, 0.0106, 0.0016, ...]   \n",
       "...                                                                                                                                                                                                                                                                                                                                                                                                                                                                                                                                                                                                                                                                                                                                                                                                                                                                                 ...   \n",
       "9995  [0.0022, 0.0361, 0.0079, -0.0418, 0.0531, -0.0375, -0.0248, 0.004, 0.0153, -0.0113, 0.01, 0.004, -0.0461, 0.0022, 0.0307, 0.0538, 0.0391, -0.0278, 0.0196, 0.0089, 0.0213, -0.0037, -0.0721, -0.0586, -0.0523, 0.0381, -0.0482, -0.0054, 0.0363, -0.0576, 0.0607, -0.0017, -0.0232, 0.0165, -0.0001, -0.0248, 0.028, -0.0058, 0.0095, -0.0537, -0.0083, -0.0606, -0.0411, 0.0091, -0.02, -0.0206, -0.0057, 0.0376, 0.029, 0.0368, 0.0005, 0.0401, -0.0618, 0.0215, -0.0866, -0.05, 0.0308, -0.061, -0.079, -0.0158, 0.0612, -0.0175, -0.0583, -0.0021, -0.0026, 0.0631, -0.0247, 0.0766, 0.0156, -0.0151, 0.0554, -0.0253, -0.0217, -0.0407, 0.0325, 0.0722, -0.0175, -0.0299, -0.004, -0.0251, 0.0105, -0.0118, -0.0184, -0.0041, 0.0019, 0.0027, 0.0044, -0.0466, 0.0073, -0.0181, -0.0611, -0.0131, -0.0537, 0.0332, -0.0055, -0.0081, -0.0201, -0.0182, 0.0616, -0.0352, ...]   \n",
       "9996     [-0.0042, 0.0541, -0.0237, 0.0155, 0.0138, -0.0178, -0.0062, -0.0192, -0.0309, -0.0448, 0.0292, 0.013, -0.0246, -0.0039, 0.0303, -0.0361, 0.0233, -0.0214, 0.036, -0.0022, 0.0024, 0.021, -0.0113, -0.0095, -0.0208, 0.028, -0.0158, -0.0071, 0.0338, -0.0603, 0.012, -0.0282, -0.0307, -0.0167, 0.0003, -0.0229, 0.0266, 0.0102, -0.0774, -0.0152, -0.04, -0.137, -0.0438, -0.0103, -0.0041, -0.0416, 0.0061, 0.0215, 0.0142, 0.0388, 0.0095, 0.0329, 0.0971, 0.0227, -0.0446, 0.0514, 0.008, -0.0744, -0.0607, -0.044, 0.0646, 0.066, -0.0147, 0.0109, 0.0078, 0.0551, 0.0535, 0.0099, -0.0361, -0.0031, 0.0611, 0.0157, 0.003, 0.0126, -0.0348, -0.0073, 0.0118, -0.0113, -0.0173, -0.0251, -0.0524, 0.0251, -0.0046, 0.004, -0.0353, -0.0093, -0.0113, -0.0163, -0.0646, 0.0302, -0.0144, -0.0147, 0.0112, -0.0175, 0.0119, -0.009, 0.0293, -0.0348, 0.0056, -0.0447, ...]   \n",
       "9997                  [0.0182, 0.1305, 0.0047, 0.0274, -0.0536, 0.0215, 0.0339, 0.0058, -0.0492, -0.03, 0.0071, 0.0007, -0.0023, 0.0217, 0.0249, 0.0258, 0.0493, 0.0602, -0.0194, -0.0351, 0.0129, 0.0108, -0.0486, -0.0011, -0.0033, -0.0145, 0.0261, -0.0114, 0.0005, 0.0224, -0.0545, 0.0099, -0.0664, 0.0291, 0.0003, 0.0224, 0.0003, 0.0187, -0.0821, 0.0014, 0.0079, 0.0317, -0.0047, -0.0232, -0.0095, -0.0105, 0.005, 0.0036, 0.0192, 0.0208, 0.0137, 0.0825, -0.0288, 0.0163, -0.0523, 0.0292, 0.0335, -0.0409, -0.0277, 0.0182, 0.0199, 0.016, -0.0049, -0.021, -0.0772, 0.0288, 0.0584, -0.007, -0.0134, 0.0184, 0.0843, -0.001, 0.067, 0.0513, 0.0209, 0.0272, 0.0268, 0.0813, -0.0266, -0.0362, -0.0314, -0.0002, 0.0178, 0.0015, 0.058, 0.0313, -0.003, 0.0049, -0.0345, -0.0293, 0.0271, -0.0357, 0.0098, -0.0739, 0.0027, -0.018, 0.0184, -0.0334, 0.0429, 0.0121, ...]   \n",
       "9998             [-0.0212, -0.0301, -0.0136, -0.0417, 0.085, 0.0168, -0.0029, -0.0541, -0.0023, 0.0477, 0.025, -0.0221, -0.0377, 0.0348, -0.0684, 0.0156, 0.0201, -0.0004, 0.0193, -0.0264, 0.0018, -0.0089, 0.0042, 0.0279, 0.0268, 0.0062, 0.0597, 0.051, 0.0146, -0.07, -0.0022, -0.0306, 0.0264, 0.0173, 0.0003, -0.0252, 0.0176, -0.0224, 0.0169, -0.0567, 0.0004, -0.0113, 0.0244, -0.0121, 0.002, -0.0395, 0.0139, 0.0193, 0.0137, 0.0013, -0.0058, 0.0344, 0.031, 0.0486, 0.0538, 0.0046, -0.0379, -0.017, -0.0481, 0.084, 0.0085, 0.0289, -0.0105, 0.0108, -0.0183, -0.0232, 0.0175, -0.1294, -0.0069, 0.0205, 0.0107, 0.0218, 0.0021, -0.0134, -0.0493, 0.0012, -0.0041, -0.0079, 0.0253, 0.0269, 0.0189, 0.0254, 0.0156, -0.0249, 0.0219, -0.022, 0.0375, 0.0092, 0.0318, -0.0153, 0.0771, -0.0068, 0.0086, -0.0295, -0.0224, 0.0212, 0.0074, -0.0098, 0.0607, -0.0579, ...]   \n",
       "9999    [-0.0217, 0.0677, 0.0136, -0.0355, -0.0285, -0.0346, 0.0115, 0.0636, -0.058, 0.0642, -0.0444, 0.1117, 0.0076, 0.0496, -0.0252, 0.093, 0.0294, -0.0242, -0.0149, -0.0133, -0.0261, 0.0374, -0.0099, -0.0102, 0.0256, 0.0253, -0.0079, -0.0489, -0.0248, -0.0341, 0.0291, 0.0636, -0.0069, -0.0385, -0.0, 0.0424, -0.0098, -0.0162, -0.0395, -0.0471, -0.0246, -0.0399, -0.0268, -0.0267, 0.0312, -0.0271, 0.0164, 0.1227, 0.0181, -0.0263, 0.0095, -0.0776, 0.0527, -0.0091, 0.004, 0.0654, -0.0313, -0.0386, -0.016, 0.0946, 0.0618, 0.017, 0.006, 0.0225, -0.0626, 0.013, -0.0426, 0.065, 0.0283, 0.0721, -0.0069, -0.0309, -0.0077, 0.0643, -0.0427, -0.0453, 0.0024, -0.0399, -0.0012, 0.0111, 0.0453, 0.0492, -0.0326, 0.0058, -0.0173, -0.0057, -0.0099, 0.0043, -0.0308, -0.0055, 0.0265, 0.0682, 0.0209, -0.0152, -0.0006, -0.0537, 0.0442, -0.079, 0.0556, -0.007, ...]   \n",
       "\n",
       "                                                                                                                                                                                                                                                                                                                                                                                                                                                                                                                                                                                                                                                                                                                                                                                                                                                MPNet_removal_50_margin_60_epoch_1  \\\n",
       "0               [-0.0514, 0.1123, -0.0383, -0.0075, -0.0148, 0.0036, -0.0184, 0.0032, -0.0061, 0.0108, 0.041, 0.0481, -0.038, 0.0575, 0.0273, -0.0537, 0.0491, 0.0377, -0.0094, 0.0337, -0.032, 0.0014, -0.0138, 0.0174, -0.0106, -0.0224, 0.0138, 0.0201, 0.0295, -0.0544, 0.0264, -0.0551, -0.0137, 0.0259, 0.0031, -0.0623, -0.0329, 0.0248, -0.0521, -0.0165, 0.0102, -0.0452, -0.0506, 0.0168, 0.0144, -0.0129, 0.0025, 0.0192, -0.0577, 0.0115, 0.0018, 0.0005, -0.0173, -0.0276, -0.0306, 0.0617, 0.0066, -0.0582, 0.0116, -0.0287, 0.0281, 0.012, -0.0261, -0.0591, 0.0166, 0.046, 0.0106, 0.0275, 0.0031, 0.0244, 0.0302, -0.0306, 0.0323, 0.0167, 0.0598, -0.0129, -0.0448, 0.0032, 0.0294, 0.0299, 0.0406, 0.0179, 0.0414, 0.0514, 0.0663, 0.0563, 0.002, -0.0182, 0.039, 0.0353, 0.0109, -0.0525, 0.004, -0.013, 0.0217, -0.006, 0.0356, 0.0199, 0.0186, -0.0146, ...]   \n",
       "1                    [-0.017, 0.0922, 0.0098, 0.0295, -0.0354, 0.0059, 0.0405, 0.0302, 0.0069, 0.0236, -0.0105, 0.0455, -0.0029, 0.019, -0.0278, -0.021, 0.066, 0.0343, -0.0189, -0.0194, -0.0512, 0.0184, 0.0555, 0.0422, -0.0054, -0.0535, 0.0227, -0.0169, 0.0237, -0.0011, 0.0342, -0.0545, -0.0547, 0.03, 0.0032, -0.014, 0.0125, 0.0333, -0.0355, 0.0275, 0.0261, 0.0107, -0.0093, 0.0507, -0.0089, -0.0585, -0.0032, 0.0754, 0.0319, 0.0156, 0.0223, 0.0238, -0.0172, -0.0576, -0.0125, 0.0265, -0.003, -0.0065, 0.0154, -0.0545, 0.0215, 0.0335, -0.0521, 0.0061, -0.0327, 0.0567, 0.0094, -0.033, 0.0461, 0.0693, -0.0099, 0.0181, 0.0004, 0.0541, 0.01, -0.0404, 0.0046, 0.0784, -0.04, -0.0176, -0.0235, -0.0006, 0.0143, 0.0603, 0.0934, 0.0257, 0.0548, -0.0385, -0.0051, 0.0341, 0.039, -0.0023, -0.004, -0.08, -0.0119, 0.001, 0.0057, 0.0319, 0.035, -0.0438, ...]   \n",
       "2           [-0.0158, 0.1043, -0.0436, 0.0025, -0.0173, -0.0004, -0.0262, 0.0083, -0.0073, 0.0189, 0.0317, 0.0342, -0.0261, 0.0327, 0.014, -0.0747, 0.0562, 0.0301, -0.0048, 0.0235, -0.0308, 0.0054, -0.008, 0.0029, -0.0047, -0.0296, 0.0076, 0.018, 0.0384, -0.032, 0.0126, -0.0434, -0.0074, 0.0047, 0.0033, -0.0579, -0.0097, 0.0163, -0.0481, -0.0108, 0.0236, -0.0324, -0.0398, 0.0401, 0.014, -0.0259, -0.009, 0.0257, -0.0507, 0.0176, -0.0008, 0.0044, -0.0204, -0.0278, -0.0178, 0.0753, 0.0036, -0.0419, 0.0162, -0.0352, 0.007, 0.0143, -0.0312, -0.044, 0.0241, 0.0512, -0.0121, 0.0171, -0.002, 0.0122, 0.0375, -0.0387, 0.0285, 0.0159, 0.0748, -0.0114, -0.0444, -0.0073, 0.0149, 0.0302, 0.0444, 0.016, 0.0382, 0.0618, 0.0643, 0.0719, 0.0058, -0.0103, 0.026, 0.0593, 0.0149, -0.0386, -0.0001, -0.0185, 0.0227, -0.0181, 0.0312, 0.0248, 0.0026, -0.004, ...]   \n",
       "3            [-0.031, 0.081, 0.0195, 0.0313, -0.0297, -0.024, 0.0621, -0.0057, 0.0115, 0.0419, 0.0157, 0.0458, -0.0129, -0.0021, -0.0463, -0.0219, 0.046, 0.0102, -0.0225, 0.007, -0.0554, 0.0183, 0.0342, 0.0341, 0.0042, -0.0773, 0.0179, -0.0108, 0.0237, 0.012, 0.0698, -0.0611, -0.0245, 0.0466, 0.0036, -0.0365, 0.0012, 0.0266, -0.0034, 0.0473, 0.0316, -0.0137, 0.004, 0.0488, -0.0019, -0.0416, 0.0082, 0.0608, -0.0039, -0.0063, 0.0106, 0.0195, -0.0357, -0.0499, -0.0395, 0.0299, -0.021, -0.0082, 0.0042, -0.056, 0.0335, 0.0483, -0.0794, -0.0267, -0.0043, 0.0475, -0.0039, -0.0422, 0.0254, 0.0731, -0.0114, 0.0053, 0.0132, 0.038, 0.008, -0.0375, -0.0066, 0.0553, -0.0126, -0.0194, -0.0289, -0.0017, 0.0286, 0.0594, 0.059, 0.0212, 0.0393, -0.0251, 0.0073, 0.0233, 0.0272, 0.0055, -0.0071, -0.0755, -0.0164, -0.0177, 0.0199, 0.033, 0.0164, -0.0533, ...]   \n",
       "4       [-0.0366, 0.0972, -0.0118, 0.0174, -0.0183, -0.0142, -0.0204, 0.0414, -0.0126, 0.008, 0.0349, 0.069, 0.0107, 0.0337, 0.034, -0.0403, 0.0557, 0.0599, 0.0114, 0.0187, -0.0239, 0.0296, 0.0269, 0.0063, -0.0391, 0.0209, 0.0334, -0.0029, 0.0528, -0.0222, 0.0615, -0.0529, 0.0031, 0.0047, 0.004, -0.0614, -0.0017, 0.0167, -0.0405, -0.0171, 0.0081, -0.0211, -0.0229, 0.0379, 0.0307, 0.0065, -0.0079, 0.0841, -0.0012, -0.0122, 0.0175, -0.0349, 0.0231, -0.0269, -0.0482, 0.0424, 0.0236, -0.0347, -0.0133, -0.0479, 0.0302, -0.0125, -0.031, -0.0361, -0.0213, 0.0591, -0.0209, 0.0014, 0.0282, 0.0592, 0.0015, -0.0299, 0.0154, 0.027, 0.043, -0.0433, -0.0459, 0.0396, -0.0083, 0.0381, 0.026, 0.0034, 0.0304, 0.0355, 0.0779, 0.0344, -0.0064, -0.012, -0.0025, 0.0423, 0.0251, -0.0208, -0.0137, -0.0484, -0.017, -0.0028, -0.0066, -0.0023, 0.0343, -0.0114, ...]   \n",
       "...                                                                                                                                                                                                                                                                                                                                                                                                                                                                                                                                                                                                                                                                                                                                                                                                                                                                            ...   \n",
       "9995  [-0.0159, 0.0889, 0.0012, -0.0004, -0.0004, -0.0039, 0.0205, -0.0153, 0.0179, 0.0334, 0.0427, 0.0438, -0.0445, 0.025, 0.0548, -0.0046, 0.0728, 0.0297, -0.046, 0.0521, -0.0274, 0.0331, -0.0185, -0.0045, -0.0374, -0.0272, 0.0113, -0.0006, 0.0544, -0.0702, 0.0224, -0.0636, 0.0049, 0.0157, 0.0033, -0.057, -0.0309, 0.0213, -0.0598, -0.0458, -0.0177, -0.0517, -0.029, -0.0035, -0.0122, -0.0225, 0.0093, 0.0709, -0.0108, 0.0229, 0.0112, -0.0074, 0.0142, -0.0235, -0.0832, 0.0441, -0.0122, -0.0287, -0.0226, 0.0063, 0.0689, 0.0139, -0.0212, -0.0398, 0.0027, 0.0492, 0.0052, 0.0542, 0.0145, 0.0594, 0.0278, -0.0137, 0.0069, 0.0136, 0.0451, -0.0377, -0.0322, 0.0092, 0.0124, -0.001, 0.0357, -0.0003, 0.0494, 0.0442, 0.0631, 0.0617, 0.0031, -0.0134, 0.0057, 0.029, -0.035, -0.023, -0.0223, -0.0146, -0.0247, -0.0037, 0.0406, 0.0076, 0.029, -0.0522, ...]   \n",
       "9996               [-0.036, 0.0988, -0.0295, -0.0211, 0.0032, -0.0082, -0.009, 0.0064, 0.0003, 0.014, 0.0466, 0.0434, -0.0332, 0.0224, 0.0474, -0.0536, 0.0697, 0.0318, -0.0131, 0.0172, -0.0118, 0.0282, 0.0159, 0.0057, -0.028, -0.0352, 0.0118, 0.0114, 0.0325, -0.0771, 0.0072, -0.0578, -0.0235, 0.0094, 0.0038, -0.0609, -0.013, 0.0204, -0.0744, -0.017, -0.0104, -0.0649, -0.0245, 0.0087, 0.0177, -0.0183, 0.0252, 0.0491, -0.0297, 0.0098, 0.0189, 0.0075, 0.0255, -0.0176, -0.0449, 0.076, 0.005, -0.0525, -0.0077, -0.0245, 0.0556, 0.0341, -0.028, -0.0255, 0.0123, 0.0386, 0.0261, 0.0234, 0.005, 0.014, 0.0488, -0.022, 0.0098, 0.0343, 0.0395, -0.0308, -0.0435, 0.0072, 0.0081, 0.0232, 0.0153, 0.0202, 0.0354, 0.0553, 0.0567, 0.0447, 0.0049, -0.0081, -0.004, 0.038, -0.0054, -0.0546, 0.0005, -0.0304, 0.0327, -0.0207, 0.0447, 0.0134, 0.0226, -0.0335, ...]   \n",
       "9997             [-0.0093, 0.1226, 0.0157, 0.0446, -0.0318, -0.0012, 0.0432, 0.0139, 0.0059, 0.0128, 0.0057, 0.0689, -0.0094, 0.0185, -0.0067, -0.0109, 0.058, 0.0281, -0.0302, -0.0106, -0.0475, 0.0259, 0.0694, 0.045, -0.0029, -0.0313, 0.0314, -0.0259, 0.0277, -0.0004, 0.0419, -0.0468, -0.0558, 0.0482, 0.0037, -0.0401, 0.026, 0.0445, -0.0376, 0.0364, 0.0222, 0.0222, -0.0148, 0.0365, 0.0115, -0.0526, 0.0051, 0.0818, 0.0095, 0.011, 0.0151, 0.0295, -0.0029, -0.0471, -0.0312, 0.0317, -0.0006, -0.0274, -0.004, -0.0623, 0.0212, 0.0222, -0.0554, -0.0084, -0.0622, 0.0663, -0.0001, -0.0247, 0.0399, 0.0625, -0.0174, 0.0031, 0.0254, 0.037, 0.018, -0.0381, -0.0019, 0.0823, -0.0431, -0.0152, -0.028, 0.007, 0.0246, 0.0397, 0.0699, 0.0269, 0.0441, -0.016, 0.0, 0.0226, 0.0268, 0.0007, -0.0037, -0.1003, -0.0081, -0.0182, 0.01, 0.0183, 0.0313, -0.0346, ...]   \n",
       "9998         [-0.0214, 0.1224, -0.0144, 0.003, 0.0082, -0.0003, 0.0264, 0.0169, 0.0346, 0.0588, 0.0303, 0.0325, -0.0245, 0.035, -0.0372, -0.012, 0.0477, 0.029, 0.0315, -0.0114, -0.0487, -0.0123, 0.0219, 0.0161, 0.0388, -0.0021, 0.0568, -0.0162, 0.0329, -0.0406, 0.0224, -0.0373, -0.0498, 0.0492, 0.0039, -0.0376, 0.0082, -0.0028, -0.0053, -0.0323, 0.0149, 0.0016, -0.0529, 0.036, 0.0142, -0.0142, -0.0014, 0.0607, -0.0492, -0.0073, 0.0007, 0.0437, 0.0144, -0.0075, -0.0276, 0.0253, 0.0101, -0.0287, -0.0307, 0.0295, 0.0145, 0.003, -0.0641, -0.0376, 0.0135, 0.0807, 0.0673, -0.0825, 0.0051, 0.005, 0.0081, 0.0073, 0.0095, 0.0173, 0.0144, -0.0111, -0.0398, -0.0172, -0.0002, 0.0178, 0.0137, 0.0195, 0.011, 0.0297, 0.0532, 0.0317, 0.0031, -0.0151, -0.0062, 0.0335, 0.0317, -0.0369, -0.0185, -0.0474, 0.0284, 0.0106, 0.0123, 0.0508, 0.0315, -0.0459, ...]   \n",
       "9999     [-0.0235, 0.0837, 0.0003, -0.0293, -0.0455, 0.011, -0.0053, 0.0235, 0.0131, 0.0302, 0.0362, 0.0637, -0.0106, 0.0365, -0.0084, -0.0446, 0.0754, 0.0159, -0.0397, 0.0255, -0.0576, 0.0652, 0.0295, 0.0202, -0.0155, -0.0555, 0.0136, -0.0108, 0.0387, -0.0253, 0.033, -0.0673, 0.006, -0.0179, 0.0035, -0.0411, -0.0073, 0.0224, -0.0503, -0.0037, -0.0142, -0.0365, -0.0105, 0.0147, 0.0053, -0.0578, 0.0275, 0.0701, -0.0234, 0.0278, 0.0114, -0.0118, -0.027, -0.0323, -0.0369, 0.0406, 0.0127, -0.0487, 0.016, -0.0246, 0.057, 0.0226, -0.0257, -0.0304, -0.043, 0.0276, -0.0148, 0.0062, 0.0422, 0.0789, 0.0022, 0.0021, 0.0239, 0.0664, 0.0129, -0.0516, -0.0175, 0.0271, -0.0162, 0.022, 0.0298, 0.0198, 0.0204, 0.0528, 0.0706, 0.043, 0.0202, -0.0046, -0.0006, 0.0229, -0.0218, -0.0181, -0.0013, -0.0273, -0.0126, -0.0269, 0.0151, 0.0097, 0.0357, -0.054, ...]   \n",
       "\n",
       "                                                                                                                                                                                                                                                                                                                                                                                                                                                                                                                                                                                                                                                                                                                                                                                                                                               MPNet_removal_50_margin_90_epoch_1  \\\n",
       "0       [-0.0798, 0.0781, -0.0377, -0.0283, -0.008, 0.0113, -0.0578, 0.0317, -0.0056, -0.0001, 0.0334, 0.0312, -0.0224, 0.0759, 0.0274, -0.053, 0.0503, 0.0431, -0.0296, 0.0256, -0.0325, -0.0004, -0.0536, 0.0073, -0.0139, -0.0177, 0.0032, 0.0215, 0.0173, -0.0478, 0.0201, -0.0602, 0.0045, 0.0417, -0.0025, -0.0608, -0.0566, 0.0183, -0.0512, -0.031, 0.0113, -0.0703, -0.0416, 0.0176, 0.04, -0.0125, 0.0181, -0.0014, -0.066, 0.0047, 0.0012, -0.0218, -0.0235, -0.0275, -0.0371, 0.0513, 0.0044, -0.0414, 0.0329, -0.0376, 0.0367, -0.0244, -0.0171, -0.0557, 0.0191, 0.0487, 0.0159, 0.0589, -0.0099, 0.0365, 0.0379, -0.0464, 0.0432, 0.0171, 0.039, 0.0073, -0.0349, -0.0119, 0.0601, 0.0321, 0.0315, -0.0073, 0.0365, 0.0257, 0.0619, 0.0586, 0.0059, -0.0079, 0.0553, 0.0247, 0.0118, -0.0553, 0.0029, 0.012, -0.0023, -0.0219, 0.0348, 0.026, 0.0217, 0.0079, ...]   \n",
       "1              [-0.0316, 0.0607, 0.0236, 0.0209, -0.0363, 0.0186, 0.0201, 0.019, 0.013, 0.0249, -0.0045, 0.0202, -0.0089, 0.0314, -0.0449, 0.0123, 0.052, 0.0514, -0.0288, -0.0356, -0.0307, 0.0227, 0.0444, 0.0388, -0.0283, -0.0566, 0.0294, -0.0314, 0.0195, -0.0026, 0.0271, -0.0599, -0.0504, 0.0304, -0.0023, 0.0051, 0.0066, 0.0531, -0.0223, 0.0195, 0.0113, 0.0012, 0.0053, 0.0588, -0.0044, -0.0712, 0.014, 0.05, 0.0672, 0.0083, 0.009, 0.0047, -0.0589, -0.0512, -0.0144, 0.023, -0.003, 0.0103, 0.0303, -0.0668, 0.026, -0.0007, -0.0531, 0.0211, -0.0436, 0.0511, 0.0093, -0.0052, 0.0446, 0.0697, -0.0089, 0.0135, -0.0001, 0.0679, -0.0211, -0.0375, 0.008, 0.0971, -0.0391, -0.006, -0.0352, -0.0147, 0.0175, 0.0643, 0.0612, 0.0106, 0.0548, -0.0366, 0.0241, 0.0327, 0.0308, 0.0212, -0.0098, -0.0589, -0.0157, -0.0077, 0.0148, 0.0218, 0.0393, -0.0344, ...]   \n",
       "2      [-0.0523, 0.0642, -0.0419, -0.0145, -0.0196, 0.0034, -0.0638, 0.0245, -0.0056, 0.0031, 0.0253, 0.0136, -0.0129, 0.054, 0.0194, -0.0719, 0.061, 0.0281, -0.027, 0.0153, -0.0333, 0.002, -0.0511, -0.0076, -0.0121, -0.0296, -0.0021, 0.0256, 0.0215, -0.0244, 0.0102, -0.0409, 0.0212, 0.0176, -0.0024, -0.0546, -0.0322, 0.0123, -0.0516, -0.0187, 0.0221, -0.0567, -0.0261, 0.0391, 0.0352, -0.0225, 0.0034, 0.0047, -0.0568, 0.0108, 0.0023, -0.0247, -0.0318, -0.0238, -0.0226, 0.0673, -0.0003, -0.0282, 0.0358, -0.0404, 0.0263, -0.0251, -0.0217, -0.051, 0.0231, 0.0481, -0.002, 0.0554, -0.0145, 0.023, 0.052, -0.0557, 0.0421, 0.0201, 0.0562, 0.0089, -0.0379, -0.0225, 0.0515, 0.0372, 0.0456, -0.0014, 0.0335, 0.0376, 0.0595, 0.0734, 0.0063, -0.0037, 0.0387, 0.0585, 0.0176, -0.0521, -0.0036, 0.0144, 0.0063, -0.0335, 0.0276, 0.032, 0.0095, 0.0177, ...]   \n",
       "3     [-0.0439, 0.045, 0.0298, 0.0315, -0.0304, -0.0189, 0.0623, -0.0075, 0.0218, 0.0314, 0.0331, 0.0276, -0.0395, 0.0096, -0.0665, 0.0236, 0.0435, 0.0326, -0.025, -0.019, -0.0411, -0.0001, 0.0244, 0.0212, -0.0132, -0.0759, 0.0102, -0.0313, 0.0084, -0.0011, 0.0702, -0.0595, -0.0407, 0.0683, -0.0025, -0.0269, -0.0063, 0.0379, 0.0205, 0.0238, 0.0301, -0.0222, 0.0069, 0.0634, 0.0021, -0.0493, 0.0256, 0.0337, 0.0319, -0.011, 0.0182, -0.0001, -0.0631, -0.0465, -0.0444, 0.0104, -0.0325, -0.0005, 0.0061, -0.0622, 0.0181, 0.026, -0.0882, -0.0125, -0.024, 0.0433, -0.0047, -0.0338, 0.0179, 0.0823, -0.0053, 0.0045, 0.0143, 0.0477, -0.0193, -0.0393, 0.003, 0.0702, -0.0142, -0.0229, -0.0466, 0.0009, 0.0266, 0.0494, 0.031, 0.0179, 0.0569, -0.0341, 0.0315, 0.0183, 0.0212, 0.0322, -0.0159, -0.0689, -0.0212, -0.0417, 0.0119, 0.0315, 0.0281, -0.0493, ...]   \n",
       "4      [-0.052, 0.0812, -0.0072, 0.0228, -0.0269, 0.0094, -0.0583, 0.0634, -0.0034, -0.0028, 0.0541, 0.0574, 0.0315, 0.0465, 0.0047, -0.0417, 0.0497, 0.0774, -0.0091, -0.0118, -0.0265, 0.0338, 0.0005, 0.0052, -0.0663, 0.0149, 0.0439, -0.0142, 0.0466, -0.0057, 0.064, -0.0508, -0.0032, 0.0391, -0.0032, -0.0518, -0.0106, 0.011, -0.0362, -0.0464, 0.0117, -0.0639, -0.0151, 0.0449, 0.0555, -0.0058, 0.0152, 0.0561, 0.021, -0.0095, 0.0167, -0.0542, -0.0098, -0.0304, -0.0613, 0.0317, 0.006, -0.0157, 0.0038, -0.062, 0.0297, -0.0497, -0.0402, -0.0038, -0.0317, 0.0609, -0.0155, 0.0287, 0.0357, 0.0646, 0.0153, -0.0443, 0.0266, 0.042, 0.0092, -0.0281, -0.0385, 0.0538, 0.0042, 0.0453, 0.0005, -0.0128, 0.0212, 0.0339, 0.0821, 0.0303, 0.0031, 0.0037, -0.0064, 0.0366, 0.0144, -0.0322, -0.0241, -0.0438, -0.018, -0.0037, -0.0037, -0.0, 0.0665, -0.0102, ...]   \n",
       "...                                                                                                                                                                                                                                                                                                                                                                                                                                                                                                                                                                                                                                                                                                                                                                                                                                                                           ...   \n",
       "9995   [-0.0391, 0.0631, 0.0106, -0.0031, 0.0119, -0.0027, -0.0188, 0.01, 0.0003, 0.0363, 0.0517, 0.0359, -0.0382, 0.0345, 0.0346, 0.0127, 0.0852, 0.0552, -0.053, 0.0353, -0.0138, 0.0255, -0.0474, -0.0206, -0.046, -0.0105, 0.0142, -0.0075, 0.0209, -0.0703, 0.0226, -0.0685, -0.0116, 0.0334, -0.0028, -0.0463, -0.0526, 0.0109, -0.0437, -0.0785, -0.0069, -0.0885, -0.0033, 0.0112, 0.0109, -0.0087, 0.0327, 0.0574, 0.0065, 0.0004, 0.0133, -0.0358, -0.0095, -0.0292, -0.0973, 0.0306, -0.0165, -0.0253, -0.025, 0.0057, 0.0792, -0.0144, -0.0353, 0.0059, 0.0075, 0.0449, 0.004, 0.0626, 0.0046, 0.0588, 0.0321, -0.0349, -0.0023, 0.0159, 0.0109, -0.018, -0.018, 0.0101, 0.0369, -0.0092, 0.0186, -0.0101, 0.0478, 0.0093, 0.0455, 0.0759, 0.0206, -0.0004, 0.0309, 0.0169, -0.0244, -0.0112, -0.0269, 0.0038, -0.0367, -0.0113, 0.0462, 0.0003, 0.044, -0.0462, ...]   \n",
       "9996    [-0.0625, 0.0596, -0.0338, -0.0473, 0.0117, 0.0012, -0.0466, 0.029, -0.0041, 0.0077, 0.0476, 0.023, -0.0222, 0.0315, 0.0477, -0.0451, 0.0797, 0.0378, -0.0306, 0.0003, -0.0054, 0.0316, -0.015, -0.0026, -0.0401, -0.0351, 0.0107, 0.0136, 0.0155, -0.0665, 0.0025, -0.0521, 0.0007, 0.0177, -0.0027, -0.0562, -0.0343, 0.0062, -0.0731, -0.0319, -0.0137, -0.0857, -0.0137, 0.0012, 0.0465, -0.0192, 0.038, 0.0248, -0.0378, -0.001, 0.0216, -0.0137, 0.0131, -0.0153, -0.0424, 0.0687, 0.0002, -0.0326, 0.0091, -0.0316, 0.0635, -0.0043, -0.0217, -0.0111, 0.0326, 0.0355, 0.034, 0.0636, -0.0069, 0.0209, 0.0613, -0.0452, 0.016, 0.0372, 0.0125, -0.0163, -0.038, -0.0051, 0.0406, 0.0239, 0.0121, -0.0035, 0.0329, 0.0348, 0.0441, 0.0466, 0.0087, 0.0021, -0.0012, 0.0411, -0.0027, -0.0605, 0.0109, -0.0097, 0.0264, -0.0381, 0.0412, 0.015, 0.0217, 0.0015, ...]   \n",
       "9997       [-0.0232, 0.099, 0.0219, 0.0427, -0.0209, 0.0057, 0.0331, 0.0105, 0.0108, 0.0128, 0.0089, 0.0473, -0.0144, 0.0292, -0.027, 0.025, 0.0439, 0.0434, -0.0333, -0.0339, -0.0323, 0.0219, 0.0569, 0.0479, -0.0263, -0.03, 0.0394, -0.0401, 0.0224, -0.0031, 0.0335, -0.0507, -0.0646, 0.0561, -0.0025, -0.0199, 0.0193, 0.0644, -0.021, 0.034, 0.0227, 0.0147, -0.0009, 0.0543, 0.0203, -0.0753, 0.0258, 0.0561, 0.0436, 0.0043, 0.0043, 0.0185, -0.0423, -0.0508, -0.0263, 0.0315, -0.0085, -0.0055, 0.0155, -0.0803, 0.0179, -0.0062, -0.0628, 0.0085, -0.0787, 0.0834, -0.0024, -0.0081, 0.0394, 0.0644, -0.0202, -0.0065, 0.0251, 0.0455, -0.0085, -0.0307, -0.0002, 0.0918, -0.0436, -0.009, -0.054, -0.0067, 0.0306, 0.0358, 0.0431, 0.0198, 0.046, -0.0114, 0.0184, 0.0181, 0.0171, 0.0176, -0.0094, -0.0934, -0.0123, -0.0308, 0.0236, 0.0231, 0.0404, -0.023, ...]   \n",
       "9998   [-0.028, 0.1097, -0.0074, -0.0086, 0.0141, -0.0151, -0.0052, 0.0319, 0.0446, 0.0601, 0.0316, 0.0192, -0.0063, 0.0448, -0.0711, 0.0035, 0.0397, 0.0359, 0.0282, -0.0331, -0.0432, -0.0081, -0.0144, 0.0081, 0.0314, 0.0018, 0.0466, -0.0259, 0.0148, -0.0147, 0.0197, -0.0371, -0.056, 0.0588, -0.0027, -0.029, -0.009, -0.0182, 0.0223, -0.0705, 0.0225, -0.0116, -0.042, 0.043, 0.0336, -0.0262, 0.0159, 0.0383, -0.0517, -0.0106, 0.0084, 0.0157, -0.0053, -0.0108, -0.0301, 0.0063, 0.0024, -0.0153, -0.0433, 0.0245, 0.0282, -0.0379, -0.0708, -0.009, 0.0125, 0.0871, 0.0818, -0.0595, -0.0004, 0.0034, 0.0166, -0.0088, 0.0105, 0.0052, -0.0125, 0.0043, -0.0295, -0.016, 0.0138, 0.0358, -0.0044, -0.0054, 0.0156, 0.016, 0.0443, 0.0471, 0.012, -0.0103, 0.0116, 0.0166, 0.0136, -0.0348, -0.0116, -0.0313, 0.0279, -0.0045, 0.0052, 0.0541, 0.0511, -0.0187, ...]   \n",
       "9999    [-0.0383, 0.0573, 0.0049, -0.036, -0.0418, 0.0267, -0.0299, 0.0366, 0.0098, 0.0228, 0.0465, 0.064, -0.013, 0.0399, -0.0097, -0.0327, 0.0757, 0.0336, -0.0471, 0.0105, -0.0525, 0.0724, 0.0204, 0.0179, -0.032, -0.0559, 0.0212, -0.0099, 0.016, -0.0334, 0.0332, -0.0697, 0.0137, -0.0093, -0.0026, -0.0258, -0.0224, 0.0222, -0.056, -0.0207, -0.0254, -0.0501, 0.0044, 0.0183, 0.0155, -0.0716, 0.0535, 0.0669, 0.0007, 0.0199, 0.0149, -0.0364, -0.0462, -0.0352, -0.0362, 0.0372, -0.0083, -0.0368, 0.0196, -0.0354, 0.0473, 0.0019, -0.0261, -0.0185, -0.051, 0.0396, -0.0254, 0.0289, 0.041, 0.096, -0.0061, -0.0156, 0.0338, 0.0856, -0.0243, -0.049, -0.0161, 0.031, -0.0019, 0.0312, 0.0164, 0.0121, 0.0182, 0.0468, 0.0544, 0.0319, 0.0163, 0.0052, 0.0111, 0.0251, -0.0297, 0.0133, -0.0047, -0.0235, -0.0307, -0.0401, 0.0341, -0.0022, 0.0473, -0.0494, ...]   \n",
       "\n",
       "                                                                                                                                                                                                                                                                                                                                                                                                                                                                                                                                                                                                                                                                                                                                                                                                                                                MPNet_triplet_removal_0_margin_50_epoch_1  \n",
       "0                        [-0.0693, 0.0209, -0.0272, -0.0512, -0.0227, -0.0012, -0.0521, 0.027, -0.0196, 0.028, 0.0095, 0.0278, -0.0012, 0.0695, 0.0527, -0.0567, 0.047, 0.0215, -0.0222, 0.0489, -0.0144, -0.0018, -0.0444, 0.0084, 0.0089, -0.0244, 0.0282, 0.0566, -0.0077, -0.0474, 0.0094, -0.0096, 0.0298, 0.0105, -0.0, -0.0369, -0.0247, 0.0236, -0.065, 0.0219, -0.0037, -0.0629, 0.0232, 0.0111, 0.0458, 0.0041, 0.0129, -0.0226, -0.054, -0.0013, -0.0102, -0.0708, -0.0146, -0.013, -0.0231, 0.0462, 0.0061, -0.0257, 0.0575, -0.0519, 0.0258, -0.0073, 0.013, -0.0487, 0.0659, 0.0181, 0.0022, 0.0652, -0.0169, 0.0108, 0.026, -0.0739, 0.0445, 0.021, 0.0308, -0.0013, -0.06, -0.0395, 0.0544, 0.014, 0.0203, -0.0037, 0.0228, 0.0158, 0.0365, 0.0695, 0.0267, 0.0021, 0.0707, 0.0278, 0.0288, -0.0928, 0.0025, 0.0518, 0.0224, -0.0393, 0.0542, 0.0033, -0.0199, 0.03, ...]  \n",
       "1                   [-0.0498, -0.0444, 0.049, -0.0012, -0.0404, -0.0009, 0.0152, 0.0518, -0.0117, 0.0207, -0.0143, 0.0139, 0.0194, 0.0355, -0.0193, 0.0088, 0.0045, 0.0592, -0.0399, -0.0022, 0.0302, 0.0082, 0.025, 0.0473, -0.0183, -0.053, 0.0068, 0.013, -0.037, -0.0071, 0.032, -0.0051, 0.0021, -0.0283, 0.0004, -0.0028, 0.019, 0.0529, -0.0046, 0.0397, 0.0213, -0.0329, 0.0742, 0.0681, -0.0048, -0.059, -0.0003, 0.0193, 0.047, -0.0052, -0.0082, -0.0353, -0.0372, -0.0446, -0.027, -0.02, 0.013, 0.0365, 0.0536, -0.0817, 0.0091, -0.0046, -0.0209, 0.0313, 0.0083, 0.0505, -0.0286, -0.0015, 0.0413, 0.06, -0.0308, -0.0579, 0.0053, 0.0557, -0.0289, -0.0092, 0.0098, 0.0347, -0.0375, -0.0023, -0.0327, 0.0176, -0.0008, 0.041, 0.0195, 0.0184, 0.0829, -0.0231, 0.0671, 0.0162, 0.0539, -0.0247, -0.0511, -0.0035, -0.0312, -0.0597, 0.0238, 0.0077, 0.0403, 0.0139, ...]  \n",
       "2                    [-0.0487, 0.0075, -0.0289, -0.0345, -0.0258, -0.0072, -0.0568, 0.0189, -0.0243, 0.0281, -0.0075, 0.0208, 0.0051, 0.058, 0.0403, -0.0557, 0.0534, 0.0213, -0.0209, 0.0417, -0.0133, -0.003, -0.0389, 0.0099, 0.0179, -0.031, 0.0155, 0.0664, -0.007, -0.0373, 0.011, 0.0072, 0.032, -0.0054, 0.0001, -0.0275, -0.0083, 0.0213, -0.0631, 0.04, 0.0056, -0.0517, 0.0324, 0.0243, 0.0547, -0.0075, 0.006, -0.0202, -0.0446, -0.0021, -0.0085, -0.0616, -0.0231, -0.0121, -0.0163, 0.0441, 0.0051, -0.0197, 0.0578, -0.064, 0.0204, -0.0071, 0.0069, -0.0443, 0.0652, 0.0172, -0.0116, 0.065, -0.0196, 0.0004, 0.0199, -0.0903, 0.0535, 0.0221, 0.0377, -0.0025, -0.0539, -0.0542, 0.0444, 0.0157, 0.024, -0.002, 0.0285, 0.0209, 0.0376, 0.0747, 0.0369, 0.0024, 0.0748, 0.0502, 0.0389, -0.0888, -0.0023, 0.0454, 0.0209, -0.0477, 0.0458, 0.0075, -0.024, 0.0312, ...]  \n",
       "3              [-0.0631, -0.0205, 0.0247, -0.0117, -0.0551, -0.0111, 0.0098, 0.0222, -0.0371, 0.0421, 0.004, 0.0281, 0.0214, 0.0335, -0.0436, 0.0056, 0.0424, 0.0281, -0.0383, 0.04, -0.0044, -0.0179, -0.0166, 0.0184, 0.0233, -0.0586, 0.0041, 0.0351, -0.0326, -0.0145, 0.0557, 0.0028, 0.0432, 0.0172, 0.0004, -0.0054, -0.0102, 0.0429, -0.0103, 0.0772, 0.0205, -0.0479, 0.0601, 0.05, 0.0368, -0.0339, 0.0018, -0.0068, 0.0092, -0.0029, -0.0081, -0.0413, -0.0331, -0.0399, -0.0391, -0.0148, -0.0071, 0.0052, 0.0406, -0.1026, 0.0277, -0.0022, -0.0186, -0.0211, 0.0446, 0.0425, -0.0287, 0.0265, 0.0064, 0.0411, -0.0324, -0.0817, 0.0525, 0.0509, 0.0034, -0.0137, 0.0003, -0.0242, -0.0034, 0.0036, -0.0272, -0.0006, 0.0195, 0.039, 0.0059, 0.0566, 0.0771, 0.0027, 0.0984, 0.0006, 0.063, -0.0523, -0.0461, 0.0105, -0.0146, -0.0788, 0.0397, 0.0113, 0.0015, 0.0115, ...]  \n",
       "4                        [-0.07, -0.0068, 0.01, -0.0308, -0.0366, -0.0189, -0.0441, 0.067, -0.0256, 0.0137, 0.0234, 0.0471, 0.0412, 0.0652, 0.031, -0.0243, 0.0499, 0.0828, -0.0347, 0.0317, 0.0109, -0.0038, 0.0051, 0.0022, -0.04, -0.0141, 0.0396, 0.0374, -0.0094, -0.0345, 0.0373, 0.0014, 0.0106, -0.0062, 0.0003, -0.0303, -0.0103, 0.0303, -0.0371, 0.0221, 0.0221, -0.0974, 0.0738, 0.0438, 0.039, -0.0075, 0.0111, 0.0196, 0.0058, -0.0093, -0.0023, -0.1045, 0.0375, -0.0191, -0.0233, 0.0066, 0.0106, 0.0124, 0.0485, -0.0586, 0.0177, -0.0353, -0.009, -0.0009, 0.041, 0.0461, -0.0275, 0.0451, 0.0257, 0.0444, -0.0143, -0.0809, 0.0327, 0.0509, -0.0112, -0.0057, -0.0436, 0.0174, 0.036, -0.0098, 0.0029, 0.0226, 0.0103, 0.0245, 0.0279, 0.0459, 0.0575, 0.0141, 0.0597, 0.029, 0.0287, -0.1027, -0.0452, 0.0374, -0.0055, -0.0467, 0.0482, 0.0085, 0.0375, 0.0166, ...]  \n",
       "...                                                                                                                                                                                                                                                                                                                                                                                                                                                                                                                                                                                                                                                                                                                                                                                                                                                                                   ...  \n",
       "9995           [-0.0466, 0.0048, 0.0105, -0.0299, 0.0027, -0.0193, -0.022, 0.0272, -0.0127, 0.0393, 0.0312, 0.0217, -0.028, 0.0448, 0.0542, -0.0021, 0.0496, 0.0565, -0.0463, 0.0493, 0.0155, -0.0207, -0.0244, -0.0155, -0.0149, 0.0041, 0.0289, 0.0306, -0.0221, -0.0778, 0.0055, -0.0226, 0.0038, 0.0272, -0.0001, -0.056, -0.0281, 0.023, -0.0348, -0.0504, -0.0012, -0.0825, 0.0312, -0.0025, 0.0284, 0.0221, 0.009, 0.0135, -0.0237, -0.0326, 0.0049, -0.0875, 0.0388, -0.0069, -0.0698, 0.0152, 0.0082, -0.0118, 0.0254, -0.0042, 0.0583, -0.0082, 0.0081, -0.0216, 0.048, 0.0167, 0.0119, 0.0564, -0.0245, 0.0253, 0.0279, -0.0646, 0.022, 0.0358, -0.0047, -0.0169, -0.0398, -0.0087, 0.0713, -0.0363, 0.0066, -0.0044, 0.0277, -0.0093, 0.0359, 0.0885, 0.0449, 0.0018, 0.0657, 0.0159, 0.0165, -0.0794, 0.0036, 0.0609, -0.0084, -0.0194, 0.08, -0.0009, 0.0025, -0.0067, ...]  \n",
       "9996               [-0.0568, 0.008, -0.0193, -0.0724, 0.0043, -0.0134, -0.0499, 0.0273, -0.0175, 0.0285, 0.023, 0.0289, -0.0056, 0.0385, 0.0731, -0.0461, 0.0554, 0.0313, -0.027, 0.035, 0.0052, 0.0107, -0.0171, 0.0097, -0.0057, -0.0258, 0.0335, 0.0534, -0.0129, -0.0652, -0.0045, -0.0054, 0.0234, -0.0074, 0.0001, -0.0407, -0.0076, 0.0177, -0.0752, 0.0169, -0.0208, -0.0608, 0.0298, -0.003, 0.058, 0.0058, 0.0263, -0.0112, -0.0357, -0.0194, 0.0062, -0.0721, 0.0271, -0.0015, -0.0303, 0.0499, 0.0054, -0.0125, 0.0354, -0.0468, 0.0451, 0.0073, 0.0032, -0.0273, 0.0704, 0.0064, 0.0096, 0.0753, -0.0198, 0.0074, 0.0356, -0.0729, 0.0349, 0.0356, 0.0037, -0.0183, -0.061, -0.021, 0.0496, 0.0079, 0.0017, -0.0007, 0.0297, 0.0159, 0.0244, 0.0628, 0.0286, 0.0056, 0.0323, 0.0303, 0.0267, -0.0973, 0.0131, 0.0381, 0.0432, -0.0442, 0.059, -0.0042, -0.0126, 0.0232, ...]  \n",
       "9997                      [-0.0432, -0.0074, 0.0241, 0.0192, -0.039, -0.0022, 0.0138, 0.0229, -0.04, 0.0266, -0.0283, 0.0409, 0.0173, 0.0538, -0.0089, 0.0149, 0.0297, 0.0212, -0.0381, 0.0129, 0.0082, -0.0042, 0.0162, 0.0482, 0.007, -0.0505, 0.0241, 0.0306, -0.0055, -0.0208, 0.0373, -0.0016, 0.0028, 0.0172, 0.0004, -0.0019, 0.0193, 0.055, -0.0246, 0.1011, 0.0335, -0.0126, 0.0523, 0.0699, 0.0337, -0.0615, 0.0032, 0.0105, 0.0173, 0.0136, -0.0071, -0.0244, -0.0302, -0.0478, -0.014, -0.0013, 0.0109, 0.014, 0.0384, -0.1004, 0.0051, -0.0114, -0.0378, 0.0044, 0.015, 0.0636, -0.027, 0.0256, 0.033, 0.0443, -0.0548, -0.0936, 0.0341, 0.051, 0.007, -0.0106, -0.0079, 0.0099, -0.0169, 0.0112, -0.0314, -0.0004, 0.0273, 0.029, 0.007, 0.0395, 0.0709, -0.0025, 0.0908, -0.0086, 0.0536, -0.0457, -0.0397, -0.023, -0.0219, -0.0652, 0.0482, 0.0052, 0.0156, 0.0215, ...]  \n",
       "9998  [-0.0322, 0.0333, -0.0125, -0.0286, 0.0199, -0.0344, -0.0268, 0.0288, 0.0042, 0.0954, -0.011, -0.0264, -0.0083, 0.0425, -0.0308, 0.0101, 0.0223, -0.0078, 0.0098, 0.0151, -0.019, -0.0359, -0.0356, 0.0223, 0.0574, 0.0017, 0.0535, 0.0326, -0.0012, -0.0384, -0.0033, -0.0046, -0.0167, 0.043, 0.0001, -0.0193, 0.0373, -0.0243, 0.0235, -0.0507, 0.0041, -0.0108, -0.0242, 0.0022, 0.0432, -0.0077, 0.0076, -0.0043, -0.0616, -0.0275, -0.0096, -0.0326, 0.0004, 0.0313, -0.011, -0.0008, 0.0151, -0.0072, -0.0046, 0.0099, 0.0195, -0.0358, -0.0217, -0.0413, 0.0657, 0.0466, 0.0637, -0.0389, -0.0401, -0.0326, 0.0252, -0.0075, 0.0161, 0.0019, -0.0092, 0.0038, -0.0691, -0.0823, 0.0427, 0.0172, -0.0034, -0.0037, 0.0094, -0.016, 0.0363, 0.0823, 0.0111, -0.0043, 0.0468, 0.0277, 0.0432, -0.0934, -0.0113, 0.034, 0.0371, -0.0072, 0.0228, 0.0418, -0.0022, -0.0066, ...]  \n",
       "9999                [-0.0451, -0.0173, 0.0122, -0.0617, -0.0373, 0.0182, -0.0565, 0.0297, -0.0064, 0.0189, 0.0304, 0.0623, 0.0042, 0.0589, 0.0289, -0.0335, 0.0521, 0.0439, -0.0502, 0.0392, -0.0064, 0.0442, -0.0042, 0.0423, -0.0277, -0.0511, 0.0232, 0.0465, -0.031, -0.0531, 0.0272, -0.0216, 0.0431, -0.0337, 0.0004, -0.016, -0.0087, 0.0284, -0.0724, 0.0332, -0.0151, -0.0501, 0.0732, 0.0209, 0.0488, -0.0347, 0.0333, 0.0308, 0.003, 0.0156, -0.0035, -0.0779, -0.0238, -0.0352, -0.0344, 0.0112, -0.0046, -0.0047, 0.0496, -0.0618, 0.0282, -0.0007, 0.0123, -0.0159, 0.0278, 0.02, -0.0373, 0.0438, 0.0249, 0.07, -0.0126, -0.0671, 0.0504, 0.0681, -0.017, -0.0342, -0.0384, 0.0046, 0.015, 0.0245, -0.0057, 0.0136, 0.0149, 0.046, 0.0276, 0.0385, 0.0422, 0.0023, 0.0718, 0.0283, 0.0141, -0.039, -0.0096, 0.025, -0.0139, -0.0523, 0.0422, -0.016, 0.0291, -0.0022, ...]  \n",
       "\n",
       "[10000 rows x 10 columns]"
      ]
     },
     "execution_count": 30,
     "metadata": {},
     "output_type": "execute_result"
    },
    {
     "name": "stdout",
     "output_type": "stream",
     "text": [
      "time: 70.8 ms (started: 2024-02-15 15:25:11 +00:00)\n"
     ]
    }
   ],
   "source": [
    "final_sample"
   ]
  },
  {
   "cell_type": "code",
   "execution_count": 29,
   "metadata": {},
   "outputs": [
    {
     "data": {
      "text/plain": [
       "Series([], Name: party, dtype: int64)"
      ]
     },
     "execution_count": 29,
     "metadata": {},
     "output_type": "execute_result"
    },
    {
     "name": "stdout",
     "output_type": "stream",
     "text": [
      "time: 6.93 ms (started: 2024-02-20 09:32:03 +00:00)\n"
     ]
    }
   ],
   "source": [
    "df_finetuned[df_finetuned[f'cosim_{finetuned_model_x}']>0.90]['party'].value_counts()"
   ]
  },
  {
   "cell_type": "code",
   "execution_count": 31,
   "metadata": {},
   "outputs": [
    {
     "name": "stdout",
     "output_type": "stream",
     "text": [
      "time: 111 ms (started: 2024-02-20 09:33:13 +00:00)\n"
     ]
    }
   ],
   "source": [
    "from sklearn.utils import resample\n",
    "\n",
    "economic_claims = pd.read_excel('/csg_nas/Vahid/Datasets/StanceAwareSBERT/Datasets/economic_claims_Kialo_bertsearched.xlsx')\n",
    "economic_claims['party_truth'] = economic_claims['Economic_label_AI'].map({'Economically Left':'D', 'Economically Right':'R'})\n",
    "# Separate the DataFrame into two classes\n",
    "df_D = economic_claims[economic_claims['party_truth'] == 'D']\n",
    "df_R = economic_claims[economic_claims['party_truth'] == 'R']\n",
    "\n",
    "# Downsample the larger class ('D') to match the size of the smaller class ('R')\n",
    "df_D_downsampled = resample(df_D, replace=False, n_samples=len(df_R), random_state=1)\n",
    "\n",
    "# Combine the two DataFrames back into one\n",
    "economic_claims = pd.concat([df_D_downsampled, df_R],ignore_index=True)\n",
    "\n",
    "economic_claims['party_breakdown_original'] = economic_claims['party_breakdown_original'].map(eval)\n",
    "economic_claims['party_breakdown_finetuned'] = economic_claims['party_breakdown_finetuned'].map(eval)\n",
    "economic_claims['party_breakdown_pipeline'] = economic_claims['party_breakdown_pipeline'].map(eval)\n",
    "\n",
    "# pd.read_excel('/csg_nas/Vahid/Datasets/StanceAwareSBERT/Datasets/sociopolitical_claims_Kialo.xlsx')"
   ]
  },
  {
   "cell_type": "code",
   "execution_count": 85,
   "metadata": {},
   "outputs": [
    {
     "name": "stdout",
     "output_type": "stream",
     "text": [
      "time: 18.5 ms (started: 2023-10-05 15:18:47 +00:00)\n"
     ]
    }
   ],
   "source": [
    "# economic_claims = economic_claims[economic_claims['Economic_label_AI']!='Unclear'][['claim_translation','Economic_label_AI']]\n",
    "# economic_claims = pd.concat([economic_claims,pd.DataFrame({'claim_translation':'If economic globalisation is inevitable, it should primarily serve humanity rather than the interests of trans-national corporations.','Economic_label_AI':'Economically Left'},index=[0])],ignore_index=True)\n",
    "# economic_claims = pd.concat([economic_claims,pd.DataFrame({'claim_translation':'People are ultimately divided more by class than by nationality.','Economic_label_AI':'Economically Left'},index=[0])],ignore_index=True)\n",
    "# economic_claims = pd.concat([economic_claims,pd.DataFrame({'claim_translation':'Controlling inflation is more important than controlling unemployment.','Economic_label_AI':'Economically Right'},index=[0])],ignore_index=True)\n",
    "# economic_claims = pd.concat([economic_claims,pd.DataFrame({'claim_translation':'Because corporations cannot be trusted to voluntarily protect the environment, they require regulation.','Economic_label_AI':'Economically Left'},index=[0])],ignore_index=True)\n",
    "# economic_claims = pd.concat([economic_claims,pd.DataFrame({'claim_translation':'“from each according to his ability, to each according to his need” is a fundamentally good idea.','Economic_label_AI':'Economically Left'},index=[0])],ignore_index=True)\n",
    "# economic_claims = pd.concat([economic_claims,pd.DataFrame({'claim_translation':'It is regrettable that many personal fortunes are made by people who simply manipulate money and contribute nothing to their society.','Economic_label_AI':'Economically Left'},index=[0])],ignore_index=True)\n",
    "# economic_claims = pd.concat([economic_claims,pd.DataFrame({'claim_translation':'Protectionism is sometimes necessary in trade.','Economic_label_AI':'Economically Left'},index=[0])],ignore_index=True)\n",
    "# economic_claims = pd.concat([economic_claims,pd.DataFrame({'claim_translation':'The only social responsibility of a company should be to deliver a profit to its shareholders.','Economic_label_AI':'Economically Right'},index=[0])],ignore_index=True)\n",
    "# economic_claims = pd.concat([economic_claims,pd.DataFrame({'claim_translation':'The rich are too highly taxed.','Economic_label_AI':'Economically Right'},index=[0])],ignore_index=True)\n",
    "# economic_claims = pd.concat([economic_claims,pd.DataFrame({'claim_translation':'Those with the ability to pay should have access to higher standards of medical care.','Economic_label_AI':'Economically Right'},index=[0])],ignore_index=True)\n",
    "# economic_claims = pd.concat([economic_claims,pd.DataFrame({'claim_translation':'Governments should penalise businesses that mislead the public.','Economic_label_AI':'Economically Left'},index=[0])],ignore_index=True)\n",
    "# economic_claims = pd.concat([economic_claims,pd.DataFrame({'claim_translation':'The freer the market, the freer the people.','Economic_label_AI':'Economically Right'},index=[0])],ignore_index=True)\n",
    "# economic_claims = pd.concat([economic_claims,pd.DataFrame({'claim_translation':'Taxpayers should not be expected to prop up any theatres or museums that cannot survive on a commercial basis.','Economic_label_AI':'Economically Right'},index=[0])],ignore_index=True)\n",
    "# economic_claims = pd.concat([economic_claims,pd.DataFrame({'claim_translation':'What’s good for the most successful corporations is always, ultimately, good for all of us.','Economic_label_AI':'Economically Right'},index=[0])],ignore_index=True)\n",
    "# economic_claims = pd.concat([economic_claims,pd.DataFrame({'claim_translation':'No broadcasting institution, however independent its content, should receive public funding.','Economic_label_AI':'Economically Right'},index=[0])],ignore_index=True)\n",
    "# economic_claims = pd.concat([economic_claims,pd.DataFrame({'claim_translation':'Charity is better than social security as a means of helping the genuinely disadvantaged.','Economic_label_AI':'Economically Right'},index=[0])],ignore_index=True)"
   ]
  },
  {
   "cell_type": "code",
   "execution_count": 46,
   "metadata": {},
   "outputs": [
    {
     "data": {
      "application/vnd.jupyter.widget-view+json": {
       "model_id": "d059b2c7c4934afbb1c4edd42a3fdb25",
       "version_major": 2,
       "version_minor": 0
      },
      "text/plain": [
       "  0%|          | 0/50 [00:00<?, ?it/s]"
      ]
     },
     "metadata": {},
     "output_type": "display_data"
    },
    {
     "name": "stdout",
     "output_type": "stream",
     "text": [
      "\n",
      "\n",
      "Inheritance should be abolished.\n"
     ]
    },
    {
     "data": {
      "application/vnd.jupyter.widget-view+json": {
       "model_id": "2371fcf2a4644e1498caac72791be935",
       "version_major": 2,
       "version_minor": 0
      },
      "text/plain": [
       "  0%|          | 0/10000 [00:00<?, ?it/s]"
      ]
     },
     "metadata": {},
     "output_type": "display_data"
    },
    {
     "name": "stdout",
     "output_type": "stream",
     "text": [
      "R    2\n",
      "Name: party, dtype: int64\n",
      "\n",
      "\n",
      "There should be a 100% inheritance tax on all inherited wealth above 1 million Euros.\n"
     ]
    },
    {
     "data": {
      "application/vnd.jupyter.widget-view+json": {
       "model_id": "eb4887b3f05c40d481a2a62cdd125693",
       "version_major": 2,
       "version_minor": 0
      },
      "text/plain": [
       "  0%|          | 0/10000 [00:00<?, ?it/s]"
      ]
     },
     "metadata": {},
     "output_type": "display_data"
    },
    {
     "name": "stdout",
     "output_type": "stream",
     "text": [
      "Series([], Name: party, dtype: int64)\n",
      "\n",
      "\n",
      "Structural adjustment is the wrong policy.\n"
     ]
    },
    {
     "data": {
      "application/vnd.jupyter.widget-view+json": {
       "model_id": "2d0668a3960441738dc298f0bc2d18f8",
       "version_major": 2,
       "version_minor": 0
      },
      "text/plain": [
       "  0%|          | 0/10000 [00:00<?, ?it/s]"
      ]
     },
     "metadata": {},
     "output_type": "display_data"
    },
    {
     "name": "stdout",
     "output_type": "stream",
     "text": [
      "D    8\n",
      "R    7\n",
      "Name: party, dtype: int64\n",
      "\n",
      "\n",
      "It is regrettable that many personal fortunes are made by people who simply manipulate money and contribute nothing to their society.\n"
     ]
    },
    {
     "data": {
      "application/vnd.jupyter.widget-view+json": {
       "model_id": "820af2b25cf34ea592749777a6cd6358",
       "version_major": 2,
       "version_minor": 0
      },
      "text/plain": [
       "  0%|          | 0/10000 [00:00<?, ?it/s]"
      ]
     },
     "metadata": {},
     "output_type": "display_data"
    },
    {
     "name": "stdout",
     "output_type": "stream",
     "text": [
      "R    39\n",
      "D    28\n",
      "Name: party, dtype: int64\n",
      "\n",
      "\n",
      "India should have a Universal Basic Income (UBI).\n"
     ]
    },
    {
     "data": {
      "application/vnd.jupyter.widget-view+json": {
       "model_id": "a0a5c82817ff471b8dfe4721ff08aadb",
       "version_major": 2,
       "version_minor": 0
      },
      "text/plain": [
       "  0%|          | 0/10000 [00:00<?, ?it/s]"
      ]
     },
     "metadata": {},
     "output_type": "display_data"
    },
    {
     "name": "stdout",
     "output_type": "stream",
     "text": [
      "D    66\n",
      "R    31\n",
      "Name: party, dtype: int64\n",
      "\n",
      "\n",
      "Price controls are a benefit to society.\n"
     ]
    },
    {
     "data": {
      "application/vnd.jupyter.widget-view+json": {
       "model_id": "b5a261567b6a4ea89cc947d17c50c102",
       "version_major": 2,
       "version_minor": 0
      },
      "text/plain": [
       "  0%|          | 0/10000 [00:00<?, ?it/s]"
      ]
     },
     "metadata": {},
     "output_type": "display_data"
    },
    {
     "name": "stdout",
     "output_type": "stream",
     "text": [
      "R    41\n",
      "D    39\n",
      "Name: party, dtype: int64\n",
      "\n",
      "\n",
      "The Sanders Tax is a good thing.\n"
     ]
    },
    {
     "data": {
      "application/vnd.jupyter.widget-view+json": {
       "model_id": "12b9872c9add4b969a0ceab8fcd8f8fd",
       "version_major": 2,
       "version_minor": 0
      },
      "text/plain": [
       "  0%|          | 0/10000 [00:00<?, ?it/s]"
      ]
     },
     "metadata": {},
     "output_type": "display_data"
    },
    {
     "name": "stdout",
     "output_type": "stream",
     "text": [
      "R    132\n",
      "D    112\n",
      "Name: party, dtype: int64\n",
      "\n",
      "\n",
      "If economic globalisation is inevitable, it should primarily serve humanity rather than the interests of trans-national corporations.\n"
     ]
    },
    {
     "data": {
      "application/vnd.jupyter.widget-view+json": {
       "model_id": "7268e6aa77764c8f84c5fa01ca16e1c2",
       "version_major": 2,
       "version_minor": 0
      },
      "text/plain": [
       "  0%|          | 0/10000 [00:00<?, ?it/s]"
      ]
     },
     "metadata": {},
     "output_type": "display_data"
    },
    {
     "name": "stdout",
     "output_type": "stream",
     "text": [
      "R    3\n",
      "D    2\n",
      "Name: party, dtype: int64\n",
      "\n",
      "\n",
      "Lending money at interest is wrong.\n"
     ]
    },
    {
     "data": {
      "application/vnd.jupyter.widget-view+json": {
       "model_id": "65a5165ba9f144d2bb6738efc29e0c91",
       "version_major": 2,
       "version_minor": 0
      },
      "text/plain": [
       "  0%|          | 0/10000 [00:00<?, ?it/s]"
      ]
     },
     "metadata": {},
     "output_type": "display_data"
    },
    {
     "name": "stdout",
     "output_type": "stream",
     "text": [
      "Series([], Name: party, dtype: int64)\n",
      "\n",
      "\n",
      "Everyone's wealth and income information should be publicly available.\n"
     ]
    },
    {
     "data": {
      "application/vnd.jupyter.widget-view+json": {
       "model_id": "5435166ff37f4e3eb220ebb78ec64243",
       "version_major": 2,
       "version_minor": 0
      },
      "text/plain": [
       "  0%|          | 0/10000 [00:00<?, ?it/s]"
      ]
     },
     "metadata": {},
     "output_type": "display_data"
    },
    {
     "name": "stdout",
     "output_type": "stream",
     "text": [
      "D    1\n",
      "Name: party, dtype: int64\n",
      "\n",
      "\n",
      "A child's primary carer should receive a wage from the government until the child enters primary school or some other form of care.\n"
     ]
    },
    {
     "data": {
      "application/vnd.jupyter.widget-view+json": {
       "model_id": "a50f11b869c240d9a849f0302d1ffd41",
       "version_major": 2,
       "version_minor": 0
      },
      "text/plain": [
       "  0%|          | 0/10000 [00:00<?, ?it/s]"
      ]
     },
     "metadata": {},
     "output_type": "display_data"
    },
    {
     "name": "stdout",
     "output_type": "stream",
     "text": [
      "R    1\n",
      "Name: party, dtype: int64\n",
      "\n",
      "\n",
      "Modern Monetary Theory, asserting that governments should expand deficits by money printing, is largely correct\n"
     ]
    },
    {
     "data": {
      "application/vnd.jupyter.widget-view+json": {
       "model_id": "25fb9ac7dacc47d9b983aca55845a634",
       "version_major": 2,
       "version_minor": 0
      },
      "text/plain": [
       "  0%|          | 0/10000 [00:00<?, ?it/s]"
      ]
     },
     "metadata": {},
     "output_type": "display_data"
    },
    {
     "name": "stdout",
     "output_type": "stream",
     "text": [
      "R    5\n",
      "D    2\n",
      "Name: party, dtype: int64\n",
      "\n",
      "\n",
      "Feminine hygiene products should be available through a complete subsidy.\n"
     ]
    },
    {
     "data": {
      "application/vnd.jupyter.widget-view+json": {
       "model_id": "b9c178ba0c724b5cbeacae5e55e4104f",
       "version_major": 2,
       "version_minor": 0
      },
      "text/plain": [
       "  0%|          | 0/10000 [00:00<?, ?it/s]"
      ]
     },
     "metadata": {},
     "output_type": "display_data"
    },
    {
     "name": "stdout",
     "output_type": "stream",
     "text": [
      "D    2\n",
      "Name: party, dtype: int64\n",
      "\n",
      "\n",
      "Internet infrastructure should be publicly owned.\n"
     ]
    },
    {
     "data": {
      "application/vnd.jupyter.widget-view+json": {
       "model_id": "00e105f8d9f44a29938be6dc8f6e25ec",
       "version_major": 2,
       "version_minor": 0
      },
      "text/plain": [
       "  0%|          | 0/10000 [00:00<?, ?it/s]"
      ]
     },
     "metadata": {},
     "output_type": "display_data"
    },
    {
     "name": "stdout",
     "output_type": "stream",
     "text": [
      "D    11\n",
      "R     8\n",
      "Name: party, dtype: int64\n",
      "\n",
      "\n",
      "Fully Automated Luxury Communism is desirable.\n"
     ]
    },
    {
     "data": {
      "application/vnd.jupyter.widget-view+json": {
       "model_id": "d84f7e3222574a5f841123c26d48bdda",
       "version_major": 2,
       "version_minor": 0
      },
      "text/plain": [
       "  0%|          | 0/10000 [00:00<?, ?it/s]"
      ]
     },
     "metadata": {},
     "output_type": "display_data"
    },
    {
     "name": "stdout",
     "output_type": "stream",
     "text": [
      "Series([], Name: party, dtype: int64)\n",
      "\n",
      "\n",
      "Inheritance should be minimized to create an equal outset for everyone.\n"
     ]
    },
    {
     "data": {
      "application/vnd.jupyter.widget-view+json": {
       "model_id": "e0689eeefe564db19703415eb50653b5",
       "version_major": 2,
       "version_minor": 0
      },
      "text/plain": [
       "  0%|          | 0/10000 [00:00<?, ?it/s]"
      ]
     },
     "metadata": {},
     "output_type": "display_data"
    },
    {
     "name": "stdout",
     "output_type": "stream",
     "text": [
      "R    1\n",
      "Name: party, dtype: int64\n",
      "\n",
      "\n",
      "“from each according to his ability, to each according to his need” is a fundamentally good idea.\n"
     ]
    },
    {
     "data": {
      "application/vnd.jupyter.widget-view+json": {
       "model_id": "7855cb4e66774b5da514b8ad9398ea8d",
       "version_major": 2,
       "version_minor": 0
      },
      "text/plain": [
       "  0%|          | 0/10000 [00:00<?, ?it/s]"
      ]
     },
     "metadata": {},
     "output_type": "display_data"
    },
    {
     "name": "stdout",
     "output_type": "stream",
     "text": [
      "Series([], Name: party, dtype: int64)\n",
      "\n",
      "\n",
      "A socialist economy would work better than a capitalist economy.\n"
     ]
    },
    {
     "data": {
      "application/vnd.jupyter.widget-view+json": {
       "model_id": "73684ac01f62488289cd663ac45c1a0d",
       "version_major": 2,
       "version_minor": 0
      },
      "text/plain": [
       "  0%|          | 0/10000 [00:00<?, ?it/s]"
      ]
     },
     "metadata": {},
     "output_type": "display_data"
    },
    {
     "name": "stdout",
     "output_type": "stream",
     "text": [
      "R    2\n",
      "D    1\n",
      "Name: party, dtype: int64\n",
      "\n",
      "\n",
      "The Subminimum Wage should be abolished.\n"
     ]
    },
    {
     "data": {
      "application/vnd.jupyter.widget-view+json": {
       "model_id": "cb2ccc60d2bf4dffa49faee86c4f83f9",
       "version_major": 2,
       "version_minor": 0
      },
      "text/plain": [
       "  0%|          | 0/10000 [00:00<?, ?it/s]"
      ]
     },
     "metadata": {},
     "output_type": "display_data"
    },
    {
     "name": "stdout",
     "output_type": "stream",
     "text": [
      "D    4\n",
      "R    2\n",
      "Name: party, dtype: int64\n",
      "\n",
      "\n",
      "The US Government should commit to a Green New Deal.\n"
     ]
    },
    {
     "data": {
      "application/vnd.jupyter.widget-view+json": {
       "model_id": "427a6f25702e46f1a8e32b4f31dbc759",
       "version_major": 2,
       "version_minor": 0
      },
      "text/plain": [
       "  0%|          | 0/10000 [00:00<?, ?it/s]"
      ]
     },
     "metadata": {},
     "output_type": "display_data"
    },
    {
     "name": "stdout",
     "output_type": "stream",
     "text": [
      "D    117\n",
      "R     81\n",
      "Name: party, dtype: int64\n",
      "\n",
      "\n",
      "Communism Is Viable in the USA.\n"
     ]
    },
    {
     "data": {
      "application/vnd.jupyter.widget-view+json": {
       "model_id": "8a5ec67fe2c7452194c37feec8b8fef3",
       "version_major": 2,
       "version_minor": 0
      },
      "text/plain": [
       "  0%|          | 0/10000 [00:00<?, ?it/s]"
      ]
     },
     "metadata": {},
     "output_type": "display_data"
    },
    {
     "name": "stdout",
     "output_type": "stream",
     "text": [
      "R    9\n",
      "D    5\n",
      "Name: party, dtype: int64\n",
      "\n",
      "\n",
      "Because corporations cannot be trusted to voluntarily protect the environment, they require regulation.\n"
     ]
    },
    {
     "data": {
      "application/vnd.jupyter.widget-view+json": {
       "model_id": "70af3b1751504c3c878a9277a793dc15",
       "version_major": 2,
       "version_minor": 0
      },
      "text/plain": [
       "  0%|          | 0/10000 [00:00<?, ?it/s]"
      ]
     },
     "metadata": {},
     "output_type": "display_data"
    },
    {
     "name": "stdout",
     "output_type": "stream",
     "text": [
      "R    4\n",
      "Name: party, dtype: int64\n",
      "\n",
      "\n",
      "The workweek should be shortened to 15 hours for the same pay\n"
     ]
    },
    {
     "data": {
      "application/vnd.jupyter.widget-view+json": {
       "model_id": "bd1f4a2415f34850af8744e5e9a05780",
       "version_major": 2,
       "version_minor": 0
      },
      "text/plain": [
       "  0%|          | 0/10000 [00:00<?, ?it/s]"
      ]
     },
     "metadata": {},
     "output_type": "display_data"
    },
    {
     "name": "stdout",
     "output_type": "stream",
     "text": [
      "R    3\n",
      "D    1\n",
      "Name: party, dtype: int64\n",
      "\n",
      "\n",
      "The private sector is incapable of delivering complete Health Care for Everyone.\n"
     ]
    },
    {
     "data": {
      "application/vnd.jupyter.widget-view+json": {
       "model_id": "8915da24f74046439c27e4ef0f83086f",
       "version_major": 2,
       "version_minor": 0
      },
      "text/plain": [
       "  0%|          | 0/10000 [00:00<?, ?it/s]"
      ]
     },
     "metadata": {},
     "output_type": "display_data"
    },
    {
     "name": "stdout",
     "output_type": "stream",
     "text": [
      "R    33\n",
      "D    19\n",
      "Name: party, dtype: int64\n",
      "\n",
      "\n",
      "Governments should penalise businesses that mislead the public.\n"
     ]
    },
    {
     "data": {
      "application/vnd.jupyter.widget-view+json": {
       "model_id": "134b4ec1d91d4a45b3a4ae0c51114c92",
       "version_major": 2,
       "version_minor": 0
      },
      "text/plain": [
       "  0%|          | 0/10000 [00:00<?, ?it/s]"
      ]
     },
     "metadata": {},
     "output_type": "display_data"
    },
    {
     "name": "stdout",
     "output_type": "stream",
     "text": [
      "R    4\n",
      "Name: party, dtype: int64\n",
      "\n",
      "\n",
      "Capitalism is good.\n"
     ]
    },
    {
     "data": {
      "application/vnd.jupyter.widget-view+json": {
       "model_id": "d7b15a9d0ebd4e1a9916b955def5aa8b",
       "version_major": 2,
       "version_minor": 0
      },
      "text/plain": [
       "  0%|          | 0/10000 [00:00<?, ?it/s]"
      ]
     },
     "metadata": {},
     "output_type": "display_data"
    },
    {
     "name": "stdout",
     "output_type": "stream",
     "text": [
      "Series([], Name: party, dtype: int64)\n",
      "\n",
      "\n",
      "Price gouging should be legal.\n"
     ]
    },
    {
     "data": {
      "application/vnd.jupyter.widget-view+json": {
       "model_id": "be8a18a8436f4ef1a74be5e55dfaebae",
       "version_major": 2,
       "version_minor": 0
      },
      "text/plain": [
       "  0%|          | 0/10000 [00:00<?, ?it/s]"
      ]
     },
     "metadata": {},
     "output_type": "display_data"
    },
    {
     "name": "stdout",
     "output_type": "stream",
     "text": [
      "Series([], Name: party, dtype: int64)\n",
      "\n",
      "\n",
      "Free markets are better for humans than regulated markets.\n"
     ]
    },
    {
     "data": {
      "application/vnd.jupyter.widget-view+json": {
       "model_id": "4180527911c1430f8143567f9e15dce9",
       "version_major": 2,
       "version_minor": 0
      },
      "text/plain": [
       "  0%|          | 0/10000 [00:00<?, ?it/s]"
      ]
     },
     "metadata": {},
     "output_type": "display_data"
    },
    {
     "name": "stdout",
     "output_type": "stream",
     "text": [
      "R    1\n",
      "Name: party, dtype: int64\n",
      "\n",
      "\n",
      "Rent control policies hurt housing affordability and should be repealed.\n"
     ]
    },
    {
     "data": {
      "application/vnd.jupyter.widget-view+json": {
       "model_id": "f52a530b41674f9ab10c675708f4721b",
       "version_major": 2,
       "version_minor": 0
      },
      "text/plain": [
       "  0%|          | 0/10000 [00:00<?, ?it/s]"
      ]
     },
     "metadata": {},
     "output_type": "display_data"
    },
    {
     "name": "stdout",
     "output_type": "stream",
     "text": [
      "R    92\n",
      "D    56\n",
      "Name: party, dtype: int64\n",
      "\n",
      "\n",
      "The United States should abolish the capital gains tax.\n"
     ]
    },
    {
     "data": {
      "application/vnd.jupyter.widget-view+json": {
       "model_id": "2210e3b301e74210afa737c216d7623f",
       "version_major": 2,
       "version_minor": 0
      },
      "text/plain": [
       "  0%|          | 0/10000 [00:00<?, ?it/s]"
      ]
     },
     "metadata": {},
     "output_type": "display_data"
    },
    {
     "name": "stdout",
     "output_type": "stream",
     "text": [
      "D    2\n",
      "Name: party, dtype: int64\n",
      "\n",
      "\n",
      "Private property should exist in outer space.\n"
     ]
    },
    {
     "data": {
      "application/vnd.jupyter.widget-view+json": {
       "model_id": "d932dadc55814acc86ecbe338a7627fd",
       "version_major": 2,
       "version_minor": 0
      },
      "text/plain": [
       "  0%|          | 0/10000 [00:00<?, ?it/s]"
      ]
     },
     "metadata": {},
     "output_type": "display_data"
    },
    {
     "name": "stdout",
     "output_type": "stream",
     "text": [
      "Series([], Name: party, dtype: int64)\n",
      "\n",
      "\n",
      "K-12 teachers are already paid enough in America.\n"
     ]
    },
    {
     "data": {
      "application/vnd.jupyter.widget-view+json": {
       "model_id": "2b670455beed4a68b14dafdcd2e19775",
       "version_major": 2,
       "version_minor": 0
      },
      "text/plain": [
       "  0%|          | 0/10000 [00:00<?, ?it/s]"
      ]
     },
     "metadata": {},
     "output_type": "display_data"
    },
    {
     "name": "stdout",
     "output_type": "stream",
     "text": [
      "Series([], Name: party, dtype: int64)\n",
      "\n",
      "\n",
      "Extreme poverty can be eradicated through capitalism.\n"
     ]
    },
    {
     "data": {
      "application/vnd.jupyter.widget-view+json": {
       "model_id": "b95eed9f39bb4ee09f682eb3daed162a",
       "version_major": 2,
       "version_minor": 0
      },
      "text/plain": [
       "  0%|          | 0/10000 [00:00<?, ?it/s]"
      ]
     },
     "metadata": {},
     "output_type": "display_data"
    },
    {
     "name": "stdout",
     "output_type": "stream",
     "text": [
      "D    165\n",
      "R    126\n",
      "Name: party, dtype: int64\n",
      "\n",
      "\n",
      "Free trade is preferable to tariffs for the United States.\n"
     ]
    },
    {
     "data": {
      "application/vnd.jupyter.widget-view+json": {
       "model_id": "8f2549ad275c415ab3dee9cc8ee98a1e",
       "version_major": 2,
       "version_minor": 0
      },
      "text/plain": [
       "  0%|          | 0/10000 [00:00<?, ?it/s]"
      ]
     },
     "metadata": {},
     "output_type": "display_data"
    },
    {
     "name": "stdout",
     "output_type": "stream",
     "text": [
      "D    2\n",
      "R    1\n",
      "Name: party, dtype: int64\n",
      "\n",
      "\n",
      "Protectionism is a bad economic policy.\n"
     ]
    },
    {
     "data": {
      "application/vnd.jupyter.widget-view+json": {
       "model_id": "ad935de8a4df47768c434fb7d54dbdd3",
       "version_major": 2,
       "version_minor": 0
      },
      "text/plain": [
       "  0%|          | 0/10000 [00:00<?, ?it/s]"
      ]
     },
     "metadata": {},
     "output_type": "display_data"
    },
    {
     "name": "stdout",
     "output_type": "stream",
     "text": [
      "R    29\n",
      "D    17\n",
      "Name: party, dtype: int64\n",
      "\n",
      "\n",
      "Capitalism is the best system for the people.\n"
     ]
    },
    {
     "data": {
      "application/vnd.jupyter.widget-view+json": {
       "model_id": "e3d0de6919804ed28ff3b8e86cf8bd94",
       "version_major": 2,
       "version_minor": 0
      },
      "text/plain": [
       "  0%|          | 0/10000 [00:00<?, ?it/s]"
      ]
     },
     "metadata": {},
     "output_type": "display_data"
    },
    {
     "name": "stdout",
     "output_type": "stream",
     "text": [
      "R    1\n",
      "Name: party, dtype: int64\n",
      "\n",
      "\n",
      "A flat \"Asset Tax\" is all the tax we should ever pay.\n"
     ]
    },
    {
     "data": {
      "application/vnd.jupyter.widget-view+json": {
       "model_id": "225bd1a8a457422b8f7447e0ff5968a0",
       "version_major": 2,
       "version_minor": 0
      },
      "text/plain": [
       "  0%|          | 0/10000 [00:00<?, ?it/s]"
      ]
     },
     "metadata": {},
     "output_type": "display_data"
    },
    {
     "name": "stdout",
     "output_type": "stream",
     "text": [
      "Series([], Name: party, dtype: int64)\n",
      "\n",
      "\n",
      "The US government should stop the COVID-19 shutdown to soften the impact on the economy.\n"
     ]
    },
    {
     "data": {
      "application/vnd.jupyter.widget-view+json": {
       "model_id": "9d82b9b877454c1799e5499f3de43275",
       "version_major": 2,
       "version_minor": 0
      },
      "text/plain": [
       "  0%|          | 0/10000 [00:00<?, ?it/s]"
      ]
     },
     "metadata": {},
     "output_type": "display_data"
    },
    {
     "name": "stdout",
     "output_type": "stream",
     "text": [
      "D    109\n",
      "R     74\n",
      "Name: party, dtype: int64\n",
      "\n",
      "\n",
      "There should be no welfare state.\n"
     ]
    },
    {
     "data": {
      "application/vnd.jupyter.widget-view+json": {
       "model_id": "c6e1c716d5dc4044be29a3f38f578e82",
       "version_major": 2,
       "version_minor": 0
      },
      "text/plain": [
       "  0%|          | 0/10000 [00:00<?, ?it/s]"
      ]
     },
     "metadata": {},
     "output_type": "display_data"
    },
    {
     "name": "stdout",
     "output_type": "stream",
     "text": [
      "D    3\n",
      "R    2\n",
      "Name: party, dtype: int64\n",
      "\n",
      "\n",
      "Reducing company tax rates has a net positive benefit on society.\n"
     ]
    },
    {
     "data": {
      "application/vnd.jupyter.widget-view+json": {
       "model_id": "372c0318a0294934b53b69843284d482",
       "version_major": 2,
       "version_minor": 0
      },
      "text/plain": [
       "  0%|          | 0/10000 [00:00<?, ?it/s]"
      ]
     },
     "metadata": {},
     "output_type": "display_data"
    },
    {
     "name": "stdout",
     "output_type": "stream",
     "text": [
      "R    180\n",
      "D    174\n",
      "Name: party, dtype: int64\n",
      "\n",
      "\n",
      "Charities should replace social security.\n"
     ]
    },
    {
     "data": {
      "application/vnd.jupyter.widget-view+json": {
       "model_id": "f36ab03e0e77409bb9f8dbdb160df492",
       "version_major": 2,
       "version_minor": 0
      },
      "text/plain": [
       "  0%|          | 0/10000 [00:00<?, ?it/s]"
      ]
     },
     "metadata": {},
     "output_type": "display_data"
    },
    {
     "name": "stdout",
     "output_type": "stream",
     "text": [
      "Series([], Name: party, dtype: int64)\n",
      "\n",
      "\n",
      "Controlling inflation is more important than controlling unemployment.\n"
     ]
    },
    {
     "data": {
      "application/vnd.jupyter.widget-view+json": {
       "model_id": "c523616b429b46b6809cf71547659fcd",
       "version_major": 2,
       "version_minor": 0
      },
      "text/plain": [
       "  0%|          | 0/10000 [00:00<?, ?it/s]"
      ]
     },
     "metadata": {},
     "output_type": "display_data"
    },
    {
     "name": "stdout",
     "output_type": "stream",
     "text": [
      "Series([], Name: party, dtype: int64)\n",
      "\n",
      "\n",
      "The only social responsibility of a company should be to deliver a profit to its shareholders.\n"
     ]
    },
    {
     "data": {
      "application/vnd.jupyter.widget-view+json": {
       "model_id": "71b1fab2738940cf9c510e9387be55ce",
       "version_major": 2,
       "version_minor": 0
      },
      "text/plain": [
       "  0%|          | 0/10000 [00:00<?, ?it/s]"
      ]
     },
     "metadata": {},
     "output_type": "display_data"
    },
    {
     "name": "stdout",
     "output_type": "stream",
     "text": [
      "Series([], Name: party, dtype: int64)\n",
      "\n",
      "\n",
      "The rich are too highly taxed.\n"
     ]
    },
    {
     "data": {
      "application/vnd.jupyter.widget-view+json": {
       "model_id": "3eb6ea407bc04d1ebc623fd4237eebda",
       "version_major": 2,
       "version_minor": 0
      },
      "text/plain": [
       "  0%|          | 0/10000 [00:00<?, ?it/s]"
      ]
     },
     "metadata": {},
     "output_type": "display_data"
    },
    {
     "name": "stdout",
     "output_type": "stream",
     "text": [
      "R    50\n",
      "D    14\n",
      "Name: party, dtype: int64\n",
      "\n",
      "\n",
      "Those with the ability to pay should have access to higher standards of medical care.\n"
     ]
    },
    {
     "data": {
      "application/vnd.jupyter.widget-view+json": {
       "model_id": "4a50aa10b9f34d8bbb1e2071ff1c7433",
       "version_major": 2,
       "version_minor": 0
      },
      "text/plain": [
       "  0%|          | 0/10000 [00:00<?, ?it/s]"
      ]
     },
     "metadata": {},
     "output_type": "display_data"
    },
    {
     "name": "stdout",
     "output_type": "stream",
     "text": [
      "D    112\n",
      "R     66\n",
      "Name: party, dtype: int64\n",
      "\n",
      "\n",
      "The freer the market, the freer the people.\n"
     ]
    },
    {
     "data": {
      "application/vnd.jupyter.widget-view+json": {
       "model_id": "c215f7e5984a4ac280813f234687c8f5",
       "version_major": 2,
       "version_minor": 0
      },
      "text/plain": [
       "  0%|          | 0/10000 [00:00<?, ?it/s]"
      ]
     },
     "metadata": {},
     "output_type": "display_data"
    },
    {
     "name": "stdout",
     "output_type": "stream",
     "text": [
      "D    1\n",
      "Name: party, dtype: int64\n",
      "\n",
      "\n",
      "Taxpayers should not be expected to prop up any theatres or museums that cannot survive on a commercial basis.\n"
     ]
    },
    {
     "data": {
      "application/vnd.jupyter.widget-view+json": {
       "model_id": "85312e52f49348dd96bfbcdaefe055eb",
       "version_major": 2,
       "version_minor": 0
      },
      "text/plain": [
       "  0%|          | 0/10000 [00:00<?, ?it/s]"
      ]
     },
     "metadata": {},
     "output_type": "display_data"
    },
    {
     "name": "stdout",
     "output_type": "stream",
     "text": [
      "R    2\n",
      "D    1\n",
      "Name: party, dtype: int64\n",
      "\n",
      "\n",
      "What’s good for the most successful corporations is always, ultimately, good for all of us.\n"
     ]
    },
    {
     "data": {
      "application/vnd.jupyter.widget-view+json": {
       "model_id": "c82287b3246c4de0ad2fe54c718b207e",
       "version_major": 2,
       "version_minor": 0
      },
      "text/plain": [
       "  0%|          | 0/10000 [00:00<?, ?it/s]"
      ]
     },
     "metadata": {},
     "output_type": "display_data"
    },
    {
     "name": "stdout",
     "output_type": "stream",
     "text": [
      "D    2\n",
      "R    1\n",
      "Name: party, dtype: int64\n",
      "\n",
      "\n",
      "No broadcasting institution, however independent its content, should receive public funding.\n"
     ]
    },
    {
     "data": {
      "application/vnd.jupyter.widget-view+json": {
       "model_id": "08c4cc44895345b98fb5f35c9492ef3e",
       "version_major": 2,
       "version_minor": 0
      },
      "text/plain": [
       "  0%|          | 0/10000 [00:00<?, ?it/s]"
      ]
     },
     "metadata": {},
     "output_type": "display_data"
    },
    {
     "name": "stdout",
     "output_type": "stream",
     "text": [
      "R    1\n",
      "Name: party, dtype: int64\n",
      "\n",
      "\n",
      "Charity is better than social security as a means of helping the genuinely disadvantaged.\n"
     ]
    },
    {
     "data": {
      "application/vnd.jupyter.widget-view+json": {
       "model_id": "a72985e284a44226b1a52343576fa625",
       "version_major": 2,
       "version_minor": 0
      },
      "text/plain": [
       "  0%|          | 0/10000 [00:00<?, ?it/s]"
      ]
     },
     "metadata": {},
     "output_type": "display_data"
    },
    {
     "name": "stdout",
     "output_type": "stream",
     "text": [
      "D    2\n",
      "Name: party, dtype: int64\n",
      "time: 2min 23s (started: 2024-02-20 09:53:01 +00:00)\n"
     ]
    }
   ],
   "source": [
    "# import os\n",
    "# os.environ[\"TOKENIZERS_PARALLELISM\"] = \"false\"\n",
    "# from pandarallel import pandarallel\n",
    "# pandarallel.initialize(progress_bar=False,nb_workers=50)\n",
    "\n",
    "\n",
    "\n",
    "from scipy.spatial import distance\n",
    "\n",
    "def get_similar_sentences(model_x, query_x,df, query_column_x,threshold_x):\n",
    "    print('\\n')\n",
    "    print(query_x)\n",
    "    text1 = tokenizer(query_x, return_tensors=\"pt\", max_length=128, truncation=True, padding=\"max_length\")\n",
    "    embeddings_i = model_x(**text1).tolist()\n",
    "    embeddings_i = [[round(value, 4) for value in row] for row in embeddings_i]\n",
    "    \n",
    "    df[f'cosim_{query_column_x}'] = df[query_column_x].progress_apply(lambda x: 1-distance.cosine(x,embeddings_i[0]))\n",
    "    df_ = df[df[f'cosim_{query_column_x}']>threshold_x]\n",
    "    print(df_['party'].value_counts())\n",
    "    return df_['party'].value_counts().to_dict()\n",
    "\n",
    "def get_similar_sentences_pipeline(model_1,model_2, query_x,df,query_column_1,query_column_2,threshold_1,threshold_2):\n",
    "    print('\\n')\n",
    "    print(query_x)\n",
    "    text1 = tokenizer(query_x, return_tensors=\"pt\", max_length=128, truncation=True, padding=\"max_length\")\n",
    "    embeddings_i = model_1(**text1).tolist()\n",
    "    embeddings_i = [[round(value, 4) for value in row] for row in embeddings_i]\n",
    "    \n",
    "    df[f'cosim_{query_column_1}'] = df[query_column_1].progress_apply(lambda x: 1-distance.cosine(x,embeddings_i[0]))\n",
    "    df_ = df[df[f'cosim_{query_column_1}']>threshold_1]\n",
    "    \n",
    "    embeddings_j = model_2(**text1).tolist()\n",
    "    embeddings_j = [[round(value, 4) for value in row] for row in embeddings_j]    \n",
    "    \n",
    "    df_[f'cosim_{query_column_2}'] = df_[query_column_2].progress_apply(lambda x: 1-distance.cosine(x,embeddings_j[0]))\n",
    "    df__ = df_[df_[f'cosim_{query_column_2}']>threshold_2]\n",
    "    \n",
    "\n",
    "    print(df__['party'].value_counts())\n",
    "    \n",
    "    \n",
    "    return df__['party'].value_counts().to_dict()\n",
    "\n",
    "\n",
    "# economic_claims['party_breakdown_pipeline']=economic_claims['claim_translation'].progress_apply(lambda x: get_similar_sentences_pipeline(model_1=model_original,model_2=model_finetuned_t, query_x=x,df=final_sample,query_column_1='all-mpnet-base-v2',query_column_2=finetuned_model_x,threshold_1=0.5,threshold_2=0.7))\n",
    "# economic_claims.to_excel('/csg_nas/Vahid/Datasets/StanceAwareSBERT/Datasets/economic_claims_Kialo_bertsearched.xlsx',index=None)\n",
    "# economic_claims['party_breakdown_original']=economic_claims['claim_translation'].progress_apply(lambda x: get_similar_sentences(model_x=model_original, query_x=x ,df = final_sample, query_column_x = 'all-mpnet-base-v2',threshold_x=0.50))\n",
    "# economic_claims.to_excel('/csg_nas/Vahid/Datasets/StanceAwareSBERT/Datasets/economic_claims_Kialo_bertsearched.xlsx',index=None)\n",
    "economic_claims['party_breakdown_finetuned']=economic_claims['claim_translation'].progress_apply(lambda x: get_similar_sentences(model_x=model_finetuned_t, query_x=x ,df = final_sample, query_column_x = finetuned_model_x,threshold_x=0.80))\n",
    "# economic_claims.to_excel('/csg_nas/Vahid/Datasets/StanceAwareSBERT/Datasets/economic_claims_Kialo_bertsearched.xlsx',index=None)"
   ]
  },
  {
   "cell_type": "code",
   "execution_count": 36,
   "metadata": {},
   "outputs": [
    {
     "data": {
      "text/plain": [
       "{'Economically Left': 25, 'Economically Right': 25}"
      ]
     },
     "execution_count": 36,
     "metadata": {},
     "output_type": "execute_result"
    },
    {
     "name": "stdout",
     "output_type": "stream",
     "text": [
      "time: 4.5 ms (started: 2024-02-20 09:47:14 +00:00)\n"
     ]
    }
   ],
   "source": [
    "economic_claims['Economic_label_AI'].value_counts().to_dict()"
   ]
  },
  {
   "cell_type": "code",
   "execution_count": 37,
   "metadata": {},
   "outputs": [
    {
     "name": "stdout",
     "output_type": "stream",
     "text": [
      "time: 879 µs (started: 2024-02-20 09:47:30 +00:00)\n"
     ]
    }
   ],
   "source": [
    "from scipy.spatial import distance\n",
    "import numpy as np\n",
    "\n",
    "def get_key_with_largest_value(input_dict):\n",
    "    if not input_dict:\n",
    "        return np.nan  # Return NaN if the dictionary is empty\n",
    "    else:\n",
    "        return max(input_dict, key=input_dict.get)"
   ]
  },
  {
   "cell_type": "code",
   "execution_count": 38,
   "metadata": {},
   "outputs": [
    {
     "data": {
      "text/html": [
       "<div>\n",
       "<style scoped>\n",
       "    .dataframe tbody tr th:only-of-type {\n",
       "        vertical-align: middle;\n",
       "    }\n",
       "\n",
       "    .dataframe tbody tr th {\n",
       "        vertical-align: top;\n",
       "    }\n",
       "\n",
       "    .dataframe thead th {\n",
       "        text-align: right;\n",
       "    }\n",
       "</style>\n",
       "<table border=\"1\" class=\"dataframe\">\n",
       "  <thead>\n",
       "    <tr style=\"text-align: right;\">\n",
       "      <th></th>\n",
       "      <th>claim_translation</th>\n",
       "      <th>Economic_label_AI</th>\n",
       "      <th>party_breakdown_original</th>\n",
       "      <th>party_breakdown_finetuned</th>\n",
       "      <th>party_breakdown_pipeline</th>\n",
       "      <th>party_truth</th>\n",
       "      <th>party_prediction_original</th>\n",
       "      <th>party_prediction_finetuned</th>\n",
       "      <th>party_prediction_pipeline</th>\n",
       "    </tr>\n",
       "  </thead>\n",
       "  <tbody>\n",
       "    <tr>\n",
       "      <th>0</th>\n",
       "      <td>Inheritance should be abolished.</td>\n",
       "      <td>Economically Left</td>\n",
       "      <td>{'D': 1, 'R': 1}</td>\n",
       "      <td>{'R': 9379, 'D': 8190}</td>\n",
       "      <td>{}</td>\n",
       "      <td>D</td>\n",
       "      <td>D</td>\n",
       "      <td>R</td>\n",
       "      <td>NaN</td>\n",
       "    </tr>\n",
       "    <tr>\n",
       "      <th>1</th>\n",
       "      <td>There should be a 100% inheritance tax on all inherited wealth above 1 million Euros.</td>\n",
       "      <td>Economically Left</td>\n",
       "      <td>{'D': 10}</td>\n",
       "      <td>{'D': 38792, 'R': 37073}</td>\n",
       "      <td>{}</td>\n",
       "      <td>D</td>\n",
       "      <td>D</td>\n",
       "      <td>D</td>\n",
       "      <td>NaN</td>\n",
       "    </tr>\n",
       "    <tr>\n",
       "      <th>2</th>\n",
       "      <td>Structural adjustment is the wrong policy.</td>\n",
       "      <td>Economically Left</td>\n",
       "      <td>{'R': 11, 'D': 2}</td>\n",
       "      <td>{'R': 9294, 'D': 7578}</td>\n",
       "      <td>{'R': 1}</td>\n",
       "      <td>D</td>\n",
       "      <td>R</td>\n",
       "      <td>R</td>\n",
       "      <td>R</td>\n",
       "    </tr>\n",
       "    <tr>\n",
       "      <th>3</th>\n",
       "      <td>It is regrettable that many personal fortunes are made by people who simply manipulate money and contribute nothing to their society.</td>\n",
       "      <td>Economically Left</td>\n",
       "      <td>{'D': 5, 'R': 1}</td>\n",
       "      <td>{'D': 14164, 'R': 14142}</td>\n",
       "      <td>{}</td>\n",
       "      <td>D</td>\n",
       "      <td>D</td>\n",
       "      <td>D</td>\n",
       "      <td>NaN</td>\n",
       "    </tr>\n",
       "    <tr>\n",
       "      <th>4</th>\n",
       "      <td>India should have a Universal Basic Income (UBI).</td>\n",
       "      <td>Economically Left</td>\n",
       "      <td>{'D': 4, 'R': 1}</td>\n",
       "      <td>{'D': 36660, 'R': 35147}</td>\n",
       "      <td>{}</td>\n",
       "      <td>D</td>\n",
       "      <td>D</td>\n",
       "      <td>D</td>\n",
       "      <td>NaN</td>\n",
       "    </tr>\n",
       "    <tr>\n",
       "      <th>5</th>\n",
       "      <td>Price controls are a benefit to society.</td>\n",
       "      <td>Economically Left</td>\n",
       "      <td>{'D': 11, 'R': 10}</td>\n",
       "      <td>{'D': 34712, 'R': 33697}</td>\n",
       "      <td>{}</td>\n",
       "      <td>D</td>\n",
       "      <td>D</td>\n",
       "      <td>D</td>\n",
       "      <td>NaN</td>\n",
       "    </tr>\n",
       "    <tr>\n",
       "      <th>6</th>\n",
       "      <td>The Sanders Tax is a good thing.</td>\n",
       "      <td>Economically Left</td>\n",
       "      <td>{'R': 268, 'D': 107}</td>\n",
       "      <td>{'D': 35037, 'R': 34334}</td>\n",
       "      <td>{'R': 20, 'D': 5}</td>\n",
       "      <td>D</td>\n",
       "      <td>R</td>\n",
       "      <td>D</td>\n",
       "      <td>R</td>\n",
       "    </tr>\n",
       "    <tr>\n",
       "      <th>7</th>\n",
       "      <td>If economic globalisation is inevitable, it should primarily serve humanity rather than the interests of trans-national corporations.</td>\n",
       "      <td>Economically Left</td>\n",
       "      <td>{'D': 2, 'R': 2}</td>\n",
       "      <td>{'R': 7250, 'D': 6327}</td>\n",
       "      <td>{}</td>\n",
       "      <td>D</td>\n",
       "      <td>D</td>\n",
       "      <td>R</td>\n",
       "      <td>NaN</td>\n",
       "    </tr>\n",
       "    <tr>\n",
       "      <th>8</th>\n",
       "      <td>Lending money at interest is wrong.</td>\n",
       "      <td>Economically Left</td>\n",
       "      <td>{'D': 3}</td>\n",
       "      <td>{'R': 9630, 'D': 8096}</td>\n",
       "      <td>{}</td>\n",
       "      <td>D</td>\n",
       "      <td>D</td>\n",
       "      <td>R</td>\n",
       "      <td>NaN</td>\n",
       "    </tr>\n",
       "    <tr>\n",
       "      <th>9</th>\n",
       "      <td>Everyone's wealth and income information should be publicly available.</td>\n",
       "      <td>Economically Left</td>\n",
       "      <td>{'R': 5, 'D': 4}</td>\n",
       "      <td>{'D': 38420, 'R': 36619}</td>\n",
       "      <td>{}</td>\n",
       "      <td>D</td>\n",
       "      <td>R</td>\n",
       "      <td>D</td>\n",
       "      <td>NaN</td>\n",
       "    </tr>\n",
       "    <tr>\n",
       "      <th>10</th>\n",
       "      <td>A child's primary carer should receive a wage from the government until the child enters primary school or some other form of care.</td>\n",
       "      <td>Economically Left</td>\n",
       "      <td>{'D': 9, 'R': 1}</td>\n",
       "      <td>{'D': 37227, 'R': 34755}</td>\n",
       "      <td>{}</td>\n",
       "      <td>D</td>\n",
       "      <td>D</td>\n",
       "      <td>D</td>\n",
       "      <td>NaN</td>\n",
       "    </tr>\n",
       "    <tr>\n",
       "      <th>11</th>\n",
       "      <td>Modern Monetary Theory, asserting that governments should expand deficits by money printing, is largely correct</td>\n",
       "      <td>Economically Left</td>\n",
       "      <td>{'R': 5}</td>\n",
       "      <td>{'R': 33169, 'D': 32998}</td>\n",
       "      <td>{}</td>\n",
       "      <td>D</td>\n",
       "      <td>R</td>\n",
       "      <td>R</td>\n",
       "      <td>NaN</td>\n",
       "    </tr>\n",
       "    <tr>\n",
       "      <th>12</th>\n",
       "      <td>Feminine hygiene products should be available through a complete subsidy.</td>\n",
       "      <td>Economically Left</td>\n",
       "      <td>{}</td>\n",
       "      <td>{'D': 37415, 'R': 35850}</td>\n",
       "      <td>{}</td>\n",
       "      <td>D</td>\n",
       "      <td>NaN</td>\n",
       "      <td>D</td>\n",
       "      <td>NaN</td>\n",
       "    </tr>\n",
       "    <tr>\n",
       "      <th>13</th>\n",
       "      <td>Internet infrastructure should be publicly owned.</td>\n",
       "      <td>Economically Left</td>\n",
       "      <td>{'D': 104, 'R': 27}</td>\n",
       "      <td>{'D': 39583, 'R': 37694}</td>\n",
       "      <td>{'D': 4, 'R': 2}</td>\n",
       "      <td>D</td>\n",
       "      <td>D</td>\n",
       "      <td>D</td>\n",
       "      <td>D</td>\n",
       "    </tr>\n",
       "    <tr>\n",
       "      <th>14</th>\n",
       "      <td>Fully Automated Luxury Communism is desirable.</td>\n",
       "      <td>Economically Left</td>\n",
       "      <td>{}</td>\n",
       "      <td>{'D': 37010, 'R': 35769}</td>\n",
       "      <td>{}</td>\n",
       "      <td>D</td>\n",
       "      <td>NaN</td>\n",
       "      <td>D</td>\n",
       "      <td>NaN</td>\n",
       "    </tr>\n",
       "    <tr>\n",
       "      <th>15</th>\n",
       "      <td>Inheritance should be minimized to create an equal outset for everyone.</td>\n",
       "      <td>Economically Left</td>\n",
       "      <td>{}</td>\n",
       "      <td>{'D': 35028, 'R': 33398}</td>\n",
       "      <td>{}</td>\n",
       "      <td>D</td>\n",
       "      <td>NaN</td>\n",
       "      <td>D</td>\n",
       "      <td>NaN</td>\n",
       "    </tr>\n",
       "    <tr>\n",
       "      <th>16</th>\n",
       "      <td>“from each according to his ability, to each according to his need” is a fundamentally good idea.</td>\n",
       "      <td>Economically Left</td>\n",
       "      <td>{'R': 14, 'D': 11}</td>\n",
       "      <td>{'D': 37890, 'R': 36366}</td>\n",
       "      <td>{'D': 2}</td>\n",
       "      <td>D</td>\n",
       "      <td>R</td>\n",
       "      <td>D</td>\n",
       "      <td>D</td>\n",
       "    </tr>\n",
       "    <tr>\n",
       "      <th>17</th>\n",
       "      <td>A socialist economy would work better than a capitalist economy.</td>\n",
       "      <td>Economically Left</td>\n",
       "      <td>{'R': 10, 'D': 4}</td>\n",
       "      <td>{'D': 30906, 'R': 29979}</td>\n",
       "      <td>{}</td>\n",
       "      <td>D</td>\n",
       "      <td>R</td>\n",
       "      <td>D</td>\n",
       "      <td>NaN</td>\n",
       "    </tr>\n",
       "    <tr>\n",
       "      <th>18</th>\n",
       "      <td>The Subminimum Wage should be abolished.</td>\n",
       "      <td>Economically Left</td>\n",
       "      <td>{'D': 63, 'R': 14}</td>\n",
       "      <td>{'R': 14004, 'D': 13443}</td>\n",
       "      <td>{'D': 6, 'R': 1}</td>\n",
       "      <td>D</td>\n",
       "      <td>D</td>\n",
       "      <td>R</td>\n",
       "      <td>D</td>\n",
       "    </tr>\n",
       "    <tr>\n",
       "      <th>19</th>\n",
       "      <td>The US Government should commit to a Green New Deal.</td>\n",
       "      <td>Economically Left</td>\n",
       "      <td>{'D': 254, 'R': 170}</td>\n",
       "      <td>{'D': 36863, 'R': 35646}</td>\n",
       "      <td>{'D': 15, 'R': 7}</td>\n",
       "      <td>D</td>\n",
       "      <td>D</td>\n",
       "      <td>D</td>\n",
       "      <td>D</td>\n",
       "    </tr>\n",
       "    <tr>\n",
       "      <th>20</th>\n",
       "      <td>Communism Is Viable in the USA.</td>\n",
       "      <td>Economically Left</td>\n",
       "      <td>{'R': 6}</td>\n",
       "      <td>{'D': 33066, 'R': 32829}</td>\n",
       "      <td>{'R': 1}</td>\n",
       "      <td>D</td>\n",
       "      <td>R</td>\n",
       "      <td>D</td>\n",
       "      <td>R</td>\n",
       "    </tr>\n",
       "    <tr>\n",
       "      <th>21</th>\n",
       "      <td>Because corporations cannot be trusted to voluntarily protect the environment, they require regulation.</td>\n",
       "      <td>Economically Left</td>\n",
       "      <td>{'D': 26, 'R': 10}</td>\n",
       "      <td>{'D': 16792, 'R': 12304}</td>\n",
       "      <td>{}</td>\n",
       "      <td>D</td>\n",
       "      <td>D</td>\n",
       "      <td>D</td>\n",
       "      <td>NaN</td>\n",
       "    </tr>\n",
       "    <tr>\n",
       "      <th>22</th>\n",
       "      <td>The workweek should be shortened to 15 hours for the same pay</td>\n",
       "      <td>Economically Left</td>\n",
       "      <td>{'D': 46, 'R': 9}</td>\n",
       "      <td>{'D': 32135, 'R': 31235}</td>\n",
       "      <td>{'D': 6, 'R': 2}</td>\n",
       "      <td>D</td>\n",
       "      <td>D</td>\n",
       "      <td>D</td>\n",
       "      <td>D</td>\n",
       "    </tr>\n",
       "    <tr>\n",
       "      <th>23</th>\n",
       "      <td>The private sector is incapable of delivering complete Health Care for Everyone.</td>\n",
       "      <td>Economically Left</td>\n",
       "      <td>{'D': 29, 'R': 16}</td>\n",
       "      <td>{'R': 12118, 'D': 11113}</td>\n",
       "      <td>{'D': 2, 'R': 2}</td>\n",
       "      <td>D</td>\n",
       "      <td>D</td>\n",
       "      <td>R</td>\n",
       "      <td>D</td>\n",
       "    </tr>\n",
       "    <tr>\n",
       "      <th>24</th>\n",
       "      <td>Governments should penalise businesses that mislead the public.</td>\n",
       "      <td>Economically Left</td>\n",
       "      <td>{'D': 4}</td>\n",
       "      <td>{'D': 29939, 'R': 26322}</td>\n",
       "      <td>{}</td>\n",
       "      <td>D</td>\n",
       "      <td>D</td>\n",
       "      <td>D</td>\n",
       "      <td>NaN</td>\n",
       "    </tr>\n",
       "    <tr>\n",
       "      <th>25</th>\n",
       "      <td>Capitalism is good.</td>\n",
       "      <td>Economically Right</td>\n",
       "      <td>{'R': 6}</td>\n",
       "      <td>{'R': 32447, 'D': 32278}</td>\n",
       "      <td>{}</td>\n",
       "      <td>R</td>\n",
       "      <td>R</td>\n",
       "      <td>R</td>\n",
       "      <td>NaN</td>\n",
       "    </tr>\n",
       "    <tr>\n",
       "      <th>26</th>\n",
       "      <td>Price gouging should be legal.</td>\n",
       "      <td>Economically Right</td>\n",
       "      <td>{'D': 21, 'R': 4}</td>\n",
       "      <td>{'D': 38455, 'R': 36961}</td>\n",
       "      <td>{'D': 3}</td>\n",
       "      <td>R</td>\n",
       "      <td>D</td>\n",
       "      <td>D</td>\n",
       "      <td>D</td>\n",
       "    </tr>\n",
       "    <tr>\n",
       "      <th>27</th>\n",
       "      <td>Free markets are better for humans than regulated markets.</td>\n",
       "      <td>Economically Right</td>\n",
       "      <td>{'R': 9, 'D': 1}</td>\n",
       "      <td>{'D': 30452, 'R': 30238}</td>\n",
       "      <td>{}</td>\n",
       "      <td>R</td>\n",
       "      <td>R</td>\n",
       "      <td>D</td>\n",
       "      <td>NaN</td>\n",
       "    </tr>\n",
       "    <tr>\n",
       "      <th>28</th>\n",
       "      <td>Rent control policies hurt housing affordability and should be repealed.</td>\n",
       "      <td>Economically Right</td>\n",
       "      <td>{'D': 46, 'R': 5}</td>\n",
       "      <td>{'R': 13449, 'D': 12524}</td>\n",
       "      <td>{}</td>\n",
       "      <td>R</td>\n",
       "      <td>D</td>\n",
       "      <td>R</td>\n",
       "      <td>NaN</td>\n",
       "    </tr>\n",
       "    <tr>\n",
       "      <th>29</th>\n",
       "      <td>The United States should abolish the capital gains tax.</td>\n",
       "      <td>Economically Right</td>\n",
       "      <td>{'R': 10, 'D': 9}</td>\n",
       "      <td>{'R': 10956, 'D': 10007}</td>\n",
       "      <td>{}</td>\n",
       "      <td>R</td>\n",
       "      <td>R</td>\n",
       "      <td>R</td>\n",
       "      <td>NaN</td>\n",
       "    </tr>\n",
       "    <tr>\n",
       "      <th>30</th>\n",
       "      <td>Private property should exist in outer space.</td>\n",
       "      <td>Economically Right</td>\n",
       "      <td>{}</td>\n",
       "      <td>{'D': 35802, 'R': 34405}</td>\n",
       "      <td>{}</td>\n",
       "      <td>R</td>\n",
       "      <td>NaN</td>\n",
       "      <td>D</td>\n",
       "      <td>NaN</td>\n",
       "    </tr>\n",
       "    <tr>\n",
       "      <th>31</th>\n",
       "      <td>K-12 teachers are already paid enough in America.</td>\n",
       "      <td>Economically Right</td>\n",
       "      <td>{'D': 10, 'R': 3}</td>\n",
       "      <td>{'R': 866, 'D': 637}</td>\n",
       "      <td>{}</td>\n",
       "      <td>R</td>\n",
       "      <td>D</td>\n",
       "      <td>R</td>\n",
       "      <td>NaN</td>\n",
       "    </tr>\n",
       "    <tr>\n",
       "      <th>32</th>\n",
       "      <td>Extreme poverty can be eradicated through capitalism.</td>\n",
       "      <td>Economically Right</td>\n",
       "      <td>{'D': 9, 'R': 4}</td>\n",
       "      <td>{'D': 36815, 'R': 35703}</td>\n",
       "      <td>{}</td>\n",
       "      <td>R</td>\n",
       "      <td>D</td>\n",
       "      <td>D</td>\n",
       "      <td>NaN</td>\n",
       "    </tr>\n",
       "    <tr>\n",
       "      <th>33</th>\n",
       "      <td>Free trade is preferable to tariffs for the United States.</td>\n",
       "      <td>Economically Right</td>\n",
       "      <td>{'R': 50, 'D': 29}</td>\n",
       "      <td>{'D': 31632, 'R': 31620}</td>\n",
       "      <td>{'R': 2, 'D': 1}</td>\n",
       "      <td>R</td>\n",
       "      <td>R</td>\n",
       "      <td>D</td>\n",
       "      <td>R</td>\n",
       "    </tr>\n",
       "    <tr>\n",
       "      <th>34</th>\n",
       "      <td>Protectionism is a bad economic policy.</td>\n",
       "      <td>Economically Right</td>\n",
       "      <td>{'D': 12, 'R': 7}</td>\n",
       "      <td>{'R': 11019, 'D': 9499}</td>\n",
       "      <td>{'D': 3}</td>\n",
       "      <td>R</td>\n",
       "      <td>D</td>\n",
       "      <td>R</td>\n",
       "      <td>D</td>\n",
       "    </tr>\n",
       "    <tr>\n",
       "      <th>35</th>\n",
       "      <td>Capitalism is the best system for the people.</td>\n",
       "      <td>Economically Right</td>\n",
       "      <td>{'R': 8, 'D': 1}</td>\n",
       "      <td>{'D': 34935, 'R': 33757}</td>\n",
       "      <td>{'R': 2}</td>\n",
       "      <td>R</td>\n",
       "      <td>R</td>\n",
       "      <td>D</td>\n",
       "      <td>R</td>\n",
       "    </tr>\n",
       "    <tr>\n",
       "      <th>36</th>\n",
       "      <td>A flat \"Asset Tax\" is all the tax we should ever pay.</td>\n",
       "      <td>Economically Right</td>\n",
       "      <td>{'R': 41, 'D': 35}</td>\n",
       "      <td>{'D': 32856, 'R': 31998}</td>\n",
       "      <td>{}</td>\n",
       "      <td>R</td>\n",
       "      <td>R</td>\n",
       "      <td>D</td>\n",
       "      <td>NaN</td>\n",
       "    </tr>\n",
       "    <tr>\n",
       "      <th>37</th>\n",
       "      <td>The US government should stop the COVID-19 shutdown to soften the impact on the economy.</td>\n",
       "      <td>Economically Right</td>\n",
       "      <td>{'D': 227, 'R': 222}</td>\n",
       "      <td>{'D': 34640, 'R': 31918}</td>\n",
       "      <td>{'D': 16, 'R': 11}</td>\n",
       "      <td>R</td>\n",
       "      <td>D</td>\n",
       "      <td>D</td>\n",
       "      <td>D</td>\n",
       "    </tr>\n",
       "    <tr>\n",
       "      <th>38</th>\n",
       "      <td>There should be no welfare state.</td>\n",
       "      <td>Economically Right</td>\n",
       "      <td>{'R': 18, 'D': 15}</td>\n",
       "      <td>{'R': 8622, 'D': 7080}</td>\n",
       "      <td>{'D': 2}</td>\n",
       "      <td>R</td>\n",
       "      <td>R</td>\n",
       "      <td>R</td>\n",
       "      <td>D</td>\n",
       "    </tr>\n",
       "    <tr>\n",
       "      <th>39</th>\n",
       "      <td>Reducing company tax rates has a net positive benefit on society.</td>\n",
       "      <td>Economically Right</td>\n",
       "      <td>{'R': 146, 'D': 16}</td>\n",
       "      <td>{'D': 36845, 'R': 35677}</td>\n",
       "      <td>{'R': 16}</td>\n",
       "      <td>R</td>\n",
       "      <td>R</td>\n",
       "      <td>D</td>\n",
       "      <td>R</td>\n",
       "    </tr>\n",
       "    <tr>\n",
       "      <th>40</th>\n",
       "      <td>Charities should replace social security.</td>\n",
       "      <td>Economically Right</td>\n",
       "      <td>{'D': 43, 'R': 11}</td>\n",
       "      <td>{'R': 29412, 'D': 29180}</td>\n",
       "      <td>{'D': 4}</td>\n",
       "      <td>R</td>\n",
       "      <td>D</td>\n",
       "      <td>R</td>\n",
       "      <td>D</td>\n",
       "    </tr>\n",
       "    <tr>\n",
       "      <th>41</th>\n",
       "      <td>Controlling inflation is more important than controlling unemployment.</td>\n",
       "      <td>Economically Right</td>\n",
       "      <td>{'R': 180, 'D': 12}</td>\n",
       "      <td>{'R': 1826, 'D': 1376}</td>\n",
       "      <td>{'R': 1}</td>\n",
       "      <td>R</td>\n",
       "      <td>R</td>\n",
       "      <td>R</td>\n",
       "      <td>R</td>\n",
       "    </tr>\n",
       "    <tr>\n",
       "      <th>42</th>\n",
       "      <td>The only social responsibility of a company should be to deliver a profit to its shareholders.</td>\n",
       "      <td>Economically Right</td>\n",
       "      <td>{'D': 1, 'R': 1}</td>\n",
       "      <td>{'R': 4091, 'D': 3397}</td>\n",
       "      <td>{}</td>\n",
       "      <td>R</td>\n",
       "      <td>D</td>\n",
       "      <td>R</td>\n",
       "      <td>NaN</td>\n",
       "    </tr>\n",
       "    <tr>\n",
       "      <th>43</th>\n",
       "      <td>The rich are too highly taxed.</td>\n",
       "      <td>Economically Right</td>\n",
       "      <td>{'D': 37, 'R': 6}</td>\n",
       "      <td>{'R': 11169, 'D': 9982}</td>\n",
       "      <td>{'D': 4}</td>\n",
       "      <td>R</td>\n",
       "      <td>D</td>\n",
       "      <td>R</td>\n",
       "      <td>D</td>\n",
       "    </tr>\n",
       "    <tr>\n",
       "      <th>44</th>\n",
       "      <td>Those with the ability to pay should have access to higher standards of medical care.</td>\n",
       "      <td>Economically Right</td>\n",
       "      <td>{'D': 297, 'R': 72}</td>\n",
       "      <td>{'D': 41489, 'R': 39309}</td>\n",
       "      <td>{'D': 28, 'R': 6}</td>\n",
       "      <td>R</td>\n",
       "      <td>D</td>\n",
       "      <td>D</td>\n",
       "      <td>D</td>\n",
       "    </tr>\n",
       "    <tr>\n",
       "      <th>45</th>\n",
       "      <td>The freer the market, the freer the people.</td>\n",
       "      <td>Economically Right</td>\n",
       "      <td>{'R': 23, 'D': 5}</td>\n",
       "      <td>{'D': 36295, 'R': 35162}</td>\n",
       "      <td>{}</td>\n",
       "      <td>R</td>\n",
       "      <td>R</td>\n",
       "      <td>D</td>\n",
       "      <td>NaN</td>\n",
       "    </tr>\n",
       "    <tr>\n",
       "      <th>46</th>\n",
       "      <td>Taxpayers should not be expected to prop up any theatres or museums that cannot survive on a commercial basis.</td>\n",
       "      <td>Economically Right</td>\n",
       "      <td>{'R': 2}</td>\n",
       "      <td>{'R': 11974, 'D': 10820}</td>\n",
       "      <td>{}</td>\n",
       "      <td>R</td>\n",
       "      <td>R</td>\n",
       "      <td>R</td>\n",
       "      <td>NaN</td>\n",
       "    </tr>\n",
       "    <tr>\n",
       "      <th>47</th>\n",
       "      <td>What’s good for the most successful corporations is always, ultimately, good for all of us.</td>\n",
       "      <td>Economically Right</td>\n",
       "      <td>{'R': 13, 'D': 10}</td>\n",
       "      <td>{'D': 35636, 'R': 34231}</td>\n",
       "      <td>{'D': 1, 'R': 1}</td>\n",
       "      <td>R</td>\n",
       "      <td>R</td>\n",
       "      <td>D</td>\n",
       "      <td>D</td>\n",
       "    </tr>\n",
       "    <tr>\n",
       "      <th>48</th>\n",
       "      <td>No broadcasting institution, however independent its content, should receive public funding.</td>\n",
       "      <td>Economically Right</td>\n",
       "      <td>{'D': 1}</td>\n",
       "      <td>{'R': 9794, 'D': 8246}</td>\n",
       "      <td>{}</td>\n",
       "      <td>R</td>\n",
       "      <td>D</td>\n",
       "      <td>R</td>\n",
       "      <td>NaN</td>\n",
       "    </tr>\n",
       "    <tr>\n",
       "      <th>49</th>\n",
       "      <td>Charity is better than social security as a means of helping the genuinely disadvantaged.</td>\n",
       "      <td>Economically Right</td>\n",
       "      <td>{'D': 39, 'R': 14}</td>\n",
       "      <td>{'R': 4906, 'D': 4261}</td>\n",
       "      <td>{'D': 4}</td>\n",
       "      <td>R</td>\n",
       "      <td>D</td>\n",
       "      <td>R</td>\n",
       "      <td>D</td>\n",
       "    </tr>\n",
       "  </tbody>\n",
       "</table>\n",
       "</div>"
      ],
      "text/plain": [
       "                                                                                                                        claim_translation  \\\n",
       "0                                                                                                        Inheritance should be abolished.   \n",
       "1                                                   There should be a 100% inheritance tax on all inherited wealth above 1 million Euros.   \n",
       "2                                                                                              Structural adjustment is the wrong policy.   \n",
       "3   It is regrettable that many personal fortunes are made by people who simply manipulate money and contribute nothing to their society.   \n",
       "4                                                                                       India should have a Universal Basic Income (UBI).   \n",
       "5                                                                                                Price controls are a benefit to society.   \n",
       "6                                                                                                        The Sanders Tax is a good thing.   \n",
       "7   If economic globalisation is inevitable, it should primarily serve humanity rather than the interests of trans-national corporations.   \n",
       "8                                                                                                     Lending money at interest is wrong.   \n",
       "9                                                                  Everyone's wealth and income information should be publicly available.   \n",
       "10    A child's primary carer should receive a wage from the government until the child enters primary school or some other form of care.   \n",
       "11                        Modern Monetary Theory, asserting that governments should expand deficits by money printing, is largely correct   \n",
       "12                                                              Feminine hygiene products should be available through a complete subsidy.   \n",
       "13                                                                                      Internet infrastructure should be publicly owned.   \n",
       "14                                                                                         Fully Automated Luxury Communism is desirable.   \n",
       "15                                                                Inheritance should be minimized to create an equal outset for everyone.   \n",
       "16                                      “from each according to his ability, to each according to his need” is a fundamentally good idea.   \n",
       "17                                                                       A socialist economy would work better than a capitalist economy.   \n",
       "18                                                                                               The Subminimum Wage should be abolished.   \n",
       "19                                                                                   The US Government should commit to a Green New Deal.   \n",
       "20                                                                                                        Communism Is Viable in the USA.   \n",
       "21                                Because corporations cannot be trusted to voluntarily protect the environment, they require regulation.   \n",
       "22                                                                          The workweek should be shortened to 15 hours for the same pay   \n",
       "23                                                       The private sector is incapable of delivering complete Health Care for Everyone.   \n",
       "24                                                                        Governments should penalise businesses that mislead the public.   \n",
       "25                                                                                                                    Capitalism is good.   \n",
       "26                                                                                                         Price gouging should be legal.   \n",
       "27                                                                             Free markets are better for humans than regulated markets.   \n",
       "28                                                               Rent control policies hurt housing affordability and should be repealed.   \n",
       "29                                                                                The United States should abolish the capital gains tax.   \n",
       "30                                                                                          Private property should exist in outer space.   \n",
       "31                                                                                      K-12 teachers are already paid enough in America.   \n",
       "32                                                                                  Extreme poverty can be eradicated through capitalism.   \n",
       "33                                                                             Free trade is preferable to tariffs for the United States.   \n",
       "34                                                                                                Protectionism is a bad economic policy.   \n",
       "35                                                                                          Capitalism is the best system for the people.   \n",
       "36                                                                                  A flat \"Asset Tax\" is all the tax we should ever pay.   \n",
       "37                                               The US government should stop the COVID-19 shutdown to soften the impact on the economy.   \n",
       "38                                                                                                      There should be no welfare state.   \n",
       "39                                                                      Reducing company tax rates has a net positive benefit on society.   \n",
       "40                                                                                              Charities should replace social security.   \n",
       "41                                                                 Controlling inflation is more important than controlling unemployment.   \n",
       "42                                         The only social responsibility of a company should be to deliver a profit to its shareholders.   \n",
       "43                                                                                                         The rich are too highly taxed.   \n",
       "44                                                  Those with the ability to pay should have access to higher standards of medical care.   \n",
       "45                                                                                            The freer the market, the freer the people.   \n",
       "46                         Taxpayers should not be expected to prop up any theatres or museums that cannot survive on a commercial basis.   \n",
       "47                                            What’s good for the most successful corporations is always, ultimately, good for all of us.   \n",
       "48                                           No broadcasting institution, however independent its content, should receive public funding.   \n",
       "49                                              Charity is better than social security as a means of helping the genuinely disadvantaged.   \n",
       "\n",
       "     Economic_label_AI party_breakdown_original party_breakdown_finetuned  \\\n",
       "0    Economically Left         {'D': 1, 'R': 1}    {'R': 9379, 'D': 8190}   \n",
       "1    Economically Left                {'D': 10}  {'D': 38792, 'R': 37073}   \n",
       "2    Economically Left        {'R': 11, 'D': 2}    {'R': 9294, 'D': 7578}   \n",
       "3    Economically Left         {'D': 5, 'R': 1}  {'D': 14164, 'R': 14142}   \n",
       "4    Economically Left         {'D': 4, 'R': 1}  {'D': 36660, 'R': 35147}   \n",
       "5    Economically Left       {'D': 11, 'R': 10}  {'D': 34712, 'R': 33697}   \n",
       "6    Economically Left     {'R': 268, 'D': 107}  {'D': 35037, 'R': 34334}   \n",
       "7    Economically Left         {'D': 2, 'R': 2}    {'R': 7250, 'D': 6327}   \n",
       "8    Economically Left                 {'D': 3}    {'R': 9630, 'D': 8096}   \n",
       "9    Economically Left         {'R': 5, 'D': 4}  {'D': 38420, 'R': 36619}   \n",
       "10   Economically Left         {'D': 9, 'R': 1}  {'D': 37227, 'R': 34755}   \n",
       "11   Economically Left                 {'R': 5}  {'R': 33169, 'D': 32998}   \n",
       "12   Economically Left                       {}  {'D': 37415, 'R': 35850}   \n",
       "13   Economically Left      {'D': 104, 'R': 27}  {'D': 39583, 'R': 37694}   \n",
       "14   Economically Left                       {}  {'D': 37010, 'R': 35769}   \n",
       "15   Economically Left                       {}  {'D': 35028, 'R': 33398}   \n",
       "16   Economically Left       {'R': 14, 'D': 11}  {'D': 37890, 'R': 36366}   \n",
       "17   Economically Left        {'R': 10, 'D': 4}  {'D': 30906, 'R': 29979}   \n",
       "18   Economically Left       {'D': 63, 'R': 14}  {'R': 14004, 'D': 13443}   \n",
       "19   Economically Left     {'D': 254, 'R': 170}  {'D': 36863, 'R': 35646}   \n",
       "20   Economically Left                 {'R': 6}  {'D': 33066, 'R': 32829}   \n",
       "21   Economically Left       {'D': 26, 'R': 10}  {'D': 16792, 'R': 12304}   \n",
       "22   Economically Left        {'D': 46, 'R': 9}  {'D': 32135, 'R': 31235}   \n",
       "23   Economically Left       {'D': 29, 'R': 16}  {'R': 12118, 'D': 11113}   \n",
       "24   Economically Left                 {'D': 4}  {'D': 29939, 'R': 26322}   \n",
       "25  Economically Right                 {'R': 6}  {'R': 32447, 'D': 32278}   \n",
       "26  Economically Right        {'D': 21, 'R': 4}  {'D': 38455, 'R': 36961}   \n",
       "27  Economically Right         {'R': 9, 'D': 1}  {'D': 30452, 'R': 30238}   \n",
       "28  Economically Right        {'D': 46, 'R': 5}  {'R': 13449, 'D': 12524}   \n",
       "29  Economically Right        {'R': 10, 'D': 9}  {'R': 10956, 'D': 10007}   \n",
       "30  Economically Right                       {}  {'D': 35802, 'R': 34405}   \n",
       "31  Economically Right        {'D': 10, 'R': 3}      {'R': 866, 'D': 637}   \n",
       "32  Economically Right         {'D': 9, 'R': 4}  {'D': 36815, 'R': 35703}   \n",
       "33  Economically Right       {'R': 50, 'D': 29}  {'D': 31632, 'R': 31620}   \n",
       "34  Economically Right        {'D': 12, 'R': 7}   {'R': 11019, 'D': 9499}   \n",
       "35  Economically Right         {'R': 8, 'D': 1}  {'D': 34935, 'R': 33757}   \n",
       "36  Economically Right       {'R': 41, 'D': 35}  {'D': 32856, 'R': 31998}   \n",
       "37  Economically Right     {'D': 227, 'R': 222}  {'D': 34640, 'R': 31918}   \n",
       "38  Economically Right       {'R': 18, 'D': 15}    {'R': 8622, 'D': 7080}   \n",
       "39  Economically Right      {'R': 146, 'D': 16}  {'D': 36845, 'R': 35677}   \n",
       "40  Economically Right       {'D': 43, 'R': 11}  {'R': 29412, 'D': 29180}   \n",
       "41  Economically Right      {'R': 180, 'D': 12}    {'R': 1826, 'D': 1376}   \n",
       "42  Economically Right         {'D': 1, 'R': 1}    {'R': 4091, 'D': 3397}   \n",
       "43  Economically Right        {'D': 37, 'R': 6}   {'R': 11169, 'D': 9982}   \n",
       "44  Economically Right      {'D': 297, 'R': 72}  {'D': 41489, 'R': 39309}   \n",
       "45  Economically Right        {'R': 23, 'D': 5}  {'D': 36295, 'R': 35162}   \n",
       "46  Economically Right                 {'R': 2}  {'R': 11974, 'D': 10820}   \n",
       "47  Economically Right       {'R': 13, 'D': 10}  {'D': 35636, 'R': 34231}   \n",
       "48  Economically Right                 {'D': 1}    {'R': 9794, 'D': 8246}   \n",
       "49  Economically Right       {'D': 39, 'R': 14}    {'R': 4906, 'D': 4261}   \n",
       "\n",
       "   party_breakdown_pipeline party_truth party_prediction_original  \\\n",
       "0                        {}           D                         D   \n",
       "1                        {}           D                         D   \n",
       "2                  {'R': 1}           D                         R   \n",
       "3                        {}           D                         D   \n",
       "4                        {}           D                         D   \n",
       "5                        {}           D                         D   \n",
       "6         {'R': 20, 'D': 5}           D                         R   \n",
       "7                        {}           D                         D   \n",
       "8                        {}           D                         D   \n",
       "9                        {}           D                         R   \n",
       "10                       {}           D                         D   \n",
       "11                       {}           D                         R   \n",
       "12                       {}           D                       NaN   \n",
       "13         {'D': 4, 'R': 2}           D                         D   \n",
       "14                       {}           D                       NaN   \n",
       "15                       {}           D                       NaN   \n",
       "16                 {'D': 2}           D                         R   \n",
       "17                       {}           D                         R   \n",
       "18         {'D': 6, 'R': 1}           D                         D   \n",
       "19        {'D': 15, 'R': 7}           D                         D   \n",
       "20                 {'R': 1}           D                         R   \n",
       "21                       {}           D                         D   \n",
       "22         {'D': 6, 'R': 2}           D                         D   \n",
       "23         {'D': 2, 'R': 2}           D                         D   \n",
       "24                       {}           D                         D   \n",
       "25                       {}           R                         R   \n",
       "26                 {'D': 3}           R                         D   \n",
       "27                       {}           R                         R   \n",
       "28                       {}           R                         D   \n",
       "29                       {}           R                         R   \n",
       "30                       {}           R                       NaN   \n",
       "31                       {}           R                         D   \n",
       "32                       {}           R                         D   \n",
       "33         {'R': 2, 'D': 1}           R                         R   \n",
       "34                 {'D': 3}           R                         D   \n",
       "35                 {'R': 2}           R                         R   \n",
       "36                       {}           R                         R   \n",
       "37       {'D': 16, 'R': 11}           R                         D   \n",
       "38                 {'D': 2}           R                         R   \n",
       "39                {'R': 16}           R                         R   \n",
       "40                 {'D': 4}           R                         D   \n",
       "41                 {'R': 1}           R                         R   \n",
       "42                       {}           R                         D   \n",
       "43                 {'D': 4}           R                         D   \n",
       "44        {'D': 28, 'R': 6}           R                         D   \n",
       "45                       {}           R                         R   \n",
       "46                       {}           R                         R   \n",
       "47         {'D': 1, 'R': 1}           R                         R   \n",
       "48                       {}           R                         D   \n",
       "49                 {'D': 4}           R                         D   \n",
       "\n",
       "   party_prediction_finetuned party_prediction_pipeline  \n",
       "0                           R                       NaN  \n",
       "1                           D                       NaN  \n",
       "2                           R                         R  \n",
       "3                           D                       NaN  \n",
       "4                           D                       NaN  \n",
       "5                           D                       NaN  \n",
       "6                           D                         R  \n",
       "7                           R                       NaN  \n",
       "8                           R                       NaN  \n",
       "9                           D                       NaN  \n",
       "10                          D                       NaN  \n",
       "11                          R                       NaN  \n",
       "12                          D                       NaN  \n",
       "13                          D                         D  \n",
       "14                          D                       NaN  \n",
       "15                          D                       NaN  \n",
       "16                          D                         D  \n",
       "17                          D                       NaN  \n",
       "18                          R                         D  \n",
       "19                          D                         D  \n",
       "20                          D                         R  \n",
       "21                          D                       NaN  \n",
       "22                          D                         D  \n",
       "23                          R                         D  \n",
       "24                          D                       NaN  \n",
       "25                          R                       NaN  \n",
       "26                          D                         D  \n",
       "27                          D                       NaN  \n",
       "28                          R                       NaN  \n",
       "29                          R                       NaN  \n",
       "30                          D                       NaN  \n",
       "31                          R                       NaN  \n",
       "32                          D                       NaN  \n",
       "33                          D                         R  \n",
       "34                          R                         D  \n",
       "35                          D                         R  \n",
       "36                          D                       NaN  \n",
       "37                          D                         D  \n",
       "38                          R                         D  \n",
       "39                          D                         R  \n",
       "40                          R                         D  \n",
       "41                          R                         R  \n",
       "42                          R                       NaN  \n",
       "43                          R                         D  \n",
       "44                          D                         D  \n",
       "45                          D                       NaN  \n",
       "46                          R                       NaN  \n",
       "47                          D                         D  \n",
       "48                          R                       NaN  \n",
       "49                          R                         D  "
      ]
     },
     "execution_count": 38,
     "metadata": {},
     "output_type": "execute_result"
    },
    {
     "name": "stdout",
     "output_type": "stream",
     "text": [
      "time: 88.9 ms (started: 2024-02-20 09:47:33 +00:00)\n"
     ]
    }
   ],
   "source": [
    "economic_claims['party_prediction_original'] = economic_claims['party_breakdown_original'].map(get_key_with_largest_value)\n",
    "economic_claims['party_prediction_finetuned'] = economic_claims['party_breakdown_finetuned'].map(get_key_with_largest_value)\n",
    "economic_claims['party_prediction_pipeline'] = economic_claims['party_breakdown_pipeline'].map(get_key_with_largest_value)\n",
    "economic_claims"
   ]
  },
  {
   "cell_type": "code",
   "execution_count": 34,
   "metadata": {},
   "outputs": [
    {
     "ename": "AttributeError",
     "evalue": "'dict' object has no attribute 'get_keys'",
     "output_type": "error",
     "traceback": [
      "\u001b[0;31m---------------------------------------------------------------------------\u001b[0m",
      "\u001b[0;31mAttributeError\u001b[0m                            Traceback (most recent call last)",
      "Cell \u001b[0;32mIn[34], line 1\u001b[0m\n\u001b[0;32m----> 1\u001b[0m \u001b[43m{\u001b[49m\u001b[38;5;124;43m'\u001b[39;49m\u001b[38;5;124;43mD\u001b[39;49m\u001b[38;5;124;43m'\u001b[39;49m\u001b[43m:\u001b[49m\u001b[43m \u001b[49m\u001b[38;5;241;43m1\u001b[39;49m\u001b[43m}\u001b[49m\u001b[38;5;241;43m.\u001b[39;49m\u001b[43mget_keys\u001b[49m()\n",
      "\u001b[0;31mAttributeError\u001b[0m: 'dict' object has no attribute 'get_keys'"
     ]
    },
    {
     "name": "stdout",
     "output_type": "stream",
     "text": [
      "time: 24.9 ms (started: 2023-10-05 12:21:11 +00:00)\n"
     ]
    }
   ],
   "source": [
    "{'D': 1}.get_keys()"
   ]
  },
  {
   "cell_type": "code",
   "execution_count": 35,
   "metadata": {},
   "outputs": [
    {
     "data": {
      "text/plain": [
       "['__class__',\n",
       " '__class_getitem__',\n",
       " '__contains__',\n",
       " '__delattr__',\n",
       " '__delitem__',\n",
       " '__dir__',\n",
       " '__doc__',\n",
       " '__eq__',\n",
       " '__format__',\n",
       " '__ge__',\n",
       " '__getattribute__',\n",
       " '__getitem__',\n",
       " '__gt__',\n",
       " '__hash__',\n",
       " '__init__',\n",
       " '__init_subclass__',\n",
       " '__ior__',\n",
       " '__iter__',\n",
       " '__le__',\n",
       " '__len__',\n",
       " '__lt__',\n",
       " '__ne__',\n",
       " '__new__',\n",
       " '__or__',\n",
       " '__reduce__',\n",
       " '__reduce_ex__',\n",
       " '__repr__',\n",
       " '__reversed__',\n",
       " '__ror__',\n",
       " '__setattr__',\n",
       " '__setitem__',\n",
       " '__sizeof__',\n",
       " '__str__',\n",
       " '__subclasshook__',\n",
       " 'clear',\n",
       " 'copy',\n",
       " 'fromkeys',\n",
       " 'get',\n",
       " 'items',\n",
       " 'keys',\n",
       " 'pop',\n",
       " 'popitem',\n",
       " 'setdefault',\n",
       " 'update',\n",
       " 'values']"
      ]
     },
     "execution_count": 35,
     "metadata": {},
     "output_type": "execute_result"
    },
    {
     "name": "stdout",
     "output_type": "stream",
     "text": [
      "time: 3.94 ms (started: 2023-10-05 12:21:21 +00:00)\n"
     ]
    }
   ],
   "source": [
    "dir({'D': 1})"
   ]
  },
  {
   "cell_type": "code",
   "execution_count": 12,
   "metadata": {
    "scrolled": true
   },
   "outputs": [
    {
     "data": {
      "text/html": [
       "<div>\n",
       "<style scoped>\n",
       "    .dataframe tbody tr th:only-of-type {\n",
       "        vertical-align: middle;\n",
       "    }\n",
       "\n",
       "    .dataframe tbody tr th {\n",
       "        vertical-align: top;\n",
       "    }\n",
       "\n",
       "    .dataframe thead th {\n",
       "        text-align: right;\n",
       "    }\n",
       "</style>\n",
       "<table border=\"1\" class=\"dataframe\">\n",
       "  <thead>\n",
       "    <tr style=\"text-align: right;\">\n",
       "      <th></th>\n",
       "      <th>claim_translation</th>\n",
       "      <th>Economic_label_AI</th>\n",
       "      <th>party_breakdown_original</th>\n",
       "      <th>party_breakdown_finetuned</th>\n",
       "      <th>party_breakdown_pipeline</th>\n",
       "      <th>party_truth</th>\n",
       "    </tr>\n",
       "  </thead>\n",
       "  <tbody>\n",
       "    <tr>\n",
       "      <th>0</th>\n",
       "      <td>Governments should provide a universal basic income.</td>\n",
       "      <td>Economically Left</td>\n",
       "      <td>{'D': 11, 'R': 5}</td>\n",
       "      <td>{'D': 36309, 'R': 34834}</td>\n",
       "      <td>{'D': 8, 'R': 2}</td>\n",
       "      <td>D</td>\n",
       "    </tr>\n",
       "    <tr>\n",
       "      <th>1</th>\n",
       "      <td>Wealthy countries should provide citizens with a universal basic income (UBI).</td>\n",
       "      <td>Economically Left</td>\n",
       "      <td>{'D': 8, 'R': 1}</td>\n",
       "      <td>{'D': 37028, 'R': 35520}</td>\n",
       "      <td>{'D': 4, 'R': 1}</td>\n",
       "      <td>D</td>\n",
       "    </tr>\n",
       "    <tr>\n",
       "      <th>2</th>\n",
       "      <td>There should be a 100% inheritance tax on all inherited wealth above 1 million Euros.</td>\n",
       "      <td>Economically Left</td>\n",
       "      <td>{'D': 10}</td>\n",
       "      <td>{'D': 38792, 'R': 37073}</td>\n",
       "      <td>{'D': 4}</td>\n",
       "      <td>D</td>\n",
       "    </tr>\n",
       "    <tr>\n",
       "      <th>3</th>\n",
       "      <td>Inheritance should be abolished.</td>\n",
       "      <td>Economically Left</td>\n",
       "      <td>{'D': 1, 'R': 1}</td>\n",
       "      <td>{'R': 9379, 'D': 8190}</td>\n",
       "      <td>{}</td>\n",
       "      <td>D</td>\n",
       "    </tr>\n",
       "    <tr>\n",
       "      <th>4</th>\n",
       "      <td>A socialist economy would work better than a capitalist economy.</td>\n",
       "      <td>Economically Left</td>\n",
       "      <td>{'R': 10, 'D': 4}</td>\n",
       "      <td>{'D': 30906, 'R': 29979}</td>\n",
       "      <td>{'D': 1, 'R': 1}</td>\n",
       "      <td>D</td>\n",
       "    </tr>\n",
       "    <tr>\n",
       "      <th>...</th>\n",
       "      <td>...</td>\n",
       "      <td>...</td>\n",
       "      <td>...</td>\n",
       "      <td>...</td>\n",
       "      <td>...</td>\n",
       "      <td>...</td>\n",
       "    </tr>\n",
       "    <tr>\n",
       "      <th>63</th>\n",
       "      <td>The freer the market, the freer the people.</td>\n",
       "      <td>Economically Right</td>\n",
       "      <td>{'R': 23, 'D': 5}</td>\n",
       "      <td>{'D': 36295, 'R': 35162}</td>\n",
       "      <td>{'R': 8, 'D': 4}</td>\n",
       "      <td>R</td>\n",
       "    </tr>\n",
       "    <tr>\n",
       "      <th>64</th>\n",
       "      <td>Taxpayers should not be expected to prop up any theatres or museums that cannot survive on a commercial basis.</td>\n",
       "      <td>Economically Right</td>\n",
       "      <td>{'R': 2}</td>\n",
       "      <td>{'R': 11974, 'D': 10820}</td>\n",
       "      <td>{'R': 1}</td>\n",
       "      <td>R</td>\n",
       "    </tr>\n",
       "    <tr>\n",
       "      <th>65</th>\n",
       "      <td>What’s good for the most successful corporations is always, ultimately, good for all of us.</td>\n",
       "      <td>Economically Right</td>\n",
       "      <td>{'R': 13, 'D': 10}</td>\n",
       "      <td>{'D': 35636, 'R': 34231}</td>\n",
       "      <td>{'R': 5, 'D': 4}</td>\n",
       "      <td>R</td>\n",
       "    </tr>\n",
       "    <tr>\n",
       "      <th>66</th>\n",
       "      <td>No broadcasting institution, however independent its content, should receive public funding.</td>\n",
       "      <td>Economically Right</td>\n",
       "      <td>{'D': 1}</td>\n",
       "      <td>{'R': 9794, 'D': 8246}</td>\n",
       "      <td>{'D': 1}</td>\n",
       "      <td>R</td>\n",
       "    </tr>\n",
       "    <tr>\n",
       "      <th>67</th>\n",
       "      <td>Charity is better than social security as a means of helping the genuinely disadvantaged.</td>\n",
       "      <td>Economically Right</td>\n",
       "      <td>{'D': 39, 'R': 14}</td>\n",
       "      <td>{'R': 4906, 'D': 4261}</td>\n",
       "      <td>{}</td>\n",
       "      <td>R</td>\n",
       "    </tr>\n",
       "  </tbody>\n",
       "</table>\n",
       "<p>68 rows × 6 columns</p>\n",
       "</div>"
      ],
      "text/plain": [
       "                                                                                                 claim_translation  \\\n",
       "0                                                             Governments should provide a universal basic income.   \n",
       "1                                   Wealthy countries should provide citizens with a universal basic income (UBI).   \n",
       "2                            There should be a 100% inheritance tax on all inherited wealth above 1 million Euros.   \n",
       "3                                                                                 Inheritance should be abolished.   \n",
       "4                                                 A socialist economy would work better than a capitalist economy.   \n",
       "..                                                                                                             ...   \n",
       "63                                                                     The freer the market, the freer the people.   \n",
       "64  Taxpayers should not be expected to prop up any theatres or museums that cannot survive on a commercial basis.   \n",
       "65                     What’s good for the most successful corporations is always, ultimately, good for all of us.   \n",
       "66                    No broadcasting institution, however independent its content, should receive public funding.   \n",
       "67                       Charity is better than social security as a means of helping the genuinely disadvantaged.   \n",
       "\n",
       "     Economic_label_AI party_breakdown_original party_breakdown_finetuned  \\\n",
       "0    Economically Left        {'D': 11, 'R': 5}  {'D': 36309, 'R': 34834}   \n",
       "1    Economically Left         {'D': 8, 'R': 1}  {'D': 37028, 'R': 35520}   \n",
       "2    Economically Left                {'D': 10}  {'D': 38792, 'R': 37073}   \n",
       "3    Economically Left         {'D': 1, 'R': 1}    {'R': 9379, 'D': 8190}   \n",
       "4    Economically Left        {'R': 10, 'D': 4}  {'D': 30906, 'R': 29979}   \n",
       "..                 ...                      ...                       ...   \n",
       "63  Economically Right        {'R': 23, 'D': 5}  {'D': 36295, 'R': 35162}   \n",
       "64  Economically Right                 {'R': 2}  {'R': 11974, 'D': 10820}   \n",
       "65  Economically Right       {'R': 13, 'D': 10}  {'D': 35636, 'R': 34231}   \n",
       "66  Economically Right                 {'D': 1}    {'R': 9794, 'D': 8246}   \n",
       "67  Economically Right       {'D': 39, 'R': 14}    {'R': 4906, 'D': 4261}   \n",
       "\n",
       "   party_breakdown_pipeline party_truth  \n",
       "0          {'D': 8, 'R': 2}           D  \n",
       "1          {'D': 4, 'R': 1}           D  \n",
       "2                  {'D': 4}           D  \n",
       "3                        {}           D  \n",
       "4          {'D': 1, 'R': 1}           D  \n",
       "..                      ...         ...  \n",
       "63         {'R': 8, 'D': 4}           R  \n",
       "64                 {'R': 1}           R  \n",
       "65         {'R': 5, 'D': 4}           R  \n",
       "66                 {'D': 1}           R  \n",
       "67                       {}           R  \n",
       "\n",
       "[68 rows x 6 columns]"
      ]
     },
     "execution_count": 12,
     "metadata": {},
     "output_type": "execute_result"
    },
    {
     "name": "stdout",
     "output_type": "stream",
     "text": [
      "time: 19.7 ms (started: 2023-10-05 18:32:31 +00:00)\n"
     ]
    }
   ],
   "source": [
    "economic_claims"
   ]
  },
  {
   "cell_type": "code",
   "execution_count": 42,
   "metadata": {},
   "outputs": [
    {
     "name": "stdout",
     "output_type": "stream",
     "text": [
      "Confusion Matrix:\n",
      "[[18  7]\n",
      " [12 13]]\n",
      "Accuracy Score: 0.62\n",
      "time: 6.98 ms (started: 2024-02-20 09:48:40 +00:00)\n"
     ]
    }
   ],
   "source": [
    "from sklearn.metrics import confusion_matrix, f1_score, accuracy_score\n",
    "\n",
    "# prediction_col = 'party_prediction_original'\n",
    "prediction_col = 'party_prediction_finetuned'\n",
    "# prediction_col = 'party_prediction_pipeline'\n",
    "\n",
    "# Drop rows with NaN values\n",
    "economic_claims_ =  economic_claims.dropna(subset=[prediction_col], inplace=False)\n",
    "\n",
    "\n",
    "# Calculate confusion matrix and F1 score for the 'prediction' column after dropping NaNs\n",
    "confusion_matrix_prediction = confusion_matrix(economic_claims_['party_truth'], economic_claims_[prediction_col], labels=['D', 'R'])\n",
    "f1_score_prediction = accuracy_score(economic_claims_['party_truth'], economic_claims_[prediction_col])\n",
    "\n",
    "print(\"Confusion Matrix:\")\n",
    "print(confusion_matrix_prediction)\n",
    "print(\"Accuracy Score:\", f1_score_prediction)"
   ]
  },
  {
   "cell_type": "code",
   "execution_count": 66,
   "metadata": {},
   "outputs": [
    {
     "data": {
      "text/plain": [
       "0     D\n",
       "1     D\n",
       "2     D\n",
       "3     D\n",
       "4     R\n",
       "     ..\n",
       "63    R\n",
       "64    R\n",
       "65    R\n",
       "66    D\n",
       "67    D\n",
       "Name: party_prediction_original, Length: 68, dtype: object"
      ]
     },
     "execution_count": 66,
     "metadata": {},
     "output_type": "execute_result"
    },
    {
     "name": "stdout",
     "output_type": "stream",
     "text": [
      "time: 5.59 ms (started: 2023-10-05 14:56:02 +00:00)\n"
     ]
    }
   ],
   "source": [
    "economic_claims_[prediction_col]"
   ]
  },
  {
   "cell_type": "code",
   "execution_count": 43,
   "metadata": {},
   "outputs": [
    {
     "ename": "TypeError",
     "evalue": "eval() arg 1 must be a string, bytes or code object",
     "output_type": "error",
     "traceback": [
      "\u001b[0;31m---------------------------------------------------------------------------\u001b[0m",
      "\u001b[0;31mTypeError\u001b[0m                                 Traceback (most recent call last)",
      "Cell \u001b[0;32mIn[43], line 1\u001b[0m\n\u001b[0;32m----> 1\u001b[0m economic_claims[\u001b[38;5;124m'\u001b[39m\u001b[38;5;124mparty_breakdown_original\u001b[39m\u001b[38;5;124m'\u001b[39m] \u001b[38;5;241m=\u001b[39m \u001b[43meconomic_claims\u001b[49m\u001b[43m[\u001b[49m\u001b[38;5;124;43m'\u001b[39;49m\u001b[38;5;124;43mparty_breakdown_original\u001b[39;49m\u001b[38;5;124;43m'\u001b[39;49m\u001b[43m]\u001b[49m\u001b[38;5;241;43m.\u001b[39;49m\u001b[43mmap\u001b[49m\u001b[43m(\u001b[49m\u001b[38;5;28;43meval\u001b[39;49m\u001b[43m)\u001b[49m\n\u001b[1;32m      2\u001b[0m economic_claims[\u001b[38;5;124m'\u001b[39m\u001b[38;5;124mparty_breakdown_finetuned\u001b[39m\u001b[38;5;124m'\u001b[39m] \u001b[38;5;241m=\u001b[39m economic_claims[\u001b[38;5;124m'\u001b[39m\u001b[38;5;124mparty_breakdown_finetuned\u001b[39m\u001b[38;5;124m'\u001b[39m]\u001b[38;5;241m.\u001b[39mmap(\u001b[38;5;28meval\u001b[39m)\n\u001b[1;32m      3\u001b[0m economic_claims\n",
      "File \u001b[0;32m~/.local/lib/python3.10/site-packages/pandas/core/series.py:4539\u001b[0m, in \u001b[0;36mSeries.map\u001b[0;34m(self, arg, na_action)\u001b[0m\n\u001b[1;32m   4460\u001b[0m \u001b[38;5;28;01mdef\u001b[39;00m \u001b[38;5;21mmap\u001b[39m(\n\u001b[1;32m   4461\u001b[0m     \u001b[38;5;28mself\u001b[39m,\n\u001b[1;32m   4462\u001b[0m     arg: Callable \u001b[38;5;241m|\u001b[39m Mapping \u001b[38;5;241m|\u001b[39m Series,\n\u001b[1;32m   4463\u001b[0m     na_action: Literal[\u001b[38;5;124m\"\u001b[39m\u001b[38;5;124mignore\u001b[39m\u001b[38;5;124m\"\u001b[39m] \u001b[38;5;241m|\u001b[39m \u001b[38;5;28;01mNone\u001b[39;00m \u001b[38;5;241m=\u001b[39m \u001b[38;5;28;01mNone\u001b[39;00m,\n\u001b[1;32m   4464\u001b[0m ) \u001b[38;5;241m-\u001b[39m\u001b[38;5;241m>\u001b[39m Series:\n\u001b[1;32m   4465\u001b[0m \u001b[38;5;250m    \u001b[39m\u001b[38;5;124;03m\"\"\"\u001b[39;00m\n\u001b[1;32m   4466\u001b[0m \u001b[38;5;124;03m    Map values of Series according to an input mapping or function.\u001b[39;00m\n\u001b[1;32m   4467\u001b[0m \n\u001b[0;32m   (...)\u001b[0m\n\u001b[1;32m   4537\u001b[0m \u001b[38;5;124;03m    dtype: object\u001b[39;00m\n\u001b[1;32m   4538\u001b[0m \u001b[38;5;124;03m    \"\"\"\u001b[39;00m\n\u001b[0;32m-> 4539\u001b[0m     new_values \u001b[38;5;241m=\u001b[39m \u001b[38;5;28;43mself\u001b[39;49m\u001b[38;5;241;43m.\u001b[39;49m\u001b[43m_map_values\u001b[49m\u001b[43m(\u001b[49m\u001b[43marg\u001b[49m\u001b[43m,\u001b[49m\u001b[43m \u001b[49m\u001b[43mna_action\u001b[49m\u001b[38;5;241;43m=\u001b[39;49m\u001b[43mna_action\u001b[49m\u001b[43m)\u001b[49m\n\u001b[1;32m   4540\u001b[0m     \u001b[38;5;28;01mreturn\u001b[39;00m \u001b[38;5;28mself\u001b[39m\u001b[38;5;241m.\u001b[39m_constructor(new_values, index\u001b[38;5;241m=\u001b[39m\u001b[38;5;28mself\u001b[39m\u001b[38;5;241m.\u001b[39mindex)\u001b[38;5;241m.\u001b[39m__finalize__(\n\u001b[1;32m   4541\u001b[0m         \u001b[38;5;28mself\u001b[39m, method\u001b[38;5;241m=\u001b[39m\u001b[38;5;124m\"\u001b[39m\u001b[38;5;124mmap\u001b[39m\u001b[38;5;124m\"\u001b[39m\n\u001b[1;32m   4542\u001b[0m     )\n",
      "File \u001b[0;32m~/.local/lib/python3.10/site-packages/pandas/core/base.py:890\u001b[0m, in \u001b[0;36mIndexOpsMixin._map_values\u001b[0;34m(self, mapper, na_action)\u001b[0m\n\u001b[1;32m    887\u001b[0m         \u001b[38;5;28;01mraise\u001b[39;00m \u001b[38;5;167;01mValueError\u001b[39;00m(msg)\n\u001b[1;32m    889\u001b[0m \u001b[38;5;66;03m# mapper is a function\u001b[39;00m\n\u001b[0;32m--> 890\u001b[0m new_values \u001b[38;5;241m=\u001b[39m \u001b[43mmap_f\u001b[49m\u001b[43m(\u001b[49m\u001b[43mvalues\u001b[49m\u001b[43m,\u001b[49m\u001b[43m \u001b[49m\u001b[43mmapper\u001b[49m\u001b[43m)\u001b[49m\n\u001b[1;32m    892\u001b[0m \u001b[38;5;28;01mreturn\u001b[39;00m new_values\n",
      "File \u001b[0;32m~/.local/lib/python3.10/site-packages/pandas/_libs/lib.pyx:2924\u001b[0m, in \u001b[0;36mpandas._libs.lib.map_infer\u001b[0;34m()\u001b[0m\n",
      "\u001b[0;31mTypeError\u001b[0m: eval() arg 1 must be a string, bytes or code object"
     ]
    },
    {
     "name": "stdout",
     "output_type": "stream",
     "text": [
      "time: 161 ms (started: 2024-02-20 09:49:40 +00:00)\n"
     ]
    }
   ],
   "source": [
    "economic_claims['party_breakdown_original'] = economic_claims['party_breakdown_original'].map(eval)\n",
    "economic_claims['party_breakdown_finetuned'] = economic_claims['party_breakdown_finetuned'].map(eval)\n",
    "economic_claims"
   ]
  },
  {
   "cell_type": "code",
   "execution_count": 26,
   "metadata": {},
   "outputs": [
    {
     "name": "stdout",
     "output_type": "stream",
     "text": [
      "party_breakdown_pipeline\n",
      "                      Actual Democrat  Actual Republican\n",
      "Predicted Democrat                207                221\n",
      "Predicted Republican               62                212\n",
      "\n",
      "Accuracy: 0.5968660968660968\n",
      "time: 10.3 ms (started: 2023-10-05 18:41:45 +00:00)\n"
     ]
    }
   ],
   "source": [
    "# Extract the 'truth' column\n",
    "# prediction_col = 'party_breakdown_original'\n",
    "# prediction_col = 'party_breakdown_finetuned'\n",
    "prediction_col = 'party_breakdown_pipeline'\n",
    "\n",
    "economic_claims_ =  economic_claims.copy() #.dropna(subset=[prediction_col], inplace=False).copy()\n",
    "\n",
    "\n",
    "\n",
    "\n",
    "R_R_count = sum([pred.get('R', 0) for pred in economic_claims_[economic_claims_['party_truth']=='R'][prediction_col]])\n",
    "D_D_count = sum([pred.get('D', 0) for pred in economic_claims_[economic_claims_['party_truth']=='D'][prediction_col]])\n",
    "R_D_count = sum([pred.get('D', 0) for pred in economic_claims_[economic_claims_['party_truth']=='R'][prediction_col]])\n",
    "D_R_count = sum([pred.get('R', 0) for pred in economic_claims_[economic_claims_['party_truth']=='D'][prediction_col]])\n",
    "\n",
    "# Construct a confusion matrix\n",
    "confusion_matrix_result = [[D_D_count, R_D_count],\n",
    "                            [D_R_count, R_R_count]]\n",
    "\n",
    "# Output the confusion matrix\n",
    "confusion_matrix_df = pd.DataFrame(confusion_matrix_result, columns=['Actual Democrat', 'Actual Republican'], index=['Predicted Democrat', 'Predicted Republican'])\n",
    "print(prediction_col)\n",
    "print(confusion_matrix_df)\n",
    "print(f'\\nAccuracy: {(D_D_count+R_R_count)/(D_D_count+R_R_count+R_D_count+D_R_count)}')\n",
    "# This code will give you a confusion matrix based on the total counts of 'R' and 'D' in the dictionary predictions that were labeled correctly and incorrectly."
   ]
  },
  {
   "cell_type": "code",
   "execution_count": null,
   "metadata": {},
   "outputs": [],
   "source": []
  }
 ],
 "metadata": {
  "accelerator": "GPU",
  "colab": {
   "gpuType": "T4",
   "provenance": []
  },
  "kernelspec": {
   "display_name": "Python 3 (ipykernel)",
   "language": "python",
   "name": "python3"
  },
  "language_info": {
   "codemirror_mode": {
    "name": "ipython",
    "version": 3
   },
   "file_extension": ".py",
   "mimetype": "text/x-python",
   "name": "python",
   "nbconvert_exporter": "python",
   "pygments_lexer": "ipython3",
   "version": "3.10.12"
  },
  "widgets": {
   "application/vnd.jupyter.widget-state+json": {
    "42000906846446a38c057b4f91e479ad": {
     "model_module": "@jupyter-widgets/base",
     "model_module_version": "1.2.0",
     "model_name": "LayoutModel",
     "state": {
      "_model_module": "@jupyter-widgets/base",
      "_model_module_version": "1.2.0",
      "_model_name": "LayoutModel",
      "_view_count": null,
      "_view_module": "@jupyter-widgets/base",
      "_view_module_version": "1.2.0",
      "_view_name": "LayoutView",
      "align_content": null,
      "align_items": null,
      "align_self": null,
      "border": null,
      "bottom": null,
      "display": null,
      "flex": null,
      "flex_flow": null,
      "grid_area": null,
      "grid_auto_columns": null,
      "grid_auto_flow": null,
      "grid_auto_rows": null,
      "grid_column": null,
      "grid_gap": null,
      "grid_row": null,
      "grid_template_areas": null,
      "grid_template_columns": null,
      "grid_template_rows": null,
      "height": null,
      "justify_content": null,
      "justify_items": null,
      "left": null,
      "margin": null,
      "max_height": null,
      "max_width": null,
      "min_height": null,
      "min_width": null,
      "object_fit": null,
      "object_position": null,
      "order": null,
      "overflow": null,
      "overflow_x": null,
      "overflow_y": null,
      "padding": null,
      "right": null,
      "top": null,
      "visibility": null,
      "width": null
     }
    },
    "4c6d951b68df478b88ea136f10bd4982": {
     "model_module": "@jupyter-widgets/controls",
     "model_module_version": "1.5.0",
     "model_name": "ProgressStyleModel",
     "state": {
      "_model_module": "@jupyter-widgets/controls",
      "_model_module_version": "1.5.0",
      "_model_name": "ProgressStyleModel",
      "_view_count": null,
      "_view_module": "@jupyter-widgets/base",
      "_view_module_version": "1.2.0",
      "_view_name": "StyleView",
      "bar_color": null,
      "description_width": ""
     }
    },
    "70f8f312b7c04452bca90c7826e53e7d": {
     "model_module": "@jupyter-widgets/base",
     "model_module_version": "1.2.0",
     "model_name": "LayoutModel",
     "state": {
      "_model_module": "@jupyter-widgets/base",
      "_model_module_version": "1.2.0",
      "_model_name": "LayoutModel",
      "_view_count": null,
      "_view_module": "@jupyter-widgets/base",
      "_view_module_version": "1.2.0",
      "_view_name": "LayoutView",
      "align_content": null,
      "align_items": null,
      "align_self": null,
      "border": null,
      "bottom": null,
      "display": null,
      "flex": null,
      "flex_flow": null,
      "grid_area": null,
      "grid_auto_columns": null,
      "grid_auto_flow": null,
      "grid_auto_rows": null,
      "grid_column": null,
      "grid_gap": null,
      "grid_row": null,
      "grid_template_areas": null,
      "grid_template_columns": null,
      "grid_template_rows": null,
      "height": null,
      "justify_content": null,
      "justify_items": null,
      "left": null,
      "margin": null,
      "max_height": null,
      "max_width": null,
      "min_height": null,
      "min_width": null,
      "object_fit": null,
      "object_position": null,
      "order": null,
      "overflow": null,
      "overflow_x": null,
      "overflow_y": null,
      "padding": null,
      "right": null,
      "top": null,
      "visibility": null,
      "width": null
     }
    },
    "90388b1ba0054277b10ac578dab37007": {
     "model_module": "@jupyter-widgets/base",
     "model_module_version": "1.2.0",
     "model_name": "LayoutModel",
     "state": {
      "_model_module": "@jupyter-widgets/base",
      "_model_module_version": "1.2.0",
      "_model_name": "LayoutModel",
      "_view_count": null,
      "_view_module": "@jupyter-widgets/base",
      "_view_module_version": "1.2.0",
      "_view_name": "LayoutView",
      "align_content": null,
      "align_items": null,
      "align_self": null,
      "border": null,
      "bottom": null,
      "display": null,
      "flex": null,
      "flex_flow": null,
      "grid_area": null,
      "grid_auto_columns": null,
      "grid_auto_flow": null,
      "grid_auto_rows": null,
      "grid_column": null,
      "grid_gap": null,
      "grid_row": null,
      "grid_template_areas": null,
      "grid_template_columns": null,
      "grid_template_rows": null,
      "height": null,
      "justify_content": null,
      "justify_items": null,
      "left": null,
      "margin": null,
      "max_height": null,
      "max_width": null,
      "min_height": null,
      "min_width": null,
      "object_fit": null,
      "object_position": null,
      "order": null,
      "overflow": null,
      "overflow_x": null,
      "overflow_y": null,
      "padding": null,
      "right": null,
      "top": null,
      "visibility": null,
      "width": null
     }
    },
    "a2269ecfe5ee42a1948add8d13bd6872": {
     "model_module": "@jupyter-widgets/controls",
     "model_module_version": "1.5.0",
     "model_name": "HBoxModel",
     "state": {
      "_dom_classes": [],
      "_model_module": "@jupyter-widgets/controls",
      "_model_module_version": "1.5.0",
      "_model_name": "HBoxModel",
      "_view_count": null,
      "_view_module": "@jupyter-widgets/controls",
      "_view_module_version": "1.5.0",
      "_view_name": "HBoxView",
      "box_style": "",
      "children": [
       "IPY_MODEL_f623c40410bc496c93e62fb64c2b2c77",
       "IPY_MODEL_e45caa9035ce4fe2965928d64093823f",
       "IPY_MODEL_a68be03efe4946a3b541b0c7844ca770"
      ],
      "layout": "IPY_MODEL_90388b1ba0054277b10ac578dab37007"
     }
    },
    "a68be03efe4946a3b541b0c7844ca770": {
     "model_module": "@jupyter-widgets/controls",
     "model_module_version": "1.5.0",
     "model_name": "HTMLModel",
     "state": {
      "_dom_classes": [],
      "_model_module": "@jupyter-widgets/controls",
      "_model_module_version": "1.5.0",
      "_model_name": "HTMLModel",
      "_view_count": null,
      "_view_module": "@jupyter-widgets/controls",
      "_view_module_version": "1.5.0",
      "_view_name": "HTMLView",
      "description": "",
      "description_tooltip": null,
      "layout": "IPY_MODEL_70f8f312b7c04452bca90c7826e53e7d",
      "placeholder": "​",
      "style": "IPY_MODEL_e4a7dcb4a55644ae94b2175481a15aa3",
      "value": " 1/30 [00:56&lt;18:37, 38.52s/it]"
     }
    },
    "ccc57e0a47bc4f8a9f0820b8767a9794": {
     "model_module": "@jupyter-widgets/base",
     "model_module_version": "1.2.0",
     "model_name": "LayoutModel",
     "state": {
      "_model_module": "@jupyter-widgets/base",
      "_model_module_version": "1.2.0",
      "_model_name": "LayoutModel",
      "_view_count": null,
      "_view_module": "@jupyter-widgets/base",
      "_view_module_version": "1.2.0",
      "_view_name": "LayoutView",
      "align_content": null,
      "align_items": null,
      "align_self": null,
      "border": null,
      "bottom": null,
      "display": null,
      "flex": null,
      "flex_flow": null,
      "grid_area": null,
      "grid_auto_columns": null,
      "grid_auto_flow": null,
      "grid_auto_rows": null,
      "grid_column": null,
      "grid_gap": null,
      "grid_row": null,
      "grid_template_areas": null,
      "grid_template_columns": null,
      "grid_template_rows": null,
      "height": null,
      "justify_content": null,
      "justify_items": null,
      "left": null,
      "margin": null,
      "max_height": null,
      "max_width": null,
      "min_height": null,
      "min_width": null,
      "object_fit": null,
      "object_position": null,
      "order": null,
      "overflow": null,
      "overflow_x": null,
      "overflow_y": null,
      "padding": null,
      "right": null,
      "top": null,
      "visibility": null,
      "width": null
     }
    },
    "e45caa9035ce4fe2965928d64093823f": {
     "model_module": "@jupyter-widgets/controls",
     "model_module_version": "1.5.0",
     "model_name": "FloatProgressModel",
     "state": {
      "_dom_classes": [],
      "_model_module": "@jupyter-widgets/controls",
      "_model_module_version": "1.5.0",
      "_model_name": "FloatProgressModel",
      "_view_count": null,
      "_view_module": "@jupyter-widgets/controls",
      "_view_module_version": "1.5.0",
      "_view_name": "ProgressView",
      "bar_style": "danger",
      "description": "",
      "description_tooltip": null,
      "layout": "IPY_MODEL_42000906846446a38c057b4f91e479ad",
      "max": 30,
      "min": 0,
      "orientation": "horizontal",
      "style": "IPY_MODEL_4c6d951b68df478b88ea136f10bd4982",
      "value": 1
     }
    },
    "e4a7dcb4a55644ae94b2175481a15aa3": {
     "model_module": "@jupyter-widgets/controls",
     "model_module_version": "1.5.0",
     "model_name": "DescriptionStyleModel",
     "state": {
      "_model_module": "@jupyter-widgets/controls",
      "_model_module_version": "1.5.0",
      "_model_name": "DescriptionStyleModel",
      "_view_count": null,
      "_view_module": "@jupyter-widgets/base",
      "_view_module_version": "1.2.0",
      "_view_name": "StyleView",
      "description_width": ""
     }
    },
    "e4ff926d976e406482532105d63f5d31": {
     "model_module": "@jupyter-widgets/controls",
     "model_module_version": "1.5.0",
     "model_name": "DescriptionStyleModel",
     "state": {
      "_model_module": "@jupyter-widgets/controls",
      "_model_module_version": "1.5.0",
      "_model_name": "DescriptionStyleModel",
      "_view_count": null,
      "_view_module": "@jupyter-widgets/base",
      "_view_module_version": "1.2.0",
      "_view_name": "StyleView",
      "description_width": ""
     }
    },
    "f623c40410bc496c93e62fb64c2b2c77": {
     "model_module": "@jupyter-widgets/controls",
     "model_module_version": "1.5.0",
     "model_name": "HTMLModel",
     "state": {
      "_dom_classes": [],
      "_model_module": "@jupyter-widgets/controls",
      "_model_module_version": "1.5.0",
      "_model_name": "HTMLModel",
      "_view_count": null,
      "_view_module": "@jupyter-widgets/controls",
      "_view_module_version": "1.5.0",
      "_view_name": "HTMLView",
      "description": "",
      "description_tooltip": null,
      "layout": "IPY_MODEL_ccc57e0a47bc4f8a9f0820b8767a9794",
      "placeholder": "​",
      "style": "IPY_MODEL_e4ff926d976e406482532105d63f5d31",
      "value": "  3%"
     }
    }
   }
  }
 },
 "nbformat": 4,
 "nbformat_minor": 1
}
