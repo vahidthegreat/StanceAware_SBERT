{
 "cells": [
  {
   "cell_type": "code",
   "execution_count": 1,
   "metadata": {},
   "outputs": [
    {
     "name": "stdout",
     "output_type": "stream",
     "text": [
      "time: 6.42 s (started: 2024-03-22 11:32:16 +00:00)\n"
     ]
    }
   ],
   "source": [
    "# !pip3 install sentence_transformers\n",
    "# !pip3 install torchview\n",
    "# !pip install torchsummary\n",
    "# !brew install graphviz\n",
    "# !pip install torchviz\n",
    "%load_ext autotime\n",
    "\n",
    "import torch\n",
    "import tqdm\n",
    "import torch.nn as nn\n",
    "import torch.optim as optim\n",
    "from torch.utils.data import DataLoader, Dataset\n",
    "from sentence_transformers import SentenceTransformer, losses\n",
    "import pandas as pd\n",
    "import numpy as np\n",
    "import torch.nn.functional as F\n",
    "from tqdm.notebook import tqdm\n",
    "tqdm.pandas()\n",
    "import seaborn as sns\n",
    "import matplotlib.pyplot as plt\n",
    "from scipy.spatial.distance import cosine\n",
    "# from torchview import draw_graph\n",
    "# from torchsummary import summary\n",
    "pd.set_option(\"max_colwidth\", None)\n",
    "\n",
    "from peft import LoraConfig, get_peft_model, prepare_model_for_int8_training, TaskType, PeftModel # peft-0.7.1\n",
    "from transformers import (\n",
    "    AutoModel,\n",
    "    AutoTokenizer,\n",
    "    BitsAndBytesConfig,\n",
    "    HfArgumentParser,\n",
    "    AutoTokenizer,\n",
    "    TrainingArguments,\n",
    "    AutoConfig,\n",
    ")\n",
    "\n",
    "from sklearn.model_selection import train_test_split\n",
    "from sklearn.metrics.pairwise import cosine_similarity"
   ]
  },
  {
   "cell_type": "code",
   "execution_count": 2,
   "metadata": {
    "executionInfo": {
     "elapsed": 13229,
     "status": "ok",
     "timestamp": 1690819071187,
     "user": {
      "displayName": "VAHID GHAFOURI",
      "userId": "14892550568966913597"
     },
     "user_tz": -120
    },
    "id": "h4xerw5IAq31"
   },
   "outputs": [
    {
     "name": "stdout",
     "output_type": "stream",
     "text": [
      "time: 5.87 ms (started: 2024-03-22 11:32:31 +00:00)\n"
     ]
    }
   ],
   "source": [
    "model_name = 'sentence-transformers/all-mpnet-base-v2'\n",
    "\n",
    "# Define your custom stance-aware loss function\n",
    "class SiameseNetworkMPNet(nn.Module):\n",
    "    def __init__(self, model_name, tokenizer, normalize=True):\n",
    "        super(SiameseNetworkMPNet, self).__init__()\n",
    "\n",
    "        self.model = AutoModel.from_pretrained(model_name)#, quantization_config=bnb_config, trust_remote_code=True)\n",
    "        self.normalize = normalize\n",
    "        self.tokenizer = tokenizer\n",
    "\n",
    "    def forward(self, **inputs):\n",
    "        model_output = self.model(**inputs)\n",
    "        attention_mask = inputs['attention_mask']\n",
    "        last_hidden_states = model_output.last_hidden_state  # First element of model_output contains all token embeddings\n",
    "        embeddings = torch.sum(last_hidden_states * attention_mask.unsqueeze(-1), 1) / torch.clamp(attention_mask.sum(1, keepdim=True), min=1e-9) # mean_pooling\n",
    "        if self.normalize:\n",
    "            embeddings = F.layer_norm(embeddings, embeddings.shape[1:])\n",
    "            embeddings = F.normalize(embeddings, p=2, dim=1)\n",
    "\n",
    "        return embeddings\n",
    "\n",
    "\n",
    "\n",
    "# Custom dataset for your DataFrame\n",
    "class CustomDataset(Dataset):\n",
    "    def __init__(self, sentences):\n",
    "        self.sentences = sentences\n",
    "\n",
    "    def __len__(self):\n",
    "        return len(self.sentences)\n",
    "\n",
    "    def __getitem__(self, idx):\n",
    "        return self.sentences[idx]\n",
    "\n",
    "\n",
    "def batch_and_encode(df_sentences_col,finetuned_model_x,is_lora):\n",
    "    models_dir = 'Models/'\n",
    "    \n",
    "    torch.cuda.empty_cache()\n",
    "    # Load the pre-trained \"all-mpnet-base-v2\" model\n",
    "    tokenizer = AutoTokenizer.from_pretrained(model_name)\n",
    "\n",
    "    # Initialize the model\n",
    "    model = SiameseNetworkMPNet(model_name=model_name, tokenizer=tokenizer)\n",
    "\n",
    "    if finetuned_model_x != 'original':\n",
    "        if is_lora == False:\n",
    "            model.load_state_dict(torch.load('Models/'+finetuned_model_x+'.pt'))\n",
    "        if is_lora == True:\n",
    "            model.apply_lora_weights(\"vahidthegreat/StanceAware-SBERT\")\n",
    "\n",
    "    # Move the model to the appropriate device (CPU or GPU)\n",
    "    device = torch.device(\"cuda\" if torch.cuda.is_available() else \"cpu\")\n",
    "    model = model.to(device)\n",
    "    # Assuming you have a DataFrame named df with columns \"sentence_i\" and \"sentence_j\"\n",
    "    dataset_i = CustomDataset(df_sentences_col.tolist())\n",
    "\n",
    "    # Use DataLoader for batch processing\n",
    "    batch_size = 32\n",
    "    dataloader_i = DataLoader(dataset_i, batch_size=batch_size, shuffle=False)\n",
    "\n",
    "    # Lists to store the embeddings for \"sentence_i\" and \"sentence_j\"\n",
    "    embeddings_i_list = []\n",
    "\n",
    "\n",
    "    # Encode sentences in batches\n",
    "    with torch.no_grad():\n",
    "        model.eval()  # Set the model to evaluation mode\n",
    "        for sentences_i_batch in tqdm(dataloader_i):\n",
    "            text1 = tokenizer(sentences_i_batch, return_tensors=\"pt\", max_length=128, truncation=True, padding=\"max_length\")\n",
    "            embeddings_i = model(**text1.to(device)).tolist()\n",
    "            embeddings_i = [[round(value, 4) for value in row] for row in embeddings_i]\n",
    "#             embeddings_i = encode_sentences(sentences_i_batch).tolist()\n",
    "            embeddings_i_list.extend(embeddings_i)\n",
    "    return embeddings_i_list"
   ]
  },
  {
   "cell_type": "code",
   "execution_count": 3,
   "metadata": {},
   "outputs": [
    {
     "name": "stdout",
     "output_type": "stream",
     "text": [
      "original length: 1134249\n",
      "length after droping nulls: 1134249\n"
     ]
    },
    {
     "data": {
      "application/vnd.jupyter.widget-view+json": {
       "model_id": "1e630011f9c047c086e9267b51b67715",
       "version_major": 2,
       "version_minor": 0
      },
      "text/plain": [
       "  0%|          | 0/1133848 [00:00<?, ?it/s]"
      ]
     },
     "metadata": {},
     "output_type": "display_data"
    },
    {
     "name": "stdout",
     "output_type": "stream",
     "text": [
      "length after dropping duplicates: 1108680\n"
     ]
    },
    {
     "data": {
      "application/vnd.jupyter.widget-view+json": {
       "model_id": "21e36131225140d79b2d36364c17ba25",
       "version_major": 2,
       "version_minor": 0
      },
      "text/plain": [
       "  0%|          | 0/1108680 [00:00<?, ?it/s]"
      ]
     },
     "metadata": {},
     "output_type": "display_data"
    },
    {
     "data": {
      "application/vnd.jupyter.widget-view+json": {
       "model_id": "b500278c7e1944a6b496d3df81c9dd85",
       "version_major": 2,
       "version_minor": 0
      },
      "text/plain": [
       "  0%|          | 0/1108680 [00:00<?, ?it/s]"
      ]
     },
     "metadata": {},
     "output_type": "display_data"
    },
    {
     "name": "stdout",
     "output_type": "stream",
     "text": [
      "length after removing short sentences: 1085119\n",
      "length of train-set: 972395\n",
      "length of test-set: 112724\n",
      "time: 46.5 s (started: 2024-03-22 11:32:37 +00:00)\n"
     ]
    }
   ],
   "source": [
    "meta_data=pd.read_excel('Datasets/Kialo_MetaData_all.xlsx')\n",
    "sentence_pairs_df = pd.concat([pd.read_csv('Datasets/argument_pairs_branchleaf.csv'),pd.read_csv('Datasets/argument_pairs_leafleaf.csv')],ignore_index=True)\n",
    "sentence_pairs_df['url'] = sentence_pairs_df['post_id'].map(dict(zip(meta_data['post_id'],meta_data['url'])))\n",
    "sentence_pairs_df = sentence_pairs_df[(sentence_pairs_df['stance']=='Pro') | (sentence_pairs_df['stance']=='Con')]\n",
    "sentence_pairs_df['stance_numeric'] = sentence_pairs_df['stance'].map({'Pro':1,'Con':0})\n",
    "print(f\"original length: {len(sentence_pairs_df)}\")\n",
    "sentence_pairs_df = sentence_pairs_df.dropna()\n",
    "print(f\"length after droping nulls: {len(sentence_pairs_df)}\")\n",
    "sentence_pairs_df = sentence_pairs_df[sentence_pairs_df['sentence_i'] != sentence_pairs_df['sentence_j']]\n",
    "sentence_pairs_df['sorted_sentences'] = sentence_pairs_df.progress_apply(lambda row: tuple(sorted([row['sentence_i'], row['sentence_j']])), axis=1)\n",
    "sentence_pairs_df.drop_duplicates(subset='sorted_sentences',inplace=True)\n",
    "sentence_pairs_df.drop(columns=['sorted_sentences'],inplace=True)\n",
    "print(f\"length after dropping duplicates: {len(sentence_pairs_df)}\")\n",
    "sentence_pairs_df = sentence_pairs_df[(sentence_pairs_df['sentence_i'].progress_apply(lambda x: len(x.split(' ')))>3) & (sentence_pairs_df['sentence_j'].progress_apply(lambda x: len(x.split(' ')))>3)]\n",
    "print(f\"length after removing short sentences: {len(sentence_pairs_df)}\")\n",
    "# Splitting into train and test sets\n",
    "# sentence_pairs_df, sentence_pairs_test_df = train_test_split(sentence_pairs_df, test_size=0.1, random_state=1)\n",
    "# Group the DataFrame by \"post_id\"\n",
    "meta_data = meta_data[meta_data['language']=='en']\n",
    "post_id_set = list(set(list(meta_data[\"post_id\"])))\n",
    "\n",
    "# Initialize empty lists for train and test indices\n",
    "train_indices = []\n",
    "test_indices = []\n",
    "\n",
    "\n",
    "train_indices, test_indices = train_test_split(post_id_set, test_size=0.1, random_state=1)  # Adjust the test_size as needed\n",
    "\n",
    "# Split the original DataFrame using the train and test indices\n",
    "sentence_pairs_train_df = sentence_pairs_df[sentence_pairs_df[\"post_id\"].isin(train_indices)]\n",
    "sentence_pairs_test_df = sentence_pairs_df[sentence_pairs_df[\"post_id\"].isin(test_indices)]\n",
    "# sentence_pairs_test_df = sentence_pairs_test_df[sentence_pairs_test_df[\"cosine_similarity\"]>0.5]\n",
    "print(f\"length of train-set: {len(sentence_pairs_train_df)}\")\n",
    "print(f\"length of test-set: {len(sentence_pairs_test_df)}\")\n",
    "\n",
    "sentence_pairs_test_df.reset_index(drop=True,inplace=True)\n",
    "\n",
    "# sentence_pairs_test_df = sentence_pairs_test_df.sample(n=10000,random_state=1)\n",
    "# sentence_pairs_train_df = sentence_pairs_train_df.sample(n=10000,random_state=1)"
   ]
  },
  {
   "cell_type": "code",
   "execution_count": 10,
   "metadata": {},
   "outputs": [
    {
     "data": {
      "text/plain": [
       "34453"
      ]
     },
     "execution_count": 10,
     "metadata": {},
     "output_type": "execute_result"
    },
    {
     "name": "stdout",
     "output_type": "stream",
     "text": [
      "time: 3.09 ms (started: 2024-02-28 10:58:10 +00:00)\n"
     ]
    }
   ],
   "source": [
    "len(sentence_triplets_test_df)"
   ]
  },
  {
   "cell_type": "code",
   "execution_count": 4,
   "metadata": {},
   "outputs": [
    {
     "name": "stdout",
     "output_type": "stream",
     "text": [
      "0.0042304550277109535\n"
     ]
    },
    {
     "data": {
      "image/png": "[encoded data removed]",
      "text/plain": [
       "<Figure size 1000x600 with 1 Axes>"
      ]
     },
     "metadata": {},
     "output_type": "display_data"
    },
    {
     "name": "stdout",
     "output_type": "stream",
     "text": [
      "time: 2.09 s (started: 2024-03-22 11:34:02 +00:00)\n"
     ]
    }
   ],
   "source": [
    "from scipy.stats import entropy\n",
    "\n",
    "finetuned_model_i = 'original'\n",
    "\n",
    "# sentence_pairs_test_df[f'embeddings_i_{finetuned_model_i}'] = batch_and_encode(df_sentences_col=sentence_pairs_test_df['sentence_i'],finetuned_model_x = finetuned_model_i,is_lora=False)\n",
    "# sentence_pairs_test_df[f'embeddings_j_{finetuned_model_i}'] = batch_and_encode(df_sentences_col=sentence_pairs_test_df['sentence_j'],finetuned_model_x = finetuned_model_i,is_lora=False)\n",
    "# sentence_pairs_test_df['cosine_similarity_new'] = sentence_pairs_test_df.progress_apply(lambda row: 1 - cosine(row[f'embeddings_i_{finetuned_model_i}'], row[f'embeddings_j_{finetuned_model_i}']), axis=1)\n",
    "# sentence_pairs_test_df = sentence_pairs_test_df[sentence_pairs_test_df['relationship']==\"branch-leaf\"]\n",
    "# Set up Seaborn settings\n",
    "sns.set(style=\"whitegrid\")\n",
    "\n",
    "# Extract cosine similarities for \"Pro\" and \"Con\" stances\n",
    "cosine_similarity_pro = sentence_pairs_test_df[sentence_pairs_test_df['stance'] == 'Pro']#['cosine_similarity_new']\n",
    "cosine_similarity_con = sentence_pairs_test_df[sentence_pairs_test_df['stance'] == 'Con']#['cosine_similarity_new']\n",
    "\n",
    "# Calculate the histograms of cosine similarities\n",
    "hist_pro, bin_edges_pro = np.histogram(cosine_similarity_pro['cosine_similarity'], bins=50, density=True)\n",
    "hist_con, bin_edges_con = np.histogram(cosine_similarity_con['cosine_similarity'], bins=50, density=True)\n",
    "\n",
    "# Calculate the probability distributions\n",
    "pdf_pro = hist_pro / np.sum(hist_pro)\n",
    "pdf_con = hist_con / np.sum(hist_con)\n",
    "\n",
    "# Calculate KL Divergence\n",
    "kl_divergence = entropy(pdf_pro, pdf_con)\n",
    "print(kl_divergence)\n",
    "\n",
    "# Create density plots for each stance\n",
    "plt.figure(figsize=(10, 6))\n",
    "sns.kdeplot(data=cosine_similarity_pro, x='cosine_similarity', label='Pro', fill=True,color='green')\n",
    "sns.kdeplot(data=cosine_similarity_con, x='cosine_similarity', label='Con', fill=True,color='red')\n",
    "\n",
    "# Add labels and title\n",
    "plt.xlabel('Cosine Similarity', fontsize=28)\n",
    "plt.ylabel('Frequency of Pairs', fontsize=28)\n",
    "# plt.title(f'Cosine Similarities PDF - Test Set - Model: {finetuned_model_i}')\n",
    "plt.xlim([-1,1])\n",
    "plt.ylim([0,2.5])\n",
    "# Show legend\n",
    "plt.legend(loc='upper left',fontsize=28)\n",
    "\n",
    "plt.savefig(f'Plots/testset_original.png', dpi=300, bbox_inches='tight')"
   ]
  },
  {
   "cell_type": "code",
   "execution_count": 6,
   "metadata": {},
   "outputs": [
    {
     "name": "stderr",
     "output_type": "stream",
     "text": [
      "/usr/local/lib/python3.10/dist-packages/torch/_utils.py:831: UserWarning: TypedStorage is deprecated. It will be removed in the future and UntypedStorage will be the only storage class. This should only matter to you if you are using storages directly.  To access UntypedStorage directly, use tensor.untyped_storage() instead of tensor.storage()\n",
      "  return self.fget.__get__(instance, owner)()\n"
     ]
    },
    {
     "data": {
      "application/vnd.jupyter.widget-view+json": {
       "model_id": "e02cbe49bc234e08b077696462e1e2fd",
       "version_major": 2,
       "version_minor": 0
      },
      "text/plain": [
       "  0%|          | 0/1897 [00:00<?, ?it/s]"
      ]
     },
     "metadata": {},
     "output_type": "display_data"
    },
    {
     "data": {
      "application/vnd.jupyter.widget-view+json": {
       "model_id": "14e274ac2932436c96d5be9ad3ad9fab",
       "version_major": 2,
       "version_minor": 0
      },
      "text/plain": [
       "  0%|          | 0/1897 [00:00<?, ?it/s]"
      ]
     },
     "metadata": {},
     "output_type": "display_data"
    },
    {
     "data": {
      "application/vnd.jupyter.widget-view+json": {
       "model_id": "f8af137828944d4fbb13b3b3508a1fc3",
       "version_major": 2,
       "version_minor": 0
      },
      "text/plain": [
       "  0%|          | 0/60673 [00:00<?, ?it/s]"
      ]
     },
     "metadata": {},
     "output_type": "display_data"
    },
    {
     "name": "stdout",
     "output_type": "stream",
     "text": [
      "model name: vahidthegreat/StanceAware-SBERT\n",
      "0.4387258129444429\n"
     ]
    },
    {
     "data": {
      "image/png": "[encoded data removed]",
      "text/plain": [
       "<Figure size 1000x600 with 1 Axes>"
      ]
     },
     "metadata": {},
     "output_type": "display_data"
    },
    {
     "name": "stdout",
     "output_type": "stream",
     "text": [
      "time: 5min 52s (started: 2024-03-22 11:35:22 +00:00)\n"
     ]
    }
   ],
   "source": [
    "from scipy.stats import entropy\n",
    "# siamese_type = 'contrastive'\n",
    "# siamese_type = 'triplet'\n",
    "siamese_type = 'contriplet'\n",
    "epoch = 4\n",
    "# is_lora = False\n",
    "is_lora = True\n",
    "\n",
    "sentence_pairs_test_df = sentence_pairs_test_df[sentence_pairs_test_df[\"cosine_similarity\"]>0.5]\n",
    "if is_lora == True:\n",
    "    lora = 'LoRA'\n",
    "if is_lora == False:\n",
    "    lora = 'Full'    \n",
    "\n",
    "# removal = 30\n",
    "removal = 50\n",
    "# removal = 0\n",
    "\n",
    "# for margin_i in [1.0,0.9,0.8,0.7,0.6,0.5,0.4,0.3,0.2,0.1]:\n",
    "for margin_i in [0.4]:\n",
    "\n",
    "    \n",
    "    margin_i = int(margin_i*100)\n",
    "\n",
    "    finetuned_model_i = f'vahidthegreat/StanceAware-SBERT'\n",
    "\n",
    "    sentence_pairs_test_df[f'embeddings_i_{finetuned_model_i}'] = batch_and_encode(df_sentences_col=sentence_pairs_test_df['sentence_i'],finetuned_model_x = finetuned_model_i,is_lora=is_lora)\n",
    "    sentence_pairs_test_df[f'embeddings_j_{finetuned_model_i}'] = batch_and_encode(df_sentences_col=sentence_pairs_test_df['sentence_j'],finetuned_model_x = finetuned_model_i,is_lora=is_lora)\n",
    "\n",
    "    # Calculate cosine similarities between embeddings_i_original and embeddings_j_original\n",
    "    sentence_pairs_test_df['cosine_similarity_new_'] = sentence_pairs_test_df.progress_apply(lambda row: 1 - cosine(row[f'embeddings_i_{finetuned_model_i}'], row[f'embeddings_j_{finetuned_model_i}']), axis=1)\n",
    "#     sentence_pairs_test_df = sentence_pairs_test_df[sentence_pairs_test_df['relationship']==\"branch-leaf\"]\n",
    "    # Set up Seaborn settings\n",
    "    sns.set(style=\"whitegrid\")\n",
    "    \n",
    "    # Extract cosine similarities for \"Pro\" and \"Con\" stances\n",
    "    cosine_similarity_pro = sentence_pairs_test_df[sentence_pairs_test_df['stance'] == 'Pro']#['cosine_similarity_new']\n",
    "    cosine_similarity_con = sentence_pairs_test_df[sentence_pairs_test_df['stance'] == 'Con']#['cosine_similarity_new']\n",
    "\n",
    "    # Calculate the histograms of cosine similarities\n",
    "    hist_pro, bin_edges_pro = np.histogram(cosine_similarity_pro['cosine_similarity_new_'], bins=50, density=True)\n",
    "    hist_con, bin_edges_con = np.histogram(cosine_similarity_con['cosine_similarity_new_'], bins=50, density=True)\n",
    "    \n",
    "    epsilon = 1e-10\n",
    "\n",
    "    # Calculate the probability distributions\n",
    "    pdf_pro = hist_pro / np.sum(hist_pro) + epsilon\n",
    "    pdf_con = hist_con / np.sum(hist_con) + epsilon\n",
    "\n",
    "    # Calculate KL Divergence\n",
    "    print(f'model name: {finetuned_model_i}')\n",
    "    kl_divergence = entropy(pdf_pro, pdf_con)\n",
    "    print(kl_divergence)\n",
    "\n",
    "    # Create density plots for each stance\n",
    "    plt.figure(figsize=(10, 6))\n",
    "    sns.kdeplot(data=cosine_similarity_pro, x='cosine_similarity_new_', label='Pro', fill=True,color='green')\n",
    "    sns.kdeplot(data=cosine_similarity_con, x='cosine_similarity_new_', label='Con', fill=True,color='red')\n",
    "\n",
    "    # Add labels and title\n",
    "    plt.xlabel('Cosine Similarity', fontsize=28)\n",
    "    plt.ylabel('Frequency of Pairs', fontsize=28)\n",
    "#     plt.title(f'Cosine Similarities PDF - Test Set - Model: {finetuned_model_i}')\n",
    "    plt.xlim([-1,1])\n",
    "    plt.ylim([0,2.5])\n",
    "    # Show legend\n",
    "    plt.legend(loc='upper left',fontsize=28)\n",
    "\n",
    "    # Save the plot\n",
    "    plt.savefig(f'Plots/testset_{finetuned_model_i}_{lora}.png', dpi=300, bbox_inches='tight')\n",
    "    # Show the plot\n",
    "    plt.show()"
   ]
  }
 ],
 "metadata": {
  "accelerator": "GPU",
  "colab": {
   "gpuType": "T4",
   "provenance": []
  },
  "kernelspec": {
   "display_name": "Python 3 (ipykernel)",
   "language": "python",
   "name": "python3"
  },
  "language_info": {
   "codemirror_mode": {
    "name": "ipython",
    "version": 3
   },
   "file_extension": ".py",
   "mimetype": "text/x-python",
   "name": "python",
   "nbconvert_exporter": "python",
   "pygments_lexer": "ipython3",
   "version": "3.10.11"
  },
  "widgets": {
   "application/vnd.jupyter.widget-state+json": {
    "42000906846446a38c057b4f91e479ad": {
     "model_module": "@jupyter-widgets/base",
     "model_module_version": "1.2.0",
     "model_name": "LayoutModel",
     "state": {
      "_model_module": "@jupyter-widgets/base",
      "_model_module_version": "1.2.0",
      "_model_name": "LayoutModel",
      "_view_count": null,
      "_view_module": "@jupyter-widgets/base",
      "_view_module_version": "1.2.0",
      "_view_name": "LayoutView",
      "align_content": null,
      "align_items": null,
      "align_self": null,
      "border": null,
      "bottom": null,
      "display": null,
      "flex": null,
      "flex_flow": null,
      "grid_area": null,
      "grid_auto_columns": null,
      "grid_auto_flow": null,
      "grid_auto_rows": null,
      "grid_column": null,
      "grid_gap": null,
      "grid_row": null,
      "grid_template_areas": null,
      "grid_template_columns": null,
      "grid_template_rows": null,
      "height": null,
      "justify_content": null,
      "justify_items": null,
      "left": null,
      "margin": null,
      "max_height": null,
      "max_width": null,
      "min_height": null,
      "min_width": null,
      "object_fit": null,
      "object_position": null,
      "order": null,
      "overflow": null,
      "overflow_x": null,
      "overflow_y": null,
      "padding": null,
      "right": null,
      "top": null,
      "visibility": null,
      "width": null
     }
    },
    "4c6d951b68df478b88ea136f10bd4982": {
     "model_module": "@jupyter-widgets/controls",
     "model_module_version": "1.5.0",
     "model_name": "ProgressStyleModel",
     "state": {
      "_model_module": "@jupyter-widgets/controls",
      "_model_module_version": "1.5.0",
      "_model_name": "ProgressStyleModel",
      "_view_count": null,
      "_view_module": "@jupyter-widgets/base",
      "_view_module_version": "1.2.0",
      "_view_name": "StyleView",
      "bar_color": null,
      "description_width": ""
     }
    },
    "70f8f312b7c04452bca90c7826e53e7d": {
     "model_module": "@jupyter-widgets/base",
     "model_module_version": "1.2.0",
     "model_name": "LayoutModel",
     "state": {
      "_model_module": "@jupyter-widgets/base",
      "_model_module_version": "1.2.0",
      "_model_name": "LayoutModel",
      "_view_count": null,
      "_view_module": "@jupyter-widgets/base",
      "_view_module_version": "1.2.0",
      "_view_name": "LayoutView",
      "align_content": null,
      "align_items": null,
      "align_self": null,
      "border": null,
      "bottom": null,
      "display": null,
      "flex": null,
      "flex_flow": null,
      "grid_area": null,
      "grid_auto_columns": null,
      "grid_auto_flow": null,
      "grid_auto_rows": null,
      "grid_column": null,
      "grid_gap": null,
      "grid_row": null,
      "grid_template_areas": null,
      "grid_template_columns": null,
      "grid_template_rows": null,
      "height": null,
      "justify_content": null,
      "justify_items": null,
      "left": null,
      "margin": null,
      "max_height": null,
      "max_width": null,
      "min_height": null,
      "min_width": null,
      "object_fit": null,
      "object_position": null,
      "order": null,
      "overflow": null,
      "overflow_x": null,
      "overflow_y": null,
      "padding": null,
      "right": null,
      "top": null,
      "visibility": null,
      "width": null
     }
    },
    "90388b1ba0054277b10ac578dab37007": {
     "model_module": "@jupyter-widgets/base",
     "model_module_version": "1.2.0",
     "model_name": "LayoutModel",
     "state": {
      "_model_module": "@jupyter-widgets/base",
      "_model_module_version": "1.2.0",
      "_model_name": "LayoutModel",
      "_view_count": null,
      "_view_module": "@jupyter-widgets/base",
      "_view_module_version": "1.2.0",
      "_view_name": "LayoutView",
      "align_content": null,
      "align_items": null,
      "align_self": null,
      "border": null,
      "bottom": null,
      "display": null,
      "flex": null,
      "flex_flow": null,
      "grid_area": null,
      "grid_auto_columns": null,
      "grid_auto_flow": null,
      "grid_auto_rows": null,
      "grid_column": null,
      "grid_gap": null,
      "grid_row": null,
      "grid_template_areas": null,
      "grid_template_columns": null,
      "grid_template_rows": null,
      "height": null,
      "justify_content": null,
      "justify_items": null,
      "left": null,
      "margin": null,
      "max_height": null,
      "max_width": null,
      "min_height": null,
      "min_width": null,
      "object_fit": null,
      "object_position": null,
      "order": null,
      "overflow": null,
      "overflow_x": null,
      "overflow_y": null,
      "padding": null,
      "right": null,
      "top": null,
      "visibility": null,
      "width": null
     }
    },
    "a2269ecfe5ee42a1948add8d13bd6872": {
     "model_module": "@jupyter-widgets/controls",
     "model_module_version": "1.5.0",
     "model_name": "HBoxModel",
     "state": {
      "_dom_classes": [],
      "_model_module": "@jupyter-widgets/controls",
      "_model_module_version": "1.5.0",
      "_model_name": "HBoxModel",
      "_view_count": null,
      "_view_module": "@jupyter-widgets/controls",
      "_view_module_version": "1.5.0",
      "_view_name": "HBoxView",
      "box_style": "",
      "children": [
       "IPY_MODEL_f623c40410bc496c93e62fb64c2b2c77",
       "IPY_MODEL_e45caa9035ce4fe2965928d64093823f",
       "IPY_MODEL_a68be03efe4946a3b541b0c7844ca770"
      ],
      "layout": "IPY_MODEL_90388b1ba0054277b10ac578dab37007"
     }
    },
    "a68be03efe4946a3b541b0c7844ca770": {
     "model_module": "@jupyter-widgets/controls",
     "model_module_version": "1.5.0",
     "model_name": "HTMLModel",
     "state": {
      "_dom_classes": [],
      "_model_module": "@jupyter-widgets/controls",
      "_model_module_version": "1.5.0",
      "_model_name": "HTMLModel",
      "_view_count": null,
      "_view_module": "@jupyter-widgets/controls",
      "_view_module_version": "1.5.0",
      "_view_name": "HTMLView",
      "description": "",
      "description_tooltip": null,
      "layout": "IPY_MODEL_70f8f312b7c04452bca90c7826e53e7d",
      "placeholder": "​",
      "style": "IPY_MODEL_e4a7dcb4a55644ae94b2175481a15aa3",
      "value": " 1/30 [00:56&lt;18:37, 38.52s/it]"
     }
    },
    "ccc57e0a47bc4f8a9f0820b8767a9794": {
     "model_module": "@jupyter-widgets/base",
     "model_module_version": "1.2.0",
     "model_name": "LayoutModel",
     "state": {
      "_model_module": "@jupyter-widgets/base",
      "_model_module_version": "1.2.0",
      "_model_name": "LayoutModel",
      "_view_count": null,
      "_view_module": "@jupyter-widgets/base",
      "_view_module_version": "1.2.0",
      "_view_name": "LayoutView",
      "align_content": null,
      "align_items": null,
      "align_self": null,
      "border": null,
      "bottom": null,
      "display": null,
      "flex": null,
      "flex_flow": null,
      "grid_area": null,
      "grid_auto_columns": null,
      "grid_auto_flow": null,
      "grid_auto_rows": null,
      "grid_column": null,
      "grid_gap": null,
      "grid_row": null,
      "grid_template_areas": null,
      "grid_template_columns": null,
      "grid_template_rows": null,
      "height": null,
      "justify_content": null,
      "justify_items": null,
      "left": null,
      "margin": null,
      "max_height": null,
      "max_width": null,
      "min_height": null,
      "min_width": null,
      "object_fit": null,
      "object_position": null,
      "order": null,
      "overflow": null,
      "overflow_x": null,
      "overflow_y": null,
      "padding": null,
      "right": null,
      "top": null,
      "visibility": null,
      "width": null
     }
    },
    "e45caa9035ce4fe2965928d64093823f": {
     "model_module": "@jupyter-widgets/controls",
     "model_module_version": "1.5.0",
     "model_name": "FloatProgressModel",
     "state": {
      "_dom_classes": [],
      "_model_module": "@jupyter-widgets/controls",
      "_model_module_version": "1.5.0",
      "_model_name": "FloatProgressModel",
      "_view_count": null,
      "_view_module": "@jupyter-widgets/controls",
      "_view_module_version": "1.5.0",
      "_view_name": "ProgressView",
      "bar_style": "danger",
      "description": "",
      "description_tooltip": null,
      "layout": "IPY_MODEL_42000906846446a38c057b4f91e479ad",
      "max": 30,
      "min": 0,
      "orientation": "horizontal",
      "style": "IPY_MODEL_4c6d951b68df478b88ea136f10bd4982",
      "value": 1
     }
    },
    "e4a7dcb4a55644ae94b2175481a15aa3": {
     "model_module": "@jupyter-widgets/controls",
     "model_module_version": "1.5.0",
     "model_name": "DescriptionStyleModel",
     "state": {
      "_model_module": "@jupyter-widgets/controls",
      "_model_module_version": "1.5.0",
      "_model_name": "DescriptionStyleModel",
      "_view_count": null,
      "_view_module": "@jupyter-widgets/base",
      "_view_module_version": "1.2.0",
      "_view_name": "StyleView",
      "description_width": ""
     }
    },
    "e4ff926d976e406482532105d63f5d31": {
     "model_module": "@jupyter-widgets/controls",
     "model_module_version": "1.5.0",
     "model_name": "DescriptionStyleModel",
     "state": {
      "_model_module": "@jupyter-widgets/controls",
      "_model_module_version": "1.5.0",
      "_model_name": "DescriptionStyleModel",
      "_view_count": null,
      "_view_module": "@jupyter-widgets/base",
      "_view_module_version": "1.2.0",
      "_view_name": "StyleView",
      "description_width": ""
     }
    },
    "f623c40410bc496c93e62fb64c2b2c77": {
     "model_module": "@jupyter-widgets/controls",
     "model_module_version": "1.5.0",
     "model_name": "HTMLModel",
     "state": {
      "_dom_classes": [],
      "_model_module": "@jupyter-widgets/controls",
      "_model_module_version": "1.5.0",
      "_model_name": "HTMLModel",
      "_view_count": null,
      "_view_module": "@jupyter-widgets/controls",
      "_view_module_version": "1.5.0",
      "_view_name": "HTMLView",
      "description": "",
      "description_tooltip": null,
      "layout": "IPY_MODEL_ccc57e0a47bc4f8a9f0820b8767a9794",
      "placeholder": "​",
      "style": "IPY_MODEL_e4ff926d976e406482532105d63f5d31",
      "value": "  3%"
     }
    }
   }
  }
 },
 "nbformat": 4,
 "nbformat_minor": 4
}
