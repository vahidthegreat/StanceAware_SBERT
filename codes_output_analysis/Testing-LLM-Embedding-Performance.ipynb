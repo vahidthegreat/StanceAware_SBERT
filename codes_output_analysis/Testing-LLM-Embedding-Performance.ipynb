{
 "cells": [
  {
   "cell_type": "code",
   "execution_count": 1,
   "metadata": {},
   "outputs": [
    {
     "name": "stdout",
     "output_type": "stream",
     "text": [
      "time: 7.49 s (started: 2024-08-20 13:22:28 +00:00)\n"
     ]
    }
   ],
   "source": [
    "# !pip3 install sentence_transformers\n",
    "# !pip3 install torchview\n",
    "# !pip install torchsummary\n",
    "# !brew install graphviz\n",
    "# !pip install torchviz\n",
    "%load_ext autotime\n",
    "\n",
    "import torch\n",
    "import tqdm\n",
    "import torch.nn as nn\n",
    "import torch.optim as optim\n",
    "from torch.utils.data import DataLoader, Dataset\n",
    "from sentence_transformers import SentenceTransformer, losses\n",
    "import pandas as pd\n",
    "import numpy as np\n",
    "import torch.nn.functional as F\n",
    "from tqdm.notebook import tqdm\n",
    "tqdm.pandas()\n",
    "import seaborn as sns\n",
    "import matplotlib.pyplot as plt\n",
    "from scipy.spatial.distance import cosine\n",
    "# from torchview import draw_graph\n",
    "# from torchsummary import summary\n",
    "pd.set_option(\"max_colwidth\", None)\n",
    "\n",
    "from peft import LoraConfig, get_peft_model, prepare_model_for_int8_training, TaskType, PeftModel # peft-0.7.1\n",
    "from transformers import (\n",
    "    AutoModel,\n",
    "    AutoTokenizer,\n",
    "    BitsAndBytesConfig,\n",
    "    HfArgumentParser,\n",
    "    AutoTokenizer,\n",
    "    TrainingArguments,\n",
    "    AutoConfig,\n",
    ")\n",
    "\n",
    "from sklearn.model_selection import train_test_split\n",
    "from sklearn.metrics.pairwise import cosine_similarity\n",
    "from scipy.stats import entropy\n"
   ]
  },
  {
   "cell_type": "code",
   "execution_count": 2,
   "metadata": {},
   "outputs": [
    {
     "name": "stdout",
     "output_type": "stream",
     "text": [
      "\n",
      "    _|    _|  _|    _|    _|_|_|    _|_|_|  _|_|_|  _|      _|    _|_|_|      _|_|_|_|    _|_|      _|_|_|  _|_|_|_|\n",
      "    _|    _|  _|    _|  _|        _|          _|    _|_|    _|  _|            _|        _|    _|  _|        _|\n",
      "    _|_|_|_|  _|    _|  _|  _|_|  _|  _|_|    _|    _|  _|  _|  _|  _|_|      _|_|_|    _|_|_|_|  _|        _|_|_|\n",
      "    _|    _|  _|    _|  _|    _|  _|    _|    _|    _|    _|_|  _|    _|      _|        _|    _|  _|        _|\n",
      "    _|    _|    _|_|      _|_|_|    _|_|_|  _|_|_|  _|      _|    _|_|_|      _|        _|    _|    _|_|_|  _|_|_|_|\n",
      "\n",
      "    A token is already saved on your machine. Run `huggingface-cli whoami` to get more information or `huggingface-cli logout` if you want to log out.\n",
      "    Setting a new token will erase the existing one.\n",
      "    To login, `huggingface_hub` requires a token generated from https://huggingface.co/settings/tokens .\n",
      "Enter your token (input will not be visible): Traceback (most recent call last):\n",
      "  File \"/home/vahid_ghafouri/.local/bin/huggingface-cli\", line 8, in <module>\n",
      "    sys.exit(main())\n",
      "  File \"/home/vahid_ghafouri/.local/lib/python3.10/site-packages/huggingface_hub/commands/huggingface_cli.py\", line 52, in main\n",
      "    service.run()\n",
      "  File \"/home/vahid_ghafouri/.local/lib/python3.10/site-packages/huggingface_hub/commands/user.py\", line 98, in run\n",
      "    login(token=self.args.token, add_to_git_credential=self.args.add_to_git_credential)\n",
      "  File \"/home/vahid_ghafouri/.local/lib/python3.10/site-packages/huggingface_hub/_login.py\", line 115, in login\n",
      "    interpreter_login(new_session=new_session, write_permission=write_permission)\n",
      "  File \"/home/vahid_ghafouri/.local/lib/python3.10/site-packages/huggingface_hub/_login.py\", line 191, in interpreter_login\n",
      "    token = getpass(\"Enter your token (input will not be visible): \")\n",
      "  File \"/usr/lib/python3.10/getpass.py\", line 77, in unix_getpass\n",
      "    passwd = _raw_input(prompt, stream, input=input)\n",
      "  File \"/usr/lib/python3.10/getpass.py\", line 146, in _raw_input\n",
      "    line = input.readline()\n",
      "  File \"/usr/lib/python3.10/codecs.py\", line 319, in decode\n",
      "    def decode(self, input, final=False):\n",
      "KeyboardInterrupt\n",
      "The repository for /csg_nas/LLMs/NV-Embed-v1/ contains custom code which must be executed to correctly load the model. You can inspect the repository content at https://hf.co//csg_nas/LLMs/NV-Embed-v1/.\n",
      "You can avoid this prompt in future by passing the argument `trust_remote_code=True`.\n",
      "\n",
      "Do you wish to run the custom code? [y/N] y\n",
      "The repository for /csg_nas/LLMs/NV-Embed-v1/ contains custom code which must be executed to correctly load the model. You can inspect the repository content at https://hf.co//csg_nas/LLMs/NV-Embed-v1/.\n",
      "You can avoid this prompt in future by passing the argument `trust_remote_code=True`.\n",
      "\n",
      "Do you wish to run the custom code? [y/N] y\n"
     ]
    },
    {
     "data": {
      "application/vnd.jupyter.widget-view+json": {
       "model_id": "09791273e3b0467c989a157c7b6de202",
       "version_major": 2,
       "version_minor": 0
      },
      "text/plain": [
       "Loading checkpoint shards:   0%|          | 0/7 [00:00<?, ?it/s]"
      ]
     },
     "metadata": {},
     "output_type": "display_data"
    },
    {
     "name": "stderr",
     "output_type": "stream",
     "text": [
      "/home/vahid_ghafouri/.cache/huggingface/modules/transformers_modules/modeling_nvembed.py:348: UserWarning: To copy construct from a tensor, it is recommended to use sourceTensor.clone().detach() or sourceTensor.clone().detach().requires_grad_(True), rather than torch.tensor(sourceTensor).\n",
      "  'input_ids': torch.tensor(batch_dict.get('input_ids').to(batch_dict.get('input_ids')).long()),\n"
     ]
    },
    {
     "name": "stdout",
     "output_type": "stream",
     "text": [
      "[[75.47944641113281, 0.4871984124183655], [4.265612602233887, 77.76407623291016]]\n",
      "time: 1min 16s (started: 2024-08-20 13:23:03 +00:00)\n"
     ]
    }
   ],
   "source": [
    "import torch\n",
    "import torch.nn.functional as F\n",
    "from torch import Tensor\n",
    "from transformers import AutoTokenizer, AutoModel\n",
    "# !huggingface-cli login\n",
    "my_token = \"YOUR_HF_TOKEN\"\n",
    "model_path = 'nvidia/NV-Embed-v1'\n",
    "\n",
    "# load model with tokenizer\n",
    "text_config = {\"_name_or_path\": \"mistralai/Mistral-7B-v0.1\"}\n",
    "model = AutoModel.from_pretrained(\n",
    "            \"nvidia/NV-Embed-v1\",\n",
    "            trust_remote_code=True,\n",
    "            text_config=text_config,\n",
    "        )\n",
    "tokenizer = AutoTokenizer.from_pretrained(model_path, token=my_token)"
   ]
  },
  {
   "cell_type": "code",
   "execution_count": 3,
   "metadata": {
    "executionInfo": {
     "elapsed": 13229,
     "status": "ok",
     "timestamp": 1690819071187,
     "user": {
      "displayName": "VAHID GHAFOURI",
      "userId": "14892550568966913597"
     },
     "user_tz": -120
    },
    "id": "h4xerw5IAq31"
   },
   "outputs": [
    {
     "name": "stdout",
     "output_type": "stream",
     "text": [
      "time: 10.2 ms (started: 2024-08-20 13:24:56 +00:00)\n"
     ]
    }
   ],
   "source": [
    "def batch_and_encode_others(df_sentences_col,finetuned_model_x,is_lora, model=model):\n",
    "    \n",
    "    torch.cuda.empty_cache()\n",
    "\n",
    "    # Move the model to the appropriate device (CPU or GPU)\n",
    "    device = torch.device(\"cuda\" if torch.cuda.is_available() else \"cpu\")\n",
    "    model = model.to(device)\n",
    "    # Assuming you have a DataFrame named df with columns \"sentence_i\" and \"sentence_j\"\n",
    "    dataset_i = CustomDataset(df_sentences_col.tolist())\n",
    "\n",
    "    # Use DataLoader for batch processing\n",
    "    batch_size = 10\n",
    "    dataloader_i = DataLoader(dataset_i, batch_size=batch_size, shuffle=False)\n",
    "\n",
    "    # Lists to store the embeddings for \"sentence_i\" and \"sentence_j\"\n",
    "    embeddings_i_list = []\n",
    "\n",
    "\n",
    "    # Encode sentences in batches\n",
    "    with torch.no_grad():\n",
    "        model.eval()  # Set the model to evaluation mode\n",
    "        for sentences_i_batch in tqdm(dataloader_i):\n",
    "            \n",
    "            embeddings_i = model.encode(sentences_i_batch, max_length=max_length).tolist()\n",
    "            embeddings_i = [[round(value, 4) for value in row] for row in embeddings_i]\n",
    "            embeddings_i_list.extend(embeddings_i)\n",
    "    return embeddings_i_list"
   ]
  },
  {
   "cell_type": "code",
   "execution_count": 7,
   "metadata": {},
   "outputs": [
    {
     "name": "stdout",
     "output_type": "stream",
     "text": [
      "original length: 1134249\n",
      "length after droping nulls: 1134249\n"
     ]
    },
    {
     "data": {
      "application/vnd.jupyter.widget-view+json": {
       "model_id": "87405df27d8b406f9f7614310298a052",
       "version_major": 2,
       "version_minor": 0
      },
      "text/plain": [
       "  0%|          | 0/1133848 [00:00<?, ?it/s]"
      ]
     },
     "metadata": {},
     "output_type": "display_data"
    },
    {
     "name": "stdout",
     "output_type": "stream",
     "text": [
      "length after dropping duplicates: 1108680\n"
     ]
    },
    {
     "data": {
      "application/vnd.jupyter.widget-view+json": {
       "model_id": "f9c5c60310d047d3838867e5d15ff0de",
       "version_major": 2,
       "version_minor": 0
      },
      "text/plain": [
       "  0%|          | 0/1108680 [00:00<?, ?it/s]"
      ]
     },
     "metadata": {},
     "output_type": "display_data"
    },
    {
     "data": {
      "application/vnd.jupyter.widget-view+json": {
       "model_id": "da447c2d8611496a86a1394bbdf0af1c",
       "version_major": 2,
       "version_minor": 0
      },
      "text/plain": [
       "  0%|          | 0/1108680 [00:00<?, ?it/s]"
      ]
     },
     "metadata": {},
     "output_type": "display_data"
    },
    {
     "name": "stdout",
     "output_type": "stream",
     "text": [
      "length after removing short sentences: 1085119\n",
      "length of train-set: 972395\n",
      "length of test-set: 112724\n",
      "time: 48.3 s (started: 2024-08-20 13:28:26 +00:00)\n"
     ]
    }
   ],
   "source": [
    "meta_data=pd.read_excel('/StanceAwareSBERT/Datasets/Kialo_MetaData_all.xlsx')\n",
    "sentence_pairs_df = pd.concat([pd.read_csv('Datasets/argument_pairs_branchleaf.csv'),pd.read_csv('Datasets/argument_pairs_leafleaf.csv')],ignore_index=True)\n",
    "sentence_pairs_df['url'] = sentence_pairs_df['post_id'].map(dict(zip(meta_data['post_id'],meta_data['url'])))\n",
    "sentence_pairs_df = sentence_pairs_df[(sentence_pairs_df['stance']=='Pro') | (sentence_pairs_df['stance']=='Con')]\n",
    "sentence_pairs_df['stance_numeric'] = sentence_pairs_df['stance'].map({'Pro':1,'Con':0})\n",
    "print(f\"original length: {len(sentence_pairs_df)}\")\n",
    "sentence_pairs_df = sentence_pairs_df.dropna()\n",
    "print(f\"length after droping nulls: {len(sentence_pairs_df)}\")\n",
    "sentence_pairs_df = sentence_pairs_df[sentence_pairs_df['sentence_i'] != sentence_pairs_df['sentence_j']]\n",
    "sentence_pairs_df['sorted_sentences'] = sentence_pairs_df.progress_apply(lambda row: tuple(sorted([row['sentence_i'], row['sentence_j']])), axis=1)\n",
    "sentence_pairs_df.drop_duplicates(subset='sorted_sentences',inplace=True)\n",
    "sentence_pairs_df.drop(columns=['sorted_sentences'],inplace=True)\n",
    "print(f\"length after dropping duplicates: {len(sentence_pairs_df)}\")\n",
    "sentence_pairs_df = sentence_pairs_df[(sentence_pairs_df['sentence_i'].progress_apply(lambda x: len(x.split(' ')))>3) & (sentence_pairs_df['sentence_j'].progress_apply(lambda x: len(x.split(' ')))>3)]\n",
    "print(f\"length after removing short sentences: {len(sentence_pairs_df)}\")\n",
    "# Splitting into train and test sets\n",
    "# sentence_pairs_df, sentence_pairs_test_df = train_test_split(sentence_pairs_df, test_size=0.1, random_state=1)\n",
    "# Group the DataFrame by \"post_id\"\n",
    "meta_data = meta_data[meta_data['language']=='en']\n",
    "post_id_set = list(set(list(meta_data[\"post_id\"])))\n",
    "\n",
    "# Initialize empty lists for train and test indices\n",
    "train_indices = []\n",
    "test_indices = []\n",
    "\n",
    "\n",
    "train_indices, test_indices = train_test_split(post_id_set, test_size=0.1, random_state=1)  # Adjust the test_size as needed\n",
    "\n",
    "# Split the original DataFrame using the train and test indices\n",
    "sentence_pairs_train_df = sentence_pairs_df[sentence_pairs_df[\"post_id\"].isin(train_indices)]\n",
    "sentence_pairs_test_df = sentence_pairs_df[sentence_pairs_df[\"post_id\"].isin(test_indices)]\n",
    "print(f\"length of train-set: {len(sentence_pairs_train_df)}\")\n",
    "print(f\"length of test-set: {len(sentence_pairs_test_df)}\")\n",
    "\n",
    "sentence_pairs_test_df.reset_index(drop=True,inplace=True)"
   ]
  },
  {
   "cell_type": "code",
   "execution_count": 10,
   "metadata": {},
   "outputs": [
    {
     "data": {
      "application/vnd.jupyter.widget-view+json": {
       "model_id": "b366a9bb22ee49dfa32be28ff0e39868",
       "version_major": 2,
       "version_minor": 0
      },
      "text/plain": [
       "  0%|          | 0/11273 [00:00<?, ?it/s]"
      ]
     },
     "metadata": {},
     "output_type": "display_data"
    },
    {
     "name": "stderr",
     "output_type": "stream",
     "text": [
      "/home/vahid_ghafouri/.cache/huggingface/modules/transformers_modules/modeling_nvembed.py:348: UserWarning: To copy construct from a tensor, it is recommended to use sourceTensor.clone().detach() or sourceTensor.clone().detach().requires_grad_(True), rather than torch.tensor(sourceTensor).\n",
      "  'input_ids': torch.tensor(batch_dict.get('input_ids').to(batch_dict.get('input_ids')).long()),\n",
      "/tmp/ipykernel_1408580/1809966408.py:5: SettingWithCopyWarning: \n",
      "A value is trying to be set on a copy of a slice from a DataFrame.\n",
      "Try using .loc[row_indexer,col_indexer] = value instead\n",
      "\n",
      "See the caveats in the documentation: https://pandas.pydata.org/pandas-docs/stable/user_guide/indexing.html#returning-a-view-versus-a-copy\n",
      "  sentence_pairs_test_df[f'embeddings_i_{finetuned_model_i}'] = batch_and_encode_others(df_sentences_col=sentence_pairs_test_df['sentence_i'],finetuned_model_x = finetuned_model_i,is_lora=False)\n"
     ]
    },
    {
     "data": {
      "application/vnd.jupyter.widget-view+json": {
       "model_id": "61f9e131ce4f45b5a9b0c618477324f2",
       "version_major": 2,
       "version_minor": 0
      },
      "text/plain": [
       "  0%|          | 0/11273 [00:00<?, ?it/s]"
      ]
     },
     "metadata": {},
     "output_type": "display_data"
    },
    {
     "name": "stderr",
     "output_type": "stream",
     "text": [
      "/home/vahid_ghafouri/.cache/huggingface/modules/transformers_modules/modeling_nvembed.py:348: UserWarning: To copy construct from a tensor, it is recommended to use sourceTensor.clone().detach() or sourceTensor.clone().detach().requires_grad_(True), rather than torch.tensor(sourceTensor).\n",
      "  'input_ids': torch.tensor(batch_dict.get('input_ids').to(batch_dict.get('input_ids')).long()),\n",
      "/tmp/ipykernel_1408580/1809966408.py:6: SettingWithCopyWarning: \n",
      "A value is trying to be set on a copy of a slice from a DataFrame.\n",
      "Try using .loc[row_indexer,col_indexer] = value instead\n",
      "\n",
      "See the caveats in the documentation: https://pandas.pydata.org/pandas-docs/stable/user_guide/indexing.html#returning-a-view-versus-a-copy\n",
      "  sentence_pairs_test_df[f'embeddings_j_{finetuned_model_i}'] = batch_and_encode_others(df_sentences_col=sentence_pairs_test_df['sentence_j'],finetuned_model_x = finetuned_model_i,is_lora=False)\n"
     ]
    },
    {
     "data": {
      "application/vnd.jupyter.widget-view+json": {
       "model_id": "8a3d1a6614f64c35a074e3ad5cf4b9c7",
       "version_major": 2,
       "version_minor": 0
      },
      "text/plain": [
       "  0%|          | 0/112724 [00:00<?, ?it/s]"
      ]
     },
     "metadata": {},
     "output_type": "display_data"
    },
    {
     "name": "stderr",
     "output_type": "stream",
     "text": [
      "/tmp/ipykernel_1408580/1809966408.py:7: SettingWithCopyWarning: \n",
      "A value is trying to be set on a copy of a slice from a DataFrame.\n",
      "Try using .loc[row_indexer,col_indexer] = value instead\n",
      "\n",
      "See the caveats in the documentation: https://pandas.pydata.org/pandas-docs/stable/user_guide/indexing.html#returning-a-view-versus-a-copy\n",
      "  sentence_pairs_test_df['cosine_similarity'] = sentence_pairs_test_df.progress_apply(lambda row: 1 - cosine(row[f'embeddings_i_{finetuned_model_i}'], row[f'embeddings_j_{finetuned_model_i}']), axis=1)\n"
     ]
    },
    {
     "name": "stdout",
     "output_type": "stream",
     "text": [
      "0.001108094064088478\n"
     ]
    },
    {
     "data": {
      "image/png": "[encoded data removed]",
      "text/plain": [
       "<Figure size 1000x600 with 1 Axes>"
      ]
     },
     "metadata": {},
     "output_type": "display_data"
    },
    {
     "name": "stdout",
     "output_type": "stream",
     "text": [
      "time: 1h 5min 27s (started: 2024-08-20 13:32:24 +00:00)\n"
     ]
    }
   ],
   "source": [
    "from scipy.stats import entropy\n",
    "\n",
    "finetuned_model_i = 'original'\n",
    "\n",
    "sentence_pairs_test_df[f'embeddings_i_{finetuned_model_i}'] = batch_and_encode_others(df_sentences_col=sentence_pairs_test_df['sentence_i'],finetuned_model_x = finetuned_model_i,is_lora=False)\n",
    "sentence_pairs_test_df[f'embeddings_j_{finetuned_model_i}'] = batch_and_encode_others(df_sentences_col=sentence_pairs_test_df['sentence_j'],finetuned_model_x = finetuned_model_i,is_lora=False)\n",
    "sentence_pairs_test_df['cosine_similarity'] = sentence_pairs_test_df.progress_apply(lambda row: 1 - cosine(row[f'embeddings_i_{finetuned_model_i}'], row[f'embeddings_j_{finetuned_model_i}']), axis=1)\n",
    "# sentence_pairs_test_df = sentence_pairs_test_df[sentence_pairs_test_df['relationship']==\"branch-leaf\"]\n",
    "# Set up Seaborn settings\n",
    "sns.set(style=\"whitegrid\")\n",
    "\n",
    "# Extract cosine similarities for \"Pro\" and \"Con\" stances\n",
    "cosine_similarity_pro = sentence_pairs_test_df[sentence_pairs_test_df['stance'] == 'Pro']#['cosine_similarity_new']\n",
    "cosine_similarity_con = sentence_pairs_test_df[sentence_pairs_test_df['stance'] == 'Con']#['cosine_similarity_new']\n",
    "\n",
    "# Calculate the histograms of cosine similarities\n",
    "hist_pro, bin_edges_pro = np.histogram(cosine_similarity_pro['cosine_similarity'], bins=50, density=True)\n",
    "hist_con, bin_edges_con = np.histogram(cosine_similarity_con['cosine_similarity'], bins=50, density=True)\n",
    "\n",
    "# Calculate the probability distributions\n",
    "pdf_pro = hist_pro / np.sum(hist_pro)\n",
    "pdf_con = hist_con / np.sum(hist_con)\n",
    "\n",
    "# Calculate KL Divergence\n",
    "kl_divergence = entropy(pdf_pro, pdf_con)\n",
    "print(kl_divergence)\n",
    "\n",
    "# Create density plots for each stance\n",
    "plt.figure(figsize=(10, 6))\n",
    "sns.kdeplot(data=cosine_similarity_pro, x='cosine_similarity', label='Agreeing', fill=True,color='green')\n",
    "sns.kdeplot(data=cosine_similarity_con, x='cosine_similarity', label='Opposing', fill=True,color='red')\n",
    "\n",
    "# Add labels and title\n",
    "plt.xlabel('Cosine Similarity', fontsize=28)\n",
    "plt.ylabel('Frequency of Pairs', fontsize=28)\n",
    "# plt.title(f'Cosine Similarities PDF - Test Set - Model: {finetuned_model_i}')\n",
    "plt.xlim([-1,1])\n",
    "plt.ylim([0,3])\n",
    "# Show legend\n",
    "plt.legend(loc='upper left',fontsize=28)\n",
    "\n",
    "plt.savefig(f'Plots/testset_NV-Embed-v1_new.png', dpi=300, bbox_inches='tight')"
   ]
  }
 ],
 "metadata": {
  "accelerator": "GPU",
  "colab": {
   "gpuType": "T4",
   "provenance": []
  },
  "kernelspec": {
   "display_name": "Python 3 (ipykernel)",
   "language": "python",
   "name": "python3"
  },
  "language_info": {
   "codemirror_mode": {
    "name": "ipython",
    "version": 3
   },
   "file_extension": ".py",
   "mimetype": "text/x-python",
   "name": "python",
   "nbconvert_exporter": "python",
   "pygments_lexer": "ipython3",
   "version": "3.10.12"
  },
  "widgets": {
   "application/vnd.jupyter.widget-state+json": {
    "42000906846446a38c057b4f91e479ad": {
     "model_module": "@jupyter-widgets/base",
     "model_module_version": "1.2.0",
     "model_name": "LayoutModel",
     "state": {
      "_model_module": "@jupyter-widgets/base",
      "_model_module_version": "1.2.0",
      "_model_name": "LayoutModel",
      "_view_count": null,
      "_view_module": "@jupyter-widgets/base",
      "_view_module_version": "1.2.0",
      "_view_name": "LayoutView",
      "align_content": null,
      "align_items": null,
      "align_self": null,
      "border": null,
      "bottom": null,
      "display": null,
      "flex": null,
      "flex_flow": null,
      "grid_area": null,
      "grid_auto_columns": null,
      "grid_auto_flow": null,
      "grid_auto_rows": null,
      "grid_column": null,
      "grid_gap": null,
      "grid_row": null,
      "grid_template_areas": null,
      "grid_template_columns": null,
      "grid_template_rows": null,
      "height": null,
      "justify_content": null,
      "justify_items": null,
      "left": null,
      "margin": null,
      "max_height": null,
      "max_width": null,
      "min_height": null,
      "min_width": null,
      "object_fit": null,
      "object_position": null,
      "order": null,
      "overflow": null,
      "overflow_x": null,
      "overflow_y": null,
      "padding": null,
      "right": null,
      "top": null,
      "visibility": null,
      "width": null
     }
    },
    "4c6d951b68df478b88ea136f10bd4982": {
     "model_module": "@jupyter-widgets/controls",
     "model_module_version": "1.5.0",
     "model_name": "ProgressStyleModel",
     "state": {
      "_model_module": "@jupyter-widgets/controls",
      "_model_module_version": "1.5.0",
      "_model_name": "ProgressStyleModel",
      "_view_count": null,
      "_view_module": "@jupyter-widgets/base",
      "_view_module_version": "1.2.0",
      "_view_name": "StyleView",
      "bar_color": null,
      "description_width": ""
     }
    },
    "70f8f312b7c04452bca90c7826e53e7d": {
     "model_module": "@jupyter-widgets/base",
     "model_module_version": "1.2.0",
     "model_name": "LayoutModel",
     "state": {
      "_model_module": "@jupyter-widgets/base",
      "_model_module_version": "1.2.0",
      "_model_name": "LayoutModel",
      "_view_count": null,
      "_view_module": "@jupyter-widgets/base",
      "_view_module_version": "1.2.0",
      "_view_name": "LayoutView",
      "align_content": null,
      "align_items": null,
      "align_self": null,
      "border": null,
      "bottom": null,
      "display": null,
      "flex": null,
      "flex_flow": null,
      "grid_area": null,
      "grid_auto_columns": null,
      "grid_auto_flow": null,
      "grid_auto_rows": null,
      "grid_column": null,
      "grid_gap": null,
      "grid_row": null,
      "grid_template_areas": null,
      "grid_template_columns": null,
      "grid_template_rows": null,
      "height": null,
      "justify_content": null,
      "justify_items": null,
      "left": null,
      "margin": null,
      "max_height": null,
      "max_width": null,
      "min_height": null,
      "min_width": null,
      "object_fit": null,
      "object_position": null,
      "order": null,
      "overflow": null,
      "overflow_x": null,
      "overflow_y": null,
      "padding": null,
      "right": null,
      "top": null,
      "visibility": null,
      "width": null
     }
    },
    "90388b1ba0054277b10ac578dab37007": {
     "model_module": "@jupyter-widgets/base",
     "model_module_version": "1.2.0",
     "model_name": "LayoutModel",
     "state": {
      "_model_module": "@jupyter-widgets/base",
      "_model_module_version": "1.2.0",
      "_model_name": "LayoutModel",
      "_view_count": null,
      "_view_module": "@jupyter-widgets/base",
      "_view_module_version": "1.2.0",
      "_view_name": "LayoutView",
      "align_content": null,
      "align_items": null,
      "align_self": null,
      "border": null,
      "bottom": null,
      "display": null,
      "flex": null,
      "flex_flow": null,
      "grid_area": null,
      "grid_auto_columns": null,
      "grid_auto_flow": null,
      "grid_auto_rows": null,
      "grid_column": null,
      "grid_gap": null,
      "grid_row": null,
      "grid_template_areas": null,
      "grid_template_columns": null,
      "grid_template_rows": null,
      "height": null,
      "justify_content": null,
      "justify_items": null,
      "left": null,
      "margin": null,
      "max_height": null,
      "max_width": null,
      "min_height": null,
      "min_width": null,
      "object_fit": null,
      "object_position": null,
      "order": null,
      "overflow": null,
      "overflow_x": null,
      "overflow_y": null,
      "padding": null,
      "right": null,
      "top": null,
      "visibility": null,
      "width": null
     }
    },
    "a2269ecfe5ee42a1948add8d13bd6872": {
     "model_module": "@jupyter-widgets/controls",
     "model_module_version": "1.5.0",
     "model_name": "HBoxModel",
     "state": {
      "_dom_classes": [],
      "_model_module": "@jupyter-widgets/controls",
      "_model_module_version": "1.5.0",
      "_model_name": "HBoxModel",
      "_view_count": null,
      "_view_module": "@jupyter-widgets/controls",
      "_view_module_version": "1.5.0",
      "_view_name": "HBoxView",
      "box_style": "",
      "children": [
       "IPY_MODEL_f623c40410bc496c93e62fb64c2b2c77",
       "IPY_MODEL_e45caa9035ce4fe2965928d64093823f",
       "IPY_MODEL_a68be03efe4946a3b541b0c7844ca770"
      ],
      "layout": "IPY_MODEL_90388b1ba0054277b10ac578dab37007"
     }
    },
    "a68be03efe4946a3b541b0c7844ca770": {
     "model_module": "@jupyter-widgets/controls",
     "model_module_version": "1.5.0",
     "model_name": "HTMLModel",
     "state": {
      "_dom_classes": [],
      "_model_module": "@jupyter-widgets/controls",
      "_model_module_version": "1.5.0",
      "_model_name": "HTMLModel",
      "_view_count": null,
      "_view_module": "@jupyter-widgets/controls",
      "_view_module_version": "1.5.0",
      "_view_name": "HTMLView",
      "description": "",
      "description_tooltip": null,
      "layout": "IPY_MODEL_70f8f312b7c04452bca90c7826e53e7d",
      "placeholder": "​",
      "style": "IPY_MODEL_e4a7dcb4a55644ae94b2175481a15aa3",
      "value": " 1/30 [00:56&lt;18:37, 38.52s/it]"
     }
    },
    "ccc57e0a47bc4f8a9f0820b8767a9794": {
     "model_module": "@jupyter-widgets/base",
     "model_module_version": "1.2.0",
     "model_name": "LayoutModel",
     "state": {
      "_model_module": "@jupyter-widgets/base",
      "_model_module_version": "1.2.0",
      "_model_name": "LayoutModel",
      "_view_count": null,
      "_view_module": "@jupyter-widgets/base",
      "_view_module_version": "1.2.0",
      "_view_name": "LayoutView",
      "align_content": null,
      "align_items": null,
      "align_self": null,
      "border": null,
      "bottom": null,
      "display": null,
      "flex": null,
      "flex_flow": null,
      "grid_area": null,
      "grid_auto_columns": null,
      "grid_auto_flow": null,
      "grid_auto_rows": null,
      "grid_column": null,
      "grid_gap": null,
      "grid_row": null,
      "grid_template_areas": null,
      "grid_template_columns": null,
      "grid_template_rows": null,
      "height": null,
      "justify_content": null,
      "justify_items": null,
      "left": null,
      "margin": null,
      "max_height": null,
      "max_width": null,
      "min_height": null,
      "min_width": null,
      "object_fit": null,
      "object_position": null,
      "order": null,
      "overflow": null,
      "overflow_x": null,
      "overflow_y": null,
      "padding": null,
      "right": null,
      "top": null,
      "visibility": null,
      "width": null
     }
    },
    "e45caa9035ce4fe2965928d64093823f": {
     "model_module": "@jupyter-widgets/controls",
     "model_module_version": "1.5.0",
     "model_name": "FloatProgressModel",
     "state": {
      "_dom_classes": [],
      "_model_module": "@jupyter-widgets/controls",
      "_model_module_version": "1.5.0",
      "_model_name": "FloatProgressModel",
      "_view_count": null,
      "_view_module": "@jupyter-widgets/controls",
      "_view_module_version": "1.5.0",
      "_view_name": "ProgressView",
      "bar_style": "danger",
      "description": "",
      "description_tooltip": null,
      "layout": "IPY_MODEL_42000906846446a38c057b4f91e479ad",
      "max": 30,
      "min": 0,
      "orientation": "horizontal",
      "style": "IPY_MODEL_4c6d951b68df478b88ea136f10bd4982",
      "value": 1
     }
    },
    "e4a7dcb4a55644ae94b2175481a15aa3": {
     "model_module": "@jupyter-widgets/controls",
     "model_module_version": "1.5.0",
     "model_name": "DescriptionStyleModel",
     "state": {
      "_model_module": "@jupyter-widgets/controls",
      "_model_module_version": "1.5.0",
      "_model_name": "DescriptionStyleModel",
      "_view_count": null,
      "_view_module": "@jupyter-widgets/base",
      "_view_module_version": "1.2.0",
      "_view_name": "StyleView",
      "description_width": ""
     }
    },
    "e4ff926d976e406482532105d63f5d31": {
     "model_module": "@jupyter-widgets/controls",
     "model_module_version": "1.5.0",
     "model_name": "DescriptionStyleModel",
     "state": {
      "_model_module": "@jupyter-widgets/controls",
      "_model_module_version": "1.5.0",
      "_model_name": "DescriptionStyleModel",
      "_view_count": null,
      "_view_module": "@jupyter-widgets/base",
      "_view_module_version": "1.2.0",
      "_view_name": "StyleView",
      "description_width": ""
     }
    },
    "f623c40410bc496c93e62fb64c2b2c77": {
     "model_module": "@jupyter-widgets/controls",
     "model_module_version": "1.5.0",
     "model_name": "HTMLModel",
     "state": {
      "_dom_classes": [],
      "_model_module": "@jupyter-widgets/controls",
      "_model_module_version": "1.5.0",
      "_model_name": "HTMLModel",
      "_view_count": null,
      "_view_module": "@jupyter-widgets/controls",
      "_view_module_version": "1.5.0",
      "_view_name": "HTMLView",
      "description": "",
      "description_tooltip": null,
      "layout": "IPY_MODEL_ccc57e0a47bc4f8a9f0820b8767a9794",
      "placeholder": "​",
      "style": "IPY_MODEL_e4ff926d976e406482532105d63f5d31",
      "value": "  3%"
     }
    }
   }
  }
 },
 "nbformat": 4,
 "nbformat_minor": 1
}
